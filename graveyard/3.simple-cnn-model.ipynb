{
 "cells": [
  {
   "cell_type": "markdown",
   "metadata": {
    "_cell_guid": "b1076dfc-b9ad-4769-8c92-a6c4dae69d19",
    "_uuid": "8f2839f25d086af736a60e9eeb907d3b93b6e0e5"
   },
   "source": [
    "# Quick and Dirty Model Creation For Testing iOS App\n",
    "\n",
    "> Heavily borrowed from: https://www.kaggle.com/code/pavanyekabote/driver-activity-detection-py\n",
    "\n",
    "All generated outputs (figures and model files) are stored in ../output folder.\n",
    "## What This Notebook Does\n",
    "* Basic Data visualization used in project proposal\n",
    "* Build CNN model by \n",
    "  * Creating a VGG16 model\n",
    "  * Initialize model with pretrained weights from [VGG16 weights](https://github.com/zdata-inc/applied_deep_learning/blob/master/vgg16_weights_tf_dim_ordering_tf_kernels_notop.h5)\n",
    "  * Fine tune the model by training on a subset of the driver activity images (about 600 images per class compared to the original 2000+ images)\n",
    "* Convert the trained model for iOS app and export it\n",
    "\n",
    "## Prerequisites for this notebook:\n",
    "* Download [distrated driver dataset from kaggle](https://www.kaggle.com/competitions/state-farm-distracted-driver-detection/data) to `../input/`\n",
    "* Download the [VGG16 weights to](https://github.com/zdata-inc/applied_deep_learning/blob/master/vgg16_weights_tf_dim_ordering_tf_kernels_notop.h5) `../input/vgg16-weights/`\n"
   ]
  },
  {
   "cell_type": "code",
   "execution_count": 1,
   "metadata": {},
   "outputs": [],
   "source": [
    "%load_ext autoreload"
   ]
  },
  {
   "cell_type": "code",
   "execution_count": 2,
   "metadata": {},
   "outputs": [],
   "source": [
    "%autoreload 2"
   ]
  },
  {
   "cell_type": "code",
   "execution_count": 4,
   "metadata": {},
   "outputs": [
    {
     "name": "stdout",
     "output_type": "stream",
     "text": [
      "TensorFlow version: 2.10.1\n"
     ]
    }
   ],
   "source": [
    "import numpy as np # linear algebra\n",
    "import pandas as pd # data processing, CSV file I/O (e.g. pd.read_csv)\n",
    "import matplotlib.pyplot as plt\n",
    "import os\n",
    "import sys\n",
    "\n",
    "import tensorflow as tf\n",
    "print(f'TensorFlow version: {tf.__version__}')\n",
    "\n",
    "from tensorflow import keras\n",
    "import numpy\n",
    "from PIL import Image\n",
    "import functools\n",
    "import coremltools as ct\n",
    "import seaborn as sns\n",
    "\n",
    "from tensorflow.keras.layers import ZeroPadding2D, Conv2D, MaxPooling2D, Flatten, Dense, Dropout, Input\n",
    "from tensorflow.keras.layers import GlobalAveragePooling2D, MaxPooling2D\n",
    "from tensorflow.keras.models import Model, Sequential\n",
    "from tensorflow.keras.callbacks import ModelCheckpoint\n",
    "from tensorflow.keras import regularizers\n",
    "from tensorflow.keras.preprocessing.image import ImageDataGenerator\n",
    "\n",
    "import numpy as np\n",
    "from tensorflow.keras.models import load_model\n",
    "import coremltools\n",
    "\n",
    "import preprocessor\n",
    "import configuration\n",
    "import viz\n",
    "\n",
    "preproc = preprocessor.PreProcessor()\n",
    "config = configuration.Configuration()\n"
   ]
  },
  {
   "cell_type": "code",
   "execution_count": 5,
   "metadata": {},
   "outputs": [],
   "source": [
    "# Helper methods\n",
    "# Ref: https://coremltools.readme.io/docs/introductory-quickstart\n",
    "def convert_tf_saved_model(in_model_file, out_model_file):\n",
    "    # Define the input type as image, \n",
    "    # set pre-processing parameters to normalize the image \n",
    "    # to have its values in the interval [-1,1] \n",
    "    # as expected by the mobilenet model\n",
    "    image_input = coremltools.ImageType(shape=(1, 224, 224, 3,),\n",
    "                               bias=[-1,-1,-1], scale=1/255.)\n",
    "\n",
    "    # set class labels\n",
    "    class_labels = list(config.class_dict.values())\n",
    "    \n",
    "    classifier_config = coremltools.ClassifierConfig(class_labels)\n",
    "\n",
    "    model = load_model(in_model_file)\n",
    "    \n",
    "    print(\"[INFO] converting model\")\n",
    "    coreml_model = coremltools.convert(\n",
    "        model, \n",
    "        inputs=[image_input], \n",
    "        classifier_config=classifier_config,\n",
    "    )    \n",
    "\n",
    "    print(\"[INFO] saving model\")\n",
    "    coreml_model.save(out_model_file)"
   ]
  },
  {
   "cell_type": "markdown",
   "metadata": {},
   "source": [
    "<a id=\"step0\"></a>\n",
    "## Import Datasets\n",
    "\n",
    "### Import Driver Dataset\n",
    "\n",
    "In the following code cell, we create a instance of ImageDataGenerator which does all preprocessing operations on images that we are going to feed to our CNN"
   ]
  },
  {
   "cell_type": "code",
   "execution_count": 6,
   "metadata": {
    "_cell_guid": "79c7e3d0-c299-4dcb-8224-4455121ee9b0",
    "_uuid": "d629ff2d2480ee46fbb7e2d37f6b5fab8052498a"
   },
   "outputs": [],
   "source": [
    "train_datagen = ImageDataGenerator(rescale=1./255, validation_split=0.2)"
   ]
  },
  {
   "cell_type": "markdown",
   "metadata": {},
   "source": [
    "In the following code, we are loading only 32 images at once into memory and performing all the preprocessing operations on loaded images. The flow_from_directory loads a defined set of images from the location of images, instead of loading all images at once into memory.\n",
    "\n",
    "- train_generator contains training set\n",
    "- val_generator contains validation set"
   ]
  },
  {
   "cell_type": "code",
   "execution_count": 7,
   "metadata": {},
   "outputs": [
    {
     "name": "stdout",
     "output_type": "stream",
     "text": [
      "Found 4800 images belonging to 10 classes.\n",
      "Found 1200 images belonging to 10 classes.\n"
     ]
    }
   ],
   "source": [
    "TRAIN_DATA_LOC = f'{config.INPUT_FOLDER}/state-farm-distracted-driver-detection/imgs/train_cnn'\n",
    "train_generator = train_datagen.flow_from_directory(\n",
    "        TRAIN_DATA_LOC,\n",
    "        target_size=(224, 224),\n",
    "        batch_size=32,\n",
    "        class_mode='categorical',\n",
    "        subset='training')\n",
    "\n",
    "val_generator = train_datagen.flow_from_directory(\n",
    "        TRAIN_DATA_LOC,\n",
    "        target_size=(224,224),\n",
    "        batch_size=32,\n",
    "        class_mode='categorical',\n",
    "        subset='validation')\n"
   ]
  },
  {
   "cell_type": "code",
   "execution_count": 8,
   "metadata": {},
   "outputs": [],
   "source": [
    "imgs, labels = next(train_generator)"
   ]
  },
  {
   "cell_type": "markdown",
   "metadata": {},
   "source": [
    "---\n",
    "<a id=\"step2\"></a>\n",
    "## Train a CNN with Transfer Learning (Using Fine-tuned VGG16 Model)\n",
    "\n",
    "- In the following steps, we are going to load a VGG16 model, without top Fully connected layers, with its trained weights\n",
    "- Then we are going add Fully Connected Layers on top of GlobalAveragePooling layer with Dropout layers in between\n",
    "- The following code block contains a method load_VGG16, which loads VGG16 model with weights loaded when weights file location is given"
   ]
  },
  {
   "cell_type": "code",
   "execution_count": 9,
   "metadata": {},
   "outputs": [],
   "source": [
    "\n",
    "def load_VGG16(weights_path=None, no_top=True):\n",
    "\n",
    "    input_shape = (224, 224, 3)\n",
    "\n",
    "    #Instantiate an empty model\n",
    "    img_input = Input(shape=input_shape)   # Block 1\n",
    "    x = Conv2D(64, (3, 3), activation='relu', padding='same', name='block1_conv1')(img_input)\n",
    "    x = Conv2D(64, (3, 3), activation='relu', padding='same', name='block1_conv2')(x)\n",
    "    x = MaxPooling2D((2, 2), strides=(2, 2), name='block1_pool')(x)\n",
    "\n",
    "    # Block 2\n",
    "    x = Conv2D(128, (3, 3), activation='relu', padding='same', name='block2_conv1')(x)\n",
    "    x = Conv2D(128, (3, 3), activation='relu', padding='same', name='block2_conv2')(x)\n",
    "    x = MaxPooling2D((2, 2), strides=(2, 2), name='block2_pool')(x)\n",
    "\n",
    "    # Block 3\n",
    "    x = Conv2D(256, (3, 3), activation='relu', padding='same', name='block3_conv1')(x)\n",
    "    x = Conv2D(256, (3, 3), activation='relu', padding='same', name='block3_conv2')(x)\n",
    "    x = Conv2D(256, (3, 3), activation='relu', padding='same', name='block3_conv3')(x)\n",
    "    x = MaxPooling2D((2, 2), strides=(2, 2), name='block3_pool')(x)\n",
    "\n",
    "    # Block 4\n",
    "    x = Conv2D(512, (3, 3), activation='relu', padding='same', name='block4_conv1')(x)\n",
    "    x = Conv2D(512, (3, 3), activation='relu', padding='same', name='block4_conv2')(x)\n",
    "    x = Conv2D(512, (3, 3), activation='relu', padding='same', name='block4_conv3')(x)\n",
    "    x = MaxPooling2D((2, 2), strides=(2, 2), name='block4_pool')(x)\n",
    "\n",
    "    # Block 5\n",
    "    x = Conv2D(512, (3, 3), activation='relu', padding='same', name='block5_conv1')(x)\n",
    "    x = Conv2D(512, (3, 3), activation='relu', padding='same', name='block5_conv2')(x)\n",
    "    x = Conv2D(512, (3, 3), activation='relu', padding='same', name='block5_conv3')(x)\n",
    "    x = MaxPooling2D((2, 2), strides=(2, 2), name='block5_pool')(x)\n",
    "    x = GlobalAveragePooling2D()(x)\n",
    "    vmodel = Model(img_input, x, name='vgg16')\n",
    "    if weights_path is not None:\n",
    "        print(\"Weights have been loaded.\")\n",
    "        vmodel.load_weights(weights_path)\n",
    "\n",
    "    return vmodel\n"
   ]
  },
  {
   "cell_type": "markdown",
   "metadata": {},
   "source": [
    "- In the following code block, we have added 3 Dense layers with dropout layers on top of VGG16 CNN model."
   ]
  },
  {
   "cell_type": "code",
   "execution_count": 10,
   "metadata": {},
   "outputs": [
    {
     "name": "stdout",
     "output_type": "stream",
     "text": [
      "Metal device set to: AMD Radeon Pro 5300M\n",
      "Weights have been loaded.\n"
     ]
    }
   ],
   "source": [
    "vgg_model_raw = load_VGG16(f'{config.INPUT_FOLDER}/vgg16-weights/vgg16_weights_tf_dim_ordering_tf_kernels_notop.h5')\n",
    "vgg_model = vgg_model_raw.output\n",
    "vgg_model = Dense(5000, activation='relu',kernel_regularizer=regularizers.l2(0.00001))(vgg_model)\n",
    "vgg_model = Dropout(0.1)(vgg_model)\n",
    "vgg_model = Dense(500, activation='relu',kernel_regularizer=regularizers.l2(0.00001))(vgg_model)\n",
    "vgg_model = Dropout(0.1)(vgg_model)\n",
    "vgg_model = Dense(10, activation='softmax')(vgg_model)\n",
    "vgg_m = Model(inputs=vgg_model_raw.input, outputs= vgg_model)"
   ]
  },
  {
   "cell_type": "markdown",
   "metadata": {},
   "source": [
    "### Compile the vgg16 model with categorical crossentropy as loss function and SGD as optimizer"
   ]
  },
  {
   "cell_type": "code",
   "execution_count": 11,
   "metadata": {},
   "outputs": [],
   "source": [
    "vgg_m.compile(loss='categorical_crossentropy', optimizer=keras.optimizers.SGD(0.001), metrics=['accuracy'])\n"
   ]
  },
  {
   "cell_type": "code",
   "execution_count": 12,
   "metadata": {},
   "outputs": [
    {
     "name": "stdout",
     "output_type": "stream",
     "text": [
      "Model: \"model\"\n",
      "_________________________________________________________________\n",
      " Layer (type)                Output Shape              Param #   \n",
      "=================================================================\n",
      " input_1 (InputLayer)        [(None, 224, 224, 3)]     0         \n",
      "                                                                 \n",
      " block1_conv1 (Conv2D)       (None, 224, 224, 64)      1792      \n",
      "                                                                 \n",
      " block1_conv2 (Conv2D)       (None, 224, 224, 64)      36928     \n",
      "                                                                 \n",
      " block1_pool (MaxPooling2D)  (None, 112, 112, 64)      0         \n",
      "                                                                 \n",
      " block2_conv1 (Conv2D)       (None, 112, 112, 128)     73856     \n",
      "                                                                 \n",
      " block2_conv2 (Conv2D)       (None, 112, 112, 128)     147584    \n",
      "                                                                 \n",
      " block2_pool (MaxPooling2D)  (None, 56, 56, 128)       0         \n",
      "                                                                 \n",
      " block3_conv1 (Conv2D)       (None, 56, 56, 256)       295168    \n",
      "                                                                 \n",
      " block3_conv2 (Conv2D)       (None, 56, 56, 256)       590080    \n",
      "                                                                 \n",
      " block3_conv3 (Conv2D)       (None, 56, 56, 256)       590080    \n",
      "                                                                 \n",
      " block3_pool (MaxPooling2D)  (None, 28, 28, 256)       0         \n",
      "                                                                 \n",
      " block4_conv1 (Conv2D)       (None, 28, 28, 512)       1180160   \n",
      "                                                                 \n",
      " block4_conv2 (Conv2D)       (None, 28, 28, 512)       2359808   \n",
      "                                                                 \n",
      " block4_conv3 (Conv2D)       (None, 28, 28, 512)       2359808   \n",
      "                                                                 \n",
      " block4_pool (MaxPooling2D)  (None, 14, 14, 512)       0         \n",
      "                                                                 \n",
      " block5_conv1 (Conv2D)       (None, 14, 14, 512)       2359808   \n",
      "                                                                 \n",
      " block5_conv2 (Conv2D)       (None, 14, 14, 512)       2359808   \n",
      "                                                                 \n",
      " block5_conv3 (Conv2D)       (None, 14, 14, 512)       2359808   \n",
      "                                                                 \n",
      " block5_pool (MaxPooling2D)  (None, 7, 7, 512)         0         \n",
      "                                                                 \n",
      " global_average_pooling2d (G  (None, 512)              0         \n",
      " lobalAveragePooling2D)                                          \n",
      "                                                                 \n",
      " dense (Dense)               (None, 5000)              2565000   \n",
      "                                                                 \n",
      " dropout (Dropout)           (None, 5000)              0         \n",
      "                                                                 \n",
      " dense_1 (Dense)             (None, 500)               2500500   \n",
      "                                                                 \n",
      " dropout_1 (Dropout)         (None, 500)               0         \n",
      "                                                                 \n",
      " dense_2 (Dense)             (None, 10)                5010      \n",
      "                                                                 \n",
      "=================================================================\n",
      "Total params: 19,785,198\n",
      "Trainable params: 19,785,198\n",
      "Non-trainable params: 0\n",
      "_________________________________________________________________\n"
     ]
    }
   ],
   "source": [
    "vgg_m.summary()"
   ]
  },
  {
   "cell_type": "code",
   "execution_count": 13,
   "metadata": {},
   "outputs": [
    {
     "name": "stdout",
     "output_type": "stream",
     "text": [
      "Epoch 1/12\n",
      "150/150 [==============================] - ETA: 0s - loss: 2.3282 - accuracy: 0.1067\n",
      "Epoch 1: val_loss improved from inf to 2.31301, saving model to vgg_model.h5\n",
      "150/150 [==============================] - 389s 3s/step - loss: 2.3282 - accuracy: 0.1067 - val_loss: 2.3130 - val_accuracy: 0.1267\n",
      "Epoch 2/12\n",
      "150/150 [==============================] - ETA: 0s - loss: 2.3091 - accuracy: 0.1346\n",
      "Epoch 2: val_loss improved from 2.31301 to 2.29843, saving model to vgg_model.h5\n",
      "150/150 [==============================] - 479s 3s/step - loss: 2.3091 - accuracy: 0.1346 - val_loss: 2.2984 - val_accuracy: 0.2433\n",
      "Epoch 3/12\n",
      "150/150 [==============================] - ETA: 0s - loss: 2.2932 - accuracy: 0.1621\n",
      "Epoch 3: val_loss improved from 2.29843 to 2.27954, saving model to vgg_model.h5\n",
      "150/150 [==============================] - 438s 3s/step - loss: 2.2932 - accuracy: 0.1621 - val_loss: 2.2795 - val_accuracy: 0.2625\n",
      "Epoch 4/12\n",
      "150/150 [==============================] - ETA: 0s - loss: 2.2606 - accuracy: 0.2067\n",
      "Epoch 4: val_loss improved from 2.27954 to 2.23344, saving model to vgg_model.h5\n",
      "150/150 [==============================] - 444s 3s/step - loss: 2.2606 - accuracy: 0.2067 - val_loss: 2.2334 - val_accuracy: 0.3133\n",
      "Epoch 5/12\n",
      "150/150 [==============================] - ETA: 0s - loss: 2.1547 - accuracy: 0.2981\n",
      "Epoch 5: val_loss improved from 2.23344 to 1.96851, saving model to vgg_model.h5\n",
      "150/150 [==============================] - 361s 2s/step - loss: 2.1547 - accuracy: 0.2981 - val_loss: 1.9685 - val_accuracy: 0.3475\n",
      "Epoch 6/12\n",
      "150/150 [==============================] - ETA: 0s - loss: 1.7781 - accuracy: 0.4073\n",
      "Epoch 6: val_loss improved from 1.96851 to 1.42177, saving model to vgg_model.h5\n",
      "150/150 [==============================] - 410s 3s/step - loss: 1.7781 - accuracy: 0.4073 - val_loss: 1.4218 - val_accuracy: 0.5258\n",
      "Epoch 7/12\n",
      "150/150 [==============================] - ETA: 0s - loss: 1.2475 - accuracy: 0.5998\n",
      "Epoch 7: val_loss improved from 1.42177 to 0.95782, saving model to vgg_model.h5\n",
      "150/150 [==============================] - 403s 3s/step - loss: 1.2475 - accuracy: 0.5998 - val_loss: 0.9578 - val_accuracy: 0.7050\n",
      "Epoch 8/12\n",
      "150/150 [==============================] - ETA: 0s - loss: 0.8193 - accuracy: 0.7410\n",
      "Epoch 8: val_loss improved from 0.95782 to 0.53028, saving model to vgg_model.h5\n",
      "150/150 [==============================] - 400s 3s/step - loss: 0.8193 - accuracy: 0.7410 - val_loss: 0.5303 - val_accuracy: 0.8417\n",
      "Epoch 9/12\n",
      "150/150 [==============================] - ETA: 0s - loss: 0.5284 - accuracy: 0.8406\n",
      "Epoch 9: val_loss did not improve from 0.53028\n",
      "150/150 [==============================] - 410s 3s/step - loss: 0.5284 - accuracy: 0.8406 - val_loss: 0.5809 - val_accuracy: 0.8233\n",
      "Epoch 10/12\n",
      "150/150 [==============================] - ETA: 0s - loss: 0.3512 - accuracy: 0.9017\n",
      "Epoch 10: val_loss improved from 0.53028 to 0.22916, saving model to vgg_model.h5\n",
      "150/150 [==============================] - 456s 3s/step - loss: 0.3512 - accuracy: 0.9017 - val_loss: 0.2292 - val_accuracy: 0.9483\n",
      "Epoch 11/12\n",
      "150/150 [==============================] - ETA: 0s - loss: 0.2603 - accuracy: 0.9250\n",
      "Epoch 11: val_loss improved from 0.22916 to 0.17421, saving model to vgg_model.h5\n",
      "150/150 [==============================] - 481s 3s/step - loss: 0.2603 - accuracy: 0.9250 - val_loss: 0.1742 - val_accuracy: 0.9542\n",
      "Epoch 12/12\n",
      "150/150 [==============================] - ETA: 0s - loss: 0.2036 - accuracy: 0.9517\n",
      "Epoch 12: val_loss improved from 0.17421 to 0.15537, saving model to vgg_model.h5\n",
      "150/150 [==============================] - 470s 3s/step - loss: 0.2036 - accuracy: 0.9517 - val_loss: 0.1554 - val_accuracy: 0.9658\n"
     ]
    }
   ],
   "source": [
    "checkpoint = ModelCheckpoint('vgg_model.h5', save_best_only=True, verbose=1)\n",
    "\n",
    "history = vgg_m.fit(train_generator, steps_per_epoch=len(train_generator),\n",
    "                   epochs=12,\n",
    "                   validation_data = val_generator,\n",
    "                   validation_steps=len(val_generator),\n",
    "                   callbacks=[checkpoint] )"
   ]
  },
  {
   "cell_type": "code",
   "execution_count": 16,
   "metadata": {},
   "outputs": [
    {
     "data": {
      "image/png": "[encoded data removed]",
      "text/plain": [
       "<Figure size 640x480 with 1 Axes>"
      ]
     },
     "metadata": {},
     "output_type": "display_data"
    },
    {
     "data": {
      "image/png": "[encoded data removed]",
      "text/plain": [
       "<Figure size 640x480 with 1 Axes>"
      ]
     },
     "metadata": {},
     "output_type": "display_data"
    }
   ],
   "source": [
    "plt.plot(history.history['val_loss'], label='Validation')\n",
    "plt.plot(history.history['loss'], label='Training')\n",
    "plt.title('CNN Model - Training Loss')\n",
    "plt.xlabel('Iterations')\n",
    "plt.ylabel('Loss (less is better)')\n",
    "plt.legend()\n",
    "plt.show()\n",
    "plt.plot(history.history['val_accuracy'], label='Validation')\n",
    "plt.plot(history.history['accuracy'], label='Training')\n",
    "plt.title('CNN Model - Training Accuracy')\n",
    "plt.xlabel('Iterations')\n",
    "plt.ylabel('Accuracy (more is better)')\n",
    "plt.legend()\n",
    "plt.show()\n"
   ]
  },
  {
   "cell_type": "code",
   "execution_count": null,
   "metadata": {},
   "outputs": [],
   "source": [
    "# Save the model as pb file\n",
    "vgg_m.save(f'{config.SAVED_MODELS_FOLDER}/vgg_model_tf_saved')"
   ]
  },
  {
   "cell_type": "code",
   "execution_count": null,
   "metadata": {},
   "outputs": [],
   "source": [
    "# Convert the saved model to CoreML for inferencing within iOS app.\n",
    "# convert_tf_saved_model(f'{config.OUTPUT_FOLDER}/vgg_model_tf_saved', out_model_file=f'{config.OUTPUT_FOLDER}/DriverDistractionVggClassifier.mlmodel')"
   ]
  },
  {
   "cell_type": "code",
   "execution_count": null,
   "metadata": {},
   "outputs": [],
   "source": []
  }
 ],
 "metadata": {
  "kernelspec": {
   "display_name": "Python 3 (ipykernel)",
   "language": "python",
   "name": "python3"
  },
  "language_info": {
   "codemirror_mode": {
    "name": "ipython",
    "version": 3
   },
   "file_extension": ".py",
   "mimetype": "text/x-python",
   "name": "python",
   "nbconvert_exporter": "python",
   "pygments_lexer": "ipython3",
   "version": "3.8.15"
  },
  "widgets": {
   "application/vnd.jupyter.widget-state+json": {
    "state": {},
    "version_major": 2,
    "version_minor": 0
   }
  }
 },
 "nbformat": 4,
 "nbformat_minor": 4
}
