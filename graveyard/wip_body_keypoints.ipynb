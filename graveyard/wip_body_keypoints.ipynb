{
 "cells": [
  {
   "cell_type": "code",
   "execution_count": 2,
   "id": "f8eb1c0d-7c68-453f-8505-d0f4b2f35171",
   "metadata": {},
   "outputs": [],
   "source": [
    "%load_ext autoreload\n",
    "%autoreload 2\n",
    "%matplotlib inline"
   ]
  },
  {
   "cell_type": "code",
   "execution_count": 205,
   "id": "137af67d-953c-4416-b100-698d55fbf425",
   "metadata": {},
   "outputs": [],
   "source": [
    "from collections import defaultdict\n",
    "from PIL import Image\n",
    "import os\n",
    "import pandas as pd\n",
    "import numpy as np\n",
    "import tensorflow as tf\n",
    "import cv2\n",
    "import enums\n",
    "from torchvision import transforms\n",
    "import transformers\n",
    "import configuration\n",
    "import customdataset\n",
    "import feature_helpers\n",
    "from torchvision import transforms\n",
    "from matplotlib import pyplot as plt\n",
    "import torch\n",
    "from tqdm.notebook import tqdm\n",
    "from torch.utils.data import DataLoader\n",
    "\n",
    "config = configuration.Configuration()\n",
    "pose_config = configuration.PoseConfig(config)\n",
    "face_config = configuration.FaceConfig(config)\n",
    "# FILES = [(3, 'img_100041.jpg'), (4, 'img_67180.jpg'), (5, 'img_54197.jpg'), (6, 'img_47868.jpg')]\n",
    "FILES = [(0, 'img_34.jpg')]\n",
    "TRANSFORMERS = transforms.Compose([transforms.ToTensor(), transformers.PyTorchImageToNPArray()])\n"
   ]
  },
  {
   "cell_type": "code",
   "execution_count": null,
   "id": "7b3f2972-b839-49d6-8c91-4aec312909fc",
   "metadata": {},
   "outputs": [],
   "source": [
    "def transform_keypoints(img, key_points):\n",
    "    PADDING = 20\n",
    "    grayed = tf.image.rgb_to_grayscale(img, name=None)\n",
    "    zero_pixels = np.argwhere(grayed == 0)\n",
    "    border_top = np.min(zero_pixels[:,0])\n",
    "    border_left  = np.min(zero_pixels[:,1])\n",
    "    border_bottom = np.max(zero_pixels[:,0])\n",
    "    border_right = np.max(zero_pixels[:,1])\n",
    "    \n",
    "    # Find the crop region, accounting for the white border we just removed.\n",
    "    positions = np.argwhere(img > 0)\n",
    "    top = np.min(positions[:,0]) + border_top # points are shifted up by top\n",
    "    left  = np.min(positions[:,1]) + border_left # points are shifted left by left\n",
    "    bottom = np.max(positions[:,0]) + border_top\n",
    "    right = np.max(positions[:,1]) + border_left\n",
    "\n",
    "    d = max(right - left, bottom - top)\n",
    "    padding_x = d - (bottom - top)\n",
    "    padding_y = d - (right - left)\n",
    "    \n",
    "    new_keypoints = key_points.copy()\n",
    "    new_keypoints[:, 0] = PADDING + new_keypoints[:, 0] - (left + border_left)\n",
    "    new_keypoints[:, 1] = PADDING + new_keypoints[:, 1] - (top + border_top)\n",
    "    \n",
    "    # Add padding.\n",
    "    crop_img = img[top+border_top:bottom, left+border_left:right]\n",
    "    crop_img = cv2.copyMakeBorder(crop_img, PADDING, PADDING + padding_x, PADDING, padding_y + PADDING, cv2.BORDER_CONSTANT, None, 0)\n",
    "    width, height = crop_img.shape[0:2]\n",
    "    aspect_h = 256 / height\n",
    "    aspect_w = 256 / width\n",
    "\n",
    "    resized_img = cv2.resize(crop_img, [int(width*aspect_w), int(height*aspect_h)], interpolation=cv2.INTER_AREA)\n",
    "    resized_w, resized_h = resized_img.shape[0:2]\n",
    "\n",
    "    x_original_center = (width-1) / 2\n",
    "    y_original_center = (height-1) / 2\n",
    "\n",
    "    x_scaled_center = (resized_w-1) / 2\n",
    "    y_scaled_center = (resized_h-1) / 2\n",
    "    print(f'height:{height}, width:{width}, aspect_w:{aspect_w}, aspect_h:{aspect_h}, x_original_center:{x_original_center}, y_original_center:{y_original_center}')\n",
    "    print(f'resized_h:{resized_h}, resized_w:{resized_w}, x_scaled_center:{x_scaled_center}, y_scaled_center:{y_scaled_center}')\n",
    "    # Subtract the center, scale, and add the \"scaled center\".\n",
    "    new_keypoints[:, 0] = (new_keypoints[:, 0] - x_original_center)*aspect_w + x_scaled_center\n",
    "    new_keypoints[:, 1] = (new_keypoints[:, 1] - y_original_center)*aspect_h + y_scaled_center\n",
    "\n",
    "    return new_keypoints, resized_img\n",
    "\n",
    "def load_image(image_path, transformer):\n",
    "    img = Image.open(image_path)\n",
    "    if not transformer is None:\n",
    "        img = transformer(img)\n",
    "    return img\n",
    "    \n",
    "def load_images(poses_folder, label, file_name, transformer):\n",
    "    original_file_path = f'{config.TRAIN_DATA}/c{label}/{file_name}'\n",
    "    orig_img = load_image(original_file_path, transformer)\n",
    "\n",
    "    pose_file_path = f'{poses_folder}/{file_name.replace(\".jpg\", \"_pose.png\")}' # img_100041_pose.png\n",
    "    pose_img = load_image(pose_file_path, transformer)\n",
    "    \n",
    "    pose_cropped_file_path = f'{poses_folder}/{file_name.replace(\".jpg\", \"_pose_cropped.png\")}' # img_100041_pose_cropped.png\n",
    "    pose_cropped_img = load_image(pose_cropped_file_path, transformer)\n",
    "    \n",
    "    annotated_file_path = f'{poses_folder}/{file_name.replace(\".jpg\", \"_annotated.png\")}' # img_100041_annotated.png\n",
    "    annotated_img = load_image(annotated_file_path, transformer)\n",
    "    return (orig_img, annotated_img, pose_img, pose_cropped_img)\n",
    "    \n",
    "def display_images(axes, orig_img, annotated_img, pose_img, pose_cropped_img):\n",
    "    axes[0][0].imshow(orig_img)\n",
    "    axes[0][1].imshow(annotated_img)\n",
    "    axes[2][0].imshow(pose_img)\n",
    "    axes[2][1].imshow(pose_cropped_img)\n",
    "        \n",
    "def display_keypoints(axes, img, pose_img, pose_cropped_img, keypoints, colors, shapes):\n",
    "    height, width, channel = img.shape\n",
    "    aspect_ratio = float(width) / height\n",
    "    \n",
    "    num_instances = keypoints.shape[0]\n",
    "    FIRST_POSE_IDX = 0\n",
    "    kpts_x = keypoints[0, FIRST_POSE_IDX, :, 1]\n",
    "    kpts_y = keypoints[0, FIRST_POSE_IDX, :, 0]\n",
    "    kpts_scores = keypoints[0, FIRST_POSE_IDX, :, 2]\n",
    "    kpts_absolute_xy = np.stack(\n",
    "        [width * np.array(kpts_x), height * np.array(kpts_y)], axis=-1)\n",
    "    kpts_above_thresh_absolute = kpts_absolute_xy[\n",
    "        kpts_scores > pose_config.KEYPOINT_THRESHOLD, :]    \n",
    "\n",
    "    new_keypoints, new_img = transform_keypoints(pose_img, kpts_absolute_xy)\n",
    "    print(f'kpts_absolute_xy:{kpts_absolute_xy}')\n",
    "    print(f'new_keypoints: {new_keypoints}')\n",
    "    print(f'new_img: {new_img.shape}')\n",
    "    ax = axes[1]\n",
    "    im = ax.imshow(img)\n",
    "    for i, keypoint in enumerate(kpts_absolute_xy):\n",
    "        if kpts_scores[i] > pose_config.KEYPOINT_THRESHOLD:\n",
    "            scat = ax.scatter([keypoint[0]], [keypoint[1]], s=15, \n",
    "                              color=colors[i], marker=shapes[i], zorder=3, alpha=0.5)\n",
    "    ax = axes[2]\n",
    "    im = ax.imshow(new_img)\n",
    "    for i, keypoint in enumerate(new_keypoints):\n",
    "        if kpts_scores[i] > pose_config.KEYPOINT_THRESHOLD:\n",
    "            scat = ax.scatter([int(keypoint[0])], [int(keypoint[1])], s=30, \n",
    "                              color=colors[i], marker=shapes[i], zorder=3, alpha=0.5)\n",
    "\n",
    "            \n",
    "def normalize_poses_for_label(ax_row, label, file_name, transformer):\n",
    "    colormap = plt.cm.hsv #nipy_spectral #, Set1,Paired\n",
    "    colors = [colormap(i) for i in np.linspace(0, 1.0, 17)]\n",
    "    shapes = ['o', 'v', '^', '<', '>', \n",
    "              '1', '2', '4', 's', 'p',\n",
    "              '*', '+', 'x', 'D', 4,\n",
    "              5, 6]\n",
    "\n",
    "    poses_folder = f'{pose_config.FEATURES_FOLDER}/c{label}'\n",
    "\n",
    "    (orig_img, annotated_img, pose_img, pose_cropped_img) = load_images(poses_folder, label, file_name, transformer)\n",
    "    \n",
    "    keypoints_file_path = f'{poses_folder}/{file_name.replace(\".jpg\", \"_keypoints.pt\")}' # img_100041_keypoints.pt\n",
    "    \n",
    "    keypoints = torch.load(keypoints_file_path) # A numpy array with shape [1, 1, 17, 3] \n",
    "                                                # representing the keypoint coordinates and scores\n",
    "                                                # returned from the MoveNet model.\n",
    "    disp_img = tf.image.resize_with_pad(orig_img, pose_config.INPUT_SIZE, pose_config.INPUT_SIZE)\n",
    "    # disp_img = tf.expand_dims(disp_img, axis=0)\n",
    "    # display_images(axes, orig_img, annotated_img, pose_img, pose_cropped_img)\n",
    "    ax_row[0].imshow(annotated_img)\n",
    "    \n",
    "    display_keypoints(ax_row, disp_img, pose_img, pose_cropped_img, keypoints, colors, shapes)\n",
    "    \n",
    "    # fig.tight_layout(pad=0)\n",
    "    # ax.margins(0)\n",
    "    # ax.set_yticklabels([])\n",
    "    # ax.set_xticklabels([])\n",
    "    # plt.axis('off')\n",
    "        \n",
    "def normalize_poses():\n",
    "    fig, axes = plt.subplots(len(FILES), 3, figsize=[16, 24])\n",
    "    for axis in axes.flatten():\n",
    "        axis.set_xticks([])\n",
    "        axis.set_yticks([])\n",
    "    if len(FILES) > 1:\n",
    "        for i, (label, filename) in enumerate(FILES):\n",
    "            normalize_poses_for_label(axes[i], label, filename, TRANSFORMERS)\n",
    "    else:\n",
    "        run(axes, FILES[0][0], FILES[0][1], TRANSFORMERS)\n",
    "\n",
    "    plt.subplots_adjust(wspace=None, hspace=None)\n",
    "    plt.tight_layout()\n",
    "    # plt.subplots_adjust(top=0.88)\n",
    "    plt.show()\n",
    "        \n",
    "# normalize_poses()\n"
   ]
  },
  {
   "cell_type": "code",
   "execution_count": 207,
   "id": "ecfcb63d-4dfd-42a3-9415-e28d418f0bec",
   "metadata": {},
   "outputs": [
    {
     "data": {
      "application/vnd.jupyter.widget-view+json": {
       "model_id": "fd08747551ac4ef596dc7f3474c337e4",
       "version_major": 2,
       "version_minor": 0
      },
      "text/plain": [
       "  0%|          | 0/6000 [00:00<?, ?it/s]"
      ]
     },
     "metadata": {},
     "output_type": "display_data"
    },
    {
     "data": {
      "text/html": [
       "<div>\n",
       "<style scoped>\n",
       "    .dataframe tbody tr th:only-of-type {\n",
       "        vertical-align: middle;\n",
       "    }\n",
       "\n",
       "    .dataframe tbody tr th {\n",
       "        vertical-align: top;\n",
       "    }\n",
       "\n",
       "    .dataframe thead th {\n",
       "        text-align: right;\n",
       "    }\n",
       "</style>\n",
       "<table border=\"1\" class=\"dataframe\">\n",
       "  <thead>\n",
       "    <tr style=\"text-align: right;\">\n",
       "      <th></th>\n",
       "      <th>filename</th>\n",
       "      <th>label</th>\n",
       "      <th>pose_feature_vector</th>\n",
       "      <th>nose_offset_x</th>\n",
       "      <th>left_eye_offset_x</th>\n",
       "      <th>right_eye_offset_x</th>\n",
       "      <th>left_ear_offset_x</th>\n",
       "      <th>right_ear_offset_x</th>\n",
       "      <th>left_shoulder_offset_x</th>\n",
       "      <th>right_shoulder_offset_x</th>\n",
       "      <th>...</th>\n",
       "      <th>left_elbow_score</th>\n",
       "      <th>right_elbow_score</th>\n",
       "      <th>left_wrist_score</th>\n",
       "      <th>right_wrist_score</th>\n",
       "      <th>left_hip_score</th>\n",
       "      <th>right_hip_score</th>\n",
       "      <th>left_knee_score</th>\n",
       "      <th>right_knee_score</th>\n",
       "      <th>left_ankle_score</th>\n",
       "      <th>right_ankle_score</th>\n",
       "    </tr>\n",
       "  </thead>\n",
       "  <tbody>\n",
       "    <tr>\n",
       "      <th>0</th>\n",
       "      <td>img_48336.jpg</td>\n",
       "      <td>4</td>\n",
       "      <td>[-0.035036057, -0.035036057, -0.018196791, -0....</td>\n",
       "      <td>0.332170</td>\n",
       "      <td>-0.035036</td>\n",
       "      <td>-0.018197</td>\n",
       "      <td>-0.011111</td>\n",
       "      <td>0.033738</td>\n",
       "      <td>0.063421</td>\n",
       "      <td>0.215807</td>\n",
       "      <td>...</td>\n",
       "      <td>0.559622</td>\n",
       "      <td>0.599662</td>\n",
       "      <td>0.438087</td>\n",
       "      <td>0.759579</td>\n",
       "      <td>0.571074</td>\n",
       "      <td>0.564975</td>\n",
       "      <td>0.190885</td>\n",
       "      <td>0.082692</td>\n",
       "      <td>0.090743</td>\n",
       "      <td>0.134912</td>\n",
       "    </tr>\n",
       "    <tr>\n",
       "      <th>1</th>\n",
       "      <td>img_86426.jpg</td>\n",
       "      <td>4</td>\n",
       "      <td>[-0.029750407, -0.029750407, -0.020493448, -0....</td>\n",
       "      <td>0.324019</td>\n",
       "      <td>-0.029750</td>\n",
       "      <td>-0.020493</td>\n",
       "      <td>0.000614</td>\n",
       "      <td>0.023370</td>\n",
       "      <td>0.079093</td>\n",
       "      <td>0.225625</td>\n",
       "      <td>...</td>\n",
       "      <td>0.276838</td>\n",
       "      <td>0.517142</td>\n",
       "      <td>0.395247</td>\n",
       "      <td>0.632883</td>\n",
       "      <td>0.467937</td>\n",
       "      <td>0.378535</td>\n",
       "      <td>0.207561</td>\n",
       "      <td>0.315662</td>\n",
       "      <td>0.049092</td>\n",
       "      <td>0.109102</td>\n",
       "    </tr>\n",
       "    <tr>\n",
       "      <th>2</th>\n",
       "      <td>img_38238.jpg</td>\n",
       "      <td>2</td>\n",
       "      <td>[-0.029954404, -0.029954404, -0.0071044564, -0...</td>\n",
       "      <td>0.385913</td>\n",
       "      <td>-0.029954</td>\n",
       "      <td>-0.007104</td>\n",
       "      <td>-0.011733</td>\n",
       "      <td>0.031726</td>\n",
       "      <td>0.047659</td>\n",
       "      <td>0.180604</td>\n",
       "      <td>...</td>\n",
       "      <td>0.752064</td>\n",
       "      <td>0.870633</td>\n",
       "      <td>0.731195</td>\n",
       "      <td>0.731981</td>\n",
       "      <td>0.587788</td>\n",
       "      <td>0.360084</td>\n",
       "      <td>0.349760</td>\n",
       "      <td>0.244974</td>\n",
       "      <td>0.077215</td>\n",
       "      <td>0.085454</td>\n",
       "    </tr>\n",
       "    <tr>\n",
       "      <th>3</th>\n",
       "      <td>img_28681.jpg</td>\n",
       "      <td>4</td>\n",
       "      <td>[-0.027178586, -0.027178586, -0.015425503, -0....</td>\n",
       "      <td>0.321195</td>\n",
       "      <td>-0.027179</td>\n",
       "      <td>-0.015426</td>\n",
       "      <td>0.017147</td>\n",
       "      <td>0.048965</td>\n",
       "      <td>0.100663</td>\n",
       "      <td>0.270724</td>\n",
       "      <td>...</td>\n",
       "      <td>0.246459</td>\n",
       "      <td>0.691087</td>\n",
       "      <td>0.479120</td>\n",
       "      <td>0.740284</td>\n",
       "      <td>0.403327</td>\n",
       "      <td>0.551018</td>\n",
       "      <td>0.343422</td>\n",
       "      <td>0.722791</td>\n",
       "      <td>0.337236</td>\n",
       "      <td>0.081227</td>\n",
       "    </tr>\n",
       "    <tr>\n",
       "      <th>4</th>\n",
       "      <td>img_80378.jpg</td>\n",
       "      <td>1</td>\n",
       "      <td>[-0.029777497, -0.029777497, -0.020891935, -0....</td>\n",
       "      <td>0.305588</td>\n",
       "      <td>-0.029777</td>\n",
       "      <td>-0.020892</td>\n",
       "      <td>-0.001573</td>\n",
       "      <td>0.011584</td>\n",
       "      <td>0.051158</td>\n",
       "      <td>0.202056</td>\n",
       "      <td>...</td>\n",
       "      <td>0.412501</td>\n",
       "      <td>0.862169</td>\n",
       "      <td>0.247147</td>\n",
       "      <td>0.783414</td>\n",
       "      <td>0.631854</td>\n",
       "      <td>0.479554</td>\n",
       "      <td>0.056887</td>\n",
       "      <td>0.204816</td>\n",
       "      <td>0.098185</td>\n",
       "      <td>0.063777</td>\n",
       "    </tr>\n",
       "    <tr>\n",
       "      <th>...</th>\n",
       "      <td>...</td>\n",
       "      <td>...</td>\n",
       "      <td>...</td>\n",
       "      <td>...</td>\n",
       "      <td>...</td>\n",
       "      <td>...</td>\n",
       "      <td>...</td>\n",
       "      <td>...</td>\n",
       "      <td>...</td>\n",
       "      <td>...</td>\n",
       "      <td>...</td>\n",
       "      <td>...</td>\n",
       "      <td>...</td>\n",
       "      <td>...</td>\n",
       "      <td>...</td>\n",
       "      <td>...</td>\n",
       "      <td>...</td>\n",
       "      <td>...</td>\n",
       "      <td>...</td>\n",
       "      <td>...</td>\n",
       "      <td>...</td>\n",
       "    </tr>\n",
       "    <tr>\n",
       "      <th>5995</th>\n",
       "      <td>img_59929.jpg</td>\n",
       "      <td>5</td>\n",
       "      <td>[-0.041088223, -0.041088223, -0.022706777, -0....</td>\n",
       "      <td>0.309577</td>\n",
       "      <td>-0.041088</td>\n",
       "      <td>-0.022707</td>\n",
       "      <td>-0.032507</td>\n",
       "      <td>0.007465</td>\n",
       "      <td>0.031562</td>\n",
       "      <td>0.186271</td>\n",
       "      <td>...</td>\n",
       "      <td>0.639355</td>\n",
       "      <td>0.281787</td>\n",
       "      <td>0.769919</td>\n",
       "      <td>0.113592</td>\n",
       "      <td>0.541353</td>\n",
       "      <td>0.622801</td>\n",
       "      <td>0.087762</td>\n",
       "      <td>0.339461</td>\n",
       "      <td>0.117406</td>\n",
       "      <td>0.069263</td>\n",
       "    </tr>\n",
       "    <tr>\n",
       "      <th>5996</th>\n",
       "      <td>img_58743.jpg</td>\n",
       "      <td>4</td>\n",
       "      <td>[-0.034503043, -0.034503043, -0.021009296, -0....</td>\n",
       "      <td>0.312540</td>\n",
       "      <td>-0.034503</td>\n",
       "      <td>-0.021009</td>\n",
       "      <td>-0.022420</td>\n",
       "      <td>0.012607</td>\n",
       "      <td>0.096042</td>\n",
       "      <td>0.201875</td>\n",
       "      <td>...</td>\n",
       "      <td>0.208693</td>\n",
       "      <td>0.615836</td>\n",
       "      <td>0.400202</td>\n",
       "      <td>0.617838</td>\n",
       "      <td>0.368065</td>\n",
       "      <td>0.377731</td>\n",
       "      <td>0.223935</td>\n",
       "      <td>0.330053</td>\n",
       "      <td>0.083124</td>\n",
       "      <td>0.181887</td>\n",
       "    </tr>\n",
       "    <tr>\n",
       "      <th>5997</th>\n",
       "      <td>img_46864.jpg</td>\n",
       "      <td>6</td>\n",
       "      <td>[-0.030128628, -0.030128628, -0.007858992, -0....</td>\n",
       "      <td>0.335278</td>\n",
       "      <td>-0.030129</td>\n",
       "      <td>-0.007859</td>\n",
       "      <td>0.009149</td>\n",
       "      <td>0.065909</td>\n",
       "      <td>0.087384</td>\n",
       "      <td>0.206149</td>\n",
       "      <td>...</td>\n",
       "      <td>0.457411</td>\n",
       "      <td>0.617456</td>\n",
       "      <td>0.512566</td>\n",
       "      <td>0.598345</td>\n",
       "      <td>0.673614</td>\n",
       "      <td>0.708538</td>\n",
       "      <td>0.328401</td>\n",
       "      <td>0.653334</td>\n",
       "      <td>0.120384</td>\n",
       "      <td>0.104205</td>\n",
       "    </tr>\n",
       "    <tr>\n",
       "      <th>5998</th>\n",
       "      <td>img_39068.jpg</td>\n",
       "      <td>8</td>\n",
       "      <td>[-0.008832008, -0.008832008, 0.016371638, 0.01...</td>\n",
       "      <td>0.297652</td>\n",
       "      <td>-0.008832</td>\n",
       "      <td>0.016372</td>\n",
       "      <td>0.069449</td>\n",
       "      <td>0.111182</td>\n",
       "      <td>0.110459</td>\n",
       "      <td>0.284387</td>\n",
       "      <td>...</td>\n",
       "      <td>0.469213</td>\n",
       "      <td>0.728690</td>\n",
       "      <td>0.752742</td>\n",
       "      <td>0.643261</td>\n",
       "      <td>0.341937</td>\n",
       "      <td>0.309014</td>\n",
       "      <td>0.294337</td>\n",
       "      <td>0.732635</td>\n",
       "      <td>0.172147</td>\n",
       "      <td>0.023645</td>\n",
       "    </tr>\n",
       "    <tr>\n",
       "      <th>5999</th>\n",
       "      <td>img_67476.jpg</td>\n",
       "      <td>5</td>\n",
       "      <td>[-0.035429984, -0.035429984, -0.011956632, -0....</td>\n",
       "      <td>0.394358</td>\n",
       "      <td>-0.035430</td>\n",
       "      <td>-0.011957</td>\n",
       "      <td>-0.017534</td>\n",
       "      <td>0.032792</td>\n",
       "      <td>0.056887</td>\n",
       "      <td>0.199527</td>\n",
       "      <td>...</td>\n",
       "      <td>0.668284</td>\n",
       "      <td>0.772449</td>\n",
       "      <td>0.740046</td>\n",
       "      <td>0.662817</td>\n",
       "      <td>0.448531</td>\n",
       "      <td>0.486056</td>\n",
       "      <td>0.036175</td>\n",
       "      <td>0.079040</td>\n",
       "      <td>0.158182</td>\n",
       "      <td>0.155174</td>\n",
       "    </tr>\n",
       "  </tbody>\n",
       "</table>\n",
       "<p>6000 rows × 54 columns</p>\n",
       "</div>"
      ],
      "text/plain": [
       "           filename  label                                pose_feature_vector  \\\n",
       "0     img_48336.jpg      4  [-0.035036057, -0.035036057, -0.018196791, -0....   \n",
       "1     img_86426.jpg      4  [-0.029750407, -0.029750407, -0.020493448, -0....   \n",
       "2     img_38238.jpg      2  [-0.029954404, -0.029954404, -0.0071044564, -0...   \n",
       "3     img_28681.jpg      4  [-0.027178586, -0.027178586, -0.015425503, -0....   \n",
       "4     img_80378.jpg      1  [-0.029777497, -0.029777497, -0.020891935, -0....   \n",
       "...             ...    ...                                                ...   \n",
       "5995  img_59929.jpg      5  [-0.041088223, -0.041088223, -0.022706777, -0....   \n",
       "5996  img_58743.jpg      4  [-0.034503043, -0.034503043, -0.021009296, -0....   \n",
       "5997  img_46864.jpg      6  [-0.030128628, -0.030128628, -0.007858992, -0....   \n",
       "5998  img_39068.jpg      8  [-0.008832008, -0.008832008, 0.016371638, 0.01...   \n",
       "5999  img_67476.jpg      5  [-0.035429984, -0.035429984, -0.011956632, -0....   \n",
       "\n",
       "      nose_offset_x  left_eye_offset_x  right_eye_offset_x  left_ear_offset_x  \\\n",
       "0          0.332170          -0.035036           -0.018197          -0.011111   \n",
       "1          0.324019          -0.029750           -0.020493           0.000614   \n",
       "2          0.385913          -0.029954           -0.007104          -0.011733   \n",
       "3          0.321195          -0.027179           -0.015426           0.017147   \n",
       "4          0.305588          -0.029777           -0.020892          -0.001573   \n",
       "...             ...                ...                 ...                ...   \n",
       "5995       0.309577          -0.041088           -0.022707          -0.032507   \n",
       "5996       0.312540          -0.034503           -0.021009          -0.022420   \n",
       "5997       0.335278          -0.030129           -0.007859           0.009149   \n",
       "5998       0.297652          -0.008832            0.016372           0.069449   \n",
       "5999       0.394358          -0.035430           -0.011957          -0.017534   \n",
       "\n",
       "      right_ear_offset_x  left_shoulder_offset_x  right_shoulder_offset_x  \\\n",
       "0               0.033738                0.063421                 0.215807   \n",
       "1               0.023370                0.079093                 0.225625   \n",
       "2               0.031726                0.047659                 0.180604   \n",
       "3               0.048965                0.100663                 0.270724   \n",
       "4               0.011584                0.051158                 0.202056   \n",
       "...                  ...                     ...                      ...   \n",
       "5995            0.007465                0.031562                 0.186271   \n",
       "5996            0.012607                0.096042                 0.201875   \n",
       "5997            0.065909                0.087384                 0.206149   \n",
       "5998            0.111182                0.110459                 0.284387   \n",
       "5999            0.032792                0.056887                 0.199527   \n",
       "\n",
       "      ...  left_elbow_score  right_elbow_score  left_wrist_score  \\\n",
       "0     ...          0.559622           0.599662          0.438087   \n",
       "1     ...          0.276838           0.517142          0.395247   \n",
       "2     ...          0.752064           0.870633          0.731195   \n",
       "3     ...          0.246459           0.691087          0.479120   \n",
       "4     ...          0.412501           0.862169          0.247147   \n",
       "...   ...               ...                ...               ...   \n",
       "5995  ...          0.639355           0.281787          0.769919   \n",
       "5996  ...          0.208693           0.615836          0.400202   \n",
       "5997  ...          0.457411           0.617456          0.512566   \n",
       "5998  ...          0.469213           0.728690          0.752742   \n",
       "5999  ...          0.668284           0.772449          0.740046   \n",
       "\n",
       "      right_wrist_score  left_hip_score  right_hip_score  left_knee_score  \\\n",
       "0              0.759579        0.571074         0.564975         0.190885   \n",
       "1              0.632883        0.467937         0.378535         0.207561   \n",
       "2              0.731981        0.587788         0.360084         0.349760   \n",
       "3              0.740284        0.403327         0.551018         0.343422   \n",
       "4              0.783414        0.631854         0.479554         0.056887   \n",
       "...                 ...             ...              ...              ...   \n",
       "5995           0.113592        0.541353         0.622801         0.087762   \n",
       "5996           0.617838        0.368065         0.377731         0.223935   \n",
       "5997           0.598345        0.673614         0.708538         0.328401   \n",
       "5998           0.643261        0.341937         0.309014         0.294337   \n",
       "5999           0.662817        0.448531         0.486056         0.036175   \n",
       "\n",
       "      right_knee_score  left_ankle_score  right_ankle_score  \n",
       "0             0.082692          0.090743           0.134912  \n",
       "1             0.315662          0.049092           0.109102  \n",
       "2             0.244974          0.077215           0.085454  \n",
       "3             0.722791          0.337236           0.081227  \n",
       "4             0.204816          0.098185           0.063777  \n",
       "...                ...               ...                ...  \n",
       "5995          0.339461          0.117406           0.069263  \n",
       "5996          0.330053          0.083124           0.181887  \n",
       "5997          0.653334          0.120384           0.104205  \n",
       "5998          0.732635          0.172147           0.023645  \n",
       "5999          0.079040          0.158182           0.155174  \n",
       "\n",
       "[6000 rows x 54 columns]"
      ]
     },
     "execution_count": 207,
     "metadata": {},
     "output_type": "execute_result"
    }
   ],
   "source": [
    "def transform_keypoints(img, key_points):\n",
    "    PADDING = 20\n",
    "    grayed = tf.image.rgb_to_grayscale(img, name=None)\n",
    "    zero_pixels = np.argwhere(grayed == 0)\n",
    "    border_top = np.min(zero_pixels[:,0])\n",
    "    border_left  = np.min(zero_pixels[:,1])\n",
    "    border_bottom = np.max(zero_pixels[:,0])\n",
    "    border_right = np.max(zero_pixels[:,1])\n",
    "    \n",
    "    # Find the crop region, accounting for the white border we just removed.\n",
    "    positions = np.argwhere(img > 0)\n",
    "    top = np.min(positions[:,0]) + border_top # points are shifted up by top\n",
    "    left  = np.min(positions[:,1]) + border_left # points are shifted left by left\n",
    "    bottom = np.max(positions[:,0]) + border_top\n",
    "    right = np.max(positions[:,1]) + border_left\n",
    "\n",
    "    d = max(right - left, bottom - top)\n",
    "    padding_x = d - (bottom - top)\n",
    "    padding_y = d - (right - left)\n",
    "    \n",
    "    new_keypoints = key_points.copy()\n",
    "    new_keypoints[:, 0] = PADDING + new_keypoints[:, 0] - (left + border_left)\n",
    "    new_keypoints[:, 1] = PADDING + new_keypoints[:, 1] - (top + border_top)\n",
    "    \n",
    "    # Add padding.\n",
    "    crop_img = img[top+border_top:bottom, left+border_left:right]\n",
    "    crop_img = cv2.copyMakeBorder(crop_img, PADDING, PADDING + padding_x, PADDING, padding_y + PADDING, cv2.BORDER_CONSTANT, None, 0)\n",
    "    width, height = crop_img.shape[0:2]\n",
    "    aspect_h = 256 / height\n",
    "    aspect_w = 256 / width\n",
    "\n",
    "    resized_img = cv2.resize(crop_img, [int(width*aspect_w), int(height*aspect_h)], interpolation=cv2.INTER_AREA)\n",
    "    resized_w, resized_h = resized_img.shape[0:2]\n",
    "\n",
    "    x_original_center = (width-1) / 2\n",
    "    y_original_center = (height-1) / 2\n",
    "\n",
    "    x_scaled_center = (resized_w-1) / 2\n",
    "    y_scaled_center = (resized_h-1) / 2\n",
    "    print(f'height:{height}, width:{width}, aspect_w:{aspect_w}, aspect_h:{aspect_h}, x_original_center:{x_original_center}, y_original_center:{y_original_center}')\n",
    "    print(f'resized_h:{resized_h}, resized_w:{resized_w}, x_scaled_center:{x_scaled_center}, y_scaled_center:{y_scaled_center}')\n",
    "    # Subtract the center, scale, and add the \"scaled center\".\n",
    "    new_keypoints[:, 0] = (new_keypoints[:, 0] - x_original_center)*aspect_w + x_scaled_center\n",
    "    new_keypoints[:, 1] = (new_keypoints[:, 1] - y_original_center)*aspect_h + y_scaled_center\n",
    "\n",
    "    return new_keypoints, resized_img\n",
    "\n",
    "def load_image(image_path, transformer):\n",
    "    img = Image.open(image_path)\n",
    "    if not transformer is None:\n",
    "        img = transformer(img)\n",
    "    return img\n",
    "    \n",
    "def load_images(poses_folder, label, file_name, transformer):\n",
    "    original_file_path = f'{config.TRAIN_DATA}/c{label}/{file_name}'\n",
    "    orig_img = load_image(original_file_path, transformer)\n",
    "\n",
    "    pose_file_path = f'{poses_folder}/{file_name.replace(\".jpg\", \"_pose.png\")}' # img_100041_pose.png\n",
    "    pose_img = load_image(pose_file_path, transformer)\n",
    "    \n",
    "    pose_cropped_file_path = f'{poses_folder}/{file_name.replace(\".jpg\", \"_pose_cropped.png\")}' # img_100041_pose_cropped.png\n",
    "    pose_cropped_img = load_image(pose_cropped_file_path, transformer)\n",
    "    \n",
    "    annotated_file_path = f'{poses_folder}/{file_name.replace(\".jpg\", \"_annotated.png\")}' # img_100041_annotated.png\n",
    "    annotated_img = load_image(annotated_file_path, transformer)\n",
    "    return (orig_img, annotated_img, pose_img, pose_cropped_img)\n",
    "    \n",
    "def display_images(axes, orig_img, annotated_img, pose_img, pose_cropped_img):\n",
    "    axes[0][0].imshow(orig_img)\n",
    "    axes[0][1].imshow(annotated_img)\n",
    "    axes[2][0].imshow(pose_img)\n",
    "    axes[2][1].imshow(pose_cropped_img)\n",
    "        \n",
    "def display_keypoints(axes, img, pose_img, pose_cropped_img, keypoints, colors, shapes):\n",
    "    height, width, channel = img.shape\n",
    "    aspect_ratio = float(width) / height\n",
    "    \n",
    "    num_instances = keypoints.shape[0]\n",
    "    FIRST_POSE_IDX = 0\n",
    "    kpts_x = keypoints[0, FIRST_POSE_IDX, :, 1]\n",
    "    kpts_y = keypoints[0, FIRST_POSE_IDX, :, 0]\n",
    "    kpts_scores = keypoints[0, FIRST_POSE_IDX, :, 2]\n",
    "    kpts_absolute_xy = np.stack(\n",
    "        [width * np.array(kpts_x), height * np.array(kpts_y)], axis=-1)\n",
    "    kpts_above_thresh_absolute = kpts_absolute_xy[\n",
    "        kpts_scores > pose_config.KEYPOINT_THRESHOLD, :]    \n",
    "\n",
    "    new_keypoints, new_img = transform_keypoints(pose_img, kpts_absolute_xy)\n",
    "    print(f'kpts_absolute_xy:{kpts_absolute_xy}')\n",
    "    print(f'new_keypoints: {new_keypoints}')\n",
    "    print(f'new_img: {new_img.shape}')\n",
    "    ax = axes[1]\n",
    "    im = ax.imshow(img)\n",
    "    for i, keypoint in enumerate(kpts_absolute_xy):\n",
    "        if kpts_scores[i] > pose_config.KEYPOINT_THRESHOLD:\n",
    "            scat = ax.scatter([keypoint[0]], [keypoint[1]], s=15, \n",
    "                              color=colors[i], marker=shapes[i], zorder=3, alpha=0.5)\n",
    "    ax = axes[2]\n",
    "    im = ax.imshow(new_img)\n",
    "    for i, keypoint in enumerate(new_keypoints):\n",
    "        if kpts_scores[i] > pose_config.KEYPOINT_THRESHOLD:\n",
    "            scat = ax.scatter([int(keypoint[0])], [int(keypoint[1])], s=30, \n",
    "                              color=colors[i], marker=shapes[i], zorder=3, alpha=0.5)\n",
    "\n",
    "            \n",
    "def normalize_poses_for_label(ax_row, label, file_name, transformer):\n",
    "    colormap = plt.cm.hsv #nipy_spectral #, Set1,Paired\n",
    "    colors = [colormap(i) for i in np.linspace(0, 1.0, 17)]\n",
    "    shapes = ['o', 'v', '^', '<', '>', \n",
    "              '1', '2', '4', 's', 'p',\n",
    "              '*', '+', 'x', 'D', 4,\n",
    "              5, 6]\n",
    "\n",
    "    poses_folder = f'{pose_config.FEATURES_FOLDER}/c{label}'\n",
    "\n",
    "    (orig_img, annotated_img, pose_img, pose_cropped_img) = load_images(poses_folder, label, file_name, transformer)\n",
    "    \n",
    "    keypoints_file_path = f'{poses_folder}/{file_name.replace(\".jpg\", \"_keypoints.pt\")}' # img_100041_keypoints.pt\n",
    "    \n",
    "    keypoints = torch.load(keypoints_file_path) # A numpy array with shape [1, 1, 17, 3] \n",
    "                                                # representing the keypoint coordinates and scores\n",
    "                                                # returned from the MoveNet model.\n",
    "    disp_img = tf.image.resize_with_pad(orig_img, pose_config.INPUT_SIZE, pose_config.INPUT_SIZE)\n",
    "    # disp_img = tf.expand_dims(disp_img, axis=0)\n",
    "    # display_images(axes, orig_img, annotated_img, pose_img, pose_cropped_img)\n",
    "    ax_row[0].imshow(annotated_img)\n",
    "    \n",
    "    display_keypoints(ax_row, disp_img, pose_img, pose_cropped_img, keypoints, colors, shapes)\n",
    "    \n",
    "    # fig.tight_layout(pad=0)\n",
    "    # ax.margins(0)\n",
    "    # ax.set_yticklabels([])\n",
    "    # ax.set_xticklabels([])\n",
    "    # plt.axis('off')\n",
    "         \n",
    "feature_helpers.FeatureExtractor(config, face_config, pose_config, tqdm).keypoints_relative_to_nose()\n",
    "# normalize_poses()\n"
   ]
  },
  {
   "cell_type": "markdown",
   "id": "8f354cc0-36d4-43f7-aa59-c4164a5b9eec",
   "metadata": {},
   "source": [
    "## Angle Made By Each Hand.\n"
   ]
  },
  {
   "cell_type": "code",
   "execution_count": 238,
   "id": "7234bfa6-9966-4966-8c07-b92638075daf",
   "metadata": {},
   "outputs": [
    {
     "data": {
      "application/vnd.jupyter.widget-view+json": {
       "model_id": "22b17978bffc415287651e8ccf44804a",
       "version_major": 2,
       "version_minor": 0
      },
      "text/plain": [
       "  0%|          | 0/6000 [00:00<?, ?it/s]"
      ]
     },
     "metadata": {},
     "output_type": "display_data"
    },
    {
     "name": "stdout",
     "output_type": "stream",
     "text": [
      "   label       filename\n",
      "0      7  img_45037.jpg\n",
      "1      2  img_73202.jpg\n",
      "2      4   img_7466.jpg\n",
      "3      4  img_98481.jpg\n",
      "4      8  img_89028.jpg\n",
      "5      8  img_82672.jpg\n",
      "201.10691716930026\n",
      "197.63420451914786\n",
      "248.887268980701\n",
      "335.6561616932093\n",
      "224.54057687293016\n",
      "215.19491381502058\n",
      "262.88458556398666\n",
      "330.89706812619005\n",
      "253.35527881481025\n",
      "248.7487907058516\n",
      "208.4119640987503\n",
      "315.6666831364142\n",
      "        filename  label    nose_x  left_eye_x  right_eye_x  left_ear_x  \\\n",
      "0  img_45037.jpg      7  0.354819    0.304450     0.344531    0.303446   \n",
      "1  img_73202.jpg      2  0.320999    0.291201     0.317308    0.321574   \n",
      "2   img_7466.jpg      4  0.304032    0.275121     0.295372    0.319340   \n",
      "3  img_98481.jpg      4  0.363299    0.340871     0.345609    0.365115   \n",
      "4  img_89028.jpg      8  0.302083    0.273047     0.281602    0.316494   \n",
      "5  img_82672.jpg      8  0.352352    0.316518     0.348416    0.342890   \n",
      "\n",
      "   right_ear_x  left_shoulder_x  right_shoulder_x  left_elbow_x  ...  \\\n",
      "0     0.401937         0.344901          0.570705      0.386287  ...   \n",
      "1     0.383222         0.402106          0.531893      0.410762  ...   \n",
      "2     0.364096         0.408853          0.544932      0.620814  ...   \n",
      "3     0.380284         0.430773          0.561009      0.522255  ...   \n",
      "4     0.338102         0.422022          0.538931      0.518645  ...   \n",
      "5     0.401559         0.396601          0.601131      0.393294  ...   \n",
      "\n",
      "   left_wrist_score  right_wrist_score  left_hip_score  right_hip_score  \\\n",
      "0          0.436469           0.372415        0.664117         0.555619   \n",
      "1          0.769244           0.681774        0.597982         0.746734   \n",
      "2          0.520700           0.641658        0.550293         0.609517   \n",
      "3          0.623046           0.791364        0.664599         0.577965   \n",
      "4          0.233423           0.447569        0.633648         0.662953   \n",
      "5          0.623418           0.599864        0.401970         0.559819   \n",
      "\n",
      "   left_knee_score  right_knee_score  left_ankle_score  right_ankle_score  \\\n",
      "0         0.107114          0.273506          0.112661           0.017925   \n",
      "1         0.490350          0.768098          0.209550           0.086485   \n",
      "2         0.173125          0.601308          0.133205           0.063087   \n",
      "3         0.486789          0.773521          0.105115           0.127470   \n",
      "4         0.296844          0.716651          0.363899           0.428933   \n",
      "5         0.167360          0.640449          0.255327           0.314060   \n",
      "\n",
      "   left_hand_angle  right_hand_angle  \n",
      "0       201.106917        262.884586  \n",
      "1       197.634205        330.897068  \n",
      "2       248.887269        253.355279  \n",
      "3       335.656162        248.748791  \n",
      "4       224.540577        208.411964  \n",
      "5       215.194914        315.666683  \n",
      "\n",
      "[6 rows x 55 columns]\n"
     ]
    }
   ],
   "source": [
    "# Idea is to find the angle that the line connecting elbow and shoulder makes with \n",
    "# the line connecting elbow and wrist.\n",
    "import math\n",
    " \n",
    "def find_angles():\n",
    "    def getAnglePy(params):\n",
    "        a0, a1, b0, b1, c0, c1 = params\n",
    "        ang = math.degrees(math.atan2(c1-b1, c0-b0) - math.atan2(a1-b1, a0-b0))\n",
    "        ang = ang + 360 if ang < 0 else ang\n",
    "        return ang\n",
    "    keypoints_df = feature_helpers.FeatureExtractor(config, face_config, pose_config, tqdm).load_keypoints(count=5)\n",
    "    projected_df = keypoints_df[['left_shoulder_x', 'left_shoulder_y', 'left_elbow_x', 'left_elbow_y', 'left_wrist_x', 'left_wrist_y']]\n",
    "    keypoints_df['left_hand_angle'] = projected_df.apply(getAnglePy, axis=1)\n",
    "    projected_df = keypoints_df[['right_shoulder_x', 'right_shoulder_y', 'right_elbow_x', 'right_elbow_y', 'right_wrist_x', 'right_wrist_y']]    \n",
    "    keypoints_df['right_hand_angle'] = projected_df.apply(getAnglePy, axis=1)\n",
    "    print(keypoints_df)\n",
    "find_angles()"
   ]
  },
  {
   "cell_type": "code",
   "execution_count": null,
   "id": "91c62362-bfea-402d-a7ab-cbc0173518e9",
   "metadata": {},
   "outputs": [],
   "source": []
  }
 ],
 "metadata": {
  "kernelspec": {
   "display_name": "Python 3 (ipykernel)",
   "language": "python",
   "name": "python3"
  },
  "language_info": {
   "codemirror_mode": {
    "name": "ipython",
    "version": 3
   },
   "file_extension": ".py",
   "mimetype": "text/x-python",
   "name": "python",
   "nbconvert_exporter": "python",
   "pygments_lexer": "ipython3",
   "version": "3.8.15"
  },
  "widgets": {
   "application/vnd.jupyter.widget-state+json": {
    "state": {
     "009fb28c79954f2ca50ffe5dc6f5a0f2": {
      "model_module": "@jupyter-widgets/controls",
      "model_module_version": "2.0.0",
      "model_name": "HBoxModel",
      "state": {
       "children": [
        "IPY_MODEL_86320103fc6d49dca228c0e8dac26448",
        "IPY_MODEL_59c74b3e15c74105a6e588071c7a8554",
        "IPY_MODEL_895b53987d48436dbf9274e736ba38db"
       ],
       "layout": "IPY_MODEL_53c15e1685b24971bbfd100d121347ec"
      }
     },
     "00ebd6a45da74a42a9710de024e65602": {
      "model_module": "@jupyter-widgets/controls",
      "model_module_version": "2.0.0",
      "model_name": "HTMLModel",
      "state": {
       "layout": "IPY_MODEL_f85199a308914d6eb8867c742c5492a2",
       "style": "IPY_MODEL_bf3f04fcfe21458c867db74523f12058",
       "value": "  0%"
      }
     },
     "01579d4c95324a29806197f837580724": {
      "model_module": "@jupyter-widgets/controls",
      "model_module_version": "2.0.0",
      "model_name": "FloatProgressModel",
      "state": {
       "bar_style": "danger",
       "layout": "IPY_MODEL_7608333c5d2844a2b4a61c93dd03f4fb",
       "max": 1,
       "style": "IPY_MODEL_06d7a80195014d57a24d4b4603a579a6"
      }
     },
     "01b70cf80b7148588047878352837a92": {
      "model_module": "@jupyter-widgets/controls",
      "model_module_version": "2.0.0",
      "model_name": "ProgressStyleModel",
      "state": {
       "description_width": ""
      }
     },
     "01c4ddfdb7e84e638b080a7188909a2e": {
      "model_module": "@jupyter-widgets/controls",
      "model_module_version": "2.0.0",
      "model_name": "FloatProgressModel",
      "state": {
       "bar_style": "success",
       "layout": "IPY_MODEL_4d4399f3407440c4a711b3e6371d1a4e",
       "max": 6000,
       "style": "IPY_MODEL_01c6da82352f4677ba6e4bfe1194e60d",
       "value": 6000
      }
     },
     "01c6da82352f4677ba6e4bfe1194e60d": {
      "model_module": "@jupyter-widgets/controls",
      "model_module_version": "2.0.0",
      "model_name": "ProgressStyleModel",
      "state": {
       "description_width": ""
      }
     },
     "01f1e1121815455ca3383922d41cc148": {
      "model_module": "@jupyter-widgets/controls",
      "model_module_version": "2.0.0",
      "model_name": "HTMLStyleModel",
      "state": {
       "description_width": "",
       "font_size": null,
       "text_color": null
      }
     },
     "01f45d0351f54afb880e69f0590985fc": {
      "model_module": "@jupyter-widgets/controls",
      "model_module_version": "2.0.0",
      "model_name": "FloatProgressModel",
      "state": {
       "bar_style": "danger",
       "layout": "IPY_MODEL_4936730f1e564ad1964f9f59495772d9",
       "max": 6000,
       "style": "IPY_MODEL_a17bc10dd92849bcb81c4941161d2a4c",
       "value": 6
      }
     },
     "0235d5ff5d99483190539045fef7cc57": {
      "model_module": "@jupyter-widgets/base",
      "model_module_version": "2.0.0",
      "model_name": "LayoutModel",
      "state": {}
     },
     "02bb6a3b7d9146f4a68e5a742005446b": {
      "model_module": "@jupyter-widgets/controls",
      "model_module_version": "2.0.0",
      "model_name": "HBoxModel",
      "state": {
       "children": [
        "IPY_MODEL_00ebd6a45da74a42a9710de024e65602",
        "IPY_MODEL_01f45d0351f54afb880e69f0590985fc",
        "IPY_MODEL_621059fd97e24456b01609dcee6866f9"
       ],
       "layout": "IPY_MODEL_960c39a052c241c38231a95b7b990d71"
      }
     },
     "0341c83108624cbc8d9e3a5989f96f62": {
      "model_module": "@jupyter-widgets/controls",
      "model_module_version": "2.0.0",
      "model_name": "FloatProgressModel",
      "state": {
       "bar_style": "success",
       "layout": "IPY_MODEL_cdfb191c443c4db093d052b9b2b9142c",
       "max": 6000,
       "style": "IPY_MODEL_d96f2011de3246da86651e4188bdfced",
       "value": 6000
      }
     },
     "046e11c83d2349e1abff6cd889ec776d": {
      "model_module": "@jupyter-widgets/controls",
      "model_module_version": "2.0.0",
      "model_name": "ProgressStyleModel",
      "state": {
       "description_width": ""
      }
     },
     "04cc7f9236514d498bf4c5bfc4ac0167": {
      "model_module": "@jupyter-widgets/controls",
      "model_module_version": "2.0.0",
      "model_name": "HTMLModel",
      "state": {
       "layout": "IPY_MODEL_73dfbd0cd53e40c89a2e44dffd559cc2",
       "style": "IPY_MODEL_68a9ba34f9a04f13b194d527b3d2e4ab",
       "value": "100%"
      }
     },
     "053e88a3a0ac450389d29af5dd9da55a": {
      "model_module": "@jupyter-widgets/controls",
      "model_module_version": "2.0.0",
      "model_name": "HTMLStyleModel",
      "state": {
       "description_width": "",
       "font_size": null,
       "text_color": null
      }
     },
     "056766192fe54fe5a312c4f898b8681d": {
      "model_module": "@jupyter-widgets/base",
      "model_module_version": "2.0.0",
      "model_name": "LayoutModel",
      "state": {}
     },
     "05ae09577b6b44268a06927df89a3c24": {
      "model_module": "@jupyter-widgets/controls",
      "model_module_version": "2.0.0",
      "model_name": "HBoxModel",
      "state": {
       "children": [
        "IPY_MODEL_c8d2a8248f5e4c629568f6f09b435522",
        "IPY_MODEL_642647f8ce624aa7990bdb7367d6f0c8",
        "IPY_MODEL_e804a0ee3b544dff9c93a3e94ad36d9b"
       ],
       "layout": "IPY_MODEL_b1970c92e8204bc7a9419b3e07d86b0e"
      }
     },
     "05cd043584b64d5793e716100936eb6c": {
      "model_module": "@jupyter-widgets/controls",
      "model_module_version": "2.0.0",
      "model_name": "HTMLModel",
      "state": {
       "layout": "IPY_MODEL_d79f73b8efa0458e8a5f4423cc23e782",
       "style": "IPY_MODEL_ebb384a992c946bfba1bc496b0237240",
       "value": "100%"
      }
     },
     "05e5bf1dbc92490c867d2088bf9d1e08": {
      "model_module": "@jupyter-widgets/controls",
      "model_module_version": "2.0.0",
      "model_name": "HTMLModel",
      "state": {
       "layout": "IPY_MODEL_08ad1727a6624567a897320c593ae546",
       "style": "IPY_MODEL_f947960a84fe4e83bf0490029da73682",
       "value": "100%"
      }
     },
     "05e73817490445a69084c7e212161f01": {
      "model_module": "@jupyter-widgets/controls",
      "model_module_version": "2.0.0",
      "model_name": "HTMLModel",
      "state": {
       "layout": "IPY_MODEL_86ddb599c4804132b487a2073f362bac",
       "style": "IPY_MODEL_be1ec6e64ac740ca824eb0748f5168e5",
       "value": "100%"
      }
     },
     "05f8042f31dd4fa6b12296e58d7fc29c": {
      "model_module": "@jupyter-widgets/controls",
      "model_module_version": "2.0.0",
      "model_name": "HTMLStyleModel",
      "state": {
       "description_width": "",
       "font_size": null,
       "text_color": null
      }
     },
     "0609ff75d774425ba7be5616069cc3e3": {
      "model_module": "@jupyter-widgets/controls",
      "model_module_version": "2.0.0",
      "model_name": "ProgressStyleModel",
      "state": {
       "description_width": ""
      }
     },
     "0625561540e64fbdb75c514c0cf8d1db": {
      "model_module": "@jupyter-widgets/base",
      "model_module_version": "2.0.0",
      "model_name": "LayoutModel",
      "state": {}
     },
     "062bd6457e7944c59c1f7ea455172b0a": {
      "model_module": "@jupyter-widgets/base",
      "model_module_version": "2.0.0",
      "model_name": "LayoutModel",
      "state": {}
     },
     "068286c377184532a6075cc5a5b0fe70": {
      "model_module": "@jupyter-widgets/base",
      "model_module_version": "2.0.0",
      "model_name": "LayoutModel",
      "state": {}
     },
     "06b3a068400b4551ae01e4d24f54645f": {
      "model_module": "@jupyter-widgets/controls",
      "model_module_version": "2.0.0",
      "model_name": "HBoxModel",
      "state": {
       "children": [
        "IPY_MODEL_2b0a6a56cab04170afa8387d94c7d227",
        "IPY_MODEL_01579d4c95324a29806197f837580724",
        "IPY_MODEL_31148b99373e4ec6ad0eec5cb2c04279"
       ],
       "layout": "IPY_MODEL_c78a46c6b01f40bab21f4c2d4271ee69"
      }
     },
     "06d7a80195014d57a24d4b4603a579a6": {
      "model_module": "@jupyter-widgets/controls",
      "model_module_version": "2.0.0",
      "model_name": "ProgressStyleModel",
      "state": {
       "description_width": ""
      }
     },
     "06e64f29f85c4f72ac5e73bfb587fcb3": {
      "model_module": "@jupyter-widgets/controls",
      "model_module_version": "2.0.0",
      "model_name": "HBoxModel",
      "state": {
       "children": [
        "IPY_MODEL_61d2059f058b4fde9cb8244eba73663a",
        "IPY_MODEL_5903a65263fe4ab7b42e3ec4e1f55c2d",
        "IPY_MODEL_8dc3de0d73fc48de96fcc43d69297fca"
       ],
       "layout": "IPY_MODEL_d15a5c4d9a204c68854142d77a3fd59f"
      }
     },
     "071a87f9a3f44cddb497ca66c9dcb3b4": {
      "model_module": "@jupyter-widgets/base",
      "model_module_version": "2.0.0",
      "model_name": "LayoutModel",
      "state": {}
     },
     "072b96b368104f9e951c16856af205e7": {
      "model_module": "@jupyter-widgets/controls",
      "model_module_version": "2.0.0",
      "model_name": "HTMLModel",
      "state": {
       "layout": "IPY_MODEL_e581557fb99546ab8589657090550bd9",
       "style": "IPY_MODEL_3d42519c415b41038037293a551091f6",
       "value": "100%"
      }
     },
     "07876eada1ce43b1ae9b83edec29454c": {
      "model_module": "@jupyter-widgets/controls",
      "model_module_version": "2.0.0",
      "model_name": "HTMLModel",
      "state": {
       "layout": "IPY_MODEL_85badb89f5404134933ba278dd081cd1",
       "style": "IPY_MODEL_053e88a3a0ac450389d29af5dd9da55a",
       "value": " 6000/6000 [00:03&lt;00:00, 1550.16it/s]"
      }
     },
     "07d5a127585c4a6bb91f05620eb2e08f": {
      "model_module": "@jupyter-widgets/controls",
      "model_module_version": "2.0.0",
      "model_name": "HTMLModel",
      "state": {
       "layout": "IPY_MODEL_f0946031b3a54da3aac6ffa895d02cdd",
       "style": "IPY_MODEL_e773a1d9aef24925be11d530867fcf3f",
       "value": " 6000/6000 [00:02&lt;00:00, 2399.44it/s]"
      }
     },
     "08a48126f8ec49ed8912e6ad357f3700": {
      "model_module": "@jupyter-widgets/controls",
      "model_module_version": "2.0.0",
      "model_name": "HTMLModel",
      "state": {
       "layout": "IPY_MODEL_77f75a85fbda4b0fbaacfa5b02da6226",
       "style": "IPY_MODEL_56fd5686b4a942159f8b746b671e92f2",
       "value": "  0%"
      }
     },
     "08ad1727a6624567a897320c593ae546": {
      "model_module": "@jupyter-widgets/base",
      "model_module_version": "2.0.0",
      "model_name": "LayoutModel",
      "state": {}
     },
     "08b9b9187e9649baab3ad0437fbb7eb4": {
      "model_module": "@jupyter-widgets/controls",
      "model_module_version": "2.0.0",
      "model_name": "HTMLModel",
      "state": {
       "layout": "IPY_MODEL_eb86badb9caa40c7bb67a7c285868fee",
       "style": "IPY_MODEL_5fb898e298fe4308aed966d34988b96d",
       "value": " 6/6000 [00:00&lt;00:39, 153.05it/s]"
      }
     },
     "08bb886b92e54033a19e62a08ff97cd6": {
      "model_module": "@jupyter-widgets/controls",
      "model_module_version": "2.0.0",
      "model_name": "ProgressStyleModel",
      "state": {
       "description_width": ""
      }
     },
     "093864a5ab134f8e8e25f05719f1ade3": {
      "model_module": "@jupyter-widgets/base",
      "model_module_version": "2.0.0",
      "model_name": "LayoutModel",
      "state": {}
     },
     "09692e83f7e24f0898602e0096a4a482": {
      "model_module": "@jupyter-widgets/controls",
      "model_module_version": "2.0.0",
      "model_name": "FloatProgressModel",
      "state": {
       "bar_style": "danger",
       "layout": "IPY_MODEL_fe8385edd20f4711923461be448dc8d1",
       "max": 6000,
       "style": "IPY_MODEL_d89e4b7e3dca447e84b6999e54a03c80",
       "value": 6
      }
     },
     "09d236d2c2414d5e8f8833fddae74ce2": {
      "model_module": "@jupyter-widgets/controls",
      "model_module_version": "2.0.0",
      "model_name": "FloatProgressModel",
      "state": {
       "bar_style": "danger",
       "layout": "IPY_MODEL_f921c86983894d33832dc37d7437538a",
       "max": 1,
       "style": "IPY_MODEL_774bbd598a974cafbad08af0bbaeeb61",
       "value": 1
      }
     },
     "0a273073a77f4bffb73b7f84595e7a4b": {
      "model_module": "@jupyter-widgets/controls",
      "model_module_version": "2.0.0",
      "model_name": "HTMLModel",
      "state": {
       "layout": "IPY_MODEL_fc4a4e376f0d4312bbfe28d81e99d8bd",
       "style": "IPY_MODEL_dcbb2d6cf8cb443ba480fca71ee9fdfb",
       "value": "100%"
      }
     },
     "0a8ac29bab2d42f0a32b527ba6a98213": {
      "model_module": "@jupyter-widgets/base",
      "model_module_version": "2.0.0",
      "model_name": "LayoutModel",
      "state": {}
     },
     "0b21b575187249adb5cd082a73ee206d": {
      "model_module": "@jupyter-widgets/controls",
      "model_module_version": "2.0.0",
      "model_name": "HBoxModel",
      "state": {
       "children": [
        "IPY_MODEL_787371b32e5941f99d55c7f193256a7a",
        "IPY_MODEL_452333f29ad041de83071ba09eee571e",
        "IPY_MODEL_60a83b3161c14fa7a9343144e14136a4"
       ],
       "layout": "IPY_MODEL_800c58aa93e44c52beb37dbfd164b04a"
      }
     },
     "0b5ac4b759b94276b3e57f52fb393263": {
      "model_module": "@jupyter-widgets/controls",
      "model_module_version": "2.0.0",
      "model_name": "ProgressStyleModel",
      "state": {
       "description_width": ""
      }
     },
     "0b891f9966d044039ae994d27abfe9b7": {
      "model_module": "@jupyter-widgets/controls",
      "model_module_version": "2.0.0",
      "model_name": "HBoxModel",
      "state": {
       "children": [
        "IPY_MODEL_1bfbe6e034c245d8bb6973385ce6cffb",
        "IPY_MODEL_c9749541226d49c398ea15e795f7e45d",
        "IPY_MODEL_150e1372d12b4610b2930b3d912d2a80"
       ],
       "layout": "IPY_MODEL_380cd1cebed747f9859e5a17d0635ca1"
      }
     },
     "0c0e73398ba74d3ea270f6f9b13d9995": {
      "model_module": "@jupyter-widgets/controls",
      "model_module_version": "2.0.0",
      "model_name": "FloatProgressModel",
      "state": {
       "bar_style": "danger",
       "layout": "IPY_MODEL_d793bf3167d14c18ba07918e7bf78fe8",
       "max": 6000,
       "style": "IPY_MODEL_463fb946d1314aa9965b11f70ba71970",
       "value": 6
      }
     },
     "0c1b9e5b8b194e96b5ba72511c78cee4": {
      "model_module": "@jupyter-widgets/base",
      "model_module_version": "2.0.0",
      "model_name": "LayoutModel",
      "state": {}
     },
     "0c2ee403b7cc4e7f84de722d8f59d9f0": {
      "model_module": "@jupyter-widgets/base",
      "model_module_version": "2.0.0",
      "model_name": "LayoutModel",
      "state": {}
     },
     "0c4521caf53c4f319d98d93a67c1f09e": {
      "model_module": "@jupyter-widgets/controls",
      "model_module_version": "2.0.0",
      "model_name": "HTMLStyleModel",
      "state": {
       "description_width": "",
       "font_size": null,
       "text_color": null
      }
     },
     "0c7c1bb2b77b49e6a821e9b827e2f5bc": {
      "model_module": "@jupyter-widgets/controls",
      "model_module_version": "2.0.0",
      "model_name": "HTMLStyleModel",
      "state": {
       "description_width": "",
       "font_size": null,
       "text_color": null
      }
     },
     "0cc6e5d9c0ff435fbfebd778762326a0": {
      "model_module": "@jupyter-widgets/base",
      "model_module_version": "2.0.0",
      "model_name": "LayoutModel",
      "state": {}
     },
     "0dbfa68b61dc4e2a81ed54620bdefb72": {
      "model_module": "@jupyter-widgets/controls",
      "model_module_version": "2.0.0",
      "model_name": "ProgressStyleModel",
      "state": {
       "description_width": ""
      }
     },
     "0dc4414f2e534ba1a09bbcc933c525af": {
      "model_module": "@jupyter-widgets/controls",
      "model_module_version": "2.0.0",
      "model_name": "HTMLStyleModel",
      "state": {
       "description_width": "",
       "font_size": null,
       "text_color": null
      }
     },
     "0ddb0dea991d4087b079bb420add3e36": {
      "model_module": "@jupyter-widgets/controls",
      "model_module_version": "2.0.0",
      "model_name": "HTMLModel",
      "state": {
       "layout": "IPY_MODEL_1b70405aae1b4e1697e849f2afc1a172",
       "style": "IPY_MODEL_82f5745f4a1e48eca9fa33f25df64f97",
       "value": " 6000/6000 [00:02&lt;00:00, 2180.00it/s]"
      }
     },
     "0e9bc8ff7b7c444ab75d4da120623c63": {
      "model_module": "@jupyter-widgets/controls",
      "model_module_version": "2.0.0",
      "model_name": "HBoxModel",
      "state": {
       "children": [
        "IPY_MODEL_08a48126f8ec49ed8912e6ad357f3700",
        "IPY_MODEL_6e0956dd63484e1a853d2a8ba345057b",
        "IPY_MODEL_d2e5c37bedf9467bb8fbcb300192270b"
       ],
       "layout": "IPY_MODEL_7e4f79cbd5634dbc9948db06c69a1903"
      }
     },
     "0efd91b7206d4839a1dc99f3508fedc8": {
      "model_module": "@jupyter-widgets/base",
      "model_module_version": "2.0.0",
      "model_name": "LayoutModel",
      "state": {}
     },
     "0fbae9ee0c9a4d04997539aee2339c2d": {
      "model_module": "@jupyter-widgets/base",
      "model_module_version": "2.0.0",
      "model_name": "LayoutModel",
      "state": {}
     },
     "0fdd3c347e6e4b669180ee75eb09fb43": {
      "model_module": "@jupyter-widgets/base",
      "model_module_version": "2.0.0",
      "model_name": "LayoutModel",
      "state": {}
     },
     "108bee642bed40b8aa790ff98e03ae3d": {
      "model_module": "@jupyter-widgets/controls",
      "model_module_version": "2.0.0",
      "model_name": "HTMLStyleModel",
      "state": {
       "description_width": "",
       "font_size": null,
       "text_color": null
      }
     },
     "10a792f9db284a6995306dfcee5f7050": {
      "model_module": "@jupyter-widgets/base",
      "model_module_version": "2.0.0",
      "model_name": "LayoutModel",
      "state": {}
     },
     "10b5b52f7ca647218f9b3592d2443914": {
      "model_module": "@jupyter-widgets/controls",
      "model_module_version": "2.0.0",
      "model_name": "HTMLStyleModel",
      "state": {
       "description_width": "",
       "font_size": null,
       "text_color": null
      }
     },
     "10df9a5905864ee5b44f0996cb1772df": {
      "model_module": "@jupyter-widgets/controls",
      "model_module_version": "2.0.0",
      "model_name": "HTMLStyleModel",
      "state": {
       "description_width": "",
       "font_size": null,
       "text_color": null
      }
     },
     "10fb4f89cd6445488867d8dde40a130b": {
      "model_module": "@jupyter-widgets/base",
      "model_module_version": "2.0.0",
      "model_name": "LayoutModel",
      "state": {}
     },
     "11029e3a011846ce9f20a91dddee1f59": {
      "model_module": "@jupyter-widgets/controls",
      "model_module_version": "2.0.0",
      "model_name": "HTMLStyleModel",
      "state": {
       "description_width": "",
       "font_size": null,
       "text_color": null
      }
     },
     "110bb1955446406f9fc351a04e418ccd": {
      "model_module": "@jupyter-widgets/controls",
      "model_module_version": "2.0.0",
      "model_name": "HTMLModel",
      "state": {
       "layout": "IPY_MODEL_2379bac7e450464aa48477636e1c3b2f",
       "style": "IPY_MODEL_4a8303e5c1ef457996aade26cb3b1bc4",
       "value": " 6000/? [00:02&lt;00:00, 2076.10it/s]"
      }
     },
     "11e760e5661949c995d16ed3e4fa44d2": {
      "model_module": "@jupyter-widgets/controls",
      "model_module_version": "2.0.0",
      "model_name": "ProgressStyleModel",
      "state": {
       "description_width": ""
      }
     },
     "11fea91bd7894223b0f6d920f895f99f": {
      "model_module": "@jupyter-widgets/controls",
      "model_module_version": "2.0.0",
      "model_name": "HTMLModel",
      "state": {
       "layout": "IPY_MODEL_0cc6e5d9c0ff435fbfebd778762326a0",
       "style": "IPY_MODEL_2c6730faf50d46df9521750ee9ccb38a",
       "value": "  0%"
      }
     },
     "1248a186c7d0434691db72b3c48b3eb0": {
      "model_module": "@jupyter-widgets/base",
      "model_module_version": "2.0.0",
      "model_name": "LayoutModel",
      "state": {}
     },
     "1271486fdbf94ea1bf75fb3edb611206": {
      "model_module": "@jupyter-widgets/controls",
      "model_module_version": "2.0.0",
      "model_name": "ProgressStyleModel",
      "state": {
       "description_width": ""
      }
     },
     "128863671b364a5fbfd5d4c1818b701d": {
      "model_module": "@jupyter-widgets/controls",
      "model_module_version": "2.0.0",
      "model_name": "ProgressStyleModel",
      "state": {
       "description_width": ""
      }
     },
     "128982cd2907453fbd8c0685d0ad2b1e": {
      "model_module": "@jupyter-widgets/controls",
      "model_module_version": "2.0.0",
      "model_name": "HTMLModel",
      "state": {
       "layout": "IPY_MODEL_12b92026c658493bb4b6f173ee7ebb2f",
       "style": "IPY_MODEL_29d2bdeabfdd4c729a440b1224548658",
       "value": " 6000/6000 [00:06&lt;00:00, 1008.28it/s]"
      }
     },
     "12b92026c658493bb4b6f173ee7ebb2f": {
      "model_module": "@jupyter-widgets/base",
      "model_module_version": "2.0.0",
      "model_name": "LayoutModel",
      "state": {}
     },
     "12e77db32776430a96e53c3801f665d0": {
      "model_module": "@jupyter-widgets/controls",
      "model_module_version": "2.0.0",
      "model_name": "HTMLModel",
      "state": {
       "layout": "IPY_MODEL_738ef12d720b41d1b78ced6f7fd82e26",
       "style": "IPY_MODEL_5633f88e72b44363a8f06dede88a5088",
       "value": " 6/6000 [00:00&lt;00:48, 122.49it/s]"
      }
     },
     "1303522e11344830b3a45b43b886f1f7": {
      "model_module": "@jupyter-widgets/controls",
      "model_module_version": "2.0.0",
      "model_name": "FloatProgressModel",
      "state": {
       "bar_style": "success",
       "layout": "IPY_MODEL_dab96a64b0844b6380dd70c74b8a104c",
       "max": 1,
       "style": "IPY_MODEL_eae25260fc604fc4a2b024c862b64194",
       "value": 1
      }
     },
     "131b3e1736724e07848be065de04640e": {
      "model_module": "@jupyter-widgets/controls",
      "model_module_version": "2.0.0",
      "model_name": "HBoxModel",
      "state": {
       "children": [
        "IPY_MODEL_e6537711c93049ec8f616e078d2d8e64",
        "IPY_MODEL_42cd08dfea73428ab2ad727c28a65680",
        "IPY_MODEL_724ce7296c21480f860913f5130d6880"
       ],
       "layout": "IPY_MODEL_e146e4314be34adcac2eb270f0049a6f"
      }
     },
     "132689e2e2304a6abf16a3c4c1b74778": {
      "model_module": "@jupyter-widgets/controls",
      "model_module_version": "2.0.0",
      "model_name": "FloatProgressModel",
      "state": {
       "bar_style": "success",
       "layout": "IPY_MODEL_4b64b7d38b914530b4123244be58bb91",
       "max": 1,
       "style": "IPY_MODEL_d69d7c264ac14e93bc668137188c9c82",
       "value": 1
      }
     },
     "1328dc5f0a6d472aba47cb3cd61d453f": {
      "model_module": "@jupyter-widgets/controls",
      "model_module_version": "2.0.0",
      "model_name": "FloatProgressModel",
      "state": {
       "bar_style": "success",
       "layout": "IPY_MODEL_32642577d7e943808d338e851403a08c",
       "max": 1,
       "style": "IPY_MODEL_411b61eac379444a8912143c3042f789",
       "value": 1
      }
     },
     "13b5980c095d4ecdafa853e1a384683c": {
      "model_module": "@jupyter-widgets/controls",
      "model_module_version": "2.0.0",
      "model_name": "HBoxModel",
      "state": {
       "children": [
        "IPY_MODEL_582269e29aae4804b5c311c82093585c",
        "IPY_MODEL_d15e5c043a6c492f869bd790cb6ee341",
        "IPY_MODEL_97a3f6435a704f0da54a6d04a0b847b4"
       ],
       "layout": "IPY_MODEL_f72bcf37f9c34682b80fa4589caa6525"
      }
     },
     "1404bc3357ca477bbc1390ddb2fa7f86": {
      "model_module": "@jupyter-widgets/controls",
      "model_module_version": "2.0.0",
      "model_name": "HTMLStyleModel",
      "state": {
       "description_width": "",
       "font_size": null,
       "text_color": null
      }
     },
     "14577168f13f4e75a5319ce4dbdb41a6": {
      "model_module": "@jupyter-widgets/controls",
      "model_module_version": "2.0.0",
      "model_name": "HBoxModel",
      "state": {
       "children": [
        "IPY_MODEL_50dcd55d908b43ef8dca503f7ca454e0",
        "IPY_MODEL_1328dc5f0a6d472aba47cb3cd61d453f",
        "IPY_MODEL_da42f59e43014b68aa6d48e0c4a8d715"
       ],
       "layout": "IPY_MODEL_7a582e9099764bb1bedf8afa2246048a"
      }
     },
     "1458f9183497436b82f6edb92f64ee09": {
      "model_module": "@jupyter-widgets/base",
      "model_module_version": "2.0.0",
      "model_name": "LayoutModel",
      "state": {}
     },
     "1465e96d07984e5dbe7ef61213a5f06d": {
      "model_module": "@jupyter-widgets/controls",
      "model_module_version": "2.0.0",
      "model_name": "HTMLModel",
      "state": {
       "layout": "IPY_MODEL_b63697fbb70042ec85828e27088a9841",
       "style": "IPY_MODEL_2f0b6663af4e437baae4ab0d44bc2f17",
       "value": "  0%"
      }
     },
     "150e1372d12b4610b2930b3d912d2a80": {
      "model_module": "@jupyter-widgets/controls",
      "model_module_version": "2.0.0",
      "model_name": "HTMLModel",
      "state": {
       "layout": "IPY_MODEL_50ab19d095744b419bd8deda77e92541",
       "style": "IPY_MODEL_1ebb94742a994dffaf068735ccfe2ac7",
       "value": " 0/6000 [00:00&lt;?, ?it/s]"
      }
     },
     "15751b0bbed5443eb9b5eb2f38b6b332": {
      "model_module": "@jupyter-widgets/controls",
      "model_module_version": "2.0.0",
      "model_name": "ProgressStyleModel",
      "state": {
       "description_width": ""
      }
     },
     "1595c65d970a4b8dac0a46d41fa3e28c": {
      "model_module": "@jupyter-widgets/controls",
      "model_module_version": "2.0.0",
      "model_name": "HTMLStyleModel",
      "state": {
       "description_width": "",
       "font_size": null,
       "text_color": null
      }
     },
     "15ffb0de8f6d42529a1945f5582c52cd": {
      "model_module": "@jupyter-widgets/base",
      "model_module_version": "2.0.0",
      "model_name": "LayoutModel",
      "state": {}
     },
     "1628a869b0424e8bb2154feabe0972ca": {
      "model_module": "@jupyter-widgets/controls",
      "model_module_version": "2.0.0",
      "model_name": "ProgressStyleModel",
      "state": {
       "description_width": ""
      }
     },
     "16bd9ed005234f96938cb060d742c80f": {
      "model_module": "@jupyter-widgets/controls",
      "model_module_version": "2.0.0",
      "model_name": "HTMLModel",
      "state": {
       "layout": "IPY_MODEL_6066edbf2db147f0ad1f13662b4be89a",
       "style": "IPY_MODEL_1e9bdd35d8284a66bf77b0d6e350d6c6",
       "value": " 6000/6000 [00:04&lt;00:00, 1392.05it/s]"
      }
     },
     "16d65cc3e88841249748cf94e0ea7897": {
      "model_module": "@jupyter-widgets/controls",
      "model_module_version": "2.0.0",
      "model_name": "HTMLStyleModel",
      "state": {
       "description_width": "",
       "font_size": null,
       "text_color": null
      }
     },
     "16f9b00fa5d847afaab06a659db2b224": {
      "model_module": "@jupyter-widgets/base",
      "model_module_version": "2.0.0",
      "model_name": "LayoutModel",
      "state": {}
     },
     "1756f8896aa546619a5d010a31e7eb1a": {
      "model_module": "@jupyter-widgets/controls",
      "model_module_version": "2.0.0",
      "model_name": "HTMLModel",
      "state": {
       "layout": "IPY_MODEL_a8d165f8e5d14f9dafe3c4144a123c17",
       "style": "IPY_MODEL_fb7963a73aed4afd9f4da5fdc788788d",
       "value": " 6/6000 [00:00&lt;00:47, 126.62it/s]"
      }
     },
     "1772a801e5a8476eb741fe0304322d39": {
      "model_module": "@jupyter-widgets/base",
      "model_module_version": "2.0.0",
      "model_name": "LayoutModel",
      "state": {}
     },
     "17923e6bdfff44ec90c84557b1616d5e": {
      "model_module": "@jupyter-widgets/base",
      "model_module_version": "2.0.0",
      "model_name": "LayoutModel",
      "state": {}
     },
     "17abea1dd16446a69716b3665c47e3ee": {
      "model_module": "@jupyter-widgets/base",
      "model_module_version": "2.0.0",
      "model_name": "LayoutModel",
      "state": {}
     },
     "17c965f36f124430ac53ee9e6157f109": {
      "model_module": "@jupyter-widgets/base",
      "model_module_version": "2.0.0",
      "model_name": "LayoutModel",
      "state": {}
     },
     "180f6723465c46e4b5f9df4d849bb69e": {
      "model_module": "@jupyter-widgets/controls",
      "model_module_version": "2.0.0",
      "model_name": "HTMLModel",
      "state": {
       "layout": "IPY_MODEL_caf5e3d76d16485d8978e269ee647da6",
       "style": "IPY_MODEL_4a11ae003dda45ffab07b6edf010decd",
       "value": " 6000/6000 [00:02&lt;00:00, 2480.53it/s]"
      }
     },
     "1871a4106ed34df583c9eb10a2d930a0": {
      "model_module": "@jupyter-widgets/controls",
      "model_module_version": "2.0.0",
      "model_name": "HTMLStyleModel",
      "state": {
       "description_width": "",
       "font_size": null,
       "text_color": null
      }
     },
     "18893f829fa441f98fc2e765e7762c1d": {
      "model_module": "@jupyter-widgets/controls",
      "model_module_version": "2.0.0",
      "model_name": "HTMLModel",
      "state": {
       "layout": "IPY_MODEL_2b24456a7a2d404b9139ca1eda0053ad",
       "style": "IPY_MODEL_bf00f372477940b6afef74afe75fb6c2",
       "value": "100%"
      }
     },
     "18aa9cb9baa84a3f9f12e1df68e27bf7": {
      "model_module": "@jupyter-widgets/base",
      "model_module_version": "2.0.0",
      "model_name": "LayoutModel",
      "state": {}
     },
     "18aff3bc20e3466b8e374eb709f5e7b8": {
      "model_module": "@jupyter-widgets/controls",
      "model_module_version": "2.0.0",
      "model_name": "FloatProgressModel",
      "state": {
       "bar_style": "danger",
       "layout": "IPY_MODEL_3d07c83ea5b04cacbbed649b0c20f754",
       "max": 1,
       "style": "IPY_MODEL_1b5359d90619453abe9c9cbd2f6e7a04"
      }
     },
     "190dab5808bb4a088be7bbc3ef764e51": {
      "model_module": "@jupyter-widgets/controls",
      "model_module_version": "2.0.0",
      "model_name": "HTMLModel",
      "state": {
       "layout": "IPY_MODEL_0efd91b7206d4839a1dc99f3508fedc8",
       "style": "IPY_MODEL_f3d0cc09b80a492d81f19b683acce6e4",
       "value": " 6000/6000 [00:04&lt;00:00, 1344.29it/s]"
      }
     },
     "1916277cf2ec46348046251ce8c3ec40": {
      "model_module": "@jupyter-widgets/controls",
      "model_module_version": "2.0.0",
      "model_name": "HBoxModel",
      "state": {
       "children": [
        "IPY_MODEL_62f7542feb6f4daa803d1765cd9ef3f6",
        "IPY_MODEL_2ae5000c298c4672ab4133d2fc5c0c3a",
        "IPY_MODEL_a6cd2f5e1c30463bb75eeb2a2fdd94fe"
       ],
       "layout": "IPY_MODEL_8e1e5521b06d425b916050bb70c3b8b8"
      }
     },
     "19183b1ca9044083a735d4f0d9c8172c": {
      "model_module": "@jupyter-widgets/controls",
      "model_module_version": "2.0.0",
      "model_name": "HTMLModel",
      "state": {
       "layout": "IPY_MODEL_f7f16f19ae36442fb55bce306b691d24",
       "style": "IPY_MODEL_e8e82ad926ac457fb73c7f765b84462b",
       "value": " 0/5400 [00:00&lt;?, ?it/s]"
      }
     },
     "19b7ed95c3e54bdb8330f85996ca76e8": {
      "model_module": "@jupyter-widgets/controls",
      "model_module_version": "2.0.0",
      "model_name": "HTMLStyleModel",
      "state": {
       "description_width": "",
       "font_size": null,
       "text_color": null
      }
     },
     "1a126807ee0744178d6cf68b45272db0": {
      "model_module": "@jupyter-widgets/controls",
      "model_module_version": "2.0.0",
      "model_name": "HTMLModel",
      "state": {
       "layout": "IPY_MODEL_6472f44a286844929b5648c79c197a8e",
       "style": "IPY_MODEL_d70157f9324d4ed8a58ba5206927bafc",
       "value": "100%"
      }
     },
     "1a1a261d2df74ac0b539931b23db6fd9": {
      "model_module": "@jupyter-widgets/controls",
      "model_module_version": "2.0.0",
      "model_name": "HTMLModel",
      "state": {
       "layout": "IPY_MODEL_34fcb3e94ddf43ab80026b84259ec67d",
       "style": "IPY_MODEL_b327b2de7e944227a88ca07fe6f61461",
       "value": " 6/6000 [00:00&lt;00:36, 162.17it/s]"
      }
     },
     "1a7f12a61c744dedbbdaf15ff76c6995": {
      "model_module": "@jupyter-widgets/controls",
      "model_module_version": "2.0.0",
      "model_name": "FloatProgressModel",
      "state": {
       "bar_style": "success",
       "layout": "IPY_MODEL_8abc57c41a554c7ab5ed1bb389b263da",
       "max": 6000,
       "style": "IPY_MODEL_8eb336b222d64774949f17ec3d10b74f",
       "value": 6000
      }
     },
     "1ac2ff59f54f4a28b162f20cd5cd8669": {
      "model_module": "@jupyter-widgets/base",
      "model_module_version": "2.0.0",
      "model_name": "LayoutModel",
      "state": {}
     },
     "1b056fc62b9a4d0bbdbd764c9ccda2b3": {
      "model_module": "@jupyter-widgets/controls",
      "model_module_version": "2.0.0",
      "model_name": "HTMLModel",
      "state": {
       "layout": "IPY_MODEL_1c0263278cbe40afa3f03e561a531a65",
       "style": "IPY_MODEL_9a57b6b7d11a47029502af02080c90ee",
       "value": " 6000/6000 [00:02&lt;00:00, 2404.92it/s]"
      }
     },
     "1b3d451d8c86496bb247bd2c0fc3c8ae": {
      "model_module": "@jupyter-widgets/controls",
      "model_module_version": "2.0.0",
      "model_name": "HTMLModel",
      "state": {
       "layout": "IPY_MODEL_0fdd3c347e6e4b669180ee75eb09fb43",
       "style": "IPY_MODEL_aadd4672674c4e0cb03947f06d5a5c92",
       "value": "100%"
      }
     },
     "1b5359d90619453abe9c9cbd2f6e7a04": {
      "model_module": "@jupyter-widgets/controls",
      "model_module_version": "2.0.0",
      "model_name": "ProgressStyleModel",
      "state": {
       "description_width": ""
      }
     },
     "1b6534346e02435e92c1d068057ec8d8": {
      "model_module": "@jupyter-widgets/base",
      "model_module_version": "2.0.0",
      "model_name": "LayoutModel",
      "state": {
       "width": "20px"
      }
     },
     "1b70405aae1b4e1697e849f2afc1a172": {
      "model_module": "@jupyter-widgets/base",
      "model_module_version": "2.0.0",
      "model_name": "LayoutModel",
      "state": {}
     },
     "1bf0926b6e034672873716c217807b65": {
      "model_module": "@jupyter-widgets/base",
      "model_module_version": "2.0.0",
      "model_name": "LayoutModel",
      "state": {}
     },
     "1bfbe6e034c245d8bb6973385ce6cffb": {
      "model_module": "@jupyter-widgets/controls",
      "model_module_version": "2.0.0",
      "model_name": "HTMLModel",
      "state": {
       "layout": "IPY_MODEL_2a45bce704294904bb9902bc4a467a27",
       "style": "IPY_MODEL_439ac75692944ba2b836c09e8bc7c2ac",
       "value": "  0%"
      }
     },
     "1c0263278cbe40afa3f03e561a531a65": {
      "model_module": "@jupyter-widgets/base",
      "model_module_version": "2.0.0",
      "model_name": "LayoutModel",
      "state": {}
     },
     "1c2bd4af6b6244a0b765f08e63e8d507": {
      "model_module": "@jupyter-widgets/controls",
      "model_module_version": "2.0.0",
      "model_name": "HBoxModel",
      "state": {
       "children": [
        "IPY_MODEL_45b99f19e4df44958aaa16aecb2b6377",
        "IPY_MODEL_18aff3bc20e3466b8e374eb709f5e7b8",
        "IPY_MODEL_e54abddba0cb403c92032ad6cc0dfca5"
       ],
       "layout": "IPY_MODEL_be7ed3223b1941fba20941f0dfcb588e"
      }
     },
     "1c417ff48efc43eba84e3bac13d5cca7": {
      "model_module": "@jupyter-widgets/controls",
      "model_module_version": "2.0.0",
      "model_name": "HBoxModel",
      "state": {
       "children": [
        "IPY_MODEL_ebb9db375fab4e73abb811930a42327b",
        "IPY_MODEL_c3e37dbd47964e3d8278ea71f08994a5",
        "IPY_MODEL_110bb1955446406f9fc351a04e418ccd"
       ],
       "layout": "IPY_MODEL_1772a801e5a8476eb741fe0304322d39"
      }
     },
     "1c4bb954a0e34497bcd269a1ed5f1beb": {
      "model_module": "@jupyter-widgets/controls",
      "model_module_version": "2.0.0",
      "model_name": "HTMLModel",
      "state": {
       "layout": "IPY_MODEL_270ae2c113b9460d89fad44b25e29f36",
       "style": "IPY_MODEL_3f66a011e0044a4685d54dad008d500e",
       "value": " 6/6000 [00:00&lt;00:36, 166.47it/s]"
      }
     },
     "1cb6291a5ed944709f62d2b2b7d1654b": {
      "model_module": "@jupyter-widgets/base",
      "model_module_version": "2.0.0",
      "model_name": "LayoutModel",
      "state": {}
     },
     "1cd5676f54854b06bfd65012349513e3": {
      "model_module": "@jupyter-widgets/controls",
      "model_module_version": "2.0.0",
      "model_name": "HTMLModel",
      "state": {
       "layout": "IPY_MODEL_57e71148e0d240bdb2b7ba1194036916",
       "style": "IPY_MODEL_01f1e1121815455ca3383922d41cc148",
       "value": " 6000/? [00:02&lt;00:00, 2083.89it/s]"
      }
     },
     "1d34f0ae04a04b8cbb1b838b676a3637": {
      "model_module": "@jupyter-widgets/controls",
      "model_module_version": "2.0.0",
      "model_name": "HTMLStyleModel",
      "state": {
       "description_width": "",
       "font_size": null,
       "text_color": null
      }
     },
     "1da715b7f4f942cab1447a940ddb1a0c": {
      "model_module": "@jupyter-widgets/controls",
      "model_module_version": "2.0.0",
      "model_name": "HBoxModel",
      "state": {
       "children": [
        "IPY_MODEL_945e2b4b1659459e9841308a82661c0a",
        "IPY_MODEL_c263bf42436d477d8a870b08c64a8142",
        "IPY_MODEL_dddd757074404cf68ea236bb46650843"
       ],
       "layout": "IPY_MODEL_062bd6457e7944c59c1f7ea455172b0a"
      }
     },
     "1dd5f3b90a904b03881c667c5e9777b3": {
      "model_module": "@jupyter-widgets/controls",
      "model_module_version": "2.0.0",
      "model_name": "ProgressStyleModel",
      "state": {
       "description_width": ""
      }
     },
     "1de6f28b60e648a4b663d2e53fe947ba": {
      "model_module": "@jupyter-widgets/base",
      "model_module_version": "2.0.0",
      "model_name": "LayoutModel",
      "state": {}
     },
     "1e07a173dd804edab4e895284ba3eec8": {
      "model_module": "@jupyter-widgets/base",
      "model_module_version": "2.0.0",
      "model_name": "LayoutModel",
      "state": {}
     },
     "1e89aa9e22554bce963748bcc4e4e310": {
      "model_module": "@jupyter-widgets/base",
      "model_module_version": "2.0.0",
      "model_name": "LayoutModel",
      "state": {}
     },
     "1e9bdd35d8284a66bf77b0d6e350d6c6": {
      "model_module": "@jupyter-widgets/controls",
      "model_module_version": "2.0.0",
      "model_name": "HTMLStyleModel",
      "state": {
       "description_width": "",
       "font_size": null,
       "text_color": null
      }
     },
     "1ebb94742a994dffaf068735ccfe2ac7": {
      "model_module": "@jupyter-widgets/controls",
      "model_module_version": "2.0.0",
      "model_name": "HTMLStyleModel",
      "state": {
       "description_width": "",
       "font_size": null,
       "text_color": null
      }
     },
     "1f3499bd9f2849aabef69168bf7c1192": {
      "model_module": "@jupyter-widgets/controls",
      "model_module_version": "2.0.0",
      "model_name": "ProgressStyleModel",
      "state": {
       "description_width": ""
      }
     },
     "1f392b81369b43f084e8e297d387dcab": {
      "model_module": "@jupyter-widgets/base",
      "model_module_version": "2.0.0",
      "model_name": "LayoutModel",
      "state": {}
     },
     "1f5b4a3d883440a1826a04b75ef0f50f": {
      "model_module": "@jupyter-widgets/base",
      "model_module_version": "2.0.0",
      "model_name": "LayoutModel",
      "state": {}
     },
     "1f68c66ca4b44bec9863fa17233fa0d9": {
      "model_module": "@jupyter-widgets/controls",
      "model_module_version": "2.0.0",
      "model_name": "HBoxModel",
      "state": {
       "children": [
        "IPY_MODEL_e0586c7977da4f8496939a33639b4609",
        "IPY_MODEL_99b4375e0cac46b4881e009bdb484d32",
        "IPY_MODEL_e0889070b4ed42019aeafbb433e6c3e4"
       ],
       "layout": "IPY_MODEL_21d34574deec414cb8576f755fc9f16c"
      }
     },
     "1f9b84733e984f20a54a448d6b43ec6c": {
      "model_module": "@jupyter-widgets/controls",
      "model_module_version": "2.0.0",
      "model_name": "ProgressStyleModel",
      "state": {
       "description_width": ""
      }
     },
     "1fb133546faa42778957aae7022689d6": {
      "model_module": "@jupyter-widgets/controls",
      "model_module_version": "2.0.0",
      "model_name": "ProgressStyleModel",
      "state": {
       "description_width": ""
      }
     },
     "1fc6c02d3add40ef8c08013d53af6849": {
      "model_module": "@jupyter-widgets/base",
      "model_module_version": "2.0.0",
      "model_name": "LayoutModel",
      "state": {}
     },
     "1ff9d4261e4c4c3bbaa269ac4f044f98": {
      "model_module": "@jupyter-widgets/base",
      "model_module_version": "2.0.0",
      "model_name": "LayoutModel",
      "state": {}
     },
     "200dd322447646fa989219f578a558fe": {
      "model_module": "@jupyter-widgets/controls",
      "model_module_version": "2.0.0",
      "model_name": "FloatProgressModel",
      "state": {
       "bar_style": "danger",
       "layout": "IPY_MODEL_a7e8300d3d904e06b09f8f07b36397c7",
       "max": 1,
       "style": "IPY_MODEL_046e11c83d2349e1abff6cd889ec776d",
       "value": 1
      }
     },
     "2038629778dd4396b233abf5f10c5be9": {
      "model_module": "@jupyter-widgets/controls",
      "model_module_version": "2.0.0",
      "model_name": "HTMLStyleModel",
      "state": {
       "description_width": "",
       "font_size": null,
       "text_color": null
      }
     },
     "203f661f98d4463c9332f0a7168a966b": {
      "model_module": "@jupyter-widgets/controls",
      "model_module_version": "2.0.0",
      "model_name": "ProgressStyleModel",
      "state": {
       "description_width": ""
      }
     },
     "2067f6ea658d4ae1b4be3db8b9eb9d11": {
      "model_module": "@jupyter-widgets/controls",
      "model_module_version": "2.0.0",
      "model_name": "HTMLStyleModel",
      "state": {
       "description_width": "",
       "font_size": null,
       "text_color": null
      }
     },
     "20943bc4fd32422daad905ba7877ef1d": {
      "model_module": "@jupyter-widgets/controls",
      "model_module_version": "2.0.0",
      "model_name": "HTMLModel",
      "state": {
       "layout": "IPY_MODEL_92c11f4c51a14a7b948db978537f121d",
       "style": "IPY_MODEL_b30466558ef242a3b8fdffcfcfb7579b"
      }
     },
     "20a6cb3e34794be891c2b13e6968a840": {
      "model_module": "@jupyter-widgets/controls",
      "model_module_version": "2.0.0",
      "model_name": "HBoxModel",
      "state": {
       "children": [
        "IPY_MODEL_ae48421aeb9645f3b782d99fc56de8fb",
        "IPY_MODEL_3cba805ce95b4eef8b45781be6ffd626",
        "IPY_MODEL_16bd9ed005234f96938cb060d742c80f"
       ],
       "layout": "IPY_MODEL_81951bf9170741849b3167df3fe4e06f"
      }
     },
     "2130b65ed3bd4990ac809fd89ec26d5c": {
      "model_module": "@jupyter-widgets/base",
      "model_module_version": "2.0.0",
      "model_name": "LayoutModel",
      "state": {}
     },
     "218199af1e9d4dc083f45d327b58a289": {
      "model_module": "@jupyter-widgets/controls",
      "model_module_version": "2.0.0",
      "model_name": "HTMLStyleModel",
      "state": {
       "description_width": "",
       "font_size": null,
       "text_color": null
      }
     },
     "2187e7c3af5b4948823a3935c9587793": {
      "model_module": "@jupyter-widgets/controls",
      "model_module_version": "2.0.0",
      "model_name": "HBoxModel",
      "state": {
       "children": [
        "IPY_MODEL_18893f829fa441f98fc2e765e7762c1d",
        "IPY_MODEL_f653e29b15f141e59f1c4ee43e741039",
        "IPY_MODEL_c19b8fa790834a279d132296a46e2d45"
       ],
       "layout": "IPY_MODEL_9fd0778fe0a4407ba6722452c421b454"
      }
     },
     "21b231863f1e4a1c8ddaae241d069a6f": {
      "model_module": "@jupyter-widgets/controls",
      "model_module_version": "2.0.0",
      "model_name": "ProgressStyleModel",
      "state": {
       "description_width": ""
      }
     },
     "21c97032f3a843baa531273f8b60c4a1": {
      "model_module": "@jupyter-widgets/controls",
      "model_module_version": "2.0.0",
      "model_name": "HTMLStyleModel",
      "state": {
       "description_width": "",
       "font_size": null,
       "text_color": null
      }
     },
     "21d34574deec414cb8576f755fc9f16c": {
      "model_module": "@jupyter-widgets/base",
      "model_module_version": "2.0.0",
      "model_name": "LayoutModel",
      "state": {}
     },
     "22b17978bffc415287651e8ccf44804a": {
      "model_module": "@jupyter-widgets/controls",
      "model_module_version": "2.0.0",
      "model_name": "HBoxModel",
      "state": {
       "children": [
        "IPY_MODEL_d5e7013a9abf4805bb4f40c0b2b0a766",
        "IPY_MODEL_d7505c18fdba4299865402c99a47a6e4",
        "IPY_MODEL_08b9b9187e9649baab3ad0437fbb7eb4"
       ],
       "layout": "IPY_MODEL_4d5dfaa652004b1b9ee1463b9dcbfbb7"
      }
     },
     "22e5c9072f5646868b4ddbadd0d40335": {
      "model_module": "@jupyter-widgets/base",
      "model_module_version": "2.0.0",
      "model_name": "LayoutModel",
      "state": {}
     },
     "22e9d5657cab45958c38ef748fb49bd7": {
      "model_module": "@jupyter-widgets/controls",
      "model_module_version": "2.0.0",
      "model_name": "HTMLStyleModel",
      "state": {
       "description_width": "",
       "font_size": null,
       "text_color": null
      }
     },
     "22f2252f1b2d4f7b849cf8ae54bcf65f": {
      "model_module": "@jupyter-widgets/base",
      "model_module_version": "2.0.0",
      "model_name": "LayoutModel",
      "state": {}
     },
     "230d41c8567b46398d46de25b51d29eb": {
      "model_module": "@jupyter-widgets/controls",
      "model_module_version": "2.0.0",
      "model_name": "HBoxModel",
      "state": {
       "children": [
        "IPY_MODEL_88c79399a7f6448592bb0daf18e15c73",
        "IPY_MODEL_d982fbfa9fa54f6f91363f751921b0c8",
        "IPY_MODEL_ba0ed35dd59149529855a6b0ad9d7421"
       ],
       "layout": "IPY_MODEL_17c965f36f124430ac53ee9e6157f109"
      }
     },
     "23363f0f0d9040c6a2c95843c2fb1045": {
      "model_module": "@jupyter-widgets/base",
      "model_module_version": "2.0.0",
      "model_name": "LayoutModel",
      "state": {}
     },
     "2379bac7e450464aa48477636e1c3b2f": {
      "model_module": "@jupyter-widgets/base",
      "model_module_version": "2.0.0",
      "model_name": "LayoutModel",
      "state": {}
     },
     "23ddbd22f516445583c03cbb1b1b6151": {
      "model_module": "@jupyter-widgets/controls",
      "model_module_version": "2.0.0",
      "model_name": "FloatProgressModel",
      "state": {
       "bar_style": "danger",
       "layout": "IPY_MODEL_3b08a236ae534e11a4926472c78d172b",
       "max": 6000,
       "style": "IPY_MODEL_8964860a7f5d4ef29fae711b3e080a69",
       "value": 6
      }
     },
     "240dcbac986c49fc8fca813af68ffcc5": {
      "model_module": "@jupyter-widgets/controls",
      "model_module_version": "2.0.0",
      "model_name": "HTMLModel",
      "state": {
       "layout": "IPY_MODEL_1cb6291a5ed944709f62d2b2b7d1654b",
       "style": "IPY_MODEL_22e9d5657cab45958c38ef748fb49bd7",
       "value": " 3/? [00:00&lt;00:00, 50.85it/s]"
      }
     },
     "25b134b4d5404aa4acc6058aeee42d68": {
      "model_module": "@jupyter-widgets/controls",
      "model_module_version": "2.0.0",
      "model_name": "HBoxModel",
      "state": {
       "children": [
        "IPY_MODEL_f0992e9a86fc4d609c8ef3e24942f4ad",
        "IPY_MODEL_c4089cbdcfaf4fc180e32c1d03e7e658",
        "IPY_MODEL_acbec097f6e6483bb52c524f482bb564"
       ],
       "layout": "IPY_MODEL_91b0990bdb6f4edf834ac803bf0fc4ad"
      }
     },
     "25b32836bd704d4fada1546dbe293981": {
      "model_module": "@jupyter-widgets/base",
      "model_module_version": "2.0.0",
      "model_name": "LayoutModel",
      "state": {}
     },
     "25d05d2aaa1942b69c1b2d8c2336eda6": {
      "model_module": "@jupyter-widgets/controls",
      "model_module_version": "2.0.0",
      "model_name": "HTMLModel",
      "state": {
       "layout": "IPY_MODEL_15ffb0de8f6d42529a1945f5582c52cd",
       "style": "IPY_MODEL_30bfcb2a422b43408f320bc578d632ad"
      }
     },
     "264f1b8a986049ceb76f701fd0c99b91": {
      "model_module": "@jupyter-widgets/controls",
      "model_module_version": "2.0.0",
      "model_name": "HBoxModel",
      "state": {
       "children": [
        "IPY_MODEL_f43fcfc7fa234d4489094ddbc7129ee6",
        "IPY_MODEL_2c071802c4a049b18983eaa8c607a2ad",
        "IPY_MODEL_07876eada1ce43b1ae9b83edec29454c"
       ],
       "layout": "IPY_MODEL_c9466eb50a694496bdbaa32def12b07f"
      }
     },
     "270ae2c113b9460d89fad44b25e29f36": {
      "model_module": "@jupyter-widgets/base",
      "model_module_version": "2.0.0",
      "model_name": "LayoutModel",
      "state": {}
     },
     "2715603eaeb444dd964d1e9ecb35c82a": {
      "model_module": "@jupyter-widgets/controls",
      "model_module_version": "2.0.0",
      "model_name": "HTMLModel",
      "state": {
       "layout": "IPY_MODEL_2d4baa4ffff34d38a2b15e6a4e4e57c4",
       "style": "IPY_MODEL_cf1b9a2480db4a7c87a009d1ea464cdb",
       "value": " 6/6000 [00:00&lt;00:38, 155.72it/s]"
      }
     },
     "2744adb7bd53462b9b5b1a3cf4a5b3ed": {
      "model_module": "@jupyter-widgets/controls",
      "model_module_version": "2.0.0",
      "model_name": "FloatProgressModel",
      "state": {
       "bar_style": "danger",
       "layout": "IPY_MODEL_dd1388cd9e624d7bbd57801ed6252bfa",
       "max": 6000,
       "style": "IPY_MODEL_203f661f98d4463c9332f0a7168a966b"
      }
     },
     "2744c670547c46119055d8a3c2fbd6f0": {
      "model_module": "@jupyter-widgets/controls",
      "model_module_version": "2.0.0",
      "model_name": "HTMLStyleModel",
      "state": {
       "description_width": "",
       "font_size": null,
       "text_color": null
      }
     },
     "27b0bdef328d4ac7aec8209bbb46fa31": {
      "model_module": "@jupyter-widgets/controls",
      "model_module_version": "2.0.0",
      "model_name": "HBoxModel",
      "state": {
       "children": [
        "IPY_MODEL_25d05d2aaa1942b69c1b2d8c2336eda6",
        "IPY_MODEL_abc5987c777f4a4f9084ea819b4d1571",
        "IPY_MODEL_fdee445cf8664d01983824d3fcb0672d"
       ],
       "layout": "IPY_MODEL_882dd31778104a98bcbad3562c12f030"
      }
     },
     "27d58cc651c1480392ac3f693c1cb959": {
      "model_module": "@jupyter-widgets/controls",
      "model_module_version": "2.0.0",
      "model_name": "HBoxModel",
      "state": {
       "children": [
        "IPY_MODEL_54c3897b54ba4ef5918787034806a8a5",
        "IPY_MODEL_55eedf648db1470c81532be023c33199",
        "IPY_MODEL_60c00dd9362b42c2a351da051924910b"
       ],
       "layout": "IPY_MODEL_9e4cec22b51847b0ae676e829ec0d967"
      }
     },
     "28400c65969d482fa80db6accf6fe1b3": {
      "model_module": "@jupyter-widgets/base",
      "model_module_version": "2.0.0",
      "model_name": "LayoutModel",
      "state": {}
     },
     "286322437e374ccaa463a05cd1aea57b": {
      "model_module": "@jupyter-widgets/base",
      "model_module_version": "2.0.0",
      "model_name": "LayoutModel",
      "state": {}
     },
     "2876d29bae9d40bb91026bb51a312737": {
      "model_module": "@jupyter-widgets/controls",
      "model_module_version": "2.0.0",
      "model_name": "HTMLStyleModel",
      "state": {
       "description_width": "",
       "font_size": null,
       "text_color": null
      }
     },
     "28af7c00d6a3485887596ccb17738202": {
      "model_module": "@jupyter-widgets/controls",
      "model_module_version": "2.0.0",
      "model_name": "ProgressStyleModel",
      "state": {
       "description_width": ""
      }
     },
     "29525e03272d40388901fa7cc48c6df4": {
      "model_module": "@jupyter-widgets/base",
      "model_module_version": "2.0.0",
      "model_name": "LayoutModel",
      "state": {}
     },
     "29b805a48bc94c0699a0029cb9be9d95": {
      "model_module": "@jupyter-widgets/controls",
      "model_module_version": "2.0.0",
      "model_name": "HTMLStyleModel",
      "state": {
       "description_width": "",
       "font_size": null,
       "text_color": null
      }
     },
     "29d2bdeabfdd4c729a440b1224548658": {
      "model_module": "@jupyter-widgets/controls",
      "model_module_version": "2.0.0",
      "model_name": "HTMLStyleModel",
      "state": {
       "description_width": "",
       "font_size": null,
       "text_color": null
      }
     },
     "2a285ecd67db4936adf505227b27e768": {
      "model_module": "@jupyter-widgets/base",
      "model_module_version": "2.0.0",
      "model_name": "LayoutModel",
      "state": {}
     },
     "2a45bce704294904bb9902bc4a467a27": {
      "model_module": "@jupyter-widgets/base",
      "model_module_version": "2.0.0",
      "model_name": "LayoutModel",
      "state": {}
     },
     "2a5816f4f87244e8a2811fe34aad39fa": {
      "model_module": "@jupyter-widgets/controls",
      "model_module_version": "2.0.0",
      "model_name": "FloatProgressModel",
      "state": {
       "bar_style": "success",
       "layout": "IPY_MODEL_31790cc8439b462f9d4f89819eaccd43",
       "max": 6000,
       "style": "IPY_MODEL_406fe29615014724a72ef3d588c1f03e",
       "value": 6000
      }
     },
     "2a6640b5aaf04559b95a770328f1d704": {
      "model_module": "@jupyter-widgets/controls",
      "model_module_version": "2.0.0",
      "model_name": "ProgressStyleModel",
      "state": {
       "description_width": ""
      }
     },
     "2aab9afa8a4044fe954aa3b9e9fde319": {
      "model_module": "@jupyter-widgets/controls",
      "model_module_version": "2.0.0",
      "model_name": "HTMLStyleModel",
      "state": {
       "description_width": "",
       "font_size": null,
       "text_color": null
      }
     },
     "2ae5000c298c4672ab4133d2fc5c0c3a": {
      "model_module": "@jupyter-widgets/controls",
      "model_module_version": "2.0.0",
      "model_name": "FloatProgressModel",
      "state": {
       "bar_style": "success",
       "layout": "IPY_MODEL_43d53e9b300347088391013d6910ae0b",
       "max": 1,
       "style": "IPY_MODEL_1271486fdbf94ea1bf75fb3edb611206",
       "value": 1
      }
     },
     "2b0a617dd30649e58f69e8ee9fe2d9a0": {
      "model_module": "@jupyter-widgets/controls",
      "model_module_version": "2.0.0",
      "model_name": "ProgressStyleModel",
      "state": {
       "description_width": ""
      }
     },
     "2b0a6a56cab04170afa8387d94c7d227": {
      "model_module": "@jupyter-widgets/controls",
      "model_module_version": "2.0.0",
      "model_name": "HTMLModel",
      "state": {
       "layout": "IPY_MODEL_b22a295f83904b8dacc7d7d9b6d29123",
       "style": "IPY_MODEL_5d8de68d77c94d2eafb66ae34fc1337c"
      }
     },
     "2b24456a7a2d404b9139ca1eda0053ad": {
      "model_module": "@jupyter-widgets/base",
      "model_module_version": "2.0.0",
      "model_name": "LayoutModel",
      "state": {}
     },
     "2b537069b82c4ad1924930de832264b3": {
      "model_module": "@jupyter-widgets/controls",
      "model_module_version": "2.0.0",
      "model_name": "ProgressStyleModel",
      "state": {
       "description_width": ""
      }
     },
     "2b5966eeb5b64e84badce71ed0a8d26d": {
      "model_module": "@jupyter-widgets/base",
      "model_module_version": "2.0.0",
      "model_name": "LayoutModel",
      "state": {
       "width": "20px"
      }
     },
     "2b86b5a737db411aa11af76c8814de41": {
      "model_module": "@jupyter-widgets/controls",
      "model_module_version": "2.0.0",
      "model_name": "HTMLModel",
      "state": {
       "layout": "IPY_MODEL_0c2ee403b7cc4e7f84de722d8f59d9f0",
       "style": "IPY_MODEL_f7344a70328d4073be03676ff320896d"
      }
     },
     "2bb66a22752042d5bdf666980b10894f": {
      "model_module": "@jupyter-widgets/base",
      "model_module_version": "2.0.0",
      "model_name": "LayoutModel",
      "state": {}
     },
     "2bc5ef41b46145239eda8c0c62d3b8cc": {
      "model_module": "@jupyter-widgets/base",
      "model_module_version": "2.0.0",
      "model_name": "LayoutModel",
      "state": {}
     },
     "2c071802c4a049b18983eaa8c607a2ad": {
      "model_module": "@jupyter-widgets/controls",
      "model_module_version": "2.0.0",
      "model_name": "FloatProgressModel",
      "state": {
       "bar_style": "success",
       "layout": "IPY_MODEL_29525e03272d40388901fa7cc48c6df4",
       "max": 6000,
       "style": "IPY_MODEL_1f3499bd9f2849aabef69168bf7c1192",
       "value": 6000
      }
     },
     "2c5dba7e80d3481ab676016fcac6856e": {
      "model_module": "@jupyter-widgets/controls",
      "model_module_version": "2.0.0",
      "model_name": "HTMLStyleModel",
      "state": {
       "description_width": "",
       "font_size": null,
       "text_color": null
      }
     },
     "2c6730faf50d46df9521750ee9ccb38a": {
      "model_module": "@jupyter-widgets/controls",
      "model_module_version": "2.0.0",
      "model_name": "HTMLStyleModel",
      "state": {
       "description_width": "",
       "font_size": null,
       "text_color": null
      }
     },
     "2cbaf9ca9efd460e972297ef8ea83a19": {
      "model_module": "@jupyter-widgets/controls",
      "model_module_version": "2.0.0",
      "model_name": "HTMLModel",
      "state": {
       "layout": "IPY_MODEL_95ff06bdb7ff4db88ccd33b166850d31",
       "style": "IPY_MODEL_e27112917ef54872b5ced03340dbde09",
       "value": "100%"
      }
     },
     "2d4baa4ffff34d38a2b15e6a4e4e57c4": {
      "model_module": "@jupyter-widgets/base",
      "model_module_version": "2.0.0",
      "model_name": "LayoutModel",
      "state": {}
     },
     "2ea7c2bc741643758d56d1779de43bda": {
      "model_module": "@jupyter-widgets/controls",
      "model_module_version": "2.0.0",
      "model_name": "ProgressStyleModel",
      "state": {
       "description_width": ""
      }
     },
     "2eb482e2b52b42cbb40ac141b6b34200": {
      "model_module": "@jupyter-widgets/controls",
      "model_module_version": "2.0.0",
      "model_name": "HTMLStyleModel",
      "state": {
       "description_width": "",
       "font_size": null,
       "text_color": null
      }
     },
     "2eb7d399638042b3b614502a1f533304": {
      "model_module": "@jupyter-widgets/controls",
      "model_module_version": "2.0.0",
      "model_name": "ProgressStyleModel",
      "state": {
       "description_width": ""
      }
     },
     "2f0b6663af4e437baae4ab0d44bc2f17": {
      "model_module": "@jupyter-widgets/controls",
      "model_module_version": "2.0.0",
      "model_name": "HTMLStyleModel",
      "state": {
       "description_width": "",
       "font_size": null,
       "text_color": null
      }
     },
     "2f80f35991264b64829ace4d067825a6": {
      "model_module": "@jupyter-widgets/base",
      "model_module_version": "2.0.0",
      "model_name": "LayoutModel",
      "state": {}
     },
     "2fa7fb63b73f4d038378bc63fa954d84": {
      "model_module": "@jupyter-widgets/controls",
      "model_module_version": "2.0.0",
      "model_name": "HTMLStyleModel",
      "state": {
       "description_width": "",
       "font_size": null,
       "text_color": null
      }
     },
     "2fc154249dd84cd0a9e0a0356561a630": {
      "model_module": "@jupyter-widgets/controls",
      "model_module_version": "2.0.0",
      "model_name": "HTMLModel",
      "state": {
       "layout": "IPY_MODEL_94c3c7284e714123a72e0105bc0d9b0a",
       "style": "IPY_MODEL_3c980248fa7a48e2bc5fc967347ac2b3",
       "value": " 6000/6000 [00:03&lt;00:00, 1542.48it/s]"
      }
     },
     "30957d88144f432192a70226b033e532": {
      "model_module": "@jupyter-widgets/controls",
      "model_module_version": "2.0.0",
      "model_name": "HTMLStyleModel",
      "state": {
       "description_width": "",
       "font_size": null,
       "text_color": null
      }
     },
     "30b2362283ad407f96c20a03c00f148a": {
      "model_module": "@jupyter-widgets/base",
      "model_module_version": "2.0.0",
      "model_name": "LayoutModel",
      "state": {}
     },
     "30bfcb2a422b43408f320bc578d632ad": {
      "model_module": "@jupyter-widgets/controls",
      "model_module_version": "2.0.0",
      "model_name": "HTMLStyleModel",
      "state": {
       "description_width": "",
       "font_size": null,
       "text_color": null
      }
     },
     "30fc334b3ca04cab8c586fdd980728fe": {
      "model_module": "@jupyter-widgets/base",
      "model_module_version": "2.0.0",
      "model_name": "LayoutModel",
      "state": {}
     },
     "31148b99373e4ec6ad0eec5cb2c04279": {
      "model_module": "@jupyter-widgets/controls",
      "model_module_version": "2.0.0",
      "model_name": "HTMLModel",
      "state": {
       "layout": "IPY_MODEL_82534e21f93349ee9260427c72d3b86f",
       "style": "IPY_MODEL_fb16c0d80d194264a28d375773be09f0",
       "value": " 0/? [00:00&lt;?, ?it/s]"
      }
     },
     "311a1b427c6548418785fb1458a9bbe1": {
      "model_module": "@jupyter-widgets/controls",
      "model_module_version": "2.0.0",
      "model_name": "HTMLStyleModel",
      "state": {
       "description_width": "",
       "font_size": null,
       "text_color": null
      }
     },
     "31325d38bc014233a6362bb82aa57fd0": {
      "model_module": "@jupyter-widgets/base",
      "model_module_version": "2.0.0",
      "model_name": "LayoutModel",
      "state": {}
     },
     "31790cc8439b462f9d4f89819eaccd43": {
      "model_module": "@jupyter-widgets/base",
      "model_module_version": "2.0.0",
      "model_name": "LayoutModel",
      "state": {}
     },
     "320ad8ef76e24cd5aa3c22b049220009": {
      "model_module": "@jupyter-widgets/base",
      "model_module_version": "2.0.0",
      "model_name": "LayoutModel",
      "state": {}
     },
     "323a61a70c6f4475a612a54816be3c51": {
      "model_module": "@jupyter-widgets/controls",
      "model_module_version": "2.0.0",
      "model_name": "HBoxModel",
      "state": {
       "children": [
        "IPY_MODEL_fe0490150ace47848d8426ed7bd90637",
        "IPY_MODEL_a72ff80d1e934269ab4b76426986d46b",
        "IPY_MODEL_b7a13c4c3ebc4d228dfe84996afab786"
       ],
       "layout": "IPY_MODEL_0a8ac29bab2d42f0a32b527ba6a98213"
      }
     },
     "32642577d7e943808d338e851403a08c": {
      "model_module": "@jupyter-widgets/base",
      "model_module_version": "2.0.0",
      "model_name": "LayoutModel",
      "state": {
       "width": "20px"
      }
     },
     "329489af9e724811aa6994d6e725dd0d": {
      "model_module": "@jupyter-widgets/controls",
      "model_module_version": "2.0.0",
      "model_name": "HTMLStyleModel",
      "state": {
       "description_width": "",
       "font_size": null,
       "text_color": null
      }
     },
     "32e49d8326264ea6b468967fe961440d": {
      "model_module": "@jupyter-widgets/controls",
      "model_module_version": "2.0.0",
      "model_name": "HTMLStyleModel",
      "state": {
       "description_width": "",
       "font_size": null,
       "text_color": null
      }
     },
     "32f9a706273840908576799cca2b5baf": {
      "model_module": "@jupyter-widgets/base",
      "model_module_version": "2.0.0",
      "model_name": "LayoutModel",
      "state": {}
     },
     "331bb9cde1684349bb253d49c98f1b7b": {
      "model_module": "@jupyter-widgets/base",
      "model_module_version": "2.0.0",
      "model_name": "LayoutModel",
      "state": {}
     },
     "333d18d350ae4ce8af2616cd74f67a68": {
      "model_module": "@jupyter-widgets/controls",
      "model_module_version": "2.0.0",
      "model_name": "HTMLStyleModel",
      "state": {
       "description_width": "",
       "font_size": null,
       "text_color": null
      }
     },
     "33a520639d554b17a10baaae1671c83c": {
      "model_module": "@jupyter-widgets/base",
      "model_module_version": "2.0.0",
      "model_name": "LayoutModel",
      "state": {
       "width": "20px"
      }
     },
     "33cb84caf31c42958ed3478c5d22537a": {
      "model_module": "@jupyter-widgets/controls",
      "model_module_version": "2.0.0",
      "model_name": "HTMLStyleModel",
      "state": {
       "description_width": "",
       "font_size": null,
       "text_color": null
      }
     },
     "33ffac94efef43069c2ee7cf9be0ba26": {
      "model_module": "@jupyter-widgets/controls",
      "model_module_version": "2.0.0",
      "model_name": "ProgressStyleModel",
      "state": {
       "description_width": ""
      }
     },
     "346059f938a0499b83ef525c039d58c5": {
      "model_module": "@jupyter-widgets/controls",
      "model_module_version": "2.0.0",
      "model_name": "FloatProgressModel",
      "state": {
       "bar_style": "danger",
       "layout": "IPY_MODEL_6ec52aadda1349ab952b3dd62d1dec8e",
       "max": 5400,
       "style": "IPY_MODEL_2a6640b5aaf04559b95a770328f1d704"
      }
     },
     "34e2ec0b51ee4f8685fa80c4e603ec6f": {
      "model_module": "@jupyter-widgets/controls",
      "model_module_version": "2.0.0",
      "model_name": "HTMLStyleModel",
      "state": {
       "description_width": "",
       "font_size": null,
       "text_color": null
      }
     },
     "34fcb3e94ddf43ab80026b84259ec67d": {
      "model_module": "@jupyter-widgets/base",
      "model_module_version": "2.0.0",
      "model_name": "LayoutModel",
      "state": {}
     },
     "350b371531fb4d3ea8eb6e353f2cbae0": {
      "model_module": "@jupyter-widgets/controls",
      "model_module_version": "2.0.0",
      "model_name": "HTMLModel",
      "state": {
       "layout": "IPY_MODEL_f4e9677b727145d0b285b59118f061b5",
       "style": "IPY_MODEL_91a2e5c0fbf84ababc2e7a72157d2cab",
       "value": " 0/5400 [00:00&lt;?, ?it/s]"
      }
     },
     "35211ad4c69041e187d9a906e121828a": {
      "model_module": "@jupyter-widgets/controls",
      "model_module_version": "2.0.0",
      "model_name": "HBoxModel",
      "state": {
       "children": [
        "IPY_MODEL_36e099466f054dd68134b9914c4a6509",
        "IPY_MODEL_81008a9aa8d14f0584098652e3d34681",
        "IPY_MODEL_e4120694e7714e2cbb7c45d2a796d9e2"
       ],
       "layout": "IPY_MODEL_59015477ab0a458aaaa3e5b19fb59b94"
      }
     },
     "3539092c568a4f288472d2e394fd7564": {
      "model_module": "@jupyter-widgets/controls",
      "model_module_version": "2.0.0",
      "model_name": "HTMLStyleModel",
      "state": {
       "description_width": "",
       "font_size": null,
       "text_color": null
      }
     },
     "35a087376e0d469695e1136d88c5eafe": {
      "model_module": "@jupyter-widgets/controls",
      "model_module_version": "2.0.0",
      "model_name": "HTMLStyleModel",
      "state": {
       "description_width": "",
       "font_size": null,
       "text_color": null
      }
     },
     "36025293c7fe42fabffbdbd2a42be854": {
      "model_module": "@jupyter-widgets/base",
      "model_module_version": "2.0.0",
      "model_name": "LayoutModel",
      "state": {}
     },
     "360880e60d0e4dd493d1caa557a35fef": {
      "model_module": "@jupyter-widgets/base",
      "model_module_version": "2.0.0",
      "model_name": "LayoutModel",
      "state": {}
     },
     "3633a507985341f19629fb71b9522da3": {
      "model_module": "@jupyter-widgets/controls",
      "model_module_version": "2.0.0",
      "model_name": "HTMLStyleModel",
      "state": {
       "description_width": "",
       "font_size": null,
       "text_color": null
      }
     },
     "363ce82094bb4df686b171de97285885": {
      "model_module": "@jupyter-widgets/controls",
      "model_module_version": "2.0.0",
      "model_name": "HTMLModel",
      "state": {
       "layout": "IPY_MODEL_1f5b4a3d883440a1826a04b75ef0f50f",
       "style": "IPY_MODEL_587bc3a664c045f38f7b6564328deabf",
       "value": "100%"
      }
     },
     "36506539e20a4447ab5e38983d08bf00": {
      "model_module": "@jupyter-widgets/controls",
      "model_module_version": "2.0.0",
      "model_name": "FloatProgressModel",
      "state": {
       "bar_style": "success",
       "layout": "IPY_MODEL_10fb4f89cd6445488867d8dde40a130b",
       "max": 6000,
       "style": "IPY_MODEL_45705323e7254485bd06276e69949c91",
       "value": 6000
      }
     },
     "366ee97ab2ee4b65b07b7e2bc340d5b1": {
      "model_module": "@jupyter-widgets/controls",
      "model_module_version": "2.0.0",
      "model_name": "FloatProgressModel",
      "state": {
       "bar_style": "danger",
       "layout": "IPY_MODEL_b96bb5fba0ea492b8c838c806d7f11ae",
       "max": 6000,
       "style": "IPY_MODEL_8947997db6f94ac2bb67f43ff5229fd3"
      }
     },
     "368ae4d54ce6440f90d0bf329e3f02e8": {
      "model_module": "@jupyter-widgets/controls",
      "model_module_version": "2.0.0",
      "model_name": "FloatProgressModel",
      "state": {
       "bar_style": "success",
       "layout": "IPY_MODEL_760a616ddc754188a580b478be814d3d",
       "max": 6000,
       "style": "IPY_MODEL_2ea7c2bc741643758d56d1779de43bda",
       "value": 6000
      }
     },
     "36a51d8c50eb4b56a5b78e348cdae501": {
      "model_module": "@jupyter-widgets/base",
      "model_module_version": "2.0.0",
      "model_name": "LayoutModel",
      "state": {}
     },
     "36a5591c81234cb387fc01bd5561ad96": {
      "model_module": "@jupyter-widgets/controls",
      "model_module_version": "2.0.0",
      "model_name": "ProgressStyleModel",
      "state": {
       "description_width": ""
      }
     },
     "36e099466f054dd68134b9914c4a6509": {
      "model_module": "@jupyter-widgets/controls",
      "model_module_version": "2.0.0",
      "model_name": "HTMLModel",
      "state": {
       "layout": "IPY_MODEL_068286c377184532a6075cc5a5b0fe70",
       "style": "IPY_MODEL_2c5dba7e80d3481ab676016fcac6856e"
      }
     },
     "37159da5ecd342dd83d5c6d24c1d6977": {
      "model_module": "@jupyter-widgets/base",
      "model_module_version": "2.0.0",
      "model_name": "LayoutModel",
      "state": {}
     },
     "3783b8c546404b04a8e79aef41c8274f": {
      "model_module": "@jupyter-widgets/controls",
      "model_module_version": "2.0.0",
      "model_name": "HTMLStyleModel",
      "state": {
       "description_width": "",
       "font_size": null,
       "text_color": null
      }
     },
     "37e56e5917224fefbb2f83575f5722b9": {
      "model_module": "@jupyter-widgets/controls",
      "model_module_version": "2.0.0",
      "model_name": "HBoxModel",
      "state": {
       "children": [
        "IPY_MODEL_ebe31ece29494484ab5a5a9d0c7612d8",
        "IPY_MODEL_200dd322447646fa989219f578a558fe",
        "IPY_MODEL_240dcbac986c49fc8fca813af68ffcc5"
       ],
       "layout": "IPY_MODEL_9744767793d84106b478bf6bd4ba02b5"
      }
     },
     "380cd1cebed747f9859e5a17d0635ca1": {
      "model_module": "@jupyter-widgets/base",
      "model_module_version": "2.0.0",
      "model_name": "LayoutModel",
      "state": {}
     },
     "38d0a7f8efdd4b2388459597e64a90de": {
      "model_module": "@jupyter-widgets/base",
      "model_module_version": "2.0.0",
      "model_name": "LayoutModel",
      "state": {}
     },
     "39707622a19e4e718d685881ede0b3d8": {
      "model_module": "@jupyter-widgets/controls",
      "model_module_version": "2.0.0",
      "model_name": "ProgressStyleModel",
      "state": {
       "description_width": ""
      }
     },
     "3a26055a349c4a069ccf1ed740833c39": {
      "model_module": "@jupyter-widgets/base",
      "model_module_version": "2.0.0",
      "model_name": "LayoutModel",
      "state": {}
     },
     "3a57cb4c92b5427ea29d8e1dfc2588c6": {
      "model_module": "@jupyter-widgets/base",
      "model_module_version": "2.0.0",
      "model_name": "LayoutModel",
      "state": {
       "width": "20px"
      }
     },
     "3acbf2c1a82946d6a7efcee68fce26fb": {
      "model_module": "@jupyter-widgets/base",
      "model_module_version": "2.0.0",
      "model_name": "LayoutModel",
      "state": {}
     },
     "3adca023a7814825bbb3cfa90bf0e496": {
      "model_module": "@jupyter-widgets/base",
      "model_module_version": "2.0.0",
      "model_name": "LayoutModel",
      "state": {}
     },
     "3ae5adde461b4ca4bfb0c1e514944de2": {
      "model_module": "@jupyter-widgets/base",
      "model_module_version": "2.0.0",
      "model_name": "LayoutModel",
      "state": {}
     },
     "3b08a236ae534e11a4926472c78d172b": {
      "model_module": "@jupyter-widgets/base",
      "model_module_version": "2.0.0",
      "model_name": "LayoutModel",
      "state": {}
     },
     "3b8579ff29aa406096fc4872db33d7e9": {
      "model_module": "@jupyter-widgets/controls",
      "model_module_version": "2.0.0",
      "model_name": "HTMLStyleModel",
      "state": {
       "description_width": "",
       "font_size": null,
       "text_color": null
      }
     },
     "3c7a2038165c46209075c457e14a88c3": {
      "model_module": "@jupyter-widgets/controls",
      "model_module_version": "2.0.0",
      "model_name": "HTMLStyleModel",
      "state": {
       "description_width": "",
       "font_size": null,
       "text_color": null
      }
     },
     "3c980248fa7a48e2bc5fc967347ac2b3": {
      "model_module": "@jupyter-widgets/controls",
      "model_module_version": "2.0.0",
      "model_name": "HTMLStyleModel",
      "state": {
       "description_width": "",
       "font_size": null,
       "text_color": null
      }
     },
     "3cba805ce95b4eef8b45781be6ffd626": {
      "model_module": "@jupyter-widgets/controls",
      "model_module_version": "2.0.0",
      "model_name": "FloatProgressModel",
      "state": {
       "bar_style": "success",
       "layout": "IPY_MODEL_eb983822b1174b6db60a83a08fdc557a",
       "max": 6000,
       "style": "IPY_MODEL_dfa245ecbc064a558e88e651edb89d65",
       "value": 6000
      }
     },
     "3ceb2e3bdb5f4fff9560984e3130e909": {
      "model_module": "@jupyter-widgets/controls",
      "model_module_version": "2.0.0",
      "model_name": "ProgressStyleModel",
      "state": {
       "description_width": ""
      }
     },
     "3d07c83ea5b04cacbbed649b0c20f754": {
      "model_module": "@jupyter-widgets/base",
      "model_module_version": "2.0.0",
      "model_name": "LayoutModel",
      "state": {
       "width": "20px"
      }
     },
     "3d17923692b0477bb7fa906fff2c731e": {
      "model_module": "@jupyter-widgets/controls",
      "model_module_version": "2.0.0",
      "model_name": "HBoxModel",
      "state": {
       "children": [
        "IPY_MODEL_b2c3e3660bbc4de5aea15b4009cb55f8",
        "IPY_MODEL_cd7e9a6a3b174f9f8b7cc8698872f9f8",
        "IPY_MODEL_b67fb5014d0b490ebdded6193e58c6f4"
       ],
       "layout": "IPY_MODEL_d8ee5a39678f401f802586503024f252"
      }
     },
     "3d42519c415b41038037293a551091f6": {
      "model_module": "@jupyter-widgets/controls",
      "model_module_version": "2.0.0",
      "model_name": "HTMLStyleModel",
      "state": {
       "description_width": "",
       "font_size": null,
       "text_color": null
      }
     },
     "3d9d8ef373e04d68b675fa02d2bce1cd": {
      "model_module": "@jupyter-widgets/base",
      "model_module_version": "2.0.0",
      "model_name": "LayoutModel",
      "state": {}
     },
     "3e49604303e944998e5b6ba29bb8bac8": {
      "model_module": "@jupyter-widgets/controls",
      "model_module_version": "2.0.0",
      "model_name": "HTMLModel",
      "state": {
       "layout": "IPY_MODEL_cab56a62d62947eeb923e740707e5d7d",
       "style": "IPY_MODEL_f931adf607634666a608638824e186bc",
       "value": " 5400/5400 [00:02&lt;00:00, 2459.36it/s]"
      }
     },
     "3e882fb57bea4c14902d78e3d79db0fd": {
      "model_module": "@jupyter-widgets/controls",
      "model_module_version": "2.0.0",
      "model_name": "ProgressStyleModel",
      "state": {
       "description_width": ""
      }
     },
     "3f5134c7a82740c3b04d3781352bbd88": {
      "model_module": "@jupyter-widgets/controls",
      "model_module_version": "2.0.0",
      "model_name": "ProgressStyleModel",
      "state": {
       "description_width": ""
      }
     },
     "3f66a011e0044a4685d54dad008d500e": {
      "model_module": "@jupyter-widgets/controls",
      "model_module_version": "2.0.0",
      "model_name": "HTMLStyleModel",
      "state": {
       "description_width": "",
       "font_size": null,
       "text_color": null
      }
     },
     "3f880ac85e704f4dbcf3d0086e44c28b": {
      "model_module": "@jupyter-widgets/controls",
      "model_module_version": "2.0.0",
      "model_name": "HTMLStyleModel",
      "state": {
       "description_width": "",
       "font_size": null,
       "text_color": null
      }
     },
     "3fcdb06bcc3e4c7aac54e0d82bcc8907": {
      "model_module": "@jupyter-widgets/controls",
      "model_module_version": "2.0.0",
      "model_name": "HTMLStyleModel",
      "state": {
       "description_width": "",
       "font_size": null,
       "text_color": null
      }
     },
     "406d4b82102c4f77b318ae287a242ebb": {
      "model_module": "@jupyter-widgets/base",
      "model_module_version": "2.0.0",
      "model_name": "LayoutModel",
      "state": {}
     },
     "406fe29615014724a72ef3d588c1f03e": {
      "model_module": "@jupyter-widgets/controls",
      "model_module_version": "2.0.0",
      "model_name": "ProgressStyleModel",
      "state": {
       "description_width": ""
      }
     },
     "4092c20de44243a1b9aa1c95b5d587e0": {
      "model_module": "@jupyter-widgets/base",
      "model_module_version": "2.0.0",
      "model_name": "LayoutModel",
      "state": {}
     },
     "411b61eac379444a8912143c3042f789": {
      "model_module": "@jupyter-widgets/controls",
      "model_module_version": "2.0.0",
      "model_name": "ProgressStyleModel",
      "state": {
       "description_width": ""
      }
     },
     "42b21ea49b8542db8fde4a6d633aa721": {
      "model_module": "@jupyter-widgets/base",
      "model_module_version": "2.0.0",
      "model_name": "LayoutModel",
      "state": {}
     },
     "42cd08dfea73428ab2ad727c28a65680": {
      "model_module": "@jupyter-widgets/controls",
      "model_module_version": "2.0.0",
      "model_name": "FloatProgressModel",
      "state": {
       "bar_style": "success",
       "layout": "IPY_MODEL_e03d07d3fa284faa85b1c5c5196645f4",
       "max": 6000,
       "style": "IPY_MODEL_59cfc85eaac24074ba9456d59ff1bc67",
       "value": 6000
      }
     },
     "4332c299003245479220e113143c2395": {
      "model_module": "@jupyter-widgets/base",
      "model_module_version": "2.0.0",
      "model_name": "LayoutModel",
      "state": {}
     },
     "439ac75692944ba2b836c09e8bc7c2ac": {
      "model_module": "@jupyter-widgets/controls",
      "model_module_version": "2.0.0",
      "model_name": "HTMLStyleModel",
      "state": {
       "description_width": "",
       "font_size": null,
       "text_color": null
      }
     },
     "43d53e9b300347088391013d6910ae0b": {
      "model_module": "@jupyter-widgets/base",
      "model_module_version": "2.0.0",
      "model_name": "LayoutModel",
      "state": {
       "width": "20px"
      }
     },
     "447b505d717f4a458c4c030a79c5d9e1": {
      "model_module": "@jupyter-widgets/controls",
      "model_module_version": "2.0.0",
      "model_name": "HBoxModel",
      "state": {
       "children": [
        "IPY_MODEL_fdd785a219684cbc97f33ce4ebec3a5f",
        "IPY_MODEL_604830b9bc2245a2969e3133ba88918b",
        "IPY_MODEL_2fc154249dd84cd0a9e0a0356561a630"
       ],
       "layout": "IPY_MODEL_16f9b00fa5d847afaab06a659db2b224"
      }
     },
     "448e3d8cc3704e7aa6c2db93b9eabc8c": {
      "model_module": "@jupyter-widgets/controls",
      "model_module_version": "2.0.0",
      "model_name": "ProgressStyleModel",
      "state": {
       "description_width": ""
      }
     },
     "449238a3dde948f99554e1a4f0b387a4": {
      "model_module": "@jupyter-widgets/controls",
      "model_module_version": "2.0.0",
      "model_name": "HTMLStyleModel",
      "state": {
       "description_width": "",
       "font_size": null,
       "text_color": null
      }
     },
     "44d9b56414be42da80cf6bffaedb4709": {
      "model_module": "@jupyter-widgets/controls",
      "model_module_version": "2.0.0",
      "model_name": "HBoxModel",
      "state": {
       "children": [
        "IPY_MODEL_b124c9900a9041cca695e208286586c9",
        "IPY_MODEL_cba1fff5b798450f990392416447adcb",
        "IPY_MODEL_b2f83ebf0a2b4eb593bc3cc75e4a0bae"
       ],
       "layout": "IPY_MODEL_7039dc630f1c44abbe4f15786efc18f3"
      }
     },
     "452333f29ad041de83071ba09eee571e": {
      "model_module": "@jupyter-widgets/controls",
      "model_module_version": "2.0.0",
      "model_name": "FloatProgressModel",
      "state": {
       "bar_style": "success",
       "layout": "IPY_MODEL_7a3bf45ec387445c9f84b0b23c1502c8",
       "max": 6000,
       "style": "IPY_MODEL_2b537069b82c4ad1924930de832264b3",
       "value": 6000
      }
     },
     "45705323e7254485bd06276e69949c91": {
      "model_module": "@jupyter-widgets/controls",
      "model_module_version": "2.0.0",
      "model_name": "ProgressStyleModel",
      "state": {
       "description_width": ""
      }
     },
     "45b96bc136b446d683fb69b2724f0fac": {
      "model_module": "@jupyter-widgets/base",
      "model_module_version": "2.0.0",
      "model_name": "LayoutModel",
      "state": {}
     },
     "45b99f19e4df44958aaa16aecb2b6377": {
      "model_module": "@jupyter-widgets/controls",
      "model_module_version": "2.0.0",
      "model_name": "HTMLModel",
      "state": {
       "layout": "IPY_MODEL_6b3a28127be644128b08b9bfec20c70c",
       "style": "IPY_MODEL_0c7c1bb2b77b49e6a821e9b827e2f5bc"
      }
     },
     "463fb946d1314aa9965b11f70ba71970": {
      "model_module": "@jupyter-widgets/controls",
      "model_module_version": "2.0.0",
      "model_name": "ProgressStyleModel",
      "state": {
       "description_width": ""
      }
     },
     "4679e1af2b6c4c6f8edf1e22cc26a1fc": {
      "model_module": "@jupyter-widgets/controls",
      "model_module_version": "2.0.0",
      "model_name": "ProgressStyleModel",
      "state": {
       "description_width": ""
      }
     },
     "46d9fcd6fb5f415daa0f48791ab53cbe": {
      "model_module": "@jupyter-widgets/controls",
      "model_module_version": "2.0.0",
      "model_name": "HTMLStyleModel",
      "state": {
       "description_width": "",
       "font_size": null,
       "text_color": null
      }
     },
     "46ebfa6c71ba46f6b8adc805b3431b09": {
      "model_module": "@jupyter-widgets/base",
      "model_module_version": "2.0.0",
      "model_name": "LayoutModel",
      "state": {}
     },
     "4705e9cb14fb4f26abbedf4b39590799": {
      "model_module": "@jupyter-widgets/controls",
      "model_module_version": "2.0.0",
      "model_name": "FloatProgressModel",
      "state": {
       "bar_style": "danger",
       "layout": "IPY_MODEL_2bb66a22752042d5bdf666980b10894f",
       "max": 6000,
       "style": "IPY_MODEL_4679e1af2b6c4c6f8edf1e22cc26a1fc",
       "value": 3349
      }
     },
     "47f62dec1f7546018c6d8c26e679eae4": {
      "model_module": "@jupyter-widgets/controls",
      "model_module_version": "2.0.0",
      "model_name": "HBoxModel",
      "state": {
       "children": [
        "IPY_MODEL_05e73817490445a69084c7e212161f01",
        "IPY_MODEL_bbaa0f106f1148ef84ac2e321e293c82",
        "IPY_MODEL_f44990f474694ab1a76d2b017874acaf"
       ],
       "layout": "IPY_MODEL_be5e8cff896146b3855a456b2c4dae37"
      }
     },
     "480a2e3000814709a625146ed14844ea": {
      "model_module": "@jupyter-widgets/base",
      "model_module_version": "2.0.0",
      "model_name": "LayoutModel",
      "state": {}
     },
     "4904b71464484192ae575121de04aac2": {
      "model_module": "@jupyter-widgets/controls",
      "model_module_version": "2.0.0",
      "model_name": "HTMLStyleModel",
      "state": {
       "description_width": "",
       "font_size": null,
       "text_color": null
      }
     },
     "4936730f1e564ad1964f9f59495772d9": {
      "model_module": "@jupyter-widgets/base",
      "model_module_version": "2.0.0",
      "model_name": "LayoutModel",
      "state": {}
     },
     "49cec35799c84a8ab527b9d5ae6d7135": {
      "model_module": "@jupyter-widgets/controls",
      "model_module_version": "2.0.0",
      "model_name": "HTMLModel",
      "state": {
       "layout": "IPY_MODEL_9ee4407ec7a440a1be9029c6cc7f11cf",
       "style": "IPY_MODEL_c827d946d181400ab38f933f5dfa5aec",
       "value": " 6000/6000 [00:06&lt;00:00, 1013.66it/s]"
      }
     },
     "49e9aca5d4fd4678892b3861afac7307": {
      "model_module": "@jupyter-widgets/controls",
      "model_module_version": "2.0.0",
      "model_name": "HTMLStyleModel",
      "state": {
       "description_width": "",
       "font_size": null,
       "text_color": null
      }
     },
     "4a11ae003dda45ffab07b6edf010decd": {
      "model_module": "@jupyter-widgets/controls",
      "model_module_version": "2.0.0",
      "model_name": "HTMLStyleModel",
      "state": {
       "description_width": "",
       "font_size": null,
       "text_color": null
      }
     },
     "4a51cd62fac64ee2b8917cb0d1a0bcc2": {
      "model_module": "@jupyter-widgets/controls",
      "model_module_version": "2.0.0",
      "model_name": "HTMLModel",
      "state": {
       "layout": "IPY_MODEL_58e6830d410b47b98de0900b0a93b0e7",
       "style": "IPY_MODEL_e44bf015f083446c91ef08082d8b3735",
       "value": " 6000/6000 [00:06&lt;00:00, 982.84it/s]"
      }
     },
     "4a8303e5c1ef457996aade26cb3b1bc4": {
      "model_module": "@jupyter-widgets/controls",
      "model_module_version": "2.0.0",
      "model_name": "HTMLStyleModel",
      "state": {
       "description_width": "",
       "font_size": null,
       "text_color": null
      }
     },
     "4af6af4308df43bc83c8934c3f90b47c": {
      "model_module": "@jupyter-widgets/controls",
      "model_module_version": "2.0.0",
      "model_name": "HTMLModel",
      "state": {
       "layout": "IPY_MODEL_1458f9183497436b82f6edb92f64ee09",
       "style": "IPY_MODEL_3f880ac85e704f4dbcf3d0086e44c28b"
      }
     },
     "4b64b7d38b914530b4123244be58bb91": {
      "model_module": "@jupyter-widgets/base",
      "model_module_version": "2.0.0",
      "model_name": "LayoutModel",
      "state": {
       "width": "20px"
      }
     },
     "4b69dc415a904fd9b1fcb0f32750eeca": {
      "model_module": "@jupyter-widgets/controls",
      "model_module_version": "2.0.0",
      "model_name": "FloatProgressModel",
      "state": {
       "bar_style": "danger",
       "layout": "IPY_MODEL_6329460a192f43dda04245de82723d9f",
       "max": 1,
       "style": "IPY_MODEL_15751b0bbed5443eb9b5eb2f38b6b332",
       "value": 1
      }
     },
     "4b8aebf18de045629525721c6827f21a": {
      "model_module": "@jupyter-widgets/controls",
      "model_module_version": "2.0.0",
      "model_name": "HTMLModel",
      "state": {
       "layout": "IPY_MODEL_adc1964572e447769de3c1f7dc1d16fb",
       "style": "IPY_MODEL_70fbc141410d4b7e88d802f2ca72cc90",
       "value": " 6/6000 [00:00&lt;00:42, 141.76it/s]"
      }
     },
     "4c2632413f854d63a9e1770f07b30779": {
      "model_module": "@jupyter-widgets/controls",
      "model_module_version": "2.0.0",
      "model_name": "HTMLStyleModel",
      "state": {
       "description_width": "",
       "font_size": null,
       "text_color": null
      }
     },
     "4c4f62d874ed4487b3a4a252bfeeab33": {
      "model_module": "@jupyter-widgets/controls",
      "model_module_version": "2.0.0",
      "model_name": "HTMLModel",
      "state": {
       "layout": "IPY_MODEL_9e8f34447ab349fbb0c959e25cd3f79b",
       "style": "IPY_MODEL_35a087376e0d469695e1136d88c5eafe",
       "value": "  0%"
      }
     },
     "4c96fc982ce746669f9a3ed60d6f27ad": {
      "model_module": "@jupyter-widgets/base",
      "model_module_version": "2.0.0",
      "model_name": "LayoutModel",
      "state": {}
     },
     "4d156ecc83ba4a258b96e02f9e092890": {
      "model_module": "@jupyter-widgets/controls",
      "model_module_version": "2.0.0",
      "model_name": "ProgressStyleModel",
      "state": {
       "description_width": ""
      }
     },
     "4d4399f3407440c4a711b3e6371d1a4e": {
      "model_module": "@jupyter-widgets/base",
      "model_module_version": "2.0.0",
      "model_name": "LayoutModel",
      "state": {}
     },
     "4d4c47a5f57442afacd2e1902ac906c0": {
      "model_module": "@jupyter-widgets/controls",
      "model_module_version": "2.0.0",
      "model_name": "HTMLStyleModel",
      "state": {
       "description_width": "",
       "font_size": null,
       "text_color": null
      }
     },
     "4d5dfaa652004b1b9ee1463b9dcbfbb7": {
      "model_module": "@jupyter-widgets/base",
      "model_module_version": "2.0.0",
      "model_name": "LayoutModel",
      "state": {}
     },
     "4e26fbfbb5da48bebd3b2cd183617cb6": {
      "model_module": "@jupyter-widgets/base",
      "model_module_version": "2.0.0",
      "model_name": "LayoutModel",
      "state": {}
     },
     "4e4462c583124839ab85de5f23e09593": {
      "model_module": "@jupyter-widgets/controls",
      "model_module_version": "2.0.0",
      "model_name": "HTMLStyleModel",
      "state": {
       "description_width": "",
       "font_size": null,
       "text_color": null
      }
     },
     "4e89c9949708474392a809f575fb3b1a": {
      "model_module": "@jupyter-widgets/controls",
      "model_module_version": "2.0.0",
      "model_name": "HTMLStyleModel",
      "state": {
       "description_width": "",
       "font_size": null,
       "text_color": null
      }
     },
     "4eb4341776f64b0eb5db0d287225bb06": {
      "model_module": "@jupyter-widgets/base",
      "model_module_version": "2.0.0",
      "model_name": "LayoutModel",
      "state": {}
     },
     "4fbc1e8235644c75a29ed58778fbf803": {
      "model_module": "@jupyter-widgets/controls",
      "model_module_version": "2.0.0",
      "model_name": "HTMLModel",
      "state": {
       "layout": "IPY_MODEL_a52cd9bd286b48dfb3b10c151622c7fe",
       "style": "IPY_MODEL_80b137379080418ea3a8b960b529a93a",
       "value": " 6/6000 [00:00&lt;01:33, 64.02it/s]"
      }
     },
     "4fea0fe063d449ef9876f4f98a0a367a": {
      "model_module": "@jupyter-widgets/controls",
      "model_module_version": "2.0.0",
      "model_name": "HBoxModel",
      "state": {
       "children": [
        "IPY_MODEL_709a29846ed14b7983e5f82151ed3460",
        "IPY_MODEL_650b6997465e441c8adc664a0ab9ccb9",
        "IPY_MODEL_350b371531fb4d3ea8eb6e353f2cbae0"
       ],
       "layout": "IPY_MODEL_7e33fd278a4e4ec497c3d4cba2e280cb"
      }
     },
     "5001cac2366f45ae965cde07971242c8": {
      "model_module": "@jupyter-widgets/controls",
      "model_module_version": "2.0.0",
      "model_name": "FloatProgressModel",
      "state": {
       "bar_style": "success",
       "layout": "IPY_MODEL_1b6534346e02435e92c1d068057ec8d8",
       "max": 1,
       "style": "IPY_MODEL_d4d114ac0f7c4f08a09f5b9b137b3afd",
       "value": 1
      }
     },
     "5026ff15762948e8a824f5f1cd9dadbe": {
      "model_module": "@jupyter-widgets/controls",
      "model_module_version": "2.0.0",
      "model_name": "HTMLStyleModel",
      "state": {
       "description_width": "",
       "font_size": null,
       "text_color": null
      }
     },
     "503a4e5de7f74f90ab3f98a4353be069": {
      "model_module": "@jupyter-widgets/base",
      "model_module_version": "2.0.0",
      "model_name": "LayoutModel",
      "state": {}
     },
     "50ab19d095744b419bd8deda77e92541": {
      "model_module": "@jupyter-widgets/base",
      "model_module_version": "2.0.0",
      "model_name": "LayoutModel",
      "state": {}
     },
     "50dcd55d908b43ef8dca503f7ca454e0": {
      "model_module": "@jupyter-widgets/controls",
      "model_module_version": "2.0.0",
      "model_name": "HTMLModel",
      "state": {
       "layout": "IPY_MODEL_7425ded5a31b4d728a3c81b7a2858aa5",
       "style": "IPY_MODEL_6b037fa5671a4aa8949b06a052cbbd4d"
      }
     },
     "50dcf8bca0134a49a24ff19dbcfeace2": {
      "model_module": "@jupyter-widgets/base",
      "model_module_version": "2.0.0",
      "model_name": "LayoutModel",
      "state": {
       "width": "20px"
      }
     },
     "51de85b9ac2c40bfa93963cb545928de": {
      "model_module": "@jupyter-widgets/base",
      "model_module_version": "2.0.0",
      "model_name": "LayoutModel",
      "state": {}
     },
     "5215c2ad6783466eb45c0ae3de4612e1": {
      "model_module": "@jupyter-widgets/base",
      "model_module_version": "2.0.0",
      "model_name": "LayoutModel",
      "state": {}
     },
     "522c907331134bddb8936ad87611a6b5": {
      "model_module": "@jupyter-widgets/base",
      "model_module_version": "2.0.0",
      "model_name": "LayoutModel",
      "state": {}
     },
     "5277e33104894b50ab3edacc8bd8dd04": {
      "model_module": "@jupyter-widgets/controls",
      "model_module_version": "2.0.0",
      "model_name": "HTMLModel",
      "state": {
       "layout": "IPY_MODEL_e64b3cdcb56c42e99c03013e9328924b",
       "style": "IPY_MODEL_85839ec36df84f538e1d0ea1aab66ac1",
       "value": "  0%"
      }
     },
     "52bdf6dc395a4c7fb88d28f34c3a6004": {
      "model_module": "@jupyter-widgets/base",
      "model_module_version": "2.0.0",
      "model_name": "LayoutModel",
      "state": {}
     },
     "52c40afdff594918923e94c95b50ca2b": {
      "model_module": "@jupyter-widgets/controls",
      "model_module_version": "2.0.0",
      "model_name": "HBoxModel",
      "state": {
       "children": [
        "IPY_MODEL_a61cf45a8dea462a9ca823294ef7deb4",
        "IPY_MODEL_78bd138b0cd34441b237b3f57b818c42",
        "IPY_MODEL_da0f72b5759344d2b6c9e8a274628957"
       ],
       "layout": "IPY_MODEL_3ae5adde461b4ca4bfb0c1e514944de2"
      }
     },
     "534caae5f3d14b41927d6204771c244c": {
      "model_module": "@jupyter-widgets/base",
      "model_module_version": "2.0.0",
      "model_name": "LayoutModel",
      "state": {}
     },
     "53c0fb3dc31f49619bd1aad257024048": {
      "model_module": "@jupyter-widgets/base",
      "model_module_version": "2.0.0",
      "model_name": "LayoutModel",
      "state": {}
     },
     "53c15e1685b24971bbfd100d121347ec": {
      "model_module": "@jupyter-widgets/base",
      "model_module_version": "2.0.0",
      "model_name": "LayoutModel",
      "state": {}
     },
     "53d57a4251ce4d2a977f07d4302075a5": {
      "model_module": "@jupyter-widgets/controls",
      "model_module_version": "2.0.0",
      "model_name": "HTMLStyleModel",
      "state": {
       "description_width": "",
       "font_size": null,
       "text_color": null
      }
     },
     "53ff08d559384e2b932c5fe7c2078975": {
      "model_module": "@jupyter-widgets/controls",
      "model_module_version": "2.0.0",
      "model_name": "HTMLModel",
      "state": {
       "layout": "IPY_MODEL_db43e1e33ed646709b2a04aa80cf88c3",
       "style": "IPY_MODEL_49e9aca5d4fd4678892b3861afac7307",
       "value": " 0/6000 [00:00&lt;?, ?it/s]"
      }
     },
     "54c3897b54ba4ef5918787034806a8a5": {
      "model_module": "@jupyter-widgets/controls",
      "model_module_version": "2.0.0",
      "model_name": "HTMLModel",
      "state": {
       "layout": "IPY_MODEL_5f806e586ed14e1091ab67d131864580",
       "style": "IPY_MODEL_6542641aac334c51890056a2b7a0143b"
      }
     },
     "550339616438421eb03c9a7d50522425": {
      "model_module": "@jupyter-widgets/controls",
      "model_module_version": "2.0.0",
      "model_name": "FloatProgressModel",
      "state": {
       "bar_style": "danger",
       "layout": "IPY_MODEL_e961189f5be5490d89a98716afa93a83",
       "max": 6000,
       "style": "IPY_MODEL_698ddde17a2c4e16be4b6ca1c3f60cd0",
       "value": 6
      }
     },
     "5538043482484a8398da07e50cb26740": {
      "model_module": "@jupyter-widgets/base",
      "model_module_version": "2.0.0",
      "model_name": "LayoutModel",
      "state": {}
     },
     "5559c4696fc64a218dc0bad393556338": {
      "model_module": "@jupyter-widgets/controls",
      "model_module_version": "2.0.0",
      "model_name": "HTMLModel",
      "state": {
       "layout": "IPY_MODEL_4e26fbfbb5da48bebd3b2cd183617cb6",
       "style": "IPY_MODEL_33cb84caf31c42958ed3478c5d22537a",
       "value": "  0%"
      }
     },
     "55727c6eebdc4fe3853931c5ad26cb0e": {
      "model_module": "@jupyter-widgets/base",
      "model_module_version": "2.0.0",
      "model_name": "LayoutModel",
      "state": {}
     },
     "55ac253e95b047fa940c8fc22454c2f1": {
      "model_module": "@jupyter-widgets/controls",
      "model_module_version": "2.0.0",
      "model_name": "HBoxModel",
      "state": {
       "children": [
        "IPY_MODEL_5559c4696fc64a218dc0bad393556338",
        "IPY_MODEL_d7255e86ea6948fea15368de1adc9be4",
        "IPY_MODEL_1756f8896aa546619a5d010a31e7eb1a"
       ],
       "layout": "IPY_MODEL_8d6b0d524f62484f9323d07a4ead74db"
      }
     },
     "55eedf648db1470c81532be023c33199": {
      "model_module": "@jupyter-widgets/controls",
      "model_module_version": "2.0.0",
      "model_name": "FloatProgressModel",
      "state": {
       "bar_style": "success",
       "layout": "IPY_MODEL_7359cb1590884d64bdd5011ee646f5b4",
       "max": 1,
       "style": "IPY_MODEL_2b0a617dd30649e58f69e8ee9fe2d9a0",
       "value": 1
      }
     },
     "5633f88e72b44363a8f06dede88a5088": {
      "model_module": "@jupyter-widgets/controls",
      "model_module_version": "2.0.0",
      "model_name": "HTMLStyleModel",
      "state": {
       "description_width": "",
       "font_size": null,
       "text_color": null
      }
     },
     "564398fac12f41ea8a82250f733c0ce4": {
      "model_module": "@jupyter-widgets/base",
      "model_module_version": "2.0.0",
      "model_name": "LayoutModel",
      "state": {}
     },
     "566bccf0bd544a739f82a5fb79f2bfe2": {
      "model_module": "@jupyter-widgets/controls",
      "model_module_version": "2.0.0",
      "model_name": "FloatProgressModel",
      "state": {
       "bar_style": "success",
       "layout": "IPY_MODEL_5bc0c6b109534d74a61411ff6242987c",
       "max": 5400,
       "style": "IPY_MODEL_73ae1ee5c8cd427888cc401ad04f5649",
       "value": 5400
      }
     },
     "56819b80e5aa4c1fb8475fc6fd30f4f1": {
      "model_module": "@jupyter-widgets/controls",
      "model_module_version": "2.0.0",
      "model_name": "HTMLStyleModel",
      "state": {
       "description_width": "",
       "font_size": null,
       "text_color": null
      }
     },
     "56c830890aff4e5c8cf7b1c24feddc57": {
      "model_module": "@jupyter-widgets/controls",
      "model_module_version": "2.0.0",
      "model_name": "ProgressStyleModel",
      "state": {
       "description_width": ""
      }
     },
     "56fd5686b4a942159f8b746b671e92f2": {
      "model_module": "@jupyter-widgets/controls",
      "model_module_version": "2.0.0",
      "model_name": "HTMLStyleModel",
      "state": {
       "description_width": "",
       "font_size": null,
       "text_color": null
      }
     },
     "57017812e6ec4d4fa0f10dc20497aab7": {
      "model_module": "@jupyter-widgets/controls",
      "model_module_version": "2.0.0",
      "model_name": "HTMLModel",
      "state": {
       "layout": "IPY_MODEL_2f80f35991264b64829ace4d067825a6",
       "style": "IPY_MODEL_95c6aeb7c8914817b095f222a5bcfaa5",
       "value": "  0%"
      }
     },
     "57521910725b41aaa15072ebae287ec5": {
      "model_module": "@jupyter-widgets/controls",
      "model_module_version": "2.0.0",
      "model_name": "HBoxModel",
      "state": {
       "children": [
        "IPY_MODEL_99e8e4236bc2421184c181a6348119f8",
        "IPY_MODEL_f82f4466b9674a02aa029d6e44ca6357",
        "IPY_MODEL_07d5a127585c4a6bb91f05620eb2e08f"
       ],
       "layout": "IPY_MODEL_c806290a563241dd92f727b866396026"
      }
     },
     "57cdeea97be34684a63ed9f6af263470": {
      "model_module": "@jupyter-widgets/controls",
      "model_module_version": "2.0.0",
      "model_name": "HTMLStyleModel",
      "state": {
       "description_width": "",
       "font_size": null,
       "text_color": null
      }
     },
     "57e71148e0d240bdb2b7ba1194036916": {
      "model_module": "@jupyter-widgets/base",
      "model_module_version": "2.0.0",
      "model_name": "LayoutModel",
      "state": {}
     },
     "582269e29aae4804b5c311c82093585c": {
      "model_module": "@jupyter-widgets/controls",
      "model_module_version": "2.0.0",
      "model_name": "HTMLModel",
      "state": {
       "layout": "IPY_MODEL_5f11650df2e34ced903a4260fa323c16",
       "style": "IPY_MODEL_5bde7c5754db4949a6ab98edd9dec612"
      }
     },
     "587bc3a664c045f38f7b6564328deabf": {
      "model_module": "@jupyter-widgets/controls",
      "model_module_version": "2.0.0",
      "model_name": "HTMLStyleModel",
      "state": {
       "description_width": "",
       "font_size": null,
       "text_color": null
      }
     },
     "58e6830d410b47b98de0900b0a93b0e7": {
      "model_module": "@jupyter-widgets/base",
      "model_module_version": "2.0.0",
      "model_name": "LayoutModel",
      "state": {}
     },
     "58f5e9ddcad04863b7114bf8a556c37c": {
      "model_module": "@jupyter-widgets/controls",
      "model_module_version": "2.0.0",
      "model_name": "FloatProgressModel",
      "state": {
       "bar_style": "danger",
       "layout": "IPY_MODEL_3a57cb4c92b5427ea29d8e1dfc2588c6",
       "max": 1,
       "style": "IPY_MODEL_c21f6d8b4a3f489787e1bd718798d5fe"
      }
     },
     "59015477ab0a458aaaa3e5b19fb59b94": {
      "model_module": "@jupyter-widgets/base",
      "model_module_version": "2.0.0",
      "model_name": "LayoutModel",
      "state": {}
     },
     "5903a65263fe4ab7b42e3ec4e1f55c2d": {
      "model_module": "@jupyter-widgets/controls",
      "model_module_version": "2.0.0",
      "model_name": "FloatProgressModel",
      "state": {
       "bar_style": "danger",
       "layout": "IPY_MODEL_50dcf8bca0134a49a24ff19dbcfeace2",
       "max": 1,
       "style": "IPY_MODEL_d623695be3054869af804177efcd3c06"
      }
     },
     "59c74b3e15c74105a6e588071c7a8554": {
      "model_module": "@jupyter-widgets/controls",
      "model_module_version": "2.0.0",
      "model_name": "FloatProgressModel",
      "state": {
       "bar_style": "danger",
       "layout": "IPY_MODEL_fb671c375ea24411b2cb24e297551826",
       "max": 6000,
       "style": "IPY_MODEL_ecf27284162849c4a301789b05251116",
       "value": 6
      }
     },
     "59cfc85eaac24074ba9456d59ff1bc67": {
      "model_module": "@jupyter-widgets/controls",
      "model_module_version": "2.0.0",
      "model_name": "ProgressStyleModel",
      "state": {
       "description_width": ""
      }
     },
     "5a1018a450c64642a59773e899a215f9": {
      "model_module": "@jupyter-widgets/controls",
      "model_module_version": "2.0.0",
      "model_name": "HTMLModel",
      "state": {
       "layout": "IPY_MODEL_de53821c65b646b1bad53db9bd62ab5d",
       "style": "IPY_MODEL_d88f7a9cafeb43108c162d03a0902154"
      }
     },
     "5aa9f2eee3704b0686e30829b60248fd": {
      "model_module": "@jupyter-widgets/base",
      "model_module_version": "2.0.0",
      "model_name": "LayoutModel",
      "state": {}
     },
     "5bb16ac02bc04790b88bd091ba1151b8": {
      "model_module": "@jupyter-widgets/controls",
      "model_module_version": "2.0.0",
      "model_name": "FloatProgressModel",
      "state": {
       "bar_style": "success",
       "layout": "IPY_MODEL_9c3226d1be914418813c7d9edac83a2a",
       "max": 1,
       "style": "IPY_MODEL_81736fa8cd80460d8e0d9cfc20cdf983",
       "value": 1
      }
     },
     "5bc0c6b109534d74a61411ff6242987c": {
      "model_module": "@jupyter-widgets/base",
      "model_module_version": "2.0.0",
      "model_name": "LayoutModel",
      "state": {}
     },
     "5bde7c5754db4949a6ab98edd9dec612": {
      "model_module": "@jupyter-widgets/controls",
      "model_module_version": "2.0.0",
      "model_name": "HTMLStyleModel",
      "state": {
       "description_width": "",
       "font_size": null,
       "text_color": null
      }
     },
     "5c55f05053a040cbad89d1385b1d701a": {
      "model_module": "@jupyter-widgets/controls",
      "model_module_version": "2.0.0",
      "model_name": "HTMLModel",
      "state": {
       "layout": "IPY_MODEL_ce2f1585a29f4f24a854b177ff368f27",
       "style": "IPY_MODEL_5026ff15762948e8a824f5f1cd9dadbe",
       "value": "  0%"
      }
     },
     "5cb130cc0095494ab16648331508c855": {
      "model_module": "@jupyter-widgets/base",
      "model_module_version": "2.0.0",
      "model_name": "LayoutModel",
      "state": {}
     },
     "5d513bf82f68420baa8859a6a6570671": {
      "model_module": "@jupyter-widgets/controls",
      "model_module_version": "2.0.0",
      "model_name": "HTMLStyleModel",
      "state": {
       "description_width": "",
       "font_size": null,
       "text_color": null
      }
     },
     "5d80528caa0f42e09cdc9a7e5d248df9": {
      "model_module": "@jupyter-widgets/controls",
      "model_module_version": "2.0.0",
      "model_name": "HTMLModel",
      "state": {
       "layout": "IPY_MODEL_f140ebd5763548b8a2a96aae8db97064",
       "style": "IPY_MODEL_329489af9e724811aa6994d6e725dd0d",
       "value": "100%"
      }
     },
     "5d8de68d77c94d2eafb66ae34fc1337c": {
      "model_module": "@jupyter-widgets/controls",
      "model_module_version": "2.0.0",
      "model_name": "HTMLStyleModel",
      "state": {
       "description_width": "",
       "font_size": null,
       "text_color": null
      }
     },
     "5dc19b2b032f4e21a19e157038ae10e1": {
      "model_module": "@jupyter-widgets/controls",
      "model_module_version": "2.0.0",
      "model_name": "HTMLStyleModel",
      "state": {
       "description_width": "",
       "font_size": null,
       "text_color": null
      }
     },
     "5e13a5fba783465594057011f4a97a3e": {
      "model_module": "@jupyter-widgets/controls",
      "model_module_version": "2.0.0",
      "model_name": "FloatProgressModel",
      "state": {
       "bar_style": "success",
       "layout": "IPY_MODEL_8d1777a5f7bf4a3a8c874843e7d923c6",
       "max": 5400,
       "style": "IPY_MODEL_3f5134c7a82740c3b04d3781352bbd88",
       "value": 5400
      }
     },
     "5e35f38c51c241ee9ca19d7af5911c4b": {
      "model_module": "@jupyter-widgets/controls",
      "model_module_version": "2.0.0",
      "model_name": "HTMLModel",
      "state": {
       "layout": "IPY_MODEL_b935881c1f434b068d389b64287c55a5",
       "style": "IPY_MODEL_e59d8a08e79f4514b267d08664f9c62a",
       "value": "100%"
      }
     },
     "5e76a28384054d6fbb47f29ef930b6d9": {
      "model_module": "@jupyter-widgets/controls",
      "model_module_version": "2.0.0",
      "model_name": "HBoxModel",
      "state": {
       "children": [
        "IPY_MODEL_4c4f62d874ed4487b3a4a252bfeeab33",
        "IPY_MODEL_550339616438421eb03c9a7d50522425",
        "IPY_MODEL_1c4bb954a0e34497bcd269a1ed5f1beb"
       ],
       "layout": "IPY_MODEL_bf94439694914166ba9ddaf4b3223f06"
      }
     },
     "5f11650df2e34ced903a4260fa323c16": {
      "model_module": "@jupyter-widgets/base",
      "model_module_version": "2.0.0",
      "model_name": "LayoutModel",
      "state": {}
     },
     "5f806e586ed14e1091ab67d131864580": {
      "model_module": "@jupyter-widgets/base",
      "model_module_version": "2.0.0",
      "model_name": "LayoutModel",
      "state": {}
     },
     "5fa5f4dbbe9c4c23811f80cc5891f532": {
      "model_module": "@jupyter-widgets/controls",
      "model_module_version": "2.0.0",
      "model_name": "ProgressStyleModel",
      "state": {
       "description_width": ""
      }
     },
     "5fb898e298fe4308aed966d34988b96d": {
      "model_module": "@jupyter-widgets/controls",
      "model_module_version": "2.0.0",
      "model_name": "HTMLStyleModel",
      "state": {
       "description_width": "",
       "font_size": null,
       "text_color": null
      }
     },
     "5fc43a479e044407933fa01f486b6e01": {
      "model_module": "@jupyter-widgets/controls",
      "model_module_version": "2.0.0",
      "model_name": "HBoxModel",
      "state": {
       "children": [
        "IPY_MODEL_0a273073a77f4bffb73b7f84595e7a4b",
        "IPY_MODEL_ca1b4f47f4a346cea2ee84350de30a55",
        "IPY_MODEL_95d714a5f37d4f0489383d45b9d8f692"
       ],
       "layout": "IPY_MODEL_fc078d3ca07a4a7eb605fccfc7310321"
      }
     },
     "604830b9bc2245a2969e3133ba88918b": {
      "model_module": "@jupyter-widgets/controls",
      "model_module_version": "2.0.0",
      "model_name": "FloatProgressModel",
      "state": {
       "bar_style": "success",
       "layout": "IPY_MODEL_63ac91e6c9eb4fc981f613c1eedb0956",
       "max": 6000,
       "style": "IPY_MODEL_1fb133546faa42778957aae7022689d6",
       "value": 6000
      }
     },
     "60535cb31b0a4c7e8f789358ff2a9beb": {
      "model_module": "@jupyter-widgets/base",
      "model_module_version": "2.0.0",
      "model_name": "LayoutModel",
      "state": {}
     },
     "6066edbf2db147f0ad1f13662b4be89a": {
      "model_module": "@jupyter-widgets/base",
      "model_module_version": "2.0.0",
      "model_name": "LayoutModel",
      "state": {}
     },
     "60a83b3161c14fa7a9343144e14136a4": {
      "model_module": "@jupyter-widgets/controls",
      "model_module_version": "2.0.0",
      "model_name": "HTMLModel",
      "state": {
       "layout": "IPY_MODEL_734a185d5c6d4ffaab0f0579829e81c0",
       "style": "IPY_MODEL_af2ab0d9fe544277a68925037c5ca1f1",
       "value": " 6000/6000 [00:02&lt;00:00, 2125.60it/s]"
      }
     },
     "60c00dd9362b42c2a351da051924910b": {
      "model_module": "@jupyter-widgets/controls",
      "model_module_version": "2.0.0",
      "model_name": "HTMLModel",
      "state": {
       "layout": "IPY_MODEL_f71fd3c1870e434383f8a7dd51ba521a",
       "style": "IPY_MODEL_ba7813c621fd4ff1a492d9b1c3b8a63f",
       "value": " 6000/? [00:04&lt;00:00, 1396.40it/s]"
      }
     },
     "61056940cda24bf2a2b827ba850810b4": {
      "model_module": "@jupyter-widgets/controls",
      "model_module_version": "2.0.0",
      "model_name": "FloatProgressModel",
      "state": {
       "bar_style": "danger",
       "layout": "IPY_MODEL_b36bf51c4e8c4deb81d14cbb4b5aebce",
       "max": 6000,
       "style": "IPY_MODEL_0dbfa68b61dc4e2a81ed54620bdefb72"
      }
     },
     "61326283c6b54155a2d0ae1aef62264b": {
      "model_module": "@jupyter-widgets/controls",
      "model_module_version": "2.0.0",
      "model_name": "HTMLStyleModel",
      "state": {
       "description_width": "",
       "font_size": null,
       "text_color": null
      }
     },
     "61d2059f058b4fde9cb8244eba73663a": {
      "model_module": "@jupyter-widgets/controls",
      "model_module_version": "2.0.0",
      "model_name": "HTMLModel",
      "state": {
       "layout": "IPY_MODEL_bbd843f9804349ebb47d2fb2fdb15f4b",
       "style": "IPY_MODEL_688d02f0c59c48718ca376c2b1d6e4ab"
      }
     },
     "621059fd97e24456b01609dcee6866f9": {
      "model_module": "@jupyter-widgets/controls",
      "model_module_version": "2.0.0",
      "model_name": "HTMLModel",
      "state": {
       "layout": "IPY_MODEL_963b7cedd2634f0ab65c02fc75b93327",
       "style": "IPY_MODEL_2038629778dd4396b233abf5f10c5be9",
       "value": " 6/6000 [00:00&lt;00:37, 160.92it/s]"
      }
     },
     "621c593c3312413bb754256c0ebacc8c": {
      "model_module": "@jupyter-widgets/controls",
      "model_module_version": "2.0.0",
      "model_name": "ProgressStyleModel",
      "state": {
       "description_width": ""
      }
     },
     "62a1b5cb8a9140e380c5503bc8b5fc27": {
      "model_module": "@jupyter-widgets/controls",
      "model_module_version": "2.0.0",
      "model_name": "HBoxModel",
      "state": {
       "children": [
        "IPY_MODEL_5d80528caa0f42e09cdc9a7e5d248df9",
        "IPY_MODEL_fa1a4fa317ea46beaf101161dd54d8ac",
        "IPY_MODEL_d652d7b9538d4aee9c8a30589580d623"
       ],
       "layout": "IPY_MODEL_4eb4341776f64b0eb5db0d287225bb06"
      }
     },
     "62f7542feb6f4daa803d1765cd9ef3f6": {
      "model_module": "@jupyter-widgets/controls",
      "model_module_version": "2.0.0",
      "model_name": "HTMLModel",
      "state": {
       "layout": "IPY_MODEL_5538043482484a8398da07e50cb26740",
       "style": "IPY_MODEL_19b7ed95c3e54bdb8330f85996ca76e8"
      }
     },
     "6329460a192f43dda04245de82723d9f": {
      "model_module": "@jupyter-widgets/base",
      "model_module_version": "2.0.0",
      "model_name": "LayoutModel",
      "state": {
       "width": "20px"
      }
     },
     "635c732dc64d4c1fabfb3686c4722e12": {
      "model_module": "@jupyter-widgets/base",
      "model_module_version": "2.0.0",
      "model_name": "LayoutModel",
      "state": {}
     },
     "63693c2bae914ddea05cade0a0fd7dbe": {
      "model_module": "@jupyter-widgets/controls",
      "model_module_version": "2.0.0",
      "model_name": "HBoxModel",
      "state": {
       "children": [
        "IPY_MODEL_5277e33104894b50ab3edacc8bd8dd04",
        "IPY_MODEL_346059f938a0499b83ef525c039d58c5",
        "IPY_MODEL_6fd87a96bbd1413db1950630760e8ef3"
       ],
       "layout": "IPY_MODEL_e53155c02a2142ea821a5b72f822fac2"
      }
     },
     "63ac91e6c9eb4fc981f613c1eedb0956": {
      "model_module": "@jupyter-widgets/base",
      "model_module_version": "2.0.0",
      "model_name": "LayoutModel",
      "state": {}
     },
     "642647f8ce624aa7990bdb7367d6f0c8": {
      "model_module": "@jupyter-widgets/controls",
      "model_module_version": "2.0.0",
      "model_name": "FloatProgressModel",
      "state": {
       "bar_style": "danger",
       "layout": "IPY_MODEL_6a32a8e29a1a4f768da19480c34001f0",
       "max": 6000,
       "style": "IPY_MODEL_c085743330e04052a19407dc81d68f35",
       "value": 6
      }
     },
     "6472f44a286844929b5648c79c197a8e": {
      "model_module": "@jupyter-widgets/base",
      "model_module_version": "2.0.0",
      "model_name": "LayoutModel",
      "state": {}
     },
     "64f6f1b65703450aa5fd5e875fa61495": {
      "model_module": "@jupyter-widgets/base",
      "model_module_version": "2.0.0",
      "model_name": "LayoutModel",
      "state": {}
     },
     "65072ee4923446fe8ce0b4442fab563b": {
      "model_module": "@jupyter-widgets/base",
      "model_module_version": "2.0.0",
      "model_name": "LayoutModel",
      "state": {
       "width": "20px"
      }
     },
     "650b6997465e441c8adc664a0ab9ccb9": {
      "model_module": "@jupyter-widgets/controls",
      "model_module_version": "2.0.0",
      "model_name": "FloatProgressModel",
      "state": {
       "bar_style": "danger",
       "layout": "IPY_MODEL_aac66ca97b4e4c779b1d65a6c423fd4d",
       "max": 5400,
       "style": "IPY_MODEL_36a5591c81234cb387fc01bd5561ad96"
      }
     },
     "6542641aac334c51890056a2b7a0143b": {
      "model_module": "@jupyter-widgets/controls",
      "model_module_version": "2.0.0",
      "model_name": "HTMLStyleModel",
      "state": {
       "description_width": "",
       "font_size": null,
       "text_color": null
      }
     },
     "672da2c972af472e89bf18aaa9de01d0": {
      "model_module": "@jupyter-widgets/controls",
      "model_module_version": "2.0.0",
      "model_name": "HTMLModel",
      "state": {
       "layout": "IPY_MODEL_bc7e35cbfd424e909f21a1b408be6775",
       "style": "IPY_MODEL_56819b80e5aa4c1fb8475fc6fd30f4f1",
       "value": "  0%"
      }
     },
     "67a17c8019b242548dd656199c58d5a6": {
      "model_module": "@jupyter-widgets/controls",
      "model_module_version": "2.0.0",
      "model_name": "HTMLStyleModel",
      "state": {
       "description_width": "",
       "font_size": null,
       "text_color": null
      }
     },
     "681c0eeab2554bc6a70be6800caa1c34": {
      "model_module": "@jupyter-widgets/controls",
      "model_module_version": "2.0.0",
      "model_name": "FloatProgressModel",
      "state": {
       "bar_style": "success",
       "layout": "IPY_MODEL_91896c0ed37b493e95a4a3746e017d50",
       "max": 6000,
       "style": "IPY_MODEL_08bb886b92e54033a19e62a08ff97cd6",
       "value": 6000
      }
     },
     "6823fc860311437ebe3e0120d681863b": {
      "model_module": "@jupyter-widgets/controls",
      "model_module_version": "2.0.0",
      "model_name": "FloatProgressModel",
      "state": {
       "bar_style": "success",
       "layout": "IPY_MODEL_635c732dc64d4c1fabfb3686c4722e12",
       "max": 6000,
       "style": "IPY_MODEL_8eb3c73077b3413f982c3202e14b058d",
       "value": 6000
      }
     },
     "688d02f0c59c48718ca376c2b1d6e4ab": {
      "model_module": "@jupyter-widgets/controls",
      "model_module_version": "2.0.0",
      "model_name": "HTMLStyleModel",
      "state": {
       "description_width": "",
       "font_size": null,
       "text_color": null
      }
     },
     "68a9ba34f9a04f13b194d527b3d2e4ab": {
      "model_module": "@jupyter-widgets/controls",
      "model_module_version": "2.0.0",
      "model_name": "HTMLStyleModel",
      "state": {
       "description_width": "",
       "font_size": null,
       "text_color": null
      }
     },
     "698ddde17a2c4e16be4b6ca1c3f60cd0": {
      "model_module": "@jupyter-widgets/controls",
      "model_module_version": "2.0.0",
      "model_name": "ProgressStyleModel",
      "state": {
       "description_width": ""
      }
     },
     "6a32a8e29a1a4f768da19480c34001f0": {
      "model_module": "@jupyter-widgets/base",
      "model_module_version": "2.0.0",
      "model_name": "LayoutModel",
      "state": {}
     },
     "6b037fa5671a4aa8949b06a052cbbd4d": {
      "model_module": "@jupyter-widgets/controls",
      "model_module_version": "2.0.0",
      "model_name": "HTMLStyleModel",
      "state": {
       "description_width": "",
       "font_size": null,
       "text_color": null
      }
     },
     "6b3a28127be644128b08b9bfec20c70c": {
      "model_module": "@jupyter-widgets/base",
      "model_module_version": "2.0.0",
      "model_name": "LayoutModel",
      "state": {}
     },
     "6b3ef07ef733489e85a85cd729e2bc67": {
      "model_module": "@jupyter-widgets/controls",
      "model_module_version": "2.0.0",
      "model_name": "HBoxModel",
      "state": {
       "children": [
        "IPY_MODEL_cc36ef5bc9e043b19ce0d3e42f4a29a2",
        "IPY_MODEL_09d236d2c2414d5e8f8833fddae74ce2",
        "IPY_MODEL_f97ecd65355b4284b88cd87287a3aa22"
       ],
       "layout": "IPY_MODEL_e0b437ced61f40199da55217b959102a"
      }
     },
     "6bb593427b084153925d68ce1862b927": {
      "model_module": "@jupyter-widgets/controls",
      "model_module_version": "2.0.0",
      "model_name": "FloatProgressModel",
      "state": {
       "bar_style": "danger",
       "layout": "IPY_MODEL_9c75b3ffb7b440c188baf2abe4450bc2",
       "max": 6000,
       "style": "IPY_MODEL_2eb7d399638042b3b614502a1f533304"
      }
     },
     "6c786d1d33664e31805a8598ac0e0aa8": {
      "model_module": "@jupyter-widgets/controls",
      "model_module_version": "2.0.0",
      "model_name": "HTMLStyleModel",
      "state": {
       "description_width": "",
       "font_size": null,
       "text_color": null
      }
     },
     "6d341854f1f34f3bbf9bec6038f6441d": {
      "model_module": "@jupyter-widgets/controls",
      "model_module_version": "2.0.0",
      "model_name": "HTMLStyleModel",
      "state": {
       "description_width": "",
       "font_size": null,
       "text_color": null
      }
     },
     "6d54b152de354c6698e2ade342cf2cde": {
      "model_module": "@jupyter-widgets/controls",
      "model_module_version": "2.0.0",
      "model_name": "ProgressStyleModel",
      "state": {
       "description_width": ""
      }
     },
     "6d55bc671ef74d84a78cce725e1f1b17": {
      "model_module": "@jupyter-widgets/controls",
      "model_module_version": "2.0.0",
      "model_name": "HTMLStyleModel",
      "state": {
       "description_width": "",
       "font_size": null,
       "text_color": null
      }
     },
     "6db374d37a454925b82ddbc735866dd1": {
      "model_module": "@jupyter-widgets/controls",
      "model_module_version": "2.0.0",
      "model_name": "FloatProgressModel",
      "state": {
       "bar_style": "success",
       "layout": "IPY_MODEL_b407b8424fd9485bb99525e0d11c6fc2",
       "max": 6000,
       "style": "IPY_MODEL_621c593c3312413bb754256c0ebacc8c",
       "value": 6000
      }
     },
     "6e0956dd63484e1a853d2a8ba345057b": {
      "model_module": "@jupyter-widgets/controls",
      "model_module_version": "2.0.0",
      "model_name": "FloatProgressModel",
      "state": {
       "bar_style": "danger",
       "layout": "IPY_MODEL_c73aab685e04443d9b904bde895f2eb0",
       "max": 6000,
       "style": "IPY_MODEL_766f2c89d0b546018b57295a9441fb2a"
      }
     },
     "6e1cea66b86c4ada8b2717616ea4eba1": {
      "model_module": "@jupyter-widgets/controls",
      "model_module_version": "2.0.0",
      "model_name": "HBoxModel",
      "state": {
       "children": [
        "IPY_MODEL_cc8e0a358d3c4ea7af1403c9f603f287",
        "IPY_MODEL_4705e9cb14fb4f26abbedf4b39590799",
        "IPY_MODEL_80e9cdc2e28c473a9047887f4413c9fa"
       ],
       "layout": "IPY_MODEL_bf2138d15d67460eaaafa1d1da0628aa"
      }
     },
     "6e9e538bfa41492fa560da663cd24c8b": {
      "model_module": "@jupyter-widgets/controls",
      "model_module_version": "2.0.0",
      "model_name": "ProgressStyleModel",
      "state": {
       "description_width": ""
      }
     },
     "6ebe9d8b68214166a867a1574e67a34d": {
      "model_module": "@jupyter-widgets/controls",
      "model_module_version": "2.0.0",
      "model_name": "HTMLStyleModel",
      "state": {
       "description_width": "",
       "font_size": null,
       "text_color": null
      }
     },
     "6ec52aadda1349ab952b3dd62d1dec8e": {
      "model_module": "@jupyter-widgets/base",
      "model_module_version": "2.0.0",
      "model_name": "LayoutModel",
      "state": {}
     },
     "6f4f8a008e9d402990275f811f72363b": {
      "model_module": "@jupyter-widgets/controls",
      "model_module_version": "2.0.0",
      "model_name": "HTMLModel",
      "state": {
       "layout": "IPY_MODEL_e69233ca17ec41bfb7a241104b029b87",
       "style": "IPY_MODEL_bb1e190b8bdd4811b3f7e7514343b757"
      }
     },
     "6f6d4be7ffe042e59aa5c99f548d8e17": {
      "model_module": "@jupyter-widgets/controls",
      "model_module_version": "2.0.0",
      "model_name": "HTMLStyleModel",
      "state": {
       "description_width": "",
       "font_size": null,
       "text_color": null
      }
     },
     "6fa15e945eef4b1ab31c9ea97d5efa7a": {
      "model_module": "@jupyter-widgets/controls",
      "model_module_version": "2.0.0",
      "model_name": "HTMLModel",
      "state": {
       "layout": "IPY_MODEL_52bdf6dc395a4c7fb88d28f34c3a6004",
       "style": "IPY_MODEL_d01adba69ce845dca9be618aba52cf95",
       "value": " 6/6000 [00:00&lt;00:36, 162.23it/s]"
      }
     },
     "6fbb90ebb719417d87c8f89d082e0c64": {
      "model_module": "@jupyter-widgets/controls",
      "model_module_version": "2.0.0",
      "model_name": "HTMLModel",
      "state": {
       "layout": "IPY_MODEL_320ad8ef76e24cd5aa3c22b049220009",
       "style": "IPY_MODEL_333d18d350ae4ce8af2616cd74f67a68",
       "value": " 0/6000 [00:00&lt;?, ?it/s]"
      }
     },
     "6fd87a96bbd1413db1950630760e8ef3": {
      "model_module": "@jupyter-widgets/controls",
      "model_module_version": "2.0.0",
      "model_name": "HTMLModel",
      "state": {
       "layout": "IPY_MODEL_ec8acc1f537344b79845719aa079dacc",
       "style": "IPY_MODEL_0c4521caf53c4f319d98d93a67c1f09e",
       "value": " 0/5400 [00:00&lt;?, ?it/s]"
      }
     },
     "701df2407c0c4a3ea6be0aa56a4262bb": {
      "model_module": "@jupyter-widgets/base",
      "model_module_version": "2.0.0",
      "model_name": "LayoutModel",
      "state": {}
     },
     "7039dc630f1c44abbe4f15786efc18f3": {
      "model_module": "@jupyter-widgets/base",
      "model_module_version": "2.0.0",
      "model_name": "LayoutModel",
      "state": {}
     },
     "709a29846ed14b7983e5f82151ed3460": {
      "model_module": "@jupyter-widgets/controls",
      "model_module_version": "2.0.0",
      "model_name": "HTMLModel",
      "state": {
       "layout": "IPY_MODEL_056766192fe54fe5a312c4f898b8681d",
       "style": "IPY_MODEL_7402fd87b8d2443f8ba920f3a969afa5",
       "value": "  0%"
      }
     },
     "70cba3f5f4794769a0456d57aad37e56": {
      "model_module": "@jupyter-widgets/controls",
      "model_module_version": "2.0.0",
      "model_name": "HBoxModel",
      "state": {
       "children": [
        "IPY_MODEL_2cbaf9ca9efd460e972297ef8ea83a19",
        "IPY_MODEL_ef53ea6468444dd183dcd6c618716c94",
        "IPY_MODEL_f551b21f82134a36969af8b39a7cd9e3"
       ],
       "layout": "IPY_MODEL_5215c2ad6783466eb45c0ae3de4612e1"
      }
     },
     "70d082979f5946a882632eae8aac0db4": {
      "model_module": "@jupyter-widgets/controls",
      "model_module_version": "2.0.0",
      "model_name": "HTMLStyleModel",
      "state": {
       "description_width": "",
       "font_size": null,
       "text_color": null
      }
     },
     "70fbc141410d4b7e88d802f2ca72cc90": {
      "model_module": "@jupyter-widgets/controls",
      "model_module_version": "2.0.0",
      "model_name": "HTMLStyleModel",
      "state": {
       "description_width": "",
       "font_size": null,
       "text_color": null
      }
     },
     "71216bf7259d4a82a7fb836445ab162c": {
      "model_module": "@jupyter-widgets/controls",
      "model_module_version": "2.0.0",
      "model_name": "HTMLModel",
      "state": {
       "layout": "IPY_MODEL_882f94534df249edb28ab7fcd886675f",
       "style": "IPY_MODEL_c57a62bad3b446e5969922c814579aed",
       "value": "100%"
      }
     },
     "716c39d20510496ca0e7a26254a86fa5": {
      "model_module": "@jupyter-widgets/base",
      "model_module_version": "2.0.0",
      "model_name": "LayoutModel",
      "state": {}
     },
     "724ce7296c21480f860913f5130d6880": {
      "model_module": "@jupyter-widgets/controls",
      "model_module_version": "2.0.0",
      "model_name": "HTMLModel",
      "state": {
       "layout": "IPY_MODEL_c73d4fa982e749509b2da866a0120734",
       "style": "IPY_MODEL_7996cbe883974fe795c58e471dc2d71c",
       "value": " 6000/6000 [00:02&lt;00:00, 2310.24it/s]"
      }
     },
     "734a185d5c6d4ffaab0f0579829e81c0": {
      "model_module": "@jupyter-widgets/base",
      "model_module_version": "2.0.0",
      "model_name": "LayoutModel",
      "state": {}
     },
     "7359cb1590884d64bdd5011ee646f5b4": {
      "model_module": "@jupyter-widgets/base",
      "model_module_version": "2.0.0",
      "model_name": "LayoutModel",
      "state": {
       "width": "20px"
      }
     },
     "738ef12d720b41d1b78ced6f7fd82e26": {
      "model_module": "@jupyter-widgets/base",
      "model_module_version": "2.0.0",
      "model_name": "LayoutModel",
      "state": {}
     },
     "73ae1ee5c8cd427888cc401ad04f5649": {
      "model_module": "@jupyter-widgets/controls",
      "model_module_version": "2.0.0",
      "model_name": "ProgressStyleModel",
      "state": {
       "description_width": ""
      }
     },
     "73dfbd0cd53e40c89a2e44dffd559cc2": {
      "model_module": "@jupyter-widgets/base",
      "model_module_version": "2.0.0",
      "model_name": "LayoutModel",
      "state": {}
     },
     "7402fd87b8d2443f8ba920f3a969afa5": {
      "model_module": "@jupyter-widgets/controls",
      "model_module_version": "2.0.0",
      "model_name": "HTMLStyleModel",
      "state": {
       "description_width": "",
       "font_size": null,
       "text_color": null
      }
     },
     "741ffeb02a0d4ff183dc251f6366ce80": {
      "model_module": "@jupyter-widgets/controls",
      "model_module_version": "2.0.0",
      "model_name": "HTMLStyleModel",
      "state": {
       "description_width": "",
       "font_size": null,
       "text_color": null
      }
     },
     "7425ded5a31b4d728a3c81b7a2858aa5": {
      "model_module": "@jupyter-widgets/base",
      "model_module_version": "2.0.0",
      "model_name": "LayoutModel",
      "state": {}
     },
     "74a59030a8934ac48b663de780e49d9a": {
      "model_module": "@jupyter-widgets/base",
      "model_module_version": "2.0.0",
      "model_name": "LayoutModel",
      "state": {}
     },
     "74caa08f05c4438e8ed9975667e2d049": {
      "model_module": "@jupyter-widgets/base",
      "model_module_version": "2.0.0",
      "model_name": "LayoutModel",
      "state": {}
     },
     "7608333c5d2844a2b4a61c93dd03f4fb": {
      "model_module": "@jupyter-widgets/base",
      "model_module_version": "2.0.0",
      "model_name": "LayoutModel",
      "state": {
       "width": "20px"
      }
     },
     "760a616ddc754188a580b478be814d3d": {
      "model_module": "@jupyter-widgets/base",
      "model_module_version": "2.0.0",
      "model_name": "LayoutModel",
      "state": {}
     },
     "766130d692674a589d8dd8f427427c3e": {
      "model_module": "@jupyter-widgets/controls",
      "model_module_version": "2.0.0",
      "model_name": "HTMLStyleModel",
      "state": {
       "description_width": "",
       "font_size": null,
       "text_color": null
      }
     },
     "766f2c89d0b546018b57295a9441fb2a": {
      "model_module": "@jupyter-widgets/controls",
      "model_module_version": "2.0.0",
      "model_name": "ProgressStyleModel",
      "state": {
       "description_width": ""
      }
     },
     "767b1f1b86c04dbbbc2b357766793e27": {
      "model_module": "@jupyter-widgets/controls",
      "model_module_version": "2.0.0",
      "model_name": "HTMLModel",
      "state": {
       "layout": "IPY_MODEL_0235d5ff5d99483190539045fef7cc57",
       "style": "IPY_MODEL_3c7a2038165c46209075c457e14a88c3",
       "value": "100%"
      }
     },
     "774bbd598a974cafbad08af0bbaeeb61": {
      "model_module": "@jupyter-widgets/controls",
      "model_module_version": "2.0.0",
      "model_name": "ProgressStyleModel",
      "state": {
       "description_width": ""
      }
     },
     "77e567decbed43b5a5a689604cd9db83": {
      "model_module": "@jupyter-widgets/base",
      "model_module_version": "2.0.0",
      "model_name": "LayoutModel",
      "state": {}
     },
     "77f45b8799f34a2b957958f21a305d10": {
      "model_module": "@jupyter-widgets/controls",
      "model_module_version": "2.0.0",
      "model_name": "HTMLStyleModel",
      "state": {
       "description_width": "",
       "font_size": null,
       "text_color": null
      }
     },
     "77f4d74b7e8c4b34a02155351200118e": {
      "model_module": "@jupyter-widgets/controls",
      "model_module_version": "2.0.0",
      "model_name": "HTMLModel",
      "state": {
       "layout": "IPY_MODEL_d816f8575b6d44abbc89e6285c65d025",
       "style": "IPY_MODEL_f5809499a0504fe88d145febe8e6a1c2",
       "value": " 6000/? [00:05&lt;00:00, 1318.89it/s]"
      }
     },
     "77f75a85fbda4b0fbaacfa5b02da6226": {
      "model_module": "@jupyter-widgets/base",
      "model_module_version": "2.0.0",
      "model_name": "LayoutModel",
      "state": {}
     },
     "783d91f0bbd1454ebad15313f25fc623": {
      "model_module": "@jupyter-widgets/controls",
      "model_module_version": "2.0.0",
      "model_name": "FloatProgressModel",
      "state": {
       "bar_style": "success",
       "layout": "IPY_MODEL_cfd6a901c92c4829ad31abc22b15e295",
       "max": 6000,
       "style": "IPY_MODEL_56c830890aff4e5c8cf7b1c24feddc57",
       "value": 6000
      }
     },
     "787371b32e5941f99d55c7f193256a7a": {
      "model_module": "@jupyter-widgets/controls",
      "model_module_version": "2.0.0",
      "model_name": "HTMLModel",
      "state": {
       "layout": "IPY_MODEL_45b96bc136b446d683fb69b2724f0fac",
       "style": "IPY_MODEL_fe6c090067fd402298fa354cdc1e6d17",
       "value": "100%"
      }
     },
     "78ab8c123dfc456d88ffa42b9e0382b9": {
      "model_module": "@jupyter-widgets/controls",
      "model_module_version": "2.0.0",
      "model_name": "ProgressStyleModel",
      "state": {
       "description_width": ""
      }
     },
     "78bd138b0cd34441b237b3f57b818c42": {
      "model_module": "@jupyter-widgets/controls",
      "model_module_version": "2.0.0",
      "model_name": "FloatProgressModel",
      "state": {
       "bar_style": "success",
       "layout": "IPY_MODEL_32f9a706273840908576799cca2b5baf",
       "max": 6000,
       "style": "IPY_MODEL_d5352b90247440ffa69999f24084ffa8",
       "value": 6000
      }
     },
     "7941650219d34b839120b284a3e9b904": {
      "model_module": "@jupyter-widgets/base",
      "model_module_version": "2.0.0",
      "model_name": "LayoutModel",
      "state": {}
     },
     "79834cfe16cb4fad808afc9f0f198d36": {
      "model_module": "@jupyter-widgets/base",
      "model_module_version": "2.0.0",
      "model_name": "LayoutModel",
      "state": {}
     },
     "7996cbe883974fe795c58e471dc2d71c": {
      "model_module": "@jupyter-widgets/controls",
      "model_module_version": "2.0.0",
      "model_name": "HTMLStyleModel",
      "state": {
       "description_width": "",
       "font_size": null,
       "text_color": null
      }
     },
     "79ccd02a1c3448eca39e82c0d179f5a4": {
      "model_module": "@jupyter-widgets/controls",
      "model_module_version": "2.0.0",
      "model_name": "HTMLModel",
      "state": {
       "layout": "IPY_MODEL_17abea1dd16446a69716b3665c47e3ee",
       "style": "IPY_MODEL_b64329013cce42d9be2ac58da45a5fe4",
       "value": "  0%"
      }
     },
     "79f3e3c6acdb4f71916899555ccd41aa": {
      "model_module": "@jupyter-widgets/controls",
      "model_module_version": "2.0.0",
      "model_name": "HTMLStyleModel",
      "state": {
       "description_width": "",
       "font_size": null,
       "text_color": null
      }
     },
     "7a34360c4de046ca8bacc8e766ce382b": {
      "model_module": "@jupyter-widgets/base",
      "model_module_version": "2.0.0",
      "model_name": "LayoutModel",
      "state": {}
     },
     "7a3bf45ec387445c9f84b0b23c1502c8": {
      "model_module": "@jupyter-widgets/base",
      "model_module_version": "2.0.0",
      "model_name": "LayoutModel",
      "state": {}
     },
     "7a582e9099764bb1bedf8afa2246048a": {
      "model_module": "@jupyter-widgets/base",
      "model_module_version": "2.0.0",
      "model_name": "LayoutModel",
      "state": {}
     },
     "7a5b124284fd4d43ae57384183d2860d": {
      "model_module": "@jupyter-widgets/controls",
      "model_module_version": "2.0.0",
      "model_name": "FloatProgressModel",
      "state": {
       "bar_style": "success",
       "layout": "IPY_MODEL_e1e96d6acd1e4c17a2e442c9c8cdcf9e",
       "max": 6000,
       "style": "IPY_MODEL_39707622a19e4e718d685881ede0b3d8",
       "value": 6000
      }
     },
     "7a845c154ed1406d8a95d2bc3cb65e0e": {
      "model_module": "@jupyter-widgets/controls",
      "model_module_version": "2.0.0",
      "model_name": "HBoxModel",
      "state": {
       "children": [
        "IPY_MODEL_767b1f1b86c04dbbbc2b357766793e27",
        "IPY_MODEL_c498890feeb04c6ba86adeed7651fb49",
        "IPY_MODEL_180f6723465c46e4b5f9df4d849bb69e"
       ],
       "layout": "IPY_MODEL_d9444a5f09054e26b00c0ccb702c95a9"
      }
     },
     "7c1180d4f2dd4c0880548958c7fc83af": {
      "model_module": "@jupyter-widgets/base",
      "model_module_version": "2.0.0",
      "model_name": "LayoutModel",
      "state": {
       "width": "20px"
      }
     },
     "7c5d62851c3d4e33879b41de07c9177c": {
      "model_module": "@jupyter-widgets/controls",
      "model_module_version": "2.0.0",
      "model_name": "FloatProgressModel",
      "state": {
       "bar_style": "success",
       "layout": "IPY_MODEL_abc031bcbd844a599527a90a9e2a1c3a",
       "max": 6000,
       "style": "IPY_MODEL_448e3d8cc3704e7aa6c2db93b9eabc8c",
       "value": 6000
      }
     },
     "7c6203d7098b451bbe4bd1d5f3b2fb32": {
      "model_module": "@jupyter-widgets/base",
      "model_module_version": "2.0.0",
      "model_name": "LayoutModel",
      "state": {}
     },
     "7c791c0facd14de0a08611615ad5e2d9": {
      "model_module": "@jupyter-widgets/controls",
      "model_module_version": "2.0.0",
      "model_name": "HBoxModel",
      "state": {
       "children": [
        "IPY_MODEL_b94fbed276ea43dea0f178246952d895",
        "IPY_MODEL_366ee97ab2ee4b65b07b7e2bc340d5b1",
        "IPY_MODEL_8709814bc4b74cfaa0b3785c1fd01487"
       ],
       "layout": "IPY_MODEL_959645a291b344829bfb6955a1979614"
      }
     },
     "7d8fa1ae075545e090b4b8b56047f90b": {
      "model_module": "@jupyter-widgets/base",
      "model_module_version": "2.0.0",
      "model_name": "LayoutModel",
      "state": {
       "width": "20px"
      }
     },
     "7df51c3b38c249d5a277031ec2b11c85": {
      "model_module": "@jupyter-widgets/base",
      "model_module_version": "2.0.0",
      "model_name": "LayoutModel",
      "state": {}
     },
     "7e33fd278a4e4ec497c3d4cba2e280cb": {
      "model_module": "@jupyter-widgets/base",
      "model_module_version": "2.0.0",
      "model_name": "LayoutModel",
      "state": {}
     },
     "7e4f79cbd5634dbc9948db06c69a1903": {
      "model_module": "@jupyter-widgets/base",
      "model_module_version": "2.0.0",
      "model_name": "LayoutModel",
      "state": {}
     },
     "7f1f72c33cc5415c9508a604e786830a": {
      "model_module": "@jupyter-widgets/controls",
      "model_module_version": "2.0.0",
      "model_name": "HBoxModel",
      "state": {
       "children": [
        "IPY_MODEL_c719346671804c1da3f598a6e9367d24",
        "IPY_MODEL_d7db9f059e5640de8f938e6101f6b586",
        "IPY_MODEL_4b8aebf18de045629525721c6827f21a"
       ],
       "layout": "IPY_MODEL_23363f0f0d9040c6a2c95843c2fb1045"
      }
     },
     "7f5d9e87de79473fa713e860c54c9ad3": {
      "model_module": "@jupyter-widgets/controls",
      "model_module_version": "2.0.0",
      "model_name": "HTMLModel",
      "state": {
       "layout": "IPY_MODEL_22e5c9072f5646868b4ddbadd0d40335",
       "style": "IPY_MODEL_53d57a4251ce4d2a977f07d4302075a5",
       "value": "100%"
      }
     },
     "7f6d04683ec64f7390a73d76b7ba3540": {
      "model_module": "@jupyter-widgets/controls",
      "model_module_version": "2.0.0",
      "model_name": "HBoxModel",
      "state": {
       "children": [
        "IPY_MODEL_c33e18fcdfc344fc91bd424635cac02b",
        "IPY_MODEL_a64fae188f6c4b8e86beaecdec41c2c3",
        "IPY_MODEL_aba923b1053b4746a51206ebc5970e26"
       ],
       "layout": "IPY_MODEL_1ff9d4261e4c4c3bbaa269ac4f044f98"
      }
     },
     "7f7bcea41d694984a780b19522613087": {
      "model_module": "@jupyter-widgets/controls",
      "model_module_version": "2.0.0",
      "model_name": "HBoxModel",
      "state": {
       "children": [
        "IPY_MODEL_b557c1082e64494fb729ce4d0d383d24",
        "IPY_MODEL_566bccf0bd544a739f82a5fb79f2bfe2",
        "IPY_MODEL_bcf68850fda74cc08cd75af438e27cd0"
       ],
       "layout": "IPY_MODEL_d607b8eba56b4aad88a1978fe2b8cbf3"
      }
     },
     "7fc57772f3e646a3b4b70e3ca74eadd0": {
      "model_module": "@jupyter-widgets/base",
      "model_module_version": "2.0.0",
      "model_name": "LayoutModel",
      "state": {}
     },
     "7fcf28045a054f13b153c6aca41fe21c": {
      "model_module": "@jupyter-widgets/controls",
      "model_module_version": "2.0.0",
      "model_name": "HTMLStyleModel",
      "state": {
       "description_width": "",
       "font_size": null,
       "text_color": null
      }
     },
     "800c58aa93e44c52beb37dbfd164b04a": {
      "model_module": "@jupyter-widgets/base",
      "model_module_version": "2.0.0",
      "model_name": "LayoutModel",
      "state": {}
     },
     "808e1f30a7c548b7b7a62cf531fe1944": {
      "model_module": "@jupyter-widgets/base",
      "model_module_version": "2.0.0",
      "model_name": "LayoutModel",
      "state": {}
     },
     "80910d59552d4c2bbe3969c1aa62ee2a": {
      "model_module": "@jupyter-widgets/controls",
      "model_module_version": "2.0.0",
      "model_name": "ProgressStyleModel",
      "state": {
       "description_width": ""
      }
     },
     "80b137379080418ea3a8b960b529a93a": {
      "model_module": "@jupyter-widgets/controls",
      "model_module_version": "2.0.0",
      "model_name": "HTMLStyleModel",
      "state": {
       "description_width": "",
       "font_size": null,
       "text_color": null
      }
     },
     "80e9cdc2e28c473a9047887f4413c9fa": {
      "model_module": "@jupyter-widgets/controls",
      "model_module_version": "2.0.0",
      "model_name": "HTMLModel",
      "state": {
       "layout": "IPY_MODEL_ecd6bb0f103f4cd79cbac16ac5a2b62f",
       "style": "IPY_MODEL_d090814cfa984f73a632c60d0a6ad0eb",
       "value": " 3349/6000 [00:03&lt;00:02, 914.51it/s]"
      }
     },
     "81008a9aa8d14f0584098652e3d34681": {
      "model_module": "@jupyter-widgets/controls",
      "model_module_version": "2.0.0",
      "model_name": "FloatProgressModel",
      "state": {
       "bar_style": "success",
       "layout": "IPY_MODEL_7d8fa1ae075545e090b4b8b56047f90b",
       "max": 1,
       "style": "IPY_MODEL_11e760e5661949c995d16ed3e4fa44d2",
       "value": 1
      }
     },
     "816c3c0f4a774e6c89e9c9626c0cffdb": {
      "model_module": "@jupyter-widgets/base",
      "model_module_version": "2.0.0",
      "model_name": "LayoutModel",
      "state": {}
     },
     "81736fa8cd80460d8e0d9cfc20cdf983": {
      "model_module": "@jupyter-widgets/controls",
      "model_module_version": "2.0.0",
      "model_name": "ProgressStyleModel",
      "state": {
       "description_width": ""
      }
     },
     "81951bf9170741849b3167df3fe4e06f": {
      "model_module": "@jupyter-widgets/base",
      "model_module_version": "2.0.0",
      "model_name": "LayoutModel",
      "state": {}
     },
     "81e52d9e5e494d8ab3c736820e5d261f": {
      "model_module": "@jupyter-widgets/base",
      "model_module_version": "2.0.0",
      "model_name": "LayoutModel",
      "state": {}
     },
     "820cf7a6d5464baabc146caa98aa4f83": {
      "model_module": "@jupyter-widgets/base",
      "model_module_version": "2.0.0",
      "model_name": "LayoutModel",
      "state": {}
     },
     "82534e21f93349ee9260427c72d3b86f": {
      "model_module": "@jupyter-widgets/base",
      "model_module_version": "2.0.0",
      "model_name": "LayoutModel",
      "state": {}
     },
     "8298fe3a7776431ba5fc64a9bbd69725": {
      "model_module": "@jupyter-widgets/controls",
      "model_module_version": "2.0.0",
      "model_name": "ProgressStyleModel",
      "state": {
       "description_width": ""
      }
     },
     "82f5745f4a1e48eca9fa33f25df64f97": {
      "model_module": "@jupyter-widgets/controls",
      "model_module_version": "2.0.0",
      "model_name": "HTMLStyleModel",
      "state": {
       "description_width": "",
       "font_size": null,
       "text_color": null
      }
     },
     "83282f9944384c9593a94bf8724be6bc": {
      "model_module": "@jupyter-widgets/controls",
      "model_module_version": "2.0.0",
      "model_name": "HTMLModel",
      "state": {
       "layout": "IPY_MODEL_ce096253578648c293652e3f242fd637",
       "style": "IPY_MODEL_d282000c92bb4a9198f59b0c34b8c6a0",
       "value": " 6000/6000 [00:02&lt;00:00, 2450.53it/s]"
      }
     },
     "833ecb05bf044c04b1742b51fcd9705f": {
      "model_module": "@jupyter-widgets/base",
      "model_module_version": "2.0.0",
      "model_name": "LayoutModel",
      "state": {}
     },
     "8373d63f76d44691af5cbfea6a25ae5a": {
      "model_module": "@jupyter-widgets/base",
      "model_module_version": "2.0.0",
      "model_name": "LayoutModel",
      "state": {}
     },
     "84b5884707434025a5377e5148893701": {
      "model_module": "@jupyter-widgets/base",
      "model_module_version": "2.0.0",
      "model_name": "LayoutModel",
      "state": {}
     },
     "84f749a740654aaea25d8b4f49f77f3f": {
      "model_module": "@jupyter-widgets/controls",
      "model_module_version": "2.0.0",
      "model_name": "FloatProgressModel",
      "state": {
       "bar_style": "danger",
       "layout": "IPY_MODEL_a69745734444496c8b65602aa3340605",
       "max": 6000,
       "style": "IPY_MODEL_128863671b364a5fbfd5d4c1818b701d",
       "value": 6
      }
     },
     "850e27d2439a48debff9644768699bac": {
      "model_module": "@jupyter-widgets/controls",
      "model_module_version": "2.0.0",
      "model_name": "ProgressStyleModel",
      "state": {
       "description_width": ""
      }
     },
     "852df6e680084b049ea5b779a3c5333d": {
      "model_module": "@jupyter-widgets/controls",
      "model_module_version": "2.0.0",
      "model_name": "HTMLModel",
      "state": {
       "layout": "IPY_MODEL_1f392b81369b43f084e8e297d387dcab",
       "style": "IPY_MODEL_6f6d4be7ffe042e59aa5c99f548d8e17",
       "value": "  0%"
      }
     },
     "85839ec36df84f538e1d0ea1aab66ac1": {
      "model_module": "@jupyter-widgets/controls",
      "model_module_version": "2.0.0",
      "model_name": "HTMLStyleModel",
      "state": {
       "description_width": "",
       "font_size": null,
       "text_color": null
      }
     },
     "85badb89f5404134933ba278dd081cd1": {
      "model_module": "@jupyter-widgets/base",
      "model_module_version": "2.0.0",
      "model_name": "LayoutModel",
      "state": {}
     },
     "86320103fc6d49dca228c0e8dac26448": {
      "model_module": "@jupyter-widgets/controls",
      "model_module_version": "2.0.0",
      "model_name": "HTMLModel",
      "state": {
       "layout": "IPY_MODEL_2bc5ef41b46145239eda8c0c62d3b8cc",
       "style": "IPY_MODEL_2eb482e2b52b42cbb40ac141b6b34200",
       "value": "  0%"
      }
     },
     "864d1cd79038483db5a890aec8311361": {
      "model_module": "@jupyter-widgets/controls",
      "model_module_version": "2.0.0",
      "model_name": "HTMLModel",
      "state": {
       "layout": "IPY_MODEL_564398fac12f41ea8a82250f733c0ce4",
       "style": "IPY_MODEL_b608d967ba6d4f6e9638442f1abc6678",
       "value": "  0%"
      }
     },
     "86ddb599c4804132b487a2073f362bac": {
      "model_module": "@jupyter-widgets/base",
      "model_module_version": "2.0.0",
      "model_name": "LayoutModel",
      "state": {}
     },
     "8709814bc4b74cfaa0b3785c1fd01487": {
      "model_module": "@jupyter-widgets/controls",
      "model_module_version": "2.0.0",
      "model_name": "HTMLModel",
      "state": {
       "layout": "IPY_MODEL_331bb9cde1684349bb253d49c98f1b7b",
       "style": "IPY_MODEL_2067f6ea658d4ae1b4be3db8b9eb9d11",
       "value": " 0/6000 [00:00&lt;?, ?it/s]"
      }
     },
     "87618531b74243e595d7e9b3aa52fdf7": {
      "model_module": "@jupyter-widgets/controls",
      "model_module_version": "2.0.0",
      "model_name": "HTMLModel",
      "state": {
       "layout": "IPY_MODEL_dce8706785004d8296d06aeb97eef0fa",
       "style": "IPY_MODEL_5dc19b2b032f4e21a19e157038ae10e1",
       "value": "100%"
      }
     },
     "878d07c0eb024b13a89dfcc1e6a42992": {
      "model_module": "@jupyter-widgets/controls",
      "model_module_version": "2.0.0",
      "model_name": "HTMLStyleModel",
      "state": {
       "description_width": "",
       "font_size": null,
       "text_color": null
      }
     },
     "882dd31778104a98bcbad3562c12f030": {
      "model_module": "@jupyter-widgets/base",
      "model_module_version": "2.0.0",
      "model_name": "LayoutModel",
      "state": {}
     },
     "882f94534df249edb28ab7fcd886675f": {
      "model_module": "@jupyter-widgets/base",
      "model_module_version": "2.0.0",
      "model_name": "LayoutModel",
      "state": {}
     },
     "884c4e4df4a5416db9f337adaf7813d9": {
      "model_module": "@jupyter-widgets/base",
      "model_module_version": "2.0.0",
      "model_name": "LayoutModel",
      "state": {
       "width": "20px"
      }
     },
     "88802523614f44e8b5c42925c2468076": {
      "model_module": "@jupyter-widgets/controls",
      "model_module_version": "2.0.0",
      "model_name": "HBoxModel",
      "state": {
       "children": [
        "IPY_MODEL_072b96b368104f9e951c16856af205e7",
        "IPY_MODEL_caabdd3c59234135834a7157aa616f89",
        "IPY_MODEL_caf258f8a6be4a339afe0b32a5797df9"
       ],
       "layout": "IPY_MODEL_dc9c908dd35d4f309953f81bfc4a64f3"
      }
     },
     "88938519400b404884c4accb0f0abe40": {
      "model_module": "@jupyter-widgets/controls",
      "model_module_version": "2.0.0",
      "model_name": "FloatProgressModel",
      "state": {
       "bar_style": "danger",
       "layout": "IPY_MODEL_c9fa19cc3a934464a130c509f0c7334b",
       "max": 6000,
       "style": "IPY_MODEL_3ceb2e3bdb5f4fff9560984e3130e909",
       "value": 6
      }
     },
     "88c79399a7f6448592bb0daf18e15c73": {
      "model_module": "@jupyter-widgets/controls",
      "model_module_version": "2.0.0",
      "model_name": "HTMLModel",
      "state": {
       "layout": "IPY_MODEL_406d4b82102c4f77b318ae287a242ebb",
       "style": "IPY_MODEL_449238a3dde948f99554e1a4f0b387a4",
       "value": "100%"
      }
     },
     "88e9c4222e2b46c38e169990b5ccbda1": {
      "model_module": "@jupyter-widgets/base",
      "model_module_version": "2.0.0",
      "model_name": "LayoutModel",
      "state": {}
     },
     "891dc8de53f145c29fdbc88c6e828eb9": {
      "model_module": "@jupyter-widgets/base",
      "model_module_version": "2.0.0",
      "model_name": "LayoutModel",
      "state": {}
     },
     "8947997db6f94ac2bb67f43ff5229fd3": {
      "model_module": "@jupyter-widgets/controls",
      "model_module_version": "2.0.0",
      "model_name": "ProgressStyleModel",
      "state": {
       "description_width": ""
      }
     },
     "895b53987d48436dbf9274e736ba38db": {
      "model_module": "@jupyter-widgets/controls",
      "model_module_version": "2.0.0",
      "model_name": "HTMLModel",
      "state": {
       "layout": "IPY_MODEL_e5989174622744e0bb08b84558edd3d8",
       "style": "IPY_MODEL_2744c670547c46119055d8a3c2fbd6f0",
       "value": " 6/6000 [00:00&lt;00:49, 120.51it/s]"
      }
     },
     "8964860a7f5d4ef29fae711b3e080a69": {
      "model_module": "@jupyter-widgets/controls",
      "model_module_version": "2.0.0",
      "model_name": "ProgressStyleModel",
      "state": {
       "description_width": ""
      }
     },
     "8a0ea777e16140c2a0c42be8acb1eb97": {
      "model_module": "@jupyter-widgets/controls",
      "model_module_version": "2.0.0",
      "model_name": "HTMLStyleModel",
      "state": {
       "description_width": "",
       "font_size": null,
       "text_color": null
      }
     },
     "8a45a8c3cfc24f20beece594921b8ff3": {
      "model_module": "@jupyter-widgets/controls",
      "model_module_version": "2.0.0",
      "model_name": "ProgressStyleModel",
      "state": {
       "description_width": ""
      }
     },
     "8a6ae1ba88834228a58e442f7bc34bd6": {
      "model_module": "@jupyter-widgets/controls",
      "model_module_version": "2.0.0",
      "model_name": "HTMLStyleModel",
      "state": {
       "description_width": "",
       "font_size": null,
       "text_color": null
      }
     },
     "8abc57c41a554c7ab5ed1bb389b263da": {
      "model_module": "@jupyter-widgets/base",
      "model_module_version": "2.0.0",
      "model_name": "LayoutModel",
      "state": {}
     },
     "8b45a310d59b4d16bee1622ad2c987cd": {
      "model_module": "@jupyter-widgets/controls",
      "model_module_version": "2.0.0",
      "model_name": "HTMLStyleModel",
      "state": {
       "description_width": "",
       "font_size": null,
       "text_color": null
      }
     },
     "8c7c7515c26d4e2cbea96c04f6555fd4": {
      "model_module": "@jupyter-widgets/controls",
      "model_module_version": "2.0.0",
      "model_name": "HBoxModel",
      "state": {
       "children": [
        "IPY_MODEL_71216bf7259d4a82a7fb836445ab162c",
        "IPY_MODEL_5e13a5fba783465594057011f4a97a3e",
        "IPY_MODEL_3e49604303e944998e5b6ba29bb8bac8"
       ],
       "layout": "IPY_MODEL_9e45b64b11684a459726a3dac7df990b"
      }
     },
     "8d1777a5f7bf4a3a8c874843e7d923c6": {
      "model_module": "@jupyter-widgets/base",
      "model_module_version": "2.0.0",
      "model_name": "LayoutModel",
      "state": {}
     },
     "8d28dee22ecd4cf5b0002149478e72ab": {
      "model_module": "@jupyter-widgets/controls",
      "model_module_version": "2.0.0",
      "model_name": "HTMLModel",
      "state": {
       "layout": "IPY_MODEL_b3540a2618584d098a240c72de5e36a8",
       "style": "IPY_MODEL_6ebe9d8b68214166a867a1574e67a34d",
       "value": " 6000/6000 [00:02&lt;00:00, 2378.93it/s]"
      }
     },
     "8d6b0d524f62484f9323d07a4ead74db": {
      "model_module": "@jupyter-widgets/base",
      "model_module_version": "2.0.0",
      "model_name": "LayoutModel",
      "state": {}
     },
     "8dc3de0d73fc48de96fcc43d69297fca": {
      "model_module": "@jupyter-widgets/controls",
      "model_module_version": "2.0.0",
      "model_name": "HTMLModel",
      "state": {
       "layout": "IPY_MODEL_1e07a173dd804edab4e895284ba3eec8",
       "style": "IPY_MODEL_1d34f0ae04a04b8cbb1b838b676a3637",
       "value": " 0/? [00:00&lt;?, ?it/s]"
      }
     },
     "8e1e5521b06d425b916050bb70c3b8b8": {
      "model_module": "@jupyter-widgets/base",
      "model_module_version": "2.0.0",
      "model_name": "LayoutModel",
      "state": {}
     },
     "8eac995e8d044620b4f17e8077fabef3": {
      "model_module": "@jupyter-widgets/base",
      "model_module_version": "2.0.0",
      "model_name": "LayoutModel",
      "state": {}
     },
     "8eb336b222d64774949f17ec3d10b74f": {
      "model_module": "@jupyter-widgets/controls",
      "model_module_version": "2.0.0",
      "model_name": "ProgressStyleModel",
      "state": {
       "description_width": ""
      }
     },
     "8eb3c73077b3413f982c3202e14b058d": {
      "model_module": "@jupyter-widgets/controls",
      "model_module_version": "2.0.0",
      "model_name": "ProgressStyleModel",
      "state": {
       "description_width": ""
      }
     },
     "8ec8017dd7914b05b58139684215ade3": {
      "model_module": "@jupyter-widgets/base",
      "model_module_version": "2.0.0",
      "model_name": "LayoutModel",
      "state": {}
     },
     "8ee050f839814a6984c66b84de92cc19": {
      "model_module": "@jupyter-widgets/base",
      "model_module_version": "2.0.0",
      "model_name": "LayoutModel",
      "state": {}
     },
     "8fdd69e99c5247a1908263b0ff0a1b4a": {
      "model_module": "@jupyter-widgets/controls",
      "model_module_version": "2.0.0",
      "model_name": "HTMLModel",
      "state": {
       "layout": "IPY_MODEL_979195ee45574b95b128dfe7c5cfa8a2",
       "style": "IPY_MODEL_10df9a5905864ee5b44f0996cb1772df",
       "value": "  0%"
      }
     },
     "90030e9864db473d93f18d4dbf29be1e": {
      "model_module": "@jupyter-widgets/controls",
      "model_module_version": "2.0.0",
      "model_name": "FloatProgressModel",
      "state": {
       "bar_style": "success",
       "layout": "IPY_MODEL_5cb130cc0095494ab16648331508c855",
       "max": 6000,
       "style": "IPY_MODEL_5fa5f4dbbe9c4c23811f80cc5891f532",
       "value": 6000
      }
     },
     "91236a3cac9540028b0b48b821d57c34": {
      "model_module": "@jupyter-widgets/controls",
      "model_module_version": "2.0.0",
      "model_name": "HTMLStyleModel",
      "state": {
       "description_width": "",
       "font_size": null,
       "text_color": null
      }
     },
     "912e6bf77238486f91627d3172fc9ddb": {
      "model_module": "@jupyter-widgets/controls",
      "model_module_version": "2.0.0",
      "model_name": "HTMLStyleModel",
      "state": {
       "description_width": "",
       "font_size": null,
       "text_color": null
      }
     },
     "91896c0ed37b493e95a4a3746e017d50": {
      "model_module": "@jupyter-widgets/base",
      "model_module_version": "2.0.0",
      "model_name": "LayoutModel",
      "state": {}
     },
     "91a2e5c0fbf84ababc2e7a72157d2cab": {
      "model_module": "@jupyter-widgets/controls",
      "model_module_version": "2.0.0",
      "model_name": "HTMLStyleModel",
      "state": {
       "description_width": "",
       "font_size": null,
       "text_color": null
      }
     },
     "91b0990bdb6f4edf834ac803bf0fc4ad": {
      "model_module": "@jupyter-widgets/base",
      "model_module_version": "2.0.0",
      "model_name": "LayoutModel",
      "state": {}
     },
     "91db549e2b86451ca75bd9cc64459bad": {
      "model_module": "@jupyter-widgets/controls",
      "model_module_version": "2.0.0",
      "model_name": "HTMLStyleModel",
      "state": {
       "description_width": "",
       "font_size": null,
       "text_color": null
      }
     },
     "9245add9cac6408cbdea5b162fbb8deb": {
      "model_module": "@jupyter-widgets/controls",
      "model_module_version": "2.0.0",
      "model_name": "HBoxModel",
      "state": {
       "children": [
        "IPY_MODEL_57017812e6ec4d4fa0f10dc20497aab7",
        "IPY_MODEL_c268dc96eafb4b73a68666914d1f8c97",
        "IPY_MODEL_12e77db32776430a96e53c3801f665d0"
       ],
       "layout": "IPY_MODEL_c4d407f3f4304bae94a275b508f7ce90"
      }
     },
     "92772deb35404f97821112c0cc861680": {
      "model_module": "@jupyter-widgets/controls",
      "model_module_version": "2.0.0",
      "model_name": "HTMLModel",
      "state": {
       "layout": "IPY_MODEL_ba0ad52a8aed4e67a12e490fa373acd1",
       "style": "IPY_MODEL_1871a4106ed34df583c9eb10a2d930a0",
       "value": " 6000/6000 [00:05&lt;00:00, 1211.52it/s]"
      }
     },
     "92998a4a0fa043a482df7f559fffd506": {
      "model_module": "@jupyter-widgets/base",
      "model_module_version": "2.0.0",
      "model_name": "LayoutModel",
      "state": {}
     },
     "92c11f4c51a14a7b948db978537f121d": {
      "model_module": "@jupyter-widgets/base",
      "model_module_version": "2.0.0",
      "model_name": "LayoutModel",
      "state": {}
     },
     "9392ad2d4e1e40fca325f44963472203": {
      "model_module": "@jupyter-widgets/base",
      "model_module_version": "2.0.0",
      "model_name": "LayoutModel",
      "state": {}
     },
     "93d3f4fe50e94a5f9b35d0a18ef4b40d": {
      "model_module": "@jupyter-widgets/controls",
      "model_module_version": "2.0.0",
      "model_name": "HBoxModel",
      "state": {
       "children": [
        "IPY_MODEL_fd81bb742e3b47339a641aaa4d81fa9b",
        "IPY_MODEL_132689e2e2304a6abf16a3c4c1b74778",
        "IPY_MODEL_e0e1b29bfda14c3d8f4f425d70450d41"
       ],
       "layout": "IPY_MODEL_f2ed98f8fa2e4f85b4e982dcb1f50f9f"
      }
     },
     "940d55407e634daeb2e47e2c88fedb26": {
      "model_module": "@jupyter-widgets/controls",
      "model_module_version": "2.0.0",
      "model_name": "HTMLStyleModel",
      "state": {
       "description_width": "",
       "font_size": null,
       "text_color": null
      }
     },
     "94249246816a4507962b431e074daba6": {
      "model_module": "@jupyter-widgets/controls",
      "model_module_version": "2.0.0",
      "model_name": "HBoxModel",
      "state": {
       "children": [
        "IPY_MODEL_c1dc26d4375b444490a4bf6fe87040dc",
        "IPY_MODEL_368ae4d54ce6440f90d0bf329e3f02e8",
        "IPY_MODEL_dabea1d65d9748189809df8893474f4f"
       ],
       "layout": "IPY_MODEL_7c6203d7098b451bbe4bd1d5f3b2fb32"
      }
     },
     "945e2b4b1659459e9841308a82661c0a": {
      "model_module": "@jupyter-widgets/controls",
      "model_module_version": "2.0.0",
      "model_name": "HTMLModel",
      "state": {
       "layout": "IPY_MODEL_51de85b9ac2c40bfa93963cb545928de",
       "style": "IPY_MODEL_8b45a310d59b4d16bee1622ad2c987cd",
       "value": "100%"
      }
     },
     "94c3c7284e714123a72e0105bc0d9b0a": {
      "model_module": "@jupyter-widgets/base",
      "model_module_version": "2.0.0",
      "model_name": "LayoutModel",
      "state": {}
     },
     "9541971819184b5d9b378a2d754ba210": {
      "model_module": "@jupyter-widgets/controls",
      "model_module_version": "2.0.0",
      "model_name": "HTMLStyleModel",
      "state": {
       "description_width": "",
       "font_size": null,
       "text_color": null
      }
     },
     "955dc6b0e29c4af0ba8ce4f4047e7ee5": {
      "model_module": "@jupyter-widgets/base",
      "model_module_version": "2.0.0",
      "model_name": "LayoutModel",
      "state": {}
     },
     "959645a291b344829bfb6955a1979614": {
      "model_module": "@jupyter-widgets/base",
      "model_module_version": "2.0.0",
      "model_name": "LayoutModel",
      "state": {}
     },
     "95c6aeb7c8914817b095f222a5bcfaa5": {
      "model_module": "@jupyter-widgets/controls",
      "model_module_version": "2.0.0",
      "model_name": "HTMLStyleModel",
      "state": {
       "description_width": "",
       "font_size": null,
       "text_color": null
      }
     },
     "95d714a5f37d4f0489383d45b9d8f692": {
      "model_module": "@jupyter-widgets/controls",
      "model_module_version": "2.0.0",
      "model_name": "HTMLModel",
      "state": {
       "layout": "IPY_MODEL_0fbae9ee0c9a4d04997539aee2339c2d",
       "style": "IPY_MODEL_79f3e3c6acdb4f71916899555ccd41aa",
       "value": " 6000/6000 [00:02&lt;00:00, 2269.43it/s]"
      }
     },
     "95ff06bdb7ff4db88ccd33b166850d31": {
      "model_module": "@jupyter-widgets/base",
      "model_module_version": "2.0.0",
      "model_name": "LayoutModel",
      "state": {}
     },
     "960c39a052c241c38231a95b7b990d71": {
      "model_module": "@jupyter-widgets/base",
      "model_module_version": "2.0.0",
      "model_name": "LayoutModel",
      "state": {}
     },
     "961707bd051d485fa5b4f9384db4670e": {
      "model_module": "@jupyter-widgets/controls",
      "model_module_version": "2.0.0",
      "model_name": "HBoxModel",
      "state": {
       "children": [
        "IPY_MODEL_2b86b5a737db411aa11af76c8814de41",
        "IPY_MODEL_dcf6d9495dd24832acac07be683dfe99",
        "IPY_MODEL_e4280a3b6a8a46c1bce945900dcd642e"
       ],
       "layout": "IPY_MODEL_42b21ea49b8542db8fde4a6d633aa721"
      }
     },
     "963b7cedd2634f0ab65c02fc75b93327": {
      "model_module": "@jupyter-widgets/base",
      "model_module_version": "2.0.0",
      "model_name": "LayoutModel",
      "state": {}
     },
     "9744767793d84106b478bf6bd4ba02b5": {
      "model_module": "@jupyter-widgets/base",
      "model_module_version": "2.0.0",
      "model_name": "LayoutModel",
      "state": {}
     },
     "979195ee45574b95b128dfe7c5cfa8a2": {
      "model_module": "@jupyter-widgets/base",
      "model_module_version": "2.0.0",
      "model_name": "LayoutModel",
      "state": {}
     },
     "97a3f6435a704f0da54a6d04a0b847b4": {
      "model_module": "@jupyter-widgets/controls",
      "model_module_version": "2.0.0",
      "model_name": "HTMLModel",
      "state": {
       "layout": "IPY_MODEL_c6412e52d6ec400ba998255d82f65511",
       "style": "IPY_MODEL_dd797a684699461faa22c5eeb289c803",
       "value": " 6000/? [00:03&lt;00:00, 1755.20it/s]"
      }
     },
     "98a6229739f24aba926906314468844a": {
      "model_module": "@jupyter-widgets/controls",
      "model_module_version": "2.0.0",
      "model_name": "HTMLStyleModel",
      "state": {
       "description_width": "",
       "font_size": null,
       "text_color": null
      }
     },
     "98de1789821742eeb162400e9ede3025": {
      "model_module": "@jupyter-widgets/controls",
      "model_module_version": "2.0.0",
      "model_name": "HTMLModel",
      "state": {
       "layout": "IPY_MODEL_4332c299003245479220e113143c2395",
       "style": "IPY_MODEL_4904b71464484192ae575121de04aac2",
       "value": " 6000/6000 [00:04&lt;00:00, 1548.86it/s]"
      }
     },
     "99888c44c4a74fc0ace549bfb280e231": {
      "model_module": "@jupyter-widgets/controls",
      "model_module_version": "2.0.0",
      "model_name": "ProgressStyleModel",
      "state": {
       "description_width": ""
      }
     },
     "998ac5c4a80c4011874ae3c89a2443ca": {
      "model_module": "@jupyter-widgets/base",
      "model_module_version": "2.0.0",
      "model_name": "LayoutModel",
      "state": {}
     },
     "99b4375e0cac46b4881e009bdb484d32": {
      "model_module": "@jupyter-widgets/controls",
      "model_module_version": "2.0.0",
      "model_name": "FloatProgressModel",
      "state": {
       "bar_style": "danger",
       "layout": "IPY_MODEL_d779cb30098e4fd5b208f75ddacf1f4b",
       "max": 6000,
       "style": "IPY_MODEL_99888c44c4a74fc0ace549bfb280e231"
      }
     },
     "99e8e4236bc2421184c181a6348119f8": {
      "model_module": "@jupyter-widgets/controls",
      "model_module_version": "2.0.0",
      "model_name": "HTMLModel",
      "state": {
       "layout": "IPY_MODEL_38d0a7f8efdd4b2388459597e64a90de",
       "style": "IPY_MODEL_c19299fe13f0420084e4691a1de0c28c",
       "value": "100%"
      }
     },
     "9a57b6b7d11a47029502af02080c90ee": {
      "model_module": "@jupyter-widgets/controls",
      "model_module_version": "2.0.0",
      "model_name": "HTMLStyleModel",
      "state": {
       "description_width": "",
       "font_size": null,
       "text_color": null
      }
     },
     "9aac3b0c5b084040b4169178b206a382": {
      "model_module": "@jupyter-widgets/controls",
      "model_module_version": "2.0.0",
      "model_name": "ProgressStyleModel",
      "state": {
       "description_width": ""
      }
     },
     "9c3226d1be914418813c7d9edac83a2a": {
      "model_module": "@jupyter-widgets/base",
      "model_module_version": "2.0.0",
      "model_name": "LayoutModel",
      "state": {
       "width": "20px"
      }
     },
     "9c4f21556569413d8e673bf4e6852b9d": {
      "model_module": "@jupyter-widgets/base",
      "model_module_version": "2.0.0",
      "model_name": "LayoutModel",
      "state": {}
     },
     "9c75b3ffb7b440c188baf2abe4450bc2": {
      "model_module": "@jupyter-widgets/base",
      "model_module_version": "2.0.0",
      "model_name": "LayoutModel",
      "state": {}
     },
     "9cb6bde8a1694dbb95f7617d5bbee77f": {
      "model_module": "@jupyter-widgets/base",
      "model_module_version": "2.0.0",
      "model_name": "LayoutModel",
      "state": {}
     },
     "9dd16c89ddd54edabc1b23756f614b51": {
      "model_module": "@jupyter-widgets/controls",
      "model_module_version": "2.0.0",
      "model_name": "ProgressStyleModel",
      "state": {
       "description_width": ""
      }
     },
     "9dfab60d6a63492495b94317b79cfb82": {
      "model_module": "@jupyter-widgets/controls",
      "model_module_version": "2.0.0",
      "model_name": "ProgressStyleModel",
      "state": {
       "description_width": ""
      }
     },
     "9e45b64b11684a459726a3dac7df990b": {
      "model_module": "@jupyter-widgets/base",
      "model_module_version": "2.0.0",
      "model_name": "LayoutModel",
      "state": {}
     },
     "9e4cec22b51847b0ae676e829ec0d967": {
      "model_module": "@jupyter-widgets/base",
      "model_module_version": "2.0.0",
      "model_name": "LayoutModel",
      "state": {}
     },
     "9e81e392019748eaa2e748c9add201f1": {
      "model_module": "@jupyter-widgets/base",
      "model_module_version": "2.0.0",
      "model_name": "LayoutModel",
      "state": {}
     },
     "9e8f34447ab349fbb0c959e25cd3f79b": {
      "model_module": "@jupyter-widgets/base",
      "model_module_version": "2.0.0",
      "model_name": "LayoutModel",
      "state": {}
     },
     "9ee4407ec7a440a1be9029c6cc7f11cf": {
      "model_module": "@jupyter-widgets/base",
      "model_module_version": "2.0.0",
      "model_name": "LayoutModel",
      "state": {}
     },
     "9f12304363914d499f189ff77994c14b": {
      "model_module": "@jupyter-widgets/controls",
      "model_module_version": "2.0.0",
      "model_name": "HTMLModel",
      "state": {
       "layout": "IPY_MODEL_30b2362283ad407f96c20a03c00f148a",
       "style": "IPY_MODEL_9541971819184b5d9b378a2d754ba210",
       "value": " 0/? [00:00&lt;?, ?it/s]"
      }
     },
     "9f8855b5ad7740218178057ec135c203": {
      "model_module": "@jupyter-widgets/controls",
      "model_module_version": "2.0.0",
      "model_name": "ProgressStyleModel",
      "state": {
       "description_width": ""
      }
     },
     "9fd0778fe0a4407ba6722452c421b454": {
      "model_module": "@jupyter-widgets/base",
      "model_module_version": "2.0.0",
      "model_name": "LayoutModel",
      "state": {}
     },
     "a0a01c986acc497491934029948327ea": {
      "model_module": "@jupyter-widgets/controls",
      "model_module_version": "2.0.0",
      "model_name": "HTMLStyleModel",
      "state": {
       "description_width": "",
       "font_size": null,
       "text_color": null
      }
     },
     "a0b50b36bc3a49b58cf63aa14c161ae9": {
      "model_module": "@jupyter-widgets/controls",
      "model_module_version": "2.0.0",
      "model_name": "FloatProgressModel",
      "state": {
       "bar_style": "danger",
       "layout": "IPY_MODEL_ef164736f39f416c9c760e0188773fa2",
       "max": 6000,
       "style": "IPY_MODEL_9dfab60d6a63492495b94317b79cfb82",
       "value": 6
      }
     },
     "a0cfb7a1942c4ba480fe1252695d6246": {
      "model_module": "@jupyter-widgets/controls",
      "model_module_version": "2.0.0",
      "model_name": "ProgressStyleModel",
      "state": {
       "description_width": ""
      }
     },
     "a1125096526744e489cac89eb807f819": {
      "model_module": "@jupyter-widgets/controls",
      "model_module_version": "2.0.0",
      "model_name": "HTMLModel",
      "state": {
       "layout": "IPY_MODEL_d0ee2a187793434b99dd3a8aafe1b16f",
       "style": "IPY_MODEL_4e89c9949708474392a809f575fb3b1a",
       "value": " 6/6000 [00:00&lt;00:40, 146.72it/s]"
      }
     },
     "a17bc10dd92849bcb81c4941161d2a4c": {
      "model_module": "@jupyter-widgets/controls",
      "model_module_version": "2.0.0",
      "model_name": "ProgressStyleModel",
      "state": {
       "description_width": ""
      }
     },
     "a21695adfec74638a60536b7537277f2": {
      "model_module": "@jupyter-widgets/controls",
      "model_module_version": "2.0.0",
      "model_name": "HBoxModel",
      "state": {
       "children": [
        "IPY_MODEL_5a1018a450c64642a59773e899a215f9",
        "IPY_MODEL_1303522e11344830b3a45b43b886f1f7",
        "IPY_MODEL_77f4d74b7e8c4b34a02155351200118e"
       ],
       "layout": "IPY_MODEL_e0794e84c7ed4bd88c0ccf32294efa91"
      }
     },
     "a27300e0f5a74360a0dadaf116a467b9": {
      "model_module": "@jupyter-widgets/base",
      "model_module_version": "2.0.0",
      "model_name": "LayoutModel",
      "state": {}
     },
     "a28e530c93f74b27967a6663ad70c7c1": {
      "model_module": "@jupyter-widgets/controls",
      "model_module_version": "2.0.0",
      "model_name": "HBoxModel",
      "state": {
       "children": [
        "IPY_MODEL_bca0c21185204de39f122b7f4a2b6dd0",
        "IPY_MODEL_0341c83108624cbc8d9e3a5989f96f62",
        "IPY_MODEL_0ddb0dea991d4087b079bb420add3e36"
       ],
       "layout": "IPY_MODEL_cc8b7c929077486a9a39f71bc0ee056e"
      }
     },
     "a2de22b813a44c60af2c6d5aa3f1d76a": {
      "model_module": "@jupyter-widgets/base",
      "model_module_version": "2.0.0",
      "model_name": "LayoutModel",
      "state": {}
     },
     "a41e191440af4b5589642735c27b71d1": {
      "model_module": "@jupyter-widgets/base",
      "model_module_version": "2.0.0",
      "model_name": "LayoutModel",
      "state": {}
     },
     "a436f956d7b24cffa430acef18e1b98e": {
      "model_module": "@jupyter-widgets/controls",
      "model_module_version": "2.0.0",
      "model_name": "HTMLStyleModel",
      "state": {
       "description_width": "",
       "font_size": null,
       "text_color": null
      }
     },
     "a485139b27c340ed89f17ee22a33ca9b": {
      "model_module": "@jupyter-widgets/controls",
      "model_module_version": "2.0.0",
      "model_name": "HBoxModel",
      "state": {
       "children": [
        "IPY_MODEL_05cd043584b64d5793e716100936eb6c",
        "IPY_MODEL_783d91f0bbd1454ebad15313f25fc623",
        "IPY_MODEL_a76a420853cc430f904706dbba1c890a"
       ],
       "layout": "IPY_MODEL_3adca023a7814825bbb3cfa90bf0e496"
      }
     },
     "a50e885712a9403fb5f2469beea0fb5f": {
      "model_module": "@jupyter-widgets/base",
      "model_module_version": "2.0.0",
      "model_name": "LayoutModel",
      "state": {}
     },
     "a5150c222af549d9a08a3f32a8dfbc6a": {
      "model_module": "@jupyter-widgets/controls",
      "model_module_version": "2.0.0",
      "model_name": "HTMLModel",
      "state": {
       "layout": "IPY_MODEL_36025293c7fe42fabffbdbd2a42be854",
       "style": "IPY_MODEL_77f45b8799f34a2b957958f21a305d10",
       "value": " 6000/? [00:02&lt;00:00, 2106.32it/s]"
      }
     },
     "a52830a789554a088f5c01326d1c25c8": {
      "model_module": "@jupyter-widgets/controls",
      "model_module_version": "2.0.0",
      "model_name": "HTMLStyleModel",
      "state": {
       "description_width": "",
       "font_size": null,
       "text_color": null
      }
     },
     "a52cd9bd286b48dfb3b10c151622c7fe": {
      "model_module": "@jupyter-widgets/base",
      "model_module_version": "2.0.0",
      "model_name": "LayoutModel",
      "state": {}
     },
     "a61cf45a8dea462a9ca823294ef7deb4": {
      "model_module": "@jupyter-widgets/controls",
      "model_module_version": "2.0.0",
      "model_name": "HTMLModel",
      "state": {
       "layout": "IPY_MODEL_31325d38bc014233a6362bb82aa57fd0",
       "style": "IPY_MODEL_05f8042f31dd4fa6b12296e58d7fc29c",
       "value": "100%"
      }
     },
     "a6356eb86344413db97d29a797920104": {
      "model_module": "@jupyter-widgets/controls",
      "model_module_version": "2.0.0",
      "model_name": "ProgressStyleModel",
      "state": {
       "description_width": ""
      }
     },
     "a64fae188f6c4b8e86beaecdec41c2c3": {
      "model_module": "@jupyter-widgets/controls",
      "model_module_version": "2.0.0",
      "model_name": "FloatProgressModel",
      "state": {
       "bar_style": "success",
       "layout": "IPY_MODEL_7c1180d4f2dd4c0880548958c7fc83af",
       "max": 1,
       "style": "IPY_MODEL_ad549b81aee5417fb6036f5aa104de88",
       "value": 1
      }
     },
     "a69745734444496c8b65602aa3340605": {
      "model_module": "@jupyter-widgets/base",
      "model_module_version": "2.0.0",
      "model_name": "LayoutModel",
      "state": {}
     },
     "a6cd2f5e1c30463bb75eeb2a2fdd94fe": {
      "model_module": "@jupyter-widgets/controls",
      "model_module_version": "2.0.0",
      "model_name": "HTMLModel",
      "state": {
       "layout": "IPY_MODEL_79834cfe16cb4fad808afc9f0f198d36",
       "style": "IPY_MODEL_d8bd465afdae47c9bbdcc8bff8ca8f72",
       "value": " 6000/? [00:04&lt;00:00, 1391.95it/s]"
      }
     },
     "a725fb9e23b843fb85942cecd41b47b0": {
      "model_module": "@jupyter-widgets/base",
      "model_module_version": "2.0.0",
      "model_name": "LayoutModel",
      "state": {}
     },
     "a72daca4eae24a18bb9046400be5b3e8": {
      "model_module": "@jupyter-widgets/controls",
      "model_module_version": "2.0.0",
      "model_name": "ProgressStyleModel",
      "state": {
       "description_width": ""
      }
     },
     "a72ff80d1e934269ab4b76426986d46b": {
      "model_module": "@jupyter-widgets/controls",
      "model_module_version": "2.0.0",
      "model_name": "FloatProgressModel",
      "state": {
       "bar_style": "danger",
       "layout": "IPY_MODEL_65072ee4923446fe8ce0b4442fab563b",
       "max": 1,
       "style": "IPY_MODEL_01b70cf80b7148588047878352837a92"
      }
     },
     "a733f70c644949d991fcd6979cf6c5b7": {
      "model_module": "@jupyter-widgets/controls",
      "model_module_version": "2.0.0",
      "model_name": "HTMLModel",
      "state": {
       "layout": "IPY_MODEL_e267dfe9a6334e3994eb19f9b5055c9c",
       "style": "IPY_MODEL_91db549e2b86451ca75bd9cc64459bad",
       "value": "  0%"
      }
     },
     "a76a420853cc430f904706dbba1c890a": {
      "model_module": "@jupyter-widgets/controls",
      "model_module_version": "2.0.0",
      "model_name": "HTMLModel",
      "state": {
       "layout": "IPY_MODEL_55727c6eebdc4fe3853931c5ad26cb0e",
       "style": "IPY_MODEL_cf30ad26dd4f4f008f84dd28f89dcbd4",
       "value": " 6000/6000 [00:02&lt;00:00, 2347.04it/s]"
      }
     },
     "a7e8300d3d904e06b09f8f07b36397c7": {
      "model_module": "@jupyter-widgets/base",
      "model_module_version": "2.0.0",
      "model_name": "LayoutModel",
      "state": {
       "width": "20px"
      }
     },
     "a8a209da1d214496ba514358307114b0": {
      "model_module": "@jupyter-widgets/base",
      "model_module_version": "2.0.0",
      "model_name": "LayoutModel",
      "state": {}
     },
     "a8d165f8e5d14f9dafe3c4144a123c17": {
      "model_module": "@jupyter-widgets/base",
      "model_module_version": "2.0.0",
      "model_name": "LayoutModel",
      "state": {}
     },
     "a9ca541dc40e4146b1e5c5b512c23b07": {
      "model_module": "@jupyter-widgets/controls",
      "model_module_version": "2.0.0",
      "model_name": "HBoxModel",
      "state": {
       "children": [
        "IPY_MODEL_5c55f05053a040cbad89d1385b1d701a",
        "IPY_MODEL_61056940cda24bf2a2b827ba850810b4",
        "IPY_MODEL_53ff08d559384e2b932c5fe7c2078975"
       ],
       "layout": "IPY_MODEL_d3f391b0e68a4b5c8add4ca5c9cf4322"
      }
     },
     "a9eb40c28a2a4fc98e21ea916223a0ff": {
      "model_module": "@jupyter-widgets/base",
      "model_module_version": "2.0.0",
      "model_name": "LayoutModel",
      "state": {}
     },
     "aab95fed5ede4ae2a5702282876ea890": {
      "model_module": "@jupyter-widgets/controls",
      "model_module_version": "2.0.0",
      "model_name": "HTMLStyleModel",
      "state": {
       "description_width": "",
       "font_size": null,
       "text_color": null
      }
     },
     "aac66ca97b4e4c779b1d65a6c423fd4d": {
      "model_module": "@jupyter-widgets/base",
      "model_module_version": "2.0.0",
      "model_name": "LayoutModel",
      "state": {}
     },
     "aadd4672674c4e0cb03947f06d5a5c92": {
      "model_module": "@jupyter-widgets/controls",
      "model_module_version": "2.0.0",
      "model_name": "HTMLStyleModel",
      "state": {
       "description_width": "",
       "font_size": null,
       "text_color": null
      }
     },
     "ab30f366b17a4285b33728c98f33f5d0": {
      "model_module": "@jupyter-widgets/base",
      "model_module_version": "2.0.0",
      "model_name": "LayoutModel",
      "state": {}
     },
     "aba923b1053b4746a51206ebc5970e26": {
      "model_module": "@jupyter-widgets/controls",
      "model_module_version": "2.0.0",
      "model_name": "HTMLModel",
      "state": {
       "layout": "IPY_MODEL_a9eb40c28a2a4fc98e21ea916223a0ff",
       "style": "IPY_MODEL_ce0b81f12c96432fb8ef945426a3c37a",
       "value": " 6000/? [00:04&lt;00:00, 1411.82it/s]"
      }
     },
     "abc031bcbd844a599527a90a9e2a1c3a": {
      "model_module": "@jupyter-widgets/base",
      "model_module_version": "2.0.0",
      "model_name": "LayoutModel",
      "state": {}
     },
     "abc5987c777f4a4f9084ea819b4d1571": {
      "model_module": "@jupyter-widgets/controls",
      "model_module_version": "2.0.0",
      "model_name": "FloatProgressModel",
      "state": {
       "bar_style": "success",
       "layout": "IPY_MODEL_d31e0aa94cf54d08a5e2612c128b46d5",
       "max": 1,
       "style": "IPY_MODEL_a6356eb86344413db97d29a797920104",
       "value": 1
      }
     },
     "acbec097f6e6483bb52c524f482bb564": {
      "model_module": "@jupyter-widgets/controls",
      "model_module_version": "2.0.0",
      "model_name": "HTMLModel",
      "state": {
       "layout": "IPY_MODEL_25b32836bd704d4fada1546dbe293981",
       "style": "IPY_MODEL_e1e09a62859a43b6aa687f2233a1e5bc",
       "value": " 6000/6000 [00:03&lt;00:00, 1848.46it/s]"
      }
     },
     "ad3f28ce1a074b3d9e6a1b83911eeb0e": {
      "model_module": "@jupyter-widgets/controls",
      "model_module_version": "2.0.0",
      "model_name": "HTMLModel",
      "state": {
       "layout": "IPY_MODEL_e455c05a8230424c99e27da3dddcf753",
       "style": "IPY_MODEL_0dc4414f2e534ba1a09bbcc933c525af",
       "value": " 6/6000 [00:00&lt;00:35, 168.34it/s]"
      }
     },
     "ad549b81aee5417fb6036f5aa104de88": {
      "model_module": "@jupyter-widgets/controls",
      "model_module_version": "2.0.0",
      "model_name": "ProgressStyleModel",
      "state": {
       "description_width": ""
      }
     },
     "ad5502f06a5d431682f3ba42290db13b": {
      "model_module": "@jupyter-widgets/base",
      "model_module_version": "2.0.0",
      "model_name": "LayoutModel",
      "state": {}
     },
     "adc1964572e447769de3c1f7dc1d16fb": {
      "model_module": "@jupyter-widgets/base",
      "model_module_version": "2.0.0",
      "model_name": "LayoutModel",
      "state": {}
     },
     "ae48421aeb9645f3b782d99fc56de8fb": {
      "model_module": "@jupyter-widgets/controls",
      "model_module_version": "2.0.0",
      "model_name": "HTMLModel",
      "state": {
       "layout": "IPY_MODEL_f889da43836547e2aa008a12e933846a",
       "style": "IPY_MODEL_6c786d1d33664e31805a8598ac0e0aa8",
       "value": "100%"
      }
     },
     "aeb529720e164e7bba124b03969601aa": {
      "model_module": "@jupyter-widgets/base",
      "model_module_version": "2.0.0",
      "model_name": "LayoutModel",
      "state": {}
     },
     "af2ab0d9fe544277a68925037c5ca1f1": {
      "model_module": "@jupyter-widgets/controls",
      "model_module_version": "2.0.0",
      "model_name": "HTMLStyleModel",
      "state": {
       "description_width": "",
       "font_size": null,
       "text_color": null
      }
     },
     "b053e1f7bc9e47c487762ef082f180a3": {
      "model_module": "@jupyter-widgets/base",
      "model_module_version": "2.0.0",
      "model_name": "LayoutModel",
      "state": {}
     },
     "b0c9486846a84bb89bcb75a27df959bb": {
      "model_module": "@jupyter-widgets/base",
      "model_module_version": "2.0.0",
      "model_name": "LayoutModel",
      "state": {}
     },
     "b124c9900a9041cca695e208286586c9": {
      "model_module": "@jupyter-widgets/controls",
      "model_module_version": "2.0.0",
      "model_name": "HTMLModel",
      "state": {
       "layout": "IPY_MODEL_77e567decbed43b5a5a689604cd9db83",
       "style": "IPY_MODEL_2876d29bae9d40bb91026bb51a312737",
       "value": "100%"
      }
     },
     "b181f59d09ab4913adaf4a6149bda9d9": {
      "model_module": "@jupyter-widgets/base",
      "model_module_version": "2.0.0",
      "model_name": "LayoutModel",
      "state": {}
     },
     "b1970c92e8204bc7a9419b3e07d86b0e": {
      "model_module": "@jupyter-widgets/base",
      "model_module_version": "2.0.0",
      "model_name": "LayoutModel",
      "state": {}
     },
     "b22a295f83904b8dacc7d7d9b6d29123": {
      "model_module": "@jupyter-widgets/base",
      "model_module_version": "2.0.0",
      "model_name": "LayoutModel",
      "state": {}
     },
     "b23285804ff1426d91c3f5f90714dd11": {
      "model_module": "@jupyter-widgets/controls",
      "model_module_version": "2.0.0",
      "model_name": "HBoxModel",
      "state": {
       "children": [
        "IPY_MODEL_864d1cd79038483db5a890aec8311361",
        "IPY_MODEL_d9a0c17f0cef4e518f749459a436b5fc",
        "IPY_MODEL_6fa15e945eef4b1ab31c9ea97d5efa7a"
       ],
       "layout": "IPY_MODEL_cc7f6b4dcbb24d41be98dc6ceb388e26"
      }
     },
     "b2c3e3660bbc4de5aea15b4009cb55f8": {
      "model_module": "@jupyter-widgets/controls",
      "model_module_version": "2.0.0",
      "model_name": "HTMLModel",
      "state": {
       "layout": "IPY_MODEL_9e81e392019748eaa2e748c9add201f1",
       "style": "IPY_MODEL_c6ca475087544822860f8a097b7dea74",
       "value": "  0%"
      }
     },
     "b2f83ebf0a2b4eb593bc3cc75e4a0bae": {
      "model_module": "@jupyter-widgets/controls",
      "model_module_version": "2.0.0",
      "model_name": "HTMLModel",
      "state": {
       "layout": "IPY_MODEL_f891c15dc8df41c6a4248eb07c2c7c0c",
       "style": "IPY_MODEL_e498e1236ae5487da05a09f429fc1278",
       "value": " 6000/6000 [00:02&lt;00:00, 2368.11it/s]"
      }
     },
     "b30466558ef242a3b8fdffcfcfb7579b": {
      "model_module": "@jupyter-widgets/controls",
      "model_module_version": "2.0.0",
      "model_name": "HTMLStyleModel",
      "state": {
       "description_width": "",
       "font_size": null,
       "text_color": null
      }
     },
     "b327b2de7e944227a88ca07fe6f61461": {
      "model_module": "@jupyter-widgets/controls",
      "model_module_version": "2.0.0",
      "model_name": "HTMLStyleModel",
      "state": {
       "description_width": "",
       "font_size": null,
       "text_color": null
      }
     },
     "b3540a2618584d098a240c72de5e36a8": {
      "model_module": "@jupyter-widgets/base",
      "model_module_version": "2.0.0",
      "model_name": "LayoutModel",
      "state": {}
     },
     "b36bf51c4e8c4deb81d14cbb4b5aebce": {
      "model_module": "@jupyter-widgets/base",
      "model_module_version": "2.0.0",
      "model_name": "LayoutModel",
      "state": {}
     },
     "b407b8424fd9485bb99525e0d11c6fc2": {
      "model_module": "@jupyter-widgets/base",
      "model_module_version": "2.0.0",
      "model_name": "LayoutModel",
      "state": {}
     },
     "b440ab88390f47cb9ca1cd7ba7469950": {
      "model_module": "@jupyter-widgets/base",
      "model_module_version": "2.0.0",
      "model_name": "LayoutModel",
      "state": {}
     },
     "b557c1082e64494fb729ce4d0d383d24": {
      "model_module": "@jupyter-widgets/controls",
      "model_module_version": "2.0.0",
      "model_name": "HTMLModel",
      "state": {
       "layout": "IPY_MODEL_fe2dfb750b0f4c96943c08d6d21beaec",
       "style": "IPY_MODEL_3b8579ff29aa406096fc4872db33d7e9",
       "value": "100%"
      }
     },
     "b57232e84f1d4fb8a84f7033e589aca3": {
      "model_module": "@jupyter-widgets/controls",
      "model_module_version": "2.0.0",
      "model_name": "HBoxModel",
      "state": {
       "children": [
        "IPY_MODEL_11fea91bd7894223b0f6d920f895f99f",
        "IPY_MODEL_6bb593427b084153925d68ce1862b927",
        "IPY_MODEL_6fbb90ebb719417d87c8f89d082e0c64"
       ],
       "layout": "IPY_MODEL_716c39d20510496ca0e7a26254a86fa5"
      }
     },
     "b608d967ba6d4f6e9638442f1abc6678": {
      "model_module": "@jupyter-widgets/controls",
      "model_module_version": "2.0.0",
      "model_name": "HTMLStyleModel",
      "state": {
       "description_width": "",
       "font_size": null,
       "text_color": null
      }
     },
     "b63697fbb70042ec85828e27088a9841": {
      "model_module": "@jupyter-widgets/base",
      "model_module_version": "2.0.0",
      "model_name": "LayoutModel",
      "state": {}
     },
     "b64329013cce42d9be2ac58da45a5fe4": {
      "model_module": "@jupyter-widgets/controls",
      "model_module_version": "2.0.0",
      "model_name": "HTMLStyleModel",
      "state": {
       "description_width": "",
       "font_size": null,
       "text_color": null
      }
     },
     "b65eebb4722049d7967f66d9612dd7ea": {
      "model_module": "@jupyter-widgets/base",
      "model_module_version": "2.0.0",
      "model_name": "LayoutModel",
      "state": {}
     },
     "b67fb5014d0b490ebdded6193e58c6f4": {
      "model_module": "@jupyter-widgets/controls",
      "model_module_version": "2.0.0",
      "model_name": "HTMLModel",
      "state": {
       "layout": "IPY_MODEL_cdae8317c5ac4ed3a1f0df70e41aae34",
       "style": "IPY_MODEL_29b805a48bc94c0699a0029cb9be9d95",
       "value": " 6/6000 [00:00&lt;00:43, 138.17it/s]"
      }
     },
     "b69941614a48478aaa9acc1e6ca4f106": {
      "model_module": "@jupyter-widgets/controls",
      "model_module_version": "2.0.0",
      "model_name": "HBoxModel",
      "state": {
       "children": [
        "IPY_MODEL_a733f70c644949d991fcd6979cf6c5b7",
        "IPY_MODEL_09692e83f7e24f0898602e0096a4a482",
        "IPY_MODEL_c4688a2e79d34865821cc871d42e9599"
       ],
       "layout": "IPY_MODEL_e2f7f9f76167416698c612603d4c03dc"
      }
     },
     "b6bd2ce3061048d2bf8bfc08dd1bcd8c": {
      "model_module": "@jupyter-widgets/base",
      "model_module_version": "2.0.0",
      "model_name": "LayoutModel",
      "state": {}
     },
     "b7a13c4c3ebc4d228dfe84996afab786": {
      "model_module": "@jupyter-widgets/controls",
      "model_module_version": "2.0.0",
      "model_name": "HTMLModel",
      "state": {
       "layout": "IPY_MODEL_e31bc661bfc44611b030bae0f87d22d4",
       "style": "IPY_MODEL_766130d692674a589d8dd8f427427c3e",
       "value": " 0/? [00:00&lt;?, ?it/s]"
      }
     },
     "b8733ca792914a698e9b022eb70b60f5": {
      "model_module": "@jupyter-widgets/controls",
      "model_module_version": "2.0.0",
      "model_name": "HBoxModel",
      "state": {
       "children": [
        "IPY_MODEL_1465e96d07984e5dbe7ef61213a5f06d",
        "IPY_MODEL_2744adb7bd53462b9b5b1a3cf4a5b3ed",
        "IPY_MODEL_df9dcecb1f3549f8beccb4f480d1800c"
       ],
       "layout": "IPY_MODEL_ec678af92a3f42a99ce97f145ae0ef3c"
      }
     },
     "b904593a3cde4fb196bee57c06153aec": {
      "model_module": "@jupyter-widgets/controls",
      "model_module_version": "2.0.0",
      "model_name": "HTMLModel",
      "state": {
       "layout": "IPY_MODEL_a50e885712a9403fb5f2469beea0fb5f",
       "style": "IPY_MODEL_46d9fcd6fb5f415daa0f48791ab53cbe",
       "value": "  0%"
      }
     },
     "b9233c848bf54554a3528f47a81a938a": {
      "model_module": "@jupyter-widgets/controls",
      "model_module_version": "2.0.0",
      "model_name": "FloatProgressModel",
      "state": {
       "bar_style": "success",
       "layout": "IPY_MODEL_e98ea85cde3843b0875cce5a4a72bad3",
       "max": 6000,
       "style": "IPY_MODEL_a0cfb7a1942c4ba480fe1252695d6246",
       "value": 6000
      }
     },
     "b935881c1f434b068d389b64287c55a5": {
      "model_module": "@jupyter-widgets/base",
      "model_module_version": "2.0.0",
      "model_name": "LayoutModel",
      "state": {}
     },
     "b94fbed276ea43dea0f178246952d895": {
      "model_module": "@jupyter-widgets/controls",
      "model_module_version": "2.0.0",
      "model_name": "HTMLModel",
      "state": {
       "layout": "IPY_MODEL_a2de22b813a44c60af2c6d5aa3f1d76a",
       "style": "IPY_MODEL_1404bc3357ca477bbc1390ddb2fa7f86",
       "value": "  0%"
      }
     },
     "b96bb5fba0ea492b8c838c806d7f11ae": {
      "model_module": "@jupyter-widgets/base",
      "model_module_version": "2.0.0",
      "model_name": "LayoutModel",
      "state": {}
     },
     "ba0ad52a8aed4e67a12e490fa373acd1": {
      "model_module": "@jupyter-widgets/base",
      "model_module_version": "2.0.0",
      "model_name": "LayoutModel",
      "state": {}
     },
     "ba0ed35dd59149529855a6b0ad9d7421": {
      "model_module": "@jupyter-widgets/controls",
      "model_module_version": "2.0.0",
      "model_name": "HTMLModel",
      "state": {
       "layout": "IPY_MODEL_f42cebcbddad439481901c5d3bc222a3",
       "style": "IPY_MODEL_3fcdb06bcc3e4c7aac54e0d82bcc8907",
       "value": " 6000/6000 [00:02&lt;00:00, 2280.51it/s]"
      }
     },
     "ba7813c621fd4ff1a492d9b1c3b8a63f": {
      "model_module": "@jupyter-widgets/controls",
      "model_module_version": "2.0.0",
      "model_name": "HTMLStyleModel",
      "state": {
       "description_width": "",
       "font_size": null,
       "text_color": null
      }
     },
     "baca5bb95b45423b9f03718504a32604": {
      "model_module": "@jupyter-widgets/controls",
      "model_module_version": "2.0.0",
      "model_name": "HBoxModel",
      "state": {
       "children": [
        "IPY_MODEL_b904593a3cde4fb196bee57c06153aec",
        "IPY_MODEL_88938519400b404884c4accb0f0abe40",
        "IPY_MODEL_4fbc1e8235644c75a29ed58778fbf803"
       ],
       "layout": "IPY_MODEL_64f6f1b65703450aa5fd5e875fa61495"
      }
     },
     "bb1e190b8bdd4811b3f7e7514343b757": {
      "model_module": "@jupyter-widgets/controls",
      "model_module_version": "2.0.0",
      "model_name": "HTMLStyleModel",
      "state": {
       "description_width": "",
       "font_size": null,
       "text_color": null
      }
     },
     "bb4abcae857e4689a57d3ec0bb1618e9": {
      "model_module": "@jupyter-widgets/controls",
      "model_module_version": "2.0.0",
      "model_name": "ProgressStyleModel",
      "state": {
       "description_width": ""
      }
     },
     "bb4d8243eda343bda1cbf055d64d763a": {
      "model_module": "@jupyter-widgets/base",
      "model_module_version": "2.0.0",
      "model_name": "LayoutModel",
      "state": {}
     },
     "bbaa0f106f1148ef84ac2e321e293c82": {
      "model_module": "@jupyter-widgets/controls",
      "model_module_version": "2.0.0",
      "model_name": "FloatProgressModel",
      "state": {
       "bar_style": "success",
       "layout": "IPY_MODEL_ef1db88849754d16a2af4c5797667e50",
       "max": 5400,
       "style": "IPY_MODEL_0609ff75d774425ba7be5616069cc3e3",
       "value": 5400
      }
     },
     "bbd843f9804349ebb47d2fb2fdb15f4b": {
      "model_module": "@jupyter-widgets/base",
      "model_module_version": "2.0.0",
      "model_name": "LayoutModel",
      "state": {}
     },
     "bc3b1cac9be940b798468e9f1efeab15": {
      "model_module": "@jupyter-widgets/base",
      "model_module_version": "2.0.0",
      "model_name": "LayoutModel",
      "state": {}
     },
     "bc7e35cbfd424e909f21a1b408be6775": {
      "model_module": "@jupyter-widgets/base",
      "model_module_version": "2.0.0",
      "model_name": "LayoutModel",
      "state": {}
     },
     "bca0c21185204de39f122b7f4a2b6dd0": {
      "model_module": "@jupyter-widgets/controls",
      "model_module_version": "2.0.0",
      "model_name": "HTMLModel",
      "state": {
       "layout": "IPY_MODEL_17923e6bdfff44ec90c84557b1616d5e",
       "style": "IPY_MODEL_c23ec96fbee64375b867da42d6586d40",
       "value": "100%"
      }
     },
     "bcf68850fda74cc08cd75af438e27cd0": {
      "model_module": "@jupyter-widgets/controls",
      "model_module_version": "2.0.0",
      "model_name": "HTMLModel",
      "state": {
       "layout": "IPY_MODEL_8373d63f76d44691af5cbfea6a25ae5a",
       "style": "IPY_MODEL_61326283c6b54155a2d0ae1aef62264b",
       "value": " 5400/5400 [00:02&lt;00:00, 2504.97it/s]"
      }
     },
     "be12cc681fa24c76a767b1748e8ae57c": {
      "model_module": "@jupyter-widgets/controls",
      "model_module_version": "2.0.0",
      "model_name": "HBoxModel",
      "state": {
       "children": [
        "IPY_MODEL_d5d893948b6e494d9e5c38c5515c622e",
        "IPY_MODEL_5bb16ac02bc04790b88bd091ba1151b8",
        "IPY_MODEL_1cd5676f54854b06bfd65012349513e3"
       ],
       "layout": "IPY_MODEL_81e52d9e5e494d8ab3c736820e5d261f"
      }
     },
     "be1ec6e64ac740ca824eb0748f5168e5": {
      "model_module": "@jupyter-widgets/controls",
      "model_module_version": "2.0.0",
      "model_name": "HTMLStyleModel",
      "state": {
       "description_width": "",
       "font_size": null,
       "text_color": null
      }
     },
     "be5e8cff896146b3855a456b2c4dae37": {
      "model_module": "@jupyter-widgets/base",
      "model_module_version": "2.0.0",
      "model_name": "LayoutModel",
      "state": {}
     },
     "be7ed3223b1941fba20941f0dfcb588e": {
      "model_module": "@jupyter-widgets/base",
      "model_module_version": "2.0.0",
      "model_name": "LayoutModel",
      "state": {}
     },
     "bf00f372477940b6afef74afe75fb6c2": {
      "model_module": "@jupyter-widgets/controls",
      "model_module_version": "2.0.0",
      "model_name": "HTMLStyleModel",
      "state": {
       "description_width": "",
       "font_size": null,
       "text_color": null
      }
     },
     "bf2138d15d67460eaaafa1d1da0628aa": {
      "model_module": "@jupyter-widgets/base",
      "model_module_version": "2.0.0",
      "model_name": "LayoutModel",
      "state": {}
     },
     "bf3f04fcfe21458c867db74523f12058": {
      "model_module": "@jupyter-widgets/controls",
      "model_module_version": "2.0.0",
      "model_name": "HTMLStyleModel",
      "state": {
       "description_width": "",
       "font_size": null,
       "text_color": null
      }
     },
     "bf94439694914166ba9ddaf4b3223f06": {
      "model_module": "@jupyter-widgets/base",
      "model_module_version": "2.0.0",
      "model_name": "LayoutModel",
      "state": {}
     },
     "c085743330e04052a19407dc81d68f35": {
      "model_module": "@jupyter-widgets/controls",
      "model_module_version": "2.0.0",
      "model_name": "ProgressStyleModel",
      "state": {
       "description_width": ""
      }
     },
     "c19299fe13f0420084e4691a1de0c28c": {
      "model_module": "@jupyter-widgets/controls",
      "model_module_version": "2.0.0",
      "model_name": "HTMLStyleModel",
      "state": {
       "description_width": "",
       "font_size": null,
       "text_color": null
      }
     },
     "c19b8fa790834a279d132296a46e2d45": {
      "model_module": "@jupyter-widgets/controls",
      "model_module_version": "2.0.0",
      "model_name": "HTMLModel",
      "state": {
       "layout": "IPY_MODEL_cc4113b68e864d0ea0dff6718d481799",
       "style": "IPY_MODEL_57cdeea97be34684a63ed9f6af263470",
       "value": " 6000/6000 [00:04&lt;00:00, 1325.02it/s]"
      }
     },
     "c1a9addbe6c043549713da7d8a6e91ff": {
      "model_module": "@jupyter-widgets/base",
      "model_module_version": "2.0.0",
      "model_name": "LayoutModel",
      "state": {}
     },
     "c1dc26d4375b444490a4bf6fe87040dc": {
      "model_module": "@jupyter-widgets/controls",
      "model_module_version": "2.0.0",
      "model_name": "HTMLModel",
      "state": {
       "layout": "IPY_MODEL_1fc6c02d3add40ef8c08013d53af6849",
       "style": "IPY_MODEL_11029e3a011846ce9f20a91dddee1f59",
       "value": "100%"
      }
     },
     "c21f6d8b4a3f489787e1bd718798d5fe": {
      "model_module": "@jupyter-widgets/controls",
      "model_module_version": "2.0.0",
      "model_name": "ProgressStyleModel",
      "state": {
       "description_width": ""
      }
     },
     "c23ec96fbee64375b867da42d6586d40": {
      "model_module": "@jupyter-widgets/controls",
      "model_module_version": "2.0.0",
      "model_name": "HTMLStyleModel",
      "state": {
       "description_width": "",
       "font_size": null,
       "text_color": null
      }
     },
     "c263bf42436d477d8a870b08c64a8142": {
      "model_module": "@jupyter-widgets/controls",
      "model_module_version": "2.0.0",
      "model_name": "FloatProgressModel",
      "state": {
       "bar_style": "success",
       "layout": "IPY_MODEL_b0c9486846a84bb89bcb75a27df959bb",
       "max": 6000,
       "style": "IPY_MODEL_9dd16c89ddd54edabc1b23756f614b51",
       "value": 6000
      }
     },
     "c268dc96eafb4b73a68666914d1f8c97": {
      "model_module": "@jupyter-widgets/controls",
      "model_module_version": "2.0.0",
      "model_name": "FloatProgressModel",
      "state": {
       "bar_style": "danger",
       "layout": "IPY_MODEL_fc24eb5f57f64d13b1ffdd59d1fe321f",
       "max": 6000,
       "style": "IPY_MODEL_8298fe3a7776431ba5fc64a9bbd69725",
       "value": 6
      }
     },
     "c2f700ad4a2b4e89b05f39f0db226876": {
      "model_module": "@jupyter-widgets/controls",
      "model_module_version": "2.0.0",
      "model_name": "HBoxModel",
      "state": {
       "children": [
        "IPY_MODEL_363ce82094bb4df686b171de97285885",
        "IPY_MODEL_36506539e20a4447ab5e38983d08bf00",
        "IPY_MODEL_128982cd2907453fbd8c0685d0ad2b1e"
       ],
       "layout": "IPY_MODEL_a725fb9e23b843fb85942cecd41b47b0"
      }
     },
     "c33e18fcdfc344fc91bd424635cac02b": {
      "model_module": "@jupyter-widgets/controls",
      "model_module_version": "2.0.0",
      "model_name": "HTMLModel",
      "state": {
       "layout": "IPY_MODEL_60535cb31b0a4c7e8f789358ff2a9beb",
       "style": "IPY_MODEL_e6e122102ee2416a979827aebdd9aae8"
      }
     },
     "c35ca845c46c42a89f2f755303747fa4": {
      "model_module": "@jupyter-widgets/controls",
      "model_module_version": "2.0.0",
      "model_name": "HBoxModel",
      "state": {
       "children": [
        "IPY_MODEL_1b3d451d8c86496bb247bd2c0fc3c8ae",
        "IPY_MODEL_7c5d62851c3d4e33879b41de07c9177c",
        "IPY_MODEL_98de1789821742eeb162400e9ede3025"
       ],
       "layout": "IPY_MODEL_5aa9f2eee3704b0686e30829b60248fd"
      }
     },
     "c3e37dbd47964e3d8278ea71f08994a5": {
      "model_module": "@jupyter-widgets/controls",
      "model_module_version": "2.0.0",
      "model_name": "FloatProgressModel",
      "state": {
       "bar_style": "success",
       "layout": "IPY_MODEL_884c4e4df4a5416db9f337adaf7813d9",
       "max": 1,
       "style": "IPY_MODEL_80910d59552d4c2bbe3969c1aa62ee2a",
       "value": 1
      }
     },
     "c4089cbdcfaf4fc180e32c1d03e7e658": {
      "model_module": "@jupyter-widgets/controls",
      "model_module_version": "2.0.0",
      "model_name": "FloatProgressModel",
      "state": {
       "bar_style": "success",
       "layout": "IPY_MODEL_7df51c3b38c249d5a277031ec2b11c85",
       "max": 6000,
       "style": "IPY_MODEL_3e882fb57bea4c14902d78e3d79db0fd",
       "value": 6000
      }
     },
     "c4688a2e79d34865821cc871d42e9599": {
      "model_module": "@jupyter-widgets/controls",
      "model_module_version": "2.0.0",
      "model_name": "HTMLModel",
      "state": {
       "layout": "IPY_MODEL_53c0fb3dc31f49619bd1aad257024048",
       "style": "IPY_MODEL_32e49d8326264ea6b468967fe961440d",
       "value": " 6/6000 [00:00&lt;00:44, 136.14it/s]"
      }
     },
     "c498890feeb04c6ba86adeed7651fb49": {
      "model_module": "@jupyter-widgets/controls",
      "model_module_version": "2.0.0",
      "model_name": "FloatProgressModel",
      "state": {
       "bar_style": "success",
       "layout": "IPY_MODEL_22f2252f1b2d4f7b849cf8ae54bcf65f",
       "max": 6000,
       "style": "IPY_MODEL_f491536a6b63426681c1a7807ed270e6",
       "value": 6000
      }
     },
     "c4d407f3f4304bae94a275b508f7ce90": {
      "model_module": "@jupyter-widgets/base",
      "model_module_version": "2.0.0",
      "model_name": "LayoutModel",
      "state": {}
     },
     "c4f7812eea6c440c8e4407b6258b5076": {
      "model_module": "@jupyter-widgets/controls",
      "model_module_version": "2.0.0",
      "model_name": "HTMLStyleModel",
      "state": {
       "description_width": "",
       "font_size": null,
       "text_color": null
      }
     },
     "c5105987085b405b833ed3924b98c38b": {
      "model_module": "@jupyter-widgets/controls",
      "model_module_version": "2.0.0",
      "model_name": "HTMLStyleModel",
      "state": {
       "description_width": "",
       "font_size": null,
       "text_color": null
      }
     },
     "c545beeb7403453ba9c5cd88f6695b13": {
      "model_module": "@jupyter-widgets/controls",
      "model_module_version": "2.0.0",
      "model_name": "HTMLStyleModel",
      "state": {
       "description_width": "",
       "font_size": null,
       "text_color": null
      }
     },
     "c57a62bad3b446e5969922c814579aed": {
      "model_module": "@jupyter-widgets/controls",
      "model_module_version": "2.0.0",
      "model_name": "HTMLStyleModel",
      "state": {
       "description_width": "",
       "font_size": null,
       "text_color": null
      }
     },
     "c6412e52d6ec400ba998255d82f65511": {
      "model_module": "@jupyter-widgets/base",
      "model_module_version": "2.0.0",
      "model_name": "LayoutModel",
      "state": {}
     },
     "c6ca475087544822860f8a097b7dea74": {
      "model_module": "@jupyter-widgets/controls",
      "model_module_version": "2.0.0",
      "model_name": "HTMLStyleModel",
      "state": {
       "description_width": "",
       "font_size": null,
       "text_color": null
      }
     },
     "c6ce1b0a0ddb4567bad415130772ede4": {
      "model_module": "@jupyter-widgets/base",
      "model_module_version": "2.0.0",
      "model_name": "LayoutModel",
      "state": {}
     },
     "c6e0c87c32af42388dec3b39e390176e": {
      "model_module": "@jupyter-widgets/base",
      "model_module_version": "2.0.0",
      "model_name": "LayoutModel",
      "state": {}
     },
     "c719346671804c1da3f598a6e9367d24": {
      "model_module": "@jupyter-widgets/controls",
      "model_module_version": "2.0.0",
      "model_name": "HTMLModel",
      "state": {
       "layout": "IPY_MODEL_30fc334b3ca04cab8c586fdd980728fe",
       "style": "IPY_MODEL_878d07c0eb024b13a89dfcc1e6a42992",
       "value": "  0%"
      }
     },
     "c73aab685e04443d9b904bde895f2eb0": {
      "model_module": "@jupyter-widgets/base",
      "model_module_version": "2.0.0",
      "model_name": "LayoutModel",
      "state": {}
     },
     "c73d4fa982e749509b2da866a0120734": {
      "model_module": "@jupyter-widgets/base",
      "model_module_version": "2.0.0",
      "model_name": "LayoutModel",
      "state": {}
     },
     "c78a46c6b01f40bab21f4c2d4271ee69": {
      "model_module": "@jupyter-widgets/base",
      "model_module_version": "2.0.0",
      "model_name": "LayoutModel",
      "state": {}
     },
     "c806290a563241dd92f727b866396026": {
      "model_module": "@jupyter-widgets/base",
      "model_module_version": "2.0.0",
      "model_name": "LayoutModel",
      "state": {}
     },
     "c827d946d181400ab38f933f5dfa5aec": {
      "model_module": "@jupyter-widgets/controls",
      "model_module_version": "2.0.0",
      "model_name": "HTMLStyleModel",
      "state": {
       "description_width": "",
       "font_size": null,
       "text_color": null
      }
     },
     "c83dc988cac548f8b96d4f3a0e6c50eb": {
      "model_module": "@jupyter-widgets/controls",
      "model_module_version": "2.0.0",
      "model_name": "HTMLModel",
      "state": {
       "layout": "IPY_MODEL_ab30f366b17a4285b33728c98f33f5d0",
       "style": "IPY_MODEL_311a1b427c6548418785fb1458a9bbe1",
       "value": " 6000/6000 [00:06&lt;00:00, 1019.85it/s]"
      }
     },
     "c8d2a8248f5e4c629568f6f09b435522": {
      "model_module": "@jupyter-widgets/controls",
      "model_module_version": "2.0.0",
      "model_name": "HTMLModel",
      "state": {
       "layout": "IPY_MODEL_10a792f9db284a6995306dfcee5f7050",
       "style": "IPY_MODEL_1595c65d970a4b8dac0a46d41fa3e28c",
       "value": "  0%"
      }
     },
     "c9466eb50a694496bdbaa32def12b07f": {
      "model_module": "@jupyter-widgets/base",
      "model_module_version": "2.0.0",
      "model_name": "LayoutModel",
      "state": {}
     },
     "c9749541226d49c398ea15e795f7e45d": {
      "model_module": "@jupyter-widgets/controls",
      "model_module_version": "2.0.0",
      "model_name": "FloatProgressModel",
      "state": {
       "bar_style": "danger",
       "layout": "IPY_MODEL_816c3c0f4a774e6c89e9c9626c0cffdb",
       "max": 6000,
       "style": "IPY_MODEL_1dd5f3b90a904b03881c667c5e9777b3"
      }
     },
     "c9fa19cc3a934464a130c509f0c7334b": {
      "model_module": "@jupyter-widgets/base",
      "model_module_version": "2.0.0",
      "model_name": "LayoutModel",
      "state": {}
     },
     "ca1b4f47f4a346cea2ee84350de30a55": {
      "model_module": "@jupyter-widgets/controls",
      "model_module_version": "2.0.0",
      "model_name": "FloatProgressModel",
      "state": {
       "bar_style": "success",
       "layout": "IPY_MODEL_7941650219d34b839120b284a3e9b904",
       "max": 6000,
       "style": "IPY_MODEL_850e27d2439a48debff9644768699bac",
       "value": 6000
      }
     },
     "caabdd3c59234135834a7157aa616f89": {
      "model_module": "@jupyter-widgets/controls",
      "model_module_version": "2.0.0",
      "model_name": "FloatProgressModel",
      "state": {
       "bar_style": "success",
       "layout": "IPY_MODEL_955dc6b0e29c4af0ba8ce4f4047e7ee5",
       "max": 6000,
       "style": "IPY_MODEL_bb4abcae857e4689a57d3ec0bb1618e9",
       "value": 6000
      }
     },
     "cab56a62d62947eeb923e740707e5d7d": {
      "model_module": "@jupyter-widgets/base",
      "model_module_version": "2.0.0",
      "model_name": "LayoutModel",
      "state": {}
     },
     "caf258f8a6be4a339afe0b32a5797df9": {
      "model_module": "@jupyter-widgets/controls",
      "model_module_version": "2.0.0",
      "model_name": "HTMLModel",
      "state": {
       "layout": "IPY_MODEL_820cf7a6d5464baabc146caa98aa4f83",
       "style": "IPY_MODEL_8a0ea777e16140c2a0c42be8acb1eb97",
       "value": " 6000/6000 [00:04&lt;00:00, 1232.98it/s]"
      }
     },
     "caf5e3d76d16485d8978e269ee647da6": {
      "model_module": "@jupyter-widgets/base",
      "model_module_version": "2.0.0",
      "model_name": "LayoutModel",
      "state": {}
     },
     "caf867fe81c34106b6643b11185dd5c3": {
      "model_module": "@jupyter-widgets/base",
      "model_module_version": "2.0.0",
      "model_name": "LayoutModel",
      "state": {}
     },
     "cba1fff5b798450f990392416447adcb": {
      "model_module": "@jupyter-widgets/controls",
      "model_module_version": "2.0.0",
      "model_name": "FloatProgressModel",
      "state": {
       "bar_style": "success",
       "layout": "IPY_MODEL_e1765e9c75c74b928af46ff4a9949311",
       "max": 6000,
       "style": "IPY_MODEL_1628a869b0424e8bb2154feabe0972ca",
       "value": 6000
      }
     },
     "cc36ef5bc9e043b19ce0d3e42f4a29a2": {
      "model_module": "@jupyter-widgets/controls",
      "model_module_version": "2.0.0",
      "model_name": "HTMLModel",
      "state": {
       "layout": "IPY_MODEL_9c4f21556569413d8e673bf4e6852b9d",
       "style": "IPY_MODEL_4d4c47a5f57442afacd2e1902ac906c0"
      }
     },
     "cc4113b68e864d0ea0dff6718d481799": {
      "model_module": "@jupyter-widgets/base",
      "model_module_version": "2.0.0",
      "model_name": "LayoutModel",
      "state": {}
     },
     "cc7f6b4dcbb24d41be98dc6ceb388e26": {
      "model_module": "@jupyter-widgets/base",
      "model_module_version": "2.0.0",
      "model_name": "LayoutModel",
      "state": {}
     },
     "cc8b7c929077486a9a39f71bc0ee056e": {
      "model_module": "@jupyter-widgets/base",
      "model_module_version": "2.0.0",
      "model_name": "LayoutModel",
      "state": {}
     },
     "cc8e0a358d3c4ea7af1403c9f603f287": {
      "model_module": "@jupyter-widgets/controls",
      "model_module_version": "2.0.0",
      "model_name": "HTMLModel",
      "state": {
       "layout": "IPY_MODEL_b65eebb4722049d7967f66d9612dd7ea",
       "style": "IPY_MODEL_4e4462c583124839ab85de5f23e09593",
       "value": " 56%"
      }
     },
     "ccaf8065121a4e5f975566f2396b78af": {
      "model_module": "@jupyter-widgets/controls",
      "model_module_version": "2.0.0",
      "model_name": "HBoxModel",
      "state": {
       "children": [
        "IPY_MODEL_f3d7482de56144db92dd3c722e6d92e7",
        "IPY_MODEL_01c4ddfdb7e84e638b080a7188909a2e",
        "IPY_MODEL_c83dc988cac548f8b96d4f3a0e6c50eb"
       ],
       "layout": "IPY_MODEL_286322437e374ccaa463a05cd1aea57b"
      }
     },
     "ccc45d2f08364f379d8b2ca3c3c52473": {
      "model_module": "@jupyter-widgets/controls",
      "model_module_version": "2.0.0",
      "model_name": "HBoxModel",
      "state": {
       "children": [
        "IPY_MODEL_7f5d9e87de79473fa713e860c54c9ad3",
        "IPY_MODEL_681c0eeab2554bc6a70be6800caa1c34",
        "IPY_MODEL_1b056fc62b9a4d0bbdbd764c9ccda2b3"
       ],
       "layout": "IPY_MODEL_522c907331134bddb8936ad87611a6b5"
      }
     },
     "cd2b5728bf654647945d14b67f82219b": {
      "model_module": "@jupyter-widgets/base",
      "model_module_version": "2.0.0",
      "model_name": "LayoutModel",
      "state": {}
     },
     "cd7e9a6a3b174f9f8b7cc8698872f9f8": {
      "model_module": "@jupyter-widgets/controls",
      "model_module_version": "2.0.0",
      "model_name": "FloatProgressModel",
      "state": {
       "bar_style": "danger",
       "layout": "IPY_MODEL_84b5884707434025a5377e5148893701",
       "max": 6000,
       "style": "IPY_MODEL_1f9b84733e984f20a54a448d6b43ec6c",
       "value": 6
      }
     },
     "cdae8317c5ac4ed3a1f0df70e41aae34": {
      "model_module": "@jupyter-widgets/base",
      "model_module_version": "2.0.0",
      "model_name": "LayoutModel",
      "state": {}
     },
     "cdfb191c443c4db093d052b9b2b9142c": {
      "model_module": "@jupyter-widgets/base",
      "model_module_version": "2.0.0",
      "model_name": "LayoutModel",
      "state": {}
     },
     "ce096253578648c293652e3f242fd637": {
      "model_module": "@jupyter-widgets/base",
      "model_module_version": "2.0.0",
      "model_name": "LayoutModel",
      "state": {}
     },
     "ce0b81f12c96432fb8ef945426a3c37a": {
      "model_module": "@jupyter-widgets/controls",
      "model_module_version": "2.0.0",
      "model_name": "HTMLStyleModel",
      "state": {
       "description_width": "",
       "font_size": null,
       "text_color": null
      }
     },
     "ce2f1585a29f4f24a854b177ff368f27": {
      "model_module": "@jupyter-widgets/base",
      "model_module_version": "2.0.0",
      "model_name": "LayoutModel",
      "state": {}
     },
     "ce78f9e700bd459396fa829bbb178d47": {
      "model_module": "@jupyter-widgets/controls",
      "model_module_version": "2.0.0",
      "model_name": "HTMLModel",
      "state": {
       "layout": "IPY_MODEL_e06a990f10b9460b91aed3bb72eb26b4",
       "style": "IPY_MODEL_16d65cc3e88841249748cf94e0ea7897",
       "value": "  0%"
      }
     },
     "cf1b9a2480db4a7c87a009d1ea464cdb": {
      "model_module": "@jupyter-widgets/controls",
      "model_module_version": "2.0.0",
      "model_name": "HTMLStyleModel",
      "state": {
       "description_width": "",
       "font_size": null,
       "text_color": null
      }
     },
     "cf30ad26dd4f4f008f84dd28f89dcbd4": {
      "model_module": "@jupyter-widgets/controls",
      "model_module_version": "2.0.0",
      "model_name": "HTMLStyleModel",
      "state": {
       "description_width": "",
       "font_size": null,
       "text_color": null
      }
     },
     "cfd6a901c92c4829ad31abc22b15e295": {
      "model_module": "@jupyter-widgets/base",
      "model_module_version": "2.0.0",
      "model_name": "LayoutModel",
      "state": {}
     },
     "cfe5e224e4364f0ebc619ca6c651b979": {
      "model_module": "@jupyter-widgets/controls",
      "model_module_version": "2.0.0",
      "model_name": "HTMLStyleModel",
      "state": {
       "description_width": "",
       "font_size": null,
       "text_color": null
      }
     },
     "d01adba69ce845dca9be618aba52cf95": {
      "model_module": "@jupyter-widgets/controls",
      "model_module_version": "2.0.0",
      "model_name": "HTMLStyleModel",
      "state": {
       "description_width": "",
       "font_size": null,
       "text_color": null
      }
     },
     "d0425f28b7c446d8a41027470b0c8ef9": {
      "model_module": "@jupyter-widgets/controls",
      "model_module_version": "2.0.0",
      "model_name": "HBoxModel",
      "state": {
       "children": [
        "IPY_MODEL_4af6af4308df43bc83c8934c3f90b47c",
        "IPY_MODEL_4b69dc415a904fd9b1fcb0f32750eeca",
        "IPY_MODEL_d3f091e52b7e4acda522ee5365e3b1bf"
       ],
       "layout": "IPY_MODEL_74caa08f05c4438e8ed9975667e2d049"
      }
     },
     "d090814cfa984f73a632c60d0a6ad0eb": {
      "model_module": "@jupyter-widgets/controls",
      "model_module_version": "2.0.0",
      "model_name": "HTMLStyleModel",
      "state": {
       "description_width": "",
       "font_size": null,
       "text_color": null
      }
     },
     "d09b1c0b39634d8285a691fae1d00ead": {
      "model_module": "@jupyter-widgets/controls",
      "model_module_version": "2.0.0",
      "model_name": "HBoxModel",
      "state": {
       "children": [
        "IPY_MODEL_8fdd69e99c5247a1908263b0ff0a1b4a",
        "IPY_MODEL_0c0e73398ba74d3ea270f6f9b13d9995",
        "IPY_MODEL_1a1a261d2df74ac0b539931b23db6fd9"
       ],
       "layout": "IPY_MODEL_88e9c4222e2b46c38e169990b5ccbda1"
      }
     },
     "d0ee2a187793434b99dd3a8aafe1b16f": {
      "model_module": "@jupyter-widgets/base",
      "model_module_version": "2.0.0",
      "model_name": "LayoutModel",
      "state": {}
     },
     "d0ee6279fd14499f9355c7e0ee00ae58": {
      "model_module": "@jupyter-widgets/base",
      "model_module_version": "2.0.0",
      "model_name": "LayoutModel",
      "state": {}
     },
     "d15a5c4d9a204c68854142d77a3fd59f": {
      "model_module": "@jupyter-widgets/base",
      "model_module_version": "2.0.0",
      "model_name": "LayoutModel",
      "state": {}
     },
     "d15e5c043a6c492f869bd790cb6ee341": {
      "model_module": "@jupyter-widgets/controls",
      "model_module_version": "2.0.0",
      "model_name": "FloatProgressModel",
      "state": {
       "bar_style": "success",
       "layout": "IPY_MODEL_2b5966eeb5b64e84badce71ed0a8d26d",
       "max": 1,
       "style": "IPY_MODEL_a72daca4eae24a18bb9046400be5b3e8",
       "value": 1
      }
     },
     "d1c6701780214870b1bd29ca3e328450": {
      "model_module": "@jupyter-widgets/controls",
      "model_module_version": "2.0.0",
      "model_name": "HTMLModel",
      "state": {
       "layout": "IPY_MODEL_2130b65ed3bd4990ac809fd89ec26d5c",
       "style": "IPY_MODEL_3783b8c546404b04a8e79aef41c8274f",
       "value": "100%"
      }
     },
     "d21b6f3c06c24a678dff3eb0166df2a4": {
      "model_module": "@jupyter-widgets/controls",
      "model_module_version": "2.0.0",
      "model_name": "HTMLModel",
      "state": {
       "layout": "IPY_MODEL_ec6352a25e0a4aeba04f0d95ffd8865a",
       "style": "IPY_MODEL_ede303e855fd4300b86248baa2f53983",
       "value": "100%"
      }
     },
     "d261a8a1468f4cc0ab4837b66f909f94": {
      "model_module": "@jupyter-widgets/base",
      "model_module_version": "2.0.0",
      "model_name": "LayoutModel",
      "state": {}
     },
     "d282000c92bb4a9198f59b0c34b8c6a0": {
      "model_module": "@jupyter-widgets/controls",
      "model_module_version": "2.0.0",
      "model_name": "HTMLStyleModel",
      "state": {
       "description_width": "",
       "font_size": null,
       "text_color": null
      }
     },
     "d28a1caf2c4f4aac92daa4e5fd8b1b8f": {
      "model_module": "@jupyter-widgets/controls",
      "model_module_version": "2.0.0",
      "model_name": "HTMLStyleModel",
      "state": {
       "description_width": "",
       "font_size": null,
       "text_color": null
      }
     },
     "d2dd93a60f5f481cb70a94c7b4d74338": {
      "model_module": "@jupyter-widgets/controls",
      "model_module_version": "2.0.0",
      "model_name": "HBoxModel",
      "state": {
       "children": [
        "IPY_MODEL_fc77d6975ef343f68cde08c326de7004",
        "IPY_MODEL_f93e43f71c7048099584d1cd8fc68b7f",
        "IPY_MODEL_a1125096526744e489cac89eb807f819"
       ],
       "layout": "IPY_MODEL_ad5502f06a5d431682f3ba42290db13b"
      }
     },
     "d2e5c37bedf9467bb8fbcb300192270b": {
      "model_module": "@jupyter-widgets/controls",
      "model_module_version": "2.0.0",
      "model_name": "HTMLModel",
      "state": {
       "layout": "IPY_MODEL_d261a8a1468f4cc0ab4837b66f909f94",
       "style": "IPY_MODEL_d28a1caf2c4f4aac92daa4e5fd8b1b8f",
       "value": " 0/6000 [00:00&lt;?, ?it/s]"
      }
     },
     "d31e0aa94cf54d08a5e2612c128b46d5": {
      "model_module": "@jupyter-widgets/base",
      "model_module_version": "2.0.0",
      "model_name": "LayoutModel",
      "state": {
       "width": "20px"
      }
     },
     "d361ffd8ecbf483fbaf919be87a7845c": {
      "model_module": "@jupyter-widgets/controls",
      "model_module_version": "2.0.0",
      "model_name": "HBoxModel",
      "state": {
       "children": [
        "IPY_MODEL_fe42b1e2d0cb43b4815487502b3ee65a",
        "IPY_MODEL_b9233c848bf54554a3528f47a81a938a",
        "IPY_MODEL_92772deb35404f97821112c0cc861680"
       ],
       "layout": "IPY_MODEL_071a87f9a3f44cddb497ca66c9dcb3b4"
      }
     },
     "d3f091e52b7e4acda522ee5365e3b1bf": {
      "model_module": "@jupyter-widgets/controls",
      "model_module_version": "2.0.0",
      "model_name": "HTMLModel",
      "state": {
       "layout": "IPY_MODEL_0c1b9e5b8b194e96b5ba72511c78cee4",
       "style": "IPY_MODEL_5d513bf82f68420baa8859a6a6570671",
       "value": " 1/? [00:00&lt;00:00, 29.61it/s]"
      }
     },
     "d3f391b0e68a4b5c8add4ca5c9cf4322": {
      "model_module": "@jupyter-widgets/base",
      "model_module_version": "2.0.0",
      "model_name": "LayoutModel",
      "state": {}
     },
     "d436132598cc43d58357392f2a9634cf": {
      "model_module": "@jupyter-widgets/controls",
      "model_module_version": "2.0.0",
      "model_name": "HBoxModel",
      "state": {
       "children": [
        "IPY_MODEL_f629ae96417a4cd09980383b78767be2",
        "IPY_MODEL_6db374d37a454925b82ddbc735866dd1",
        "IPY_MODEL_83282f9944384c9593a94bf8724be6bc"
       ],
       "layout": "IPY_MODEL_701df2407c0c4a3ea6be0aa56a4262bb"
      }
     },
     "d4d114ac0f7c4f08a09f5b9b137b3afd": {
      "model_module": "@jupyter-widgets/controls",
      "model_module_version": "2.0.0",
      "model_name": "ProgressStyleModel",
      "state": {
       "description_width": ""
      }
     },
     "d5352b90247440ffa69999f24084ffa8": {
      "model_module": "@jupyter-widgets/controls",
      "model_module_version": "2.0.0",
      "model_name": "ProgressStyleModel",
      "state": {
       "description_width": ""
      }
     },
     "d5d893948b6e494d9e5c38c5515c622e": {
      "model_module": "@jupyter-widgets/controls",
      "model_module_version": "2.0.0",
      "model_name": "HTMLModel",
      "state": {
       "layout": "IPY_MODEL_4c96fc982ce746669f9a3ed60d6f27ad",
       "style": "IPY_MODEL_a436f956d7b24cffa430acef18e1b98e"
      }
     },
     "d5e7013a9abf4805bb4f40c0b2b0a766": {
      "model_module": "@jupyter-widgets/controls",
      "model_module_version": "2.0.0",
      "model_name": "HTMLModel",
      "state": {
       "layout": "IPY_MODEL_caf867fe81c34106b6643b11185dd5c3",
       "style": "IPY_MODEL_91236a3cac9540028b0b48b821d57c34",
       "value": "  0%"
      }
     },
     "d607b8eba56b4aad88a1978fe2b8cbf3": {
      "model_module": "@jupyter-widgets/base",
      "model_module_version": "2.0.0",
      "model_name": "LayoutModel",
      "state": {}
     },
     "d621e9b2a3f743f79bacfb3f719c902e": {
      "model_module": "@jupyter-widgets/controls",
      "model_module_version": "2.0.0",
      "model_name": "HTMLModel",
      "state": {
       "layout": "IPY_MODEL_ed80d28268294b3c9323f7148acf233a",
       "style": "IPY_MODEL_741ffeb02a0d4ff183dc251f6366ce80",
       "value": " 6/6000 [00:00&lt;00:44, 135.04it/s]"
      }
     },
     "d623695be3054869af804177efcd3c06": {
      "model_module": "@jupyter-widgets/controls",
      "model_module_version": "2.0.0",
      "model_name": "ProgressStyleModel",
      "state": {
       "description_width": ""
      }
     },
     "d652d7b9538d4aee9c8a30589580d623": {
      "model_module": "@jupyter-widgets/controls",
      "model_module_version": "2.0.0",
      "model_name": "HTMLModel",
      "state": {
       "layout": "IPY_MODEL_8ec8017dd7914b05b58139684215ade3",
       "style": "IPY_MODEL_c5105987085b405b833ed3924b98c38b",
       "value": " 6000/6000 [00:04&lt;00:00, 1354.71it/s]"
      }
     },
     "d69d7c264ac14e93bc668137188c9c82": {
      "model_module": "@jupyter-widgets/controls",
      "model_module_version": "2.0.0",
      "model_name": "ProgressStyleModel",
      "state": {
       "description_width": ""
      }
     },
     "d70157f9324d4ed8a58ba5206927bafc": {
      "model_module": "@jupyter-widgets/controls",
      "model_module_version": "2.0.0",
      "model_name": "HTMLStyleModel",
      "state": {
       "description_width": "",
       "font_size": null,
       "text_color": null
      }
     },
     "d7255e86ea6948fea15368de1adc9be4": {
      "model_module": "@jupyter-widgets/controls",
      "model_module_version": "2.0.0",
      "model_name": "FloatProgressModel",
      "state": {
       "bar_style": "danger",
       "layout": "IPY_MODEL_fbd2f0b267634962ba96bb3a87ba951b",
       "max": 6000,
       "style": "IPY_MODEL_8a45a8c3cfc24f20beece594921b8ff3",
       "value": 6
      }
     },
     "d7505c18fdba4299865402c99a47a6e4": {
      "model_module": "@jupyter-widgets/controls",
      "model_module_version": "2.0.0",
      "model_name": "FloatProgressModel",
      "state": {
       "bar_style": "danger",
       "layout": "IPY_MODEL_2a285ecd67db4936adf505227b27e768",
       "max": 6000,
       "style": "IPY_MODEL_21b231863f1e4a1c8ddaae241d069a6f",
       "value": 6
      }
     },
     "d779cb30098e4fd5b208f75ddacf1f4b": {
      "model_module": "@jupyter-widgets/base",
      "model_module_version": "2.0.0",
      "model_name": "LayoutModel",
      "state": {}
     },
     "d784b295edb645899d2517cf6bb91128": {
      "model_module": "@jupyter-widgets/controls",
      "model_module_version": "2.0.0",
      "model_name": "HTMLStyleModel",
      "state": {
       "description_width": "",
       "font_size": null,
       "text_color": null
      }
     },
     "d793bf3167d14c18ba07918e7bf78fe8": {
      "model_module": "@jupyter-widgets/base",
      "model_module_version": "2.0.0",
      "model_name": "LayoutModel",
      "state": {}
     },
     "d79f73b8efa0458e8a5f4423cc23e782": {
      "model_module": "@jupyter-widgets/base",
      "model_module_version": "2.0.0",
      "model_name": "LayoutModel",
      "state": {}
     },
     "d7db9f059e5640de8f938e6101f6b586": {
      "model_module": "@jupyter-widgets/controls",
      "model_module_version": "2.0.0",
      "model_name": "FloatProgressModel",
      "state": {
       "bar_style": "danger",
       "layout": "IPY_MODEL_92998a4a0fa043a482df7f559fffd506",
       "max": 6000,
       "style": "IPY_MODEL_e0d76369beae403293d59e68baaac508",
       "value": 6
      }
     },
     "d816f8575b6d44abbc89e6285c65d025": {
      "model_module": "@jupyter-widgets/base",
      "model_module_version": "2.0.0",
      "model_name": "LayoutModel",
      "state": {}
     },
     "d88f7a9cafeb43108c162d03a0902154": {
      "model_module": "@jupyter-widgets/controls",
      "model_module_version": "2.0.0",
      "model_name": "HTMLStyleModel",
      "state": {
       "description_width": "",
       "font_size": null,
       "text_color": null
      }
     },
     "d89e4b7e3dca447e84b6999e54a03c80": {
      "model_module": "@jupyter-widgets/controls",
      "model_module_version": "2.0.0",
      "model_name": "ProgressStyleModel",
      "state": {
       "description_width": ""
      }
     },
     "d8bd465afdae47c9bbdcc8bff8ca8f72": {
      "model_module": "@jupyter-widgets/controls",
      "model_module_version": "2.0.0",
      "model_name": "HTMLStyleModel",
      "state": {
       "description_width": "",
       "font_size": null,
       "text_color": null
      }
     },
     "d8ee5a39678f401f802586503024f252": {
      "model_module": "@jupyter-widgets/base",
      "model_module_version": "2.0.0",
      "model_name": "LayoutModel",
      "state": {}
     },
     "d9444a5f09054e26b00c0ccb702c95a9": {
      "model_module": "@jupyter-widgets/base",
      "model_module_version": "2.0.0",
      "model_name": "LayoutModel",
      "state": {}
     },
     "d96f2011de3246da86651e4188bdfced": {
      "model_module": "@jupyter-widgets/controls",
      "model_module_version": "2.0.0",
      "model_name": "ProgressStyleModel",
      "state": {
       "description_width": ""
      }
     },
     "d982fbfa9fa54f6f91363f751921b0c8": {
      "model_module": "@jupyter-widgets/controls",
      "model_module_version": "2.0.0",
      "model_name": "FloatProgressModel",
      "state": {
       "bar_style": "success",
       "layout": "IPY_MODEL_a41e191440af4b5589642735c27b71d1",
       "max": 6000,
       "style": "IPY_MODEL_6e9e538bfa41492fa560da663cd24c8b",
       "value": 6000
      }
     },
     "d9a0c17f0cef4e518f749459a436b5fc": {
      "model_module": "@jupyter-widgets/controls",
      "model_module_version": "2.0.0",
      "model_name": "FloatProgressModel",
      "state": {
       "bar_style": "danger",
       "layout": "IPY_MODEL_37159da5ecd342dd83d5c6d24c1d6977",
       "max": 6000,
       "style": "IPY_MODEL_9f8855b5ad7740218178057ec135c203",
       "value": 6
      }
     },
     "d9d27f6c1e2f4392a0e0fcd453544648": {
      "model_module": "@jupyter-widgets/controls",
      "model_module_version": "2.0.0",
      "model_name": "HBoxModel",
      "state": {
       "children": [
        "IPY_MODEL_87618531b74243e595d7e9b3aa52fdf7",
        "IPY_MODEL_90030e9864db473d93f18d4dbf29be1e",
        "IPY_MODEL_8d28dee22ecd4cf5b0002149478e72ab"
       ],
       "layout": "IPY_MODEL_c1a9addbe6c043549713da7d8a6e91ff"
      }
     },
     "da0f72b5759344d2b6c9e8a274628957": {
      "model_module": "@jupyter-widgets/controls",
      "model_module_version": "2.0.0",
      "model_name": "HTMLModel",
      "state": {
       "layout": "IPY_MODEL_9cb6bde8a1694dbb95f7617d5bbee77f",
       "style": "IPY_MODEL_940d55407e634daeb2e47e2c88fedb26",
       "value": " 6000/6000 [00:03&lt;00:00, 1523.74it/s]"
      }
     },
     "da42f59e43014b68aa6d48e0c4a8d715": {
      "model_module": "@jupyter-widgets/controls",
      "model_module_version": "2.0.0",
      "model_name": "HTMLModel",
      "state": {
       "layout": "IPY_MODEL_7fc57772f3e646a3b4b70e3ca74eadd0",
       "style": "IPY_MODEL_2fa7fb63b73f4d038378bc63fa954d84",
       "value": " 6000/? [00:05&lt;00:00, 1113.82it/s]"
      }
     },
     "dab96a64b0844b6380dd70c74b8a104c": {
      "model_module": "@jupyter-widgets/base",
      "model_module_version": "2.0.0",
      "model_name": "LayoutModel",
      "state": {
       "width": "20px"
      }
     },
     "dabea1d65d9748189809df8893474f4f": {
      "model_module": "@jupyter-widgets/controls",
      "model_module_version": "2.0.0",
      "model_name": "HTMLModel",
      "state": {
       "layout": "IPY_MODEL_a8a209da1d214496ba514358307114b0",
       "style": "IPY_MODEL_10b5b52f7ca647218f9b3592d2443914",
       "value": " 6000/6000 [00:02&lt;00:00, 1910.07it/s]"
      }
     },
     "dad9fa4ac96a41d9ba0cb69b311cf62e": {
      "model_module": "@jupyter-widgets/base",
      "model_module_version": "2.0.0",
      "model_name": "LayoutModel",
      "state": {}
     },
     "db43e1e33ed646709b2a04aa80cf88c3": {
      "model_module": "@jupyter-widgets/base",
      "model_module_version": "2.0.0",
      "model_name": "LayoutModel",
      "state": {}
     },
     "dc9c908dd35d4f309953f81bfc4a64f3": {
      "model_module": "@jupyter-widgets/base",
      "model_module_version": "2.0.0",
      "model_name": "LayoutModel",
      "state": {}
     },
     "dcbb2d6cf8cb443ba480fca71ee9fdfb": {
      "model_module": "@jupyter-widgets/controls",
      "model_module_version": "2.0.0",
      "model_name": "HTMLStyleModel",
      "state": {
       "description_width": "",
       "font_size": null,
       "text_color": null
      }
     },
     "dce8706785004d8296d06aeb97eef0fa": {
      "model_module": "@jupyter-widgets/base",
      "model_module_version": "2.0.0",
      "model_name": "LayoutModel",
      "state": {}
     },
     "dcf6d9495dd24832acac07be683dfe99": {
      "model_module": "@jupyter-widgets/controls",
      "model_module_version": "2.0.0",
      "model_name": "FloatProgressModel",
      "state": {
       "bar_style": "danger",
       "layout": "IPY_MODEL_33a520639d554b17a10baaae1671c83c",
       "max": 1,
       "style": "IPY_MODEL_0b5ac4b759b94276b3e57f52fb393263",
       "value": 1
      }
     },
     "dd1388cd9e624d7bbd57801ed6252bfa": {
      "model_module": "@jupyter-widgets/base",
      "model_module_version": "2.0.0",
      "model_name": "LayoutModel",
      "state": {}
     },
     "dd797a684699461faa22c5eeb289c803": {
      "model_module": "@jupyter-widgets/controls",
      "model_module_version": "2.0.0",
      "model_name": "HTMLStyleModel",
      "state": {
       "description_width": "",
       "font_size": null,
       "text_color": null
      }
     },
     "dddd757074404cf68ea236bb46650843": {
      "model_module": "@jupyter-widgets/controls",
      "model_module_version": "2.0.0",
      "model_name": "HTMLModel",
      "state": {
       "layout": "IPY_MODEL_4092c20de44243a1b9aa1c95b5d587e0",
       "style": "IPY_MODEL_aab95fed5ede4ae2a5702282876ea890",
       "value": " 6000/6000 [00:08&lt;00:00, 906.38it/s]"
      }
     },
     "dddda4ba9d244bfe842bf3f52e1c2d1d": {
      "model_module": "@jupyter-widgets/controls",
      "model_module_version": "2.0.0",
      "model_name": "HBoxModel",
      "state": {
       "children": [
        "IPY_MODEL_852df6e680084b049ea5b779a3c5333d",
        "IPY_MODEL_a0b50b36bc3a49b58cf63aa14c161ae9",
        "IPY_MODEL_d621e9b2a3f743f79bacfb3f719c902e"
       ],
       "layout": "IPY_MODEL_8ee050f839814a6984c66b84de92cc19"
      }
     },
     "de53821c65b646b1bad53db9bd62ab5d": {
      "model_module": "@jupyter-widgets/base",
      "model_module_version": "2.0.0",
      "model_name": "LayoutModel",
      "state": {}
     },
     "de96f731815f459584339906006374cb": {
      "model_module": "@jupyter-widgets/base",
      "model_module_version": "2.0.0",
      "model_name": "LayoutModel",
      "state": {}
     },
     "dec7bbc4d62c454d8971e2d790a17fa2": {
      "model_module": "@jupyter-widgets/base",
      "model_module_version": "2.0.0",
      "model_name": "LayoutModel",
      "state": {}
     },
     "df9dcecb1f3549f8beccb4f480d1800c": {
      "model_module": "@jupyter-widgets/controls",
      "model_module_version": "2.0.0",
      "model_name": "HTMLModel",
      "state": {
       "layout": "IPY_MODEL_aeb529720e164e7bba124b03969601aa",
       "style": "IPY_MODEL_98a6229739f24aba926906314468844a",
       "value": " 0/6000 [00:00&lt;?, ?it/s]"
      }
     },
     "dfa245ecbc064a558e88e651edb89d65": {
      "model_module": "@jupyter-widgets/controls",
      "model_module_version": "2.0.0",
      "model_name": "ProgressStyleModel",
      "state": {
       "description_width": ""
      }
     },
     "e03d07d3fa284faa85b1c5c5196645f4": {
      "model_module": "@jupyter-widgets/base",
      "model_module_version": "2.0.0",
      "model_name": "LayoutModel",
      "state": {}
     },
     "e0586c7977da4f8496939a33639b4609": {
      "model_module": "@jupyter-widgets/controls",
      "model_module_version": "2.0.0",
      "model_name": "HTMLModel",
      "state": {
       "layout": "IPY_MODEL_1248a186c7d0434691db72b3c48b3eb0",
       "style": "IPY_MODEL_6d341854f1f34f3bbf9bec6038f6441d",
       "value": "  0%"
      }
     },
     "e06a990f10b9460b91aed3bb72eb26b4": {
      "model_module": "@jupyter-widgets/base",
      "model_module_version": "2.0.0",
      "model_name": "LayoutModel",
      "state": {}
     },
     "e0794e84c7ed4bd88c0ccf32294efa91": {
      "model_module": "@jupyter-widgets/base",
      "model_module_version": "2.0.0",
      "model_name": "LayoutModel",
      "state": {}
     },
     "e0889070b4ed42019aeafbb433e6c3e4": {
      "model_module": "@jupyter-widgets/controls",
      "model_module_version": "2.0.0",
      "model_name": "HTMLModel",
      "state": {
       "layout": "IPY_MODEL_534caae5f3d14b41927d6204771c244c",
       "style": "IPY_MODEL_e5f03cb3ee0c4e029d5038b9d1c98a72",
       "value": " 0/6000 [00:00&lt;?, ?it/s]"
      }
     },
     "e0b437ced61f40199da55217b959102a": {
      "model_module": "@jupyter-widgets/base",
      "model_module_version": "2.0.0",
      "model_name": "LayoutModel",
      "state": {}
     },
     "e0d76369beae403293d59e68baaac508": {
      "model_module": "@jupyter-widgets/controls",
      "model_module_version": "2.0.0",
      "model_name": "ProgressStyleModel",
      "state": {
       "description_width": ""
      }
     },
     "e0d7daf083654cc0b2d51796f612cb2b": {
      "model_module": "@jupyter-widgets/controls",
      "model_module_version": "2.0.0",
      "model_name": "HBoxModel",
      "state": {
       "children": [
        "IPY_MODEL_20943bc4fd32422daad905ba7877ef1d",
        "IPY_MODEL_58f5e9ddcad04863b7114bf8a556c37c",
        "IPY_MODEL_9f12304363914d499f189ff77994c14b"
       ],
       "layout": "IPY_MODEL_9392ad2d4e1e40fca325f44963472203"
      }
     },
     "e0e1b29bfda14c3d8f4f425d70450d41": {
      "model_module": "@jupyter-widgets/controls",
      "model_module_version": "2.0.0",
      "model_name": "HTMLModel",
      "state": {
       "layout": "IPY_MODEL_b053e1f7bc9e47c487762ef082f180a3",
       "style": "IPY_MODEL_70d082979f5946a882632eae8aac0db4",
       "value": " 6000/? [00:02&lt;00:00, 2044.80it/s]"
      }
     },
     "e146e4314be34adcac2eb270f0049a6f": {
      "model_module": "@jupyter-widgets/base",
      "model_module_version": "2.0.0",
      "model_name": "LayoutModel",
      "state": {}
     },
     "e1765e9c75c74b928af46ff4a9949311": {
      "model_module": "@jupyter-widgets/base",
      "model_module_version": "2.0.0",
      "model_name": "LayoutModel",
      "state": {}
     },
     "e1e09a62859a43b6aa687f2233a1e5bc": {
      "model_module": "@jupyter-widgets/controls",
      "model_module_version": "2.0.0",
      "model_name": "HTMLStyleModel",
      "state": {
       "description_width": "",
       "font_size": null,
       "text_color": null
      }
     },
     "e1e96d6acd1e4c17a2e442c9c8cdcf9e": {
      "model_module": "@jupyter-widgets/base",
      "model_module_version": "2.0.0",
      "model_name": "LayoutModel",
      "state": {}
     },
     "e267dfe9a6334e3994eb19f9b5055c9c": {
      "model_module": "@jupyter-widgets/base",
      "model_module_version": "2.0.0",
      "model_name": "LayoutModel",
      "state": {}
     },
     "e26bcca4e85640708fcdd7db4ef23c7c": {
      "model_module": "@jupyter-widgets/base",
      "model_module_version": "2.0.0",
      "model_name": "LayoutModel",
      "state": {}
     },
     "e27112917ef54872b5ced03340dbde09": {
      "model_module": "@jupyter-widgets/controls",
      "model_module_version": "2.0.0",
      "model_name": "HTMLStyleModel",
      "state": {
       "description_width": "",
       "font_size": null,
       "text_color": null
      }
     },
     "e288579f642045ee80eb6f04bdd7f93d": {
      "model_module": "@jupyter-widgets/controls",
      "model_module_version": "2.0.0",
      "model_name": "HBoxModel",
      "state": {
       "children": [
        "IPY_MODEL_6f4f8a008e9d402990275f811f72363b",
        "IPY_MODEL_5001cac2366f45ae965cde07971242c8",
        "IPY_MODEL_a5150c222af549d9a08a3f32a8dfbc6a"
       ],
       "layout": "IPY_MODEL_1ac2ff59f54f4a28b162f20cd5cd8669"
      }
     },
     "e2f7f9f76167416698c612603d4c03dc": {
      "model_module": "@jupyter-widgets/base",
      "model_module_version": "2.0.0",
      "model_name": "LayoutModel",
      "state": {}
     },
     "e31bc661bfc44611b030bae0f87d22d4": {
      "model_module": "@jupyter-widgets/base",
      "model_module_version": "2.0.0",
      "model_name": "LayoutModel",
      "state": {}
     },
     "e4120694e7714e2cbb7c45d2a796d9e2": {
      "model_module": "@jupyter-widgets/controls",
      "model_module_version": "2.0.0",
      "model_name": "HTMLModel",
      "state": {
       "layout": "IPY_MODEL_3d9d8ef373e04d68b675fa02d2bce1cd",
       "style": "IPY_MODEL_e4dda3017b734bd49c724e28dd654484",
       "value": " 6000/? [00:04&lt;00:00, 1411.60it/s]"
      }
     },
     "e4280a3b6a8a46c1bce945900dcd642e": {
      "model_module": "@jupyter-widgets/controls",
      "model_module_version": "2.0.0",
      "model_name": "HTMLModel",
      "state": {
       "layout": "IPY_MODEL_8eac995e8d044620b4f17e8077fabef3",
       "style": "IPY_MODEL_108bee642bed40b8aa790ff98e03ae3d",
       "value": " 1/? [00:00&lt;00:00, 23.65it/s]"
      }
     },
     "e44bf015f083446c91ef08082d8b3735": {
      "model_module": "@jupyter-widgets/controls",
      "model_module_version": "2.0.0",
      "model_name": "HTMLStyleModel",
      "state": {
       "description_width": "",
       "font_size": null,
       "text_color": null
      }
     },
     "e455c05a8230424c99e27da3dddcf753": {
      "model_module": "@jupyter-widgets/base",
      "model_module_version": "2.0.0",
      "model_name": "LayoutModel",
      "state": {}
     },
     "e498e1236ae5487da05a09f429fc1278": {
      "model_module": "@jupyter-widgets/controls",
      "model_module_version": "2.0.0",
      "model_name": "HTMLStyleModel",
      "state": {
       "description_width": "",
       "font_size": null,
       "text_color": null
      }
     },
     "e4dda3017b734bd49c724e28dd654484": {
      "model_module": "@jupyter-widgets/controls",
      "model_module_version": "2.0.0",
      "model_name": "HTMLStyleModel",
      "state": {
       "description_width": "",
       "font_size": null,
       "text_color": null
      }
     },
     "e53155c02a2142ea821a5b72f822fac2": {
      "model_module": "@jupyter-widgets/base",
      "model_module_version": "2.0.0",
      "model_name": "LayoutModel",
      "state": {}
     },
     "e54abddba0cb403c92032ad6cc0dfca5": {
      "model_module": "@jupyter-widgets/controls",
      "model_module_version": "2.0.0",
      "model_name": "HTMLModel",
      "state": {
       "layout": "IPY_MODEL_36a51d8c50eb4b56a5b78e348cdae501",
       "style": "IPY_MODEL_a52830a789554a088f5c01326d1c25c8",
       "value": " 0/? [00:00&lt;?, ?it/s]"
      }
     },
     "e581557fb99546ab8589657090550bd9": {
      "model_module": "@jupyter-widgets/base",
      "model_module_version": "2.0.0",
      "model_name": "LayoutModel",
      "state": {}
     },
     "e5989174622744e0bb08b84558edd3d8": {
      "model_module": "@jupyter-widgets/base",
      "model_module_version": "2.0.0",
      "model_name": "LayoutModel",
      "state": {}
     },
     "e59d8a08e79f4514b267d08664f9c62a": {
      "model_module": "@jupyter-widgets/controls",
      "model_module_version": "2.0.0",
      "model_name": "HTMLStyleModel",
      "state": {
       "description_width": "",
       "font_size": null,
       "text_color": null
      }
     },
     "e5f03cb3ee0c4e029d5038b9d1c98a72": {
      "model_module": "@jupyter-widgets/controls",
      "model_module_version": "2.0.0",
      "model_name": "HTMLStyleModel",
      "state": {
       "description_width": "",
       "font_size": null,
       "text_color": null
      }
     },
     "e64b3cdcb56c42e99c03013e9328924b": {
      "model_module": "@jupyter-widgets/base",
      "model_module_version": "2.0.0",
      "model_name": "LayoutModel",
      "state": {}
     },
     "e6537711c93049ec8f616e078d2d8e64": {
      "model_module": "@jupyter-widgets/controls",
      "model_module_version": "2.0.0",
      "model_name": "HTMLModel",
      "state": {
       "layout": "IPY_MODEL_74a59030a8934ac48b663de780e49d9a",
       "style": "IPY_MODEL_3633a507985341f19629fb71b9522da3",
       "value": "100%"
      }
     },
     "e69233ca17ec41bfb7a241104b029b87": {
      "model_module": "@jupyter-widgets/base",
      "model_module_version": "2.0.0",
      "model_name": "LayoutModel",
      "state": {}
     },
     "e6e122102ee2416a979827aebdd9aae8": {
      "model_module": "@jupyter-widgets/controls",
      "model_module_version": "2.0.0",
      "model_name": "HTMLStyleModel",
      "state": {
       "description_width": "",
       "font_size": null,
       "text_color": null
      }
     },
     "e704c22abe3b49f99a5db0db53a33cd2": {
      "model_module": "@jupyter-widgets/controls",
      "model_module_version": "2.0.0",
      "model_name": "FloatProgressModel",
      "state": {
       "bar_style": "success",
       "layout": "IPY_MODEL_b6bd2ce3061048d2bf8bfc08dd1bcd8c",
       "max": 5400,
       "style": "IPY_MODEL_28af7c00d6a3485887596ccb17738202",
       "value": 5400
      }
     },
     "e73e6c9f73584eb08568a79f836ae824": {
      "model_module": "@jupyter-widgets/base",
      "model_module_version": "2.0.0",
      "model_name": "LayoutModel",
      "state": {}
     },
     "e773a1d9aef24925be11d530867fcf3f": {
      "model_module": "@jupyter-widgets/controls",
      "model_module_version": "2.0.0",
      "model_name": "HTMLStyleModel",
      "state": {
       "description_width": "",
       "font_size": null,
       "text_color": null
      }
     },
     "e7bd108707114d91af163e0f84ddf395": {
      "model_module": "@jupyter-widgets/controls",
      "model_module_version": "2.0.0",
      "model_name": "FloatProgressModel",
      "state": {
       "bar_style": "danger",
       "layout": "IPY_MODEL_d0ee6279fd14499f9355c7e0ee00ae58",
       "max": 5400,
       "style": "IPY_MODEL_33ffac94efef43069c2ee7cf9be0ba26"
      }
     },
     "e804a0ee3b544dff9c93a3e94ad36d9b": {
      "model_module": "@jupyter-widgets/controls",
      "model_module_version": "2.0.0",
      "model_name": "HTMLModel",
      "state": {
       "layout": "IPY_MODEL_1bf0926b6e034672873716c217807b65",
       "style": "IPY_MODEL_2aab9afa8a4044fe954aa3b9e9fde319",
       "value": " 6/6000 [00:00&lt;00:34, 172.90it/s]"
      }
     },
     "e8e82ad926ac457fb73c7f765b84462b": {
      "model_module": "@jupyter-widgets/controls",
      "model_module_version": "2.0.0",
      "model_name": "HTMLStyleModel",
      "state": {
       "description_width": "",
       "font_size": null,
       "text_color": null
      }
     },
     "e941a842cab94cc896b5e62d04783d78": {
      "model_module": "@jupyter-widgets/controls",
      "model_module_version": "2.0.0",
      "model_name": "HBoxModel",
      "state": {
       "children": [
        "IPY_MODEL_04cc7f9236514d498bf4c5bfc4ac0167",
        "IPY_MODEL_1a7f12a61c744dedbbdaf15ff76c6995",
        "IPY_MODEL_190dab5808bb4a088be7bbc3ef764e51"
       ],
       "layout": "IPY_MODEL_e73e6c9f73584eb08568a79f836ae824"
      }
     },
     "e961189f5be5490d89a98716afa93a83": {
      "model_module": "@jupyter-widgets/base",
      "model_module_version": "2.0.0",
      "model_name": "LayoutModel",
      "state": {}
     },
     "e98ea85cde3843b0875cce5a4a72bad3": {
      "model_module": "@jupyter-widgets/base",
      "model_module_version": "2.0.0",
      "model_name": "LayoutModel",
      "state": {}
     },
     "ea6f118b0e9a4cf0a702b1be4ebdf3a6": {
      "model_module": "@jupyter-widgets/controls",
      "model_module_version": "2.0.0",
      "model_name": "HTMLModel",
      "state": {
       "layout": "IPY_MODEL_360880e60d0e4dd493d1caa557a35fef",
       "style": "IPY_MODEL_30957d88144f432192a70226b033e532",
       "value": " 5400/5400 [00:02&lt;00:00, 2412.52it/s]"
      }
     },
     "eae25260fc604fc4a2b024c862b64194": {
      "model_module": "@jupyter-widgets/controls",
      "model_module_version": "2.0.0",
      "model_name": "ProgressStyleModel",
      "state": {
       "description_width": ""
      }
     },
     "eb1ed06f16f942508ebed6f0a0ef29fa": {
      "model_module": "@jupyter-widgets/controls",
      "model_module_version": "2.0.0",
      "model_name": "HBoxModel",
      "state": {
       "children": [
        "IPY_MODEL_d21b6f3c06c24a678dff3eb0166df2a4",
        "IPY_MODEL_6823fc860311437ebe3e0120d681863b",
        "IPY_MODEL_efd940b0358e4d87ab1bd815f5598856"
       ],
       "layout": "IPY_MODEL_fcc98b13eccc497eaa04f8d6a14d6f2e"
      }
     },
     "eb30698ac1944887a00aab9f019902a7": {
      "model_module": "@jupyter-widgets/base",
      "model_module_version": "2.0.0",
      "model_name": "LayoutModel",
      "state": {}
     },
     "eb86badb9caa40c7bb67a7c285868fee": {
      "model_module": "@jupyter-widgets/base",
      "model_module_version": "2.0.0",
      "model_name": "LayoutModel",
      "state": {}
     },
     "eb983822b1174b6db60a83a08fdc557a": {
      "model_module": "@jupyter-widgets/base",
      "model_module_version": "2.0.0",
      "model_name": "LayoutModel",
      "state": {}
     },
     "ebb384a992c946bfba1bc496b0237240": {
      "model_module": "@jupyter-widgets/controls",
      "model_module_version": "2.0.0",
      "model_name": "HTMLStyleModel",
      "state": {
       "description_width": "",
       "font_size": null,
       "text_color": null
      }
     },
     "ebb9db375fab4e73abb811930a42327b": {
      "model_module": "@jupyter-widgets/controls",
      "model_module_version": "2.0.0",
      "model_name": "HTMLModel",
      "state": {
       "layout": "IPY_MODEL_e26bcca4e85640708fcdd7db4ef23c7c",
       "style": "IPY_MODEL_3539092c568a4f288472d2e394fd7564"
      }
     },
     "ebe31ece29494484ab5a5a9d0c7612d8": {
      "model_module": "@jupyter-widgets/controls",
      "model_module_version": "2.0.0",
      "model_name": "HTMLModel",
      "state": {
       "layout": "IPY_MODEL_a27300e0f5a74360a0dadaf116a467b9",
       "style": "IPY_MODEL_218199af1e9d4dc083f45d327b58a289"
      }
     },
     "ec09f3227028476fbd7f3da3dc33f950": {
      "model_module": "@jupyter-widgets/controls",
      "model_module_version": "2.0.0",
      "model_name": "HTMLModel",
      "state": {
       "layout": "IPY_MODEL_0625561540e64fbdb75c514c0cf8d1db",
       "style": "IPY_MODEL_21c97032f3a843baa531273f8b60c4a1",
       "value": " 6000/6000 [00:05&lt;00:00, 1273.00it/s]"
      }
     },
     "ec6352a25e0a4aeba04f0d95ffd8865a": {
      "model_module": "@jupyter-widgets/base",
      "model_module_version": "2.0.0",
      "model_name": "LayoutModel",
      "state": {}
     },
     "ec678af92a3f42a99ce97f145ae0ef3c": {
      "model_module": "@jupyter-widgets/base",
      "model_module_version": "2.0.0",
      "model_name": "LayoutModel",
      "state": {}
     },
     "ec8acc1f537344b79845719aa079dacc": {
      "model_module": "@jupyter-widgets/base",
      "model_module_version": "2.0.0",
      "model_name": "LayoutModel",
      "state": {}
     },
     "ecd6bb0f103f4cd79cbac16ac5a2b62f": {
      "model_module": "@jupyter-widgets/base",
      "model_module_version": "2.0.0",
      "model_name": "LayoutModel",
      "state": {}
     },
     "ecf27284162849c4a301789b05251116": {
      "model_module": "@jupyter-widgets/controls",
      "model_module_version": "2.0.0",
      "model_name": "ProgressStyleModel",
      "state": {
       "description_width": ""
      }
     },
     "ecf386d3406e469da442500acf633842": {
      "model_module": "@jupyter-widgets/controls",
      "model_module_version": "2.0.0",
      "model_name": "FloatProgressModel",
      "state": {
       "bar_style": "success",
       "layout": "IPY_MODEL_eb30698ac1944887a00aab9f019902a7",
       "max": 6000,
       "style": "IPY_MODEL_78ab8c123dfc456d88ffa42b9e0382b9",
       "value": 6000
      }
     },
     "ed80d28268294b3c9323f7148acf233a": {
      "model_module": "@jupyter-widgets/base",
      "model_module_version": "2.0.0",
      "model_name": "LayoutModel",
      "state": {}
     },
     "ede303e855fd4300b86248baa2f53983": {
      "model_module": "@jupyter-widgets/controls",
      "model_module_version": "2.0.0",
      "model_name": "HTMLStyleModel",
      "state": {
       "description_width": "",
       "font_size": null,
       "text_color": null
      }
     },
     "ef164736f39f416c9c760e0188773fa2": {
      "model_module": "@jupyter-widgets/base",
      "model_module_version": "2.0.0",
      "model_name": "LayoutModel",
      "state": {}
     },
     "ef1db88849754d16a2af4c5797667e50": {
      "model_module": "@jupyter-widgets/base",
      "model_module_version": "2.0.0",
      "model_name": "LayoutModel",
      "state": {}
     },
     "ef53ea6468444dd183dcd6c618716c94": {
      "model_module": "@jupyter-widgets/controls",
      "model_module_version": "2.0.0",
      "model_name": "FloatProgressModel",
      "state": {
       "bar_style": "success",
       "layout": "IPY_MODEL_46ebfa6c71ba46f6b8adc805b3431b09",
       "max": 6000,
       "style": "IPY_MODEL_f546bef84fd34f1fafaa2466fe8fd970",
       "value": 6000
      }
     },
     "efd940b0358e4d87ab1bd815f5598856": {
      "model_module": "@jupyter-widgets/controls",
      "model_module_version": "2.0.0",
      "model_name": "HTMLModel",
      "state": {
       "layout": "IPY_MODEL_891dc8de53f145c29fdbc88c6e828eb9",
       "style": "IPY_MODEL_7fcf28045a054f13b153c6aca41fe21c",
       "value": " 6000/6000 [00:04&lt;00:00, 956.42it/s]"
      }
     },
     "f0946031b3a54da3aac6ffa895d02cdd": {
      "model_module": "@jupyter-widgets/base",
      "model_module_version": "2.0.0",
      "model_name": "LayoutModel",
      "state": {}
     },
     "f0992e9a86fc4d609c8ef3e24942f4ad": {
      "model_module": "@jupyter-widgets/controls",
      "model_module_version": "2.0.0",
      "model_name": "HTMLModel",
      "state": {
       "layout": "IPY_MODEL_dad9fa4ac96a41d9ba0cb69b311cf62e",
       "style": "IPY_MODEL_8a6ae1ba88834228a58e442f7bc34bd6",
       "value": "100%"
      }
     },
     "f140ebd5763548b8a2a96aae8db97064": {
      "model_module": "@jupyter-widgets/base",
      "model_module_version": "2.0.0",
      "model_name": "LayoutModel",
      "state": {}
     },
     "f2ed98f8fa2e4f85b4e982dcb1f50f9f": {
      "model_module": "@jupyter-widgets/base",
      "model_module_version": "2.0.0",
      "model_name": "LayoutModel",
      "state": {}
     },
     "f3d0cc09b80a492d81f19b683acce6e4": {
      "model_module": "@jupyter-widgets/controls",
      "model_module_version": "2.0.0",
      "model_name": "HTMLStyleModel",
      "state": {
       "description_width": "",
       "font_size": null,
       "text_color": null
      }
     },
     "f3d7482de56144db92dd3c722e6d92e7": {
      "model_module": "@jupyter-widgets/controls",
      "model_module_version": "2.0.0",
      "model_name": "HTMLModel",
      "state": {
       "layout": "IPY_MODEL_bb4d8243eda343bda1cbf055d64d763a",
       "style": "IPY_MODEL_cfe5e224e4364f0ebc619ca6c651b979",
       "value": "100%"
      }
     },
     "f42cebcbddad439481901c5d3bc222a3": {
      "model_module": "@jupyter-widgets/base",
      "model_module_version": "2.0.0",
      "model_name": "LayoutModel",
      "state": {}
     },
     "f43fcfc7fa234d4489094ddbc7129ee6": {
      "model_module": "@jupyter-widgets/controls",
      "model_module_version": "2.0.0",
      "model_name": "HTMLModel",
      "state": {
       "layout": "IPY_MODEL_c6ce1b0a0ddb4567bad415130772ede4",
       "style": "IPY_MODEL_fdcbf9bb19aa44558a9aab6f7ddc6daf",
       "value": "100%"
      }
     },
     "f44990f474694ab1a76d2b017874acaf": {
      "model_module": "@jupyter-widgets/controls",
      "model_module_version": "2.0.0",
      "model_name": "HTMLModel",
      "state": {
       "layout": "IPY_MODEL_998ac5c4a80c4011874ae3c89a2443ca",
       "style": "IPY_MODEL_67a17c8019b242548dd656199c58d5a6",
       "value": " 5400/5400 [00:06&lt;00:00, 1283.97it/s]"
      }
     },
     "f470fd1b29fb4016b15ce39931120acb": {
      "model_module": "@jupyter-widgets/controls",
      "model_module_version": "2.0.0",
      "model_name": "HBoxModel",
      "state": {
       "children": [
        "IPY_MODEL_5e35f38c51c241ee9ca19d7af5911c4b",
        "IPY_MODEL_e704c22abe3b49f99a5db0db53a33cd2",
        "IPY_MODEL_ea6f118b0e9a4cf0a702b1be4ebdf3a6"
       ],
       "layout": "IPY_MODEL_bc3b1cac9be940b798468e9f1efeab15"
      }
     },
     "f491536a6b63426681c1a7807ed270e6": {
      "model_module": "@jupyter-widgets/controls",
      "model_module_version": "2.0.0",
      "model_name": "ProgressStyleModel",
      "state": {
       "description_width": ""
      }
     },
     "f4a3728dfd93491ab9454200f11f6f21": {
      "model_module": "@jupyter-widgets/controls",
      "model_module_version": "2.0.0",
      "model_name": "HBoxModel",
      "state": {
       "children": [
        "IPY_MODEL_ce78f9e700bd459396fa829bbb178d47",
        "IPY_MODEL_84f749a740654aaea25d8b4f49f77f3f",
        "IPY_MODEL_ad3f28ce1a074b3d9e6a1b83911eeb0e"
       ],
       "layout": "IPY_MODEL_808e1f30a7c548b7b7a62cf531fe1944"
      }
     },
     "f4e9677b727145d0b285b59118f061b5": {
      "model_module": "@jupyter-widgets/base",
      "model_module_version": "2.0.0",
      "model_name": "LayoutModel",
      "state": {}
     },
     "f5096b496d5d4aa2a720e89602cd0fa9": {
      "model_module": "@jupyter-widgets/controls",
      "model_module_version": "2.0.0",
      "model_name": "ProgressStyleModel",
      "state": {
       "description_width": ""
      }
     },
     "f546bef84fd34f1fafaa2466fe8fd970": {
      "model_module": "@jupyter-widgets/controls",
      "model_module_version": "2.0.0",
      "model_name": "ProgressStyleModel",
      "state": {
       "description_width": ""
      }
     },
     "f551b21f82134a36969af8b39a7cd9e3": {
      "model_module": "@jupyter-widgets/controls",
      "model_module_version": "2.0.0",
      "model_name": "HTMLModel",
      "state": {
       "layout": "IPY_MODEL_fcaa06aa81b14f81adfc00a8ca8975b1",
       "style": "IPY_MODEL_6d55bc671ef74d84a78cce725e1f1b17",
       "value": " 6000/6000 [00:03&lt;00:00, 1599.64it/s]"
      }
     },
     "f563a3e54f47498daadea0af88f65b0a": {
      "model_module": "@jupyter-widgets/controls",
      "model_module_version": "2.0.0",
      "model_name": "HBoxModel",
      "state": {
       "children": [
        "IPY_MODEL_1a126807ee0744178d6cf68b45272db0",
        "IPY_MODEL_ecf386d3406e469da442500acf633842",
        "IPY_MODEL_49cec35799c84a8ab527b9d5ae6d7135"
       ],
       "layout": "IPY_MODEL_de96f731815f459584339906006374cb"
      }
     },
     "f5809499a0504fe88d145febe8e6a1c2": {
      "model_module": "@jupyter-widgets/controls",
      "model_module_version": "2.0.0",
      "model_name": "HTMLStyleModel",
      "state": {
       "description_width": "",
       "font_size": null,
       "text_color": null
      }
     },
     "f581f65e4eb24224b15972546c28fe00": {
      "model_module": "@jupyter-widgets/controls",
      "model_module_version": "2.0.0",
      "model_name": "HBoxModel",
      "state": {
       "children": [
        "IPY_MODEL_d1c6701780214870b1bd29ca3e328450",
        "IPY_MODEL_2a5816f4f87244e8a2811fe34aad39fa",
        "IPY_MODEL_4a51cd62fac64ee2b8917cb0d1a0bcc2"
       ],
       "layout": "IPY_MODEL_093864a5ab134f8e8e25f05719f1ade3"
      }
     },
     "f629ae96417a4cd09980383b78767be2": {
      "model_module": "@jupyter-widgets/controls",
      "model_module_version": "2.0.0",
      "model_name": "HTMLModel",
      "state": {
       "layout": "IPY_MODEL_503a4e5de7f74f90ab3f98a4353be069",
       "style": "IPY_MODEL_d784b295edb645899d2517cf6bb91128",
       "value": "100%"
      }
     },
     "f653e29b15f141e59f1c4ee43e741039": {
      "model_module": "@jupyter-widgets/controls",
      "model_module_version": "2.0.0",
      "model_name": "FloatProgressModel",
      "state": {
       "bar_style": "success",
       "layout": "IPY_MODEL_3a26055a349c4a069ccf1ed740833c39",
       "max": 6000,
       "style": "IPY_MODEL_6d54b152de354c6698e2ade342cf2cde",
       "value": 6000
      }
     },
     "f6da6ff9e7d14b6e9b1736ea673fb209": {
      "model_module": "@jupyter-widgets/controls",
      "model_module_version": "2.0.0",
      "model_name": "HBoxModel",
      "state": {
       "children": [
        "IPY_MODEL_672da2c972af472e89bf18aaa9de01d0",
        "IPY_MODEL_23ddbd22f516445583c03cbb1b1b6151",
        "IPY_MODEL_2715603eaeb444dd964d1e9ecb35c82a"
       ],
       "layout": "IPY_MODEL_cd2b5728bf654647945d14b67f82219b"
      }
     },
     "f71fd3c1870e434383f8a7dd51ba521a": {
      "model_module": "@jupyter-widgets/base",
      "model_module_version": "2.0.0",
      "model_name": "LayoutModel",
      "state": {}
     },
     "f72bcf37f9c34682b80fa4589caa6525": {
      "model_module": "@jupyter-widgets/base",
      "model_module_version": "2.0.0",
      "model_name": "LayoutModel",
      "state": {}
     },
     "f7344a70328d4073be03676ff320896d": {
      "model_module": "@jupyter-widgets/controls",
      "model_module_version": "2.0.0",
      "model_name": "HTMLStyleModel",
      "state": {
       "description_width": "",
       "font_size": null,
       "text_color": null
      }
     },
     "f7f16f19ae36442fb55bce306b691d24": {
      "model_module": "@jupyter-widgets/base",
      "model_module_version": "2.0.0",
      "model_name": "LayoutModel",
      "state": {}
     },
     "f82f4466b9674a02aa029d6e44ca6357": {
      "model_module": "@jupyter-widgets/controls",
      "model_module_version": "2.0.0",
      "model_name": "FloatProgressModel",
      "state": {
       "bar_style": "success",
       "layout": "IPY_MODEL_480a2e3000814709a625146ed14844ea",
       "max": 6000,
       "style": "IPY_MODEL_4d156ecc83ba4a258b96e02f9e092890",
       "value": 6000
      }
     },
     "f85199a308914d6eb8867c742c5492a2": {
      "model_module": "@jupyter-widgets/base",
      "model_module_version": "2.0.0",
      "model_name": "LayoutModel",
      "state": {}
     },
     "f889da43836547e2aa008a12e933846a": {
      "model_module": "@jupyter-widgets/base",
      "model_module_version": "2.0.0",
      "model_name": "LayoutModel",
      "state": {}
     },
     "f891c15dc8df41c6a4248eb07c2c7c0c": {
      "model_module": "@jupyter-widgets/base",
      "model_module_version": "2.0.0",
      "model_name": "LayoutModel",
      "state": {}
     },
     "f921c86983894d33832dc37d7437538a": {
      "model_module": "@jupyter-widgets/base",
      "model_module_version": "2.0.0",
      "model_name": "LayoutModel",
      "state": {
       "width": "20px"
      }
     },
     "f931adf607634666a608638824e186bc": {
      "model_module": "@jupyter-widgets/controls",
      "model_module_version": "2.0.0",
      "model_name": "HTMLStyleModel",
      "state": {
       "description_width": "",
       "font_size": null,
       "text_color": null
      }
     },
     "f93e43f71c7048099584d1cd8fc68b7f": {
      "model_module": "@jupyter-widgets/controls",
      "model_module_version": "2.0.0",
      "model_name": "FloatProgressModel",
      "state": {
       "bar_style": "danger",
       "layout": "IPY_MODEL_dec7bbc4d62c454d8971e2d790a17fa2",
       "max": 6000,
       "style": "IPY_MODEL_f5096b496d5d4aa2a720e89602cd0fa9",
       "value": 6
      }
     },
     "f947960a84fe4e83bf0490029da73682": {
      "model_module": "@jupyter-widgets/controls",
      "model_module_version": "2.0.0",
      "model_name": "HTMLStyleModel",
      "state": {
       "description_width": "",
       "font_size": null,
       "text_color": null
      }
     },
     "f97ecd65355b4284b88cd87287a3aa22": {
      "model_module": "@jupyter-widgets/controls",
      "model_module_version": "2.0.0",
      "model_name": "HTMLModel",
      "state": {
       "layout": "IPY_MODEL_3acbf2c1a82946d6a7efcee68fce26fb",
       "style": "IPY_MODEL_c4f7812eea6c440c8e4407b6258b5076",
       "value": " 2/? [00:00&lt;00:00, 55.92it/s]"
      }
     },
     "fa1a4fa317ea46beaf101161dd54d8ac": {
      "model_module": "@jupyter-widgets/controls",
      "model_module_version": "2.0.0",
      "model_name": "FloatProgressModel",
      "state": {
       "bar_style": "success",
       "layout": "IPY_MODEL_28400c65969d482fa80db6accf6fe1b3",
       "max": 6000,
       "style": "IPY_MODEL_9aac3b0c5b084040b4169178b206a382",
       "value": 6000
      }
     },
     "fac105c6b7414a8eae4db7795b2685fd": {
      "model_module": "@jupyter-widgets/controls",
      "model_module_version": "2.0.0",
      "model_name": "HBoxModel",
      "state": {
       "children": [
        "IPY_MODEL_79ccd02a1c3448eca39e82c0d179f5a4",
        "IPY_MODEL_e7bd108707114d91af163e0f84ddf395",
        "IPY_MODEL_19183b1ca9044083a735d4f0d9c8172c"
       ],
       "layout": "IPY_MODEL_7a34360c4de046ca8bacc8e766ce382b"
      }
     },
     "fb16c0d80d194264a28d375773be09f0": {
      "model_module": "@jupyter-widgets/controls",
      "model_module_version": "2.0.0",
      "model_name": "HTMLStyleModel",
      "state": {
       "description_width": "",
       "font_size": null,
       "text_color": null
      }
     },
     "fb671c375ea24411b2cb24e297551826": {
      "model_module": "@jupyter-widgets/base",
      "model_module_version": "2.0.0",
      "model_name": "LayoutModel",
      "state": {}
     },
     "fb7963a73aed4afd9f4da5fdc788788d": {
      "model_module": "@jupyter-widgets/controls",
      "model_module_version": "2.0.0",
      "model_name": "HTMLStyleModel",
      "state": {
       "description_width": "",
       "font_size": null,
       "text_color": null
      }
     },
     "fbc90b276dfd450899f4535bb0bdad97": {
      "model_module": "@jupyter-widgets/controls",
      "model_module_version": "2.0.0",
      "model_name": "HTMLStyleModel",
      "state": {
       "description_width": "",
       "font_size": null,
       "text_color": null
      }
     },
     "fbd2f0b267634962ba96bb3a87ba951b": {
      "model_module": "@jupyter-widgets/base",
      "model_module_version": "2.0.0",
      "model_name": "LayoutModel",
      "state": {}
     },
     "fc078d3ca07a4a7eb605fccfc7310321": {
      "model_module": "@jupyter-widgets/base",
      "model_module_version": "2.0.0",
      "model_name": "LayoutModel",
      "state": {}
     },
     "fc24eb5f57f64d13b1ffdd59d1fe321f": {
      "model_module": "@jupyter-widgets/base",
      "model_module_version": "2.0.0",
      "model_name": "LayoutModel",
      "state": {}
     },
     "fc4a4e376f0d4312bbfe28d81e99d8bd": {
      "model_module": "@jupyter-widgets/base",
      "model_module_version": "2.0.0",
      "model_name": "LayoutModel",
      "state": {}
     },
     "fc77d6975ef343f68cde08c326de7004": {
      "model_module": "@jupyter-widgets/controls",
      "model_module_version": "2.0.0",
      "model_name": "HTMLModel",
      "state": {
       "layout": "IPY_MODEL_18aa9cb9baa84a3f9f12e1df68e27bf7",
       "style": "IPY_MODEL_912e6bf77238486f91627d3172fc9ddb",
       "value": "  0%"
      }
     },
     "fcaa06aa81b14f81adfc00a8ca8975b1": {
      "model_module": "@jupyter-widgets/base",
      "model_module_version": "2.0.0",
      "model_name": "LayoutModel",
      "state": {}
     },
     "fcc98b13eccc497eaa04f8d6a14d6f2e": {
      "model_module": "@jupyter-widgets/base",
      "model_module_version": "2.0.0",
      "model_name": "LayoutModel",
      "state": {}
     },
     "fd08747551ac4ef596dc7f3474c337e4": {
      "model_module": "@jupyter-widgets/controls",
      "model_module_version": "2.0.0",
      "model_name": "HBoxModel",
      "state": {
       "children": [
        "IPY_MODEL_05e5bf1dbc92490c867d2088bf9d1e08",
        "IPY_MODEL_7a5b124284fd4d43ae57384183d2860d",
        "IPY_MODEL_ec09f3227028476fbd7f3da3dc33f950"
       ],
       "layout": "IPY_MODEL_b440ab88390f47cb9ca1cd7ba7469950"
      }
     },
     "fd81bb742e3b47339a641aaa4d81fa9b": {
      "model_module": "@jupyter-widgets/controls",
      "model_module_version": "2.0.0",
      "model_name": "HTMLModel",
      "state": {
       "layout": "IPY_MODEL_c6e0c87c32af42388dec3b39e390176e",
       "style": "IPY_MODEL_a0a01c986acc497491934029948327ea"
      }
     },
     "fdcbf9bb19aa44558a9aab6f7ddc6daf": {
      "model_module": "@jupyter-widgets/controls",
      "model_module_version": "2.0.0",
      "model_name": "HTMLStyleModel",
      "state": {
       "description_width": "",
       "font_size": null,
       "text_color": null
      }
     },
     "fdd785a219684cbc97f33ce4ebec3a5f": {
      "model_module": "@jupyter-widgets/controls",
      "model_module_version": "2.0.0",
      "model_name": "HTMLModel",
      "state": {
       "layout": "IPY_MODEL_1de6f28b60e648a4b663d2e53fe947ba",
       "style": "IPY_MODEL_fbc90b276dfd450899f4535bb0bdad97",
       "value": "100%"
      }
     },
     "fdee445cf8664d01983824d3fcb0672d": {
      "model_module": "@jupyter-widgets/controls",
      "model_module_version": "2.0.0",
      "model_name": "HTMLModel",
      "state": {
       "layout": "IPY_MODEL_b181f59d09ab4913adaf4a6149bda9d9",
       "style": "IPY_MODEL_4c2632413f854d63a9e1770f07b30779",
       "value": " 6000/? [00:02&lt;00:00, 2109.17it/s]"
      }
     },
     "fe0490150ace47848d8426ed7bd90637": {
      "model_module": "@jupyter-widgets/controls",
      "model_module_version": "2.0.0",
      "model_name": "HTMLModel",
      "state": {
       "layout": "IPY_MODEL_833ecb05bf044c04b1742b51fcd9705f",
       "style": "IPY_MODEL_34e2ec0b51ee4f8685fa80c4e603ec6f"
      }
     },
     "fe2dfb750b0f4c96943c08d6d21beaec": {
      "model_module": "@jupyter-widgets/base",
      "model_module_version": "2.0.0",
      "model_name": "LayoutModel",
      "state": {}
     },
     "fe42b1e2d0cb43b4815487502b3ee65a": {
      "model_module": "@jupyter-widgets/controls",
      "model_module_version": "2.0.0",
      "model_name": "HTMLModel",
      "state": {
       "layout": "IPY_MODEL_1e89aa9e22554bce963748bcc4e4e310",
       "style": "IPY_MODEL_c545beeb7403453ba9c5cd88f6695b13",
       "value": "100%"
      }
     },
     "fe6c090067fd402298fa354cdc1e6d17": {
      "model_module": "@jupyter-widgets/controls",
      "model_module_version": "2.0.0",
      "model_name": "HTMLStyleModel",
      "state": {
       "description_width": "",
       "font_size": null,
       "text_color": null
      }
     },
     "fe8385edd20f4711923461be448dc8d1": {
      "model_module": "@jupyter-widgets/base",
      "model_module_version": "2.0.0",
      "model_name": "LayoutModel",
      "state": {}
     }
    },
    "version_major": 2,
    "version_minor": 0
   }
  }
 },
 "nbformat": 4,
 "nbformat_minor": 5
}
