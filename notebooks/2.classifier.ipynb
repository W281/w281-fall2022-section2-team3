{
 "cells": [
  {
   "cell_type": "code",
   "execution_count": 15,
   "id": "1da199cf-f585-4f48-aba7-9dd68c35f6f4",
   "metadata": {},
   "outputs": [
    {
     "name": "stdout",
     "output_type": "stream",
     "text": [
      "The autoreload extension is already loaded. To reload it, use:\n",
      "  %reload_ext autoreload\n"
     ]
    }
   ],
   "source": [
    "%load_ext autoreload\n",
    "%autoreload 2\n",
    "%matplotlib inline"
   ]
  },
  {
   "cell_type": "code",
   "execution_count": 16,
   "id": "cc4f09a6-79fb-4181-8ec7-818f8f13a1d2",
   "metadata": {},
   "outputs": [
    {
     "name": "stdout",
     "output_type": "stream",
     "text": [
      "torch.__version__: 1.13.0\n",
      "tensor([1.], device='mps:0')\n"
     ]
    }
   ],
   "source": [
    "import time\n",
    "import matplotlib.pyplot as plt\n",
    "import matplotlib.ticker as ticker\n",
    "from enum import Enum, IntEnum\n",
    "\n",
    "import numpy as np\n",
    "import pandas as pd\n",
    "from torch.utils.data import DataLoader\n",
    "from torch import nn\n",
    "from torchsummary import summary\n",
    "import torch\n",
    "print (f'torch.__version__: {torch.__version__}')\n",
    "import tensorflow as tf\n",
    "import cv2 as cv\n",
    "from torchvision import transforms\n",
    "\n",
    "import enums\n",
    "import viz\n",
    "import configuration\n",
    "import customdataset\n",
    "import transformers\n",
    "import models\n",
    "import feature_helpers\n",
    "from utilmethods import create_output_folders, check_torch_mps_device, make_torch_deterministic\n",
    "\n",
    "from sklearn.neighbors import KNeighborsClassifier\n",
    "from sklearn.model_selection import train_test_split\n",
    "from sklearn.model_selection import RandomizedSearchCV, GridSearchCV\n",
    "from sklearn.metrics import accuracy_score\n",
    "from sklearn.preprocessing import StandardScaler\n",
    "from sklearn.linear_model import LogisticRegression\n",
    "from sklearn.utils.fixes import loguniform\n",
    "from tqdm.notebook import tqdm\n",
    "\n",
    "check_torch_mps_device()\n",
    "device = 'cpu'\n",
    "device = 'mps'\n",
    "\n",
    "config = configuration.Configuration()\n",
    "face_config = configuration.FaceConfig(config)\n",
    "pose_config = configuration.PoseConfig(config)\n",
    "feature_extractor = feature_helpers.FeatureExtractor(config, face_config, pose_config, tqdm)\n",
    "\n",
    "LABELS_TO_INCLUDE = config.class_dict.keys()\n",
    "# LABELS_TO_INCLUDE=[0,1,2,9]\n",
    "\n",
    "# When num samples increases plotting PCA and TSNE can crash. So better to not run those cells during the main training.    \n",
    "NUM_SAMPLES_TO_LOAD = 540\n",
    "IMAGE_TYPES = [enums.ImageTypes.ORIGINAL,enums.ImageTypes.POSE, enums.ImageTypes.FACE]"
   ]
  },
  {
   "cell_type": "code",
   "execution_count": 39,
   "id": "2469ad96-5deb-4705-8091-90afcb51e116",
   "metadata": {},
   "outputs": [],
   "source": [
    "import pickle"
   ]
  },
  {
   "cell_type": "markdown",
   "id": "2dee1b57-1b3e-49cb-ba70-1109afad2a40",
   "metadata": {},
   "source": [
    "## Load Data"
   ]
  },
  {
   "cell_type": "code",
   "execution_count": 17,
   "id": "3364253f-4d78-449a-91ce-036ea10a0e1e",
   "metadata": {},
   "outputs": [
    {
     "data": {
      "application/vnd.jupyter.widget-view+json": {
       "model_id": "b2af87a5b13c45639c8c42af6dc85d51",
       "version_major": 2,
       "version_minor": 0
      },
      "text/plain": [
       "Loading 5400 samples:   0%|          | 0/5400 [00:00<?, ?samples/s]"
      ]
     },
     "metadata": {},
     "output_type": "display_data"
    },
    {
     "name": "stdout",
     "output_type": "stream",
     "text": [
      "load_data::df cols:Index(['filename', 'label', 'original', 'pose', 'face'], dtype='object')\n",
      "Loaded 5400 samples.\n",
      "CPU times: user 9min 37s, sys: 1min 49s, total: 11min 26s\n",
      "Wall time: 2min 2s\n"
     ]
    }
   ],
   "source": [
    "%%time\n",
    "# Load the data\n",
    "data = feature_extractor.load_data(image_types=IMAGE_TYPES, labels=LABELS_TO_INCLUDE, shuffle=True, sample_type=enums.SampleType.TRAIN_VALIDATION,\n",
    "                                   count_per_label=NUM_SAMPLES_TO_LOAD, include_feature_vectors=False)\n",
    "print(f'Loaded {data.shape[0]} samples.')\n"
   ]
  },
  {
   "cell_type": "code",
   "execution_count": 23,
   "id": "eeaf77ef-acfa-42cf-8fbc-bec767522c98",
   "metadata": {},
   "outputs": [
    {
     "data": {
      "application/vnd.jupyter.widget-view+json": {
       "model_id": "4fbd660a5aca424d9dc9d107f94a129b",
       "version_major": 2,
       "version_minor": 0
      },
      "text/plain": [
       "Loading feature vectors:   0%|          | 0/5400 [00:00<?, ?images/s]"
      ]
     },
     "metadata": {},
     "output_type": "display_data"
    },
    {
     "name": "stdout",
     "output_type": "stream",
     "text": [
      "Loaded 5400 samples with Index(['filename', 'label', 'original', 'pose', 'face'], dtype='object') columns.\n",
      "hog_features:(5400, 5776), hog_features.min:0.0, hog_features.max:1.0\n",
      "pixel_features:(5400, 25600), pixel_features.min:0.0, pixel_features.max:0.9999000430107117\n",
      "cnn_features:(5400, 2048), cnn_features.min:0.0, cnn_features.max:1.607669472694397\n",
      "canny_features:(5400, 25600), canny_features.min:0, canny_features.max:255\n",
      "pose_features:(5400, 65536), pose_features.min:0.0, pose_features.max:0.6640035510063171\n",
      "keypoints_features:(5400, 26), keypoints_features.min:-0.5003660321235657, keypoints_features.max:0.9989637667923688\n",
      "rh_angles:(5400,), rh_angles.min:0.14272619159056515, rh_angles.max:359.62695604525277\n",
      "lh_angles:(5400,), lh_angles.min:5.817067027043849, lh_angles.max:357.32084582961005\n",
      "\n",
      "CPU times: user 11.6 s, sys: 9.41 s, total: 21 s\n",
      "Wall time: 31.5 s\n"
     ]
    }
   ],
   "source": [
    "%%time\n",
    "all_features = feature_extractor.load_feature_vectors(config.FEATURE_VECTORS_FOLDER, data[enums.DataColumn.FILENAME.value], data[enums.DataColumn.LABEL.value])\n",
    "# pixel_features = data[enums.DataColumn.PIXEL_VECTOR.value].to_numpy()\n",
    "# hog_features = data[enums.DataColumn.HOG_VECTOR.value].to_numpy()\n",
    "# cnn_features = data[enums.DataColumn.CNN_VECTOR.value].to_numpy()\n",
    "# canny_features = data[enums.DataColumn.CANNY_VECTOR.value].to_numpy()\n",
    "# pose_features = data[enums.DataColumn.POSE_VECTOR.value].to_numpy()\n",
    "features_names = ['Pixel', 'Hog', 'CNN', 'Canny', 'Pose', 'Keypoints', ]\n",
    "[pixel_features, hog_features, cnn_features, canny_features, pose_features, keypoints_features, _, rh_angles, lh_angles] = all_features\n",
    "# Just keep cnn and keypoints_features as other features are too big.\n",
    "features_list = [keypoints_features]\n",
    "features_names = ['Keypoints']\n",
    "y = data[enums.DataColumn.LABEL.value]\n",
    "\n",
    "print(f'Loaded {data.shape[0]} samples with {data.columns} columns.')\n",
    "print(f'hog_features:{hog_features.shape}, hog_features.min:{np.min(hog_features)}, hog_features.max:{np.max(hog_features)}')\n",
    "print(f'pixel_features:{pixel_features.shape}, pixel_features.min:{np.min(pixel_features)}, pixel_features.max:{np.max(pixel_features)}')\n",
    "print(f'cnn_features:{cnn_features.shape}, cnn_features.min:{np.min(cnn_features)}, cnn_features.max:{np.max(cnn_features)}')\n",
    "print(f'canny_features:{canny_features.shape}, canny_features.min:{np.min(canny_features)}, canny_features.max:{np.max(canny_features)}')\n",
    "print(f'pose_features:{pose_features.shape}, pose_features.min:{np.min(pose_features)}, pose_features.max:{np.max(pose_features)}')\n",
    "print(f'keypoints_features:{keypoints_features.shape}, keypoints_features.min:{np.min(keypoints_features)}, keypoints_features.max:{np.max(keypoints_features)}')\n",
    "print(f'rh_angles:{rh_angles.shape}, rh_angles.min:{np.min(rh_angles)}, rh_angles.max:{np.max(rh_angles)}')\n",
    "print(f'lh_angles:{lh_angles.shape}, lh_angles.min:{np.min(lh_angles)}, lh_angles.max:{np.max(lh_angles)}')\n",
    "\n",
    "print()\n"
   ]
  },
  {
   "cell_type": "markdown",
   "id": "d3380be1-213f-4c53-92e9-a4ba962520aa",
   "metadata": {},
   "source": [
    "## Dimensionality Reduction"
   ]
  },
  {
   "cell_type": "code",
   "execution_count": 24,
   "id": "f36cac05-0698-4d20-a10b-3104651620a6",
   "metadata": {},
   "outputs": [],
   "source": [
    "# Helpers for vizualizing\n",
    "def plot_PCA(X_list, names, n_components=2):\n",
    "    pca_list, xpca_list = feature_extractor.get_PCA(X_list, n_components=n_components)\n",
    "    plt.figure(figsize=(15,5))\n",
    "    colors = ['b-', 'g-', 'r-', 'k-', 'y-']\n",
    "    plot_labels = [f'{name} features' for name in names]\n",
    "    for i in range(len(X_list)):\n",
    "        plt.plot(np.cumsum(pca_list[i].explained_variance_ratio_), colors[i], label=plot_labels[i])\n",
    "    plt.xticks(np.arange(n_components)+1)\n",
    "    plt.yticks(np.linspace(0, 1, 8))\n",
    "    plt.grid(visible=True)\n",
    "    plt.xlabel('Number of components')\n",
    "    plt.ylabel('Explained Variances')\n",
    "    plt.legend()\n",
    "    plt.tight_layout(pad=0.1, h_pad=None, w_pad=None, rect=None)\n",
    "    plt.show()\n",
    "\n",
    "def plot_classes(X, y, ax, title, included_labels):\n",
    "    colormap = plt.cm.gist_rainbow # hsv tab20 #nipy_spectral #, Set1,Paired\n",
    "    colorst = [colormap(i) for i in np.linspace(0, 1.0, len(np.unique(y)))]\n",
    "    markers = ['o', 'v', 's', 'p', 'x', '>', '*', '<', 'P', '^']\n",
    "    for k, label in enumerate(included_labels):\n",
    "        marker = markers[k % len(markers)]\n",
    "        if X.shape[1] == 2:\n",
    "            ax.scatter(X[y==label, 0], X[y==label, 1], facecolors=colorst[k], marker=marker, label=config.class_dict[label])\n",
    "        else:\n",
    "            ax.scatter(X[y==label, 0], X[y==label, 1], X[y==label, 2], facecolors=colorst[k], marker=marker, label=config.class_dict[label])\n",
    "    ax.set_title(title)\n",
    "    \n",
    "def plot_components(features_list, X_pcas, X_tsnes, names, included_labels=LABELS_TO_INCLUDE):\n",
    "    # project the features into 2 dimensions\n",
    "    fig, ax = plt.subplots(nrows=len(features_list), ncols=2, figsize=(10,5))\n",
    "    if len(features_list) == 1:\n",
    "        ax = [ax]\n",
    "\n",
    "    # y is the class labels\n",
    "    for i in range(len(features_list)):\n",
    "        plot_classes(X_pcas[i], y, ax[i][0], title=f'{names[i]} PCA', included_labels=LABELS_TO_INCLUDE)\n",
    "        plot_classes(X_tsnes[i], y, ax[i][1], title=f'{names[i]} tSNE', included_labels=LABELS_TO_INCLUDE)\n",
    "    \n",
    "    handles, plot_labels = ax[0][0].get_legend_handles_labels()\n",
    "    fig.legend(handles, plot_labels, loc='upper center')\n",
    "    plt.tight_layout(pad=0.1, h_pad=None, w_pad=12, rect=None)\n",
    "    plt.show()"
   ]
  },
  {
   "cell_type": "code",
   "execution_count": 25,
   "id": "cc5e46d6-26d2-43c7-8365-eaf49617b495",
   "metadata": {},
   "outputs": [
    {
     "name": "stdout",
     "output_type": "stream",
     "text": [
      "features_list: 1\n",
      "(5400, 26)\n"
     ]
    }
   ],
   "source": [
    "print(f'features_list: {len(features_list)}')\n",
    "print(np.array(features_list[0]).shape)"
   ]
  },
  {
   "cell_type": "code",
   "execution_count": 26,
   "id": "8cfc87ff-a58c-4dc4-b7f3-2b96c5170458",
   "metadata": {},
   "outputs": [
    {
     "data": {
      "application/vnd.jupyter.widget-view+json": {
       "model_id": "60a28d256cfb4c67a38aff220d70d5a0",
       "version_major": 2,
       "version_minor": 0
      },
      "text/plain": [
       "Doing PCA(23):   0%|          | 0/1 [00:00<?, ?images/s]"
      ]
     },
     "metadata": {},
     "output_type": "display_data"
    },
    {
     "data": {
      "image/png": "[encoded data removed]",
      "text/plain": [
       "<Figure size 1500x500 with 1 Axes>"
      ]
     },
     "metadata": {},
     "output_type": "display_data"
    },
    {
     "name": "stdout",
     "output_type": "stream",
     "text": [
      "CPU times: user 1.35 s, sys: 74.9 ms, total: 1.42 s\n",
      "Wall time: 360 ms\n"
     ]
    }
   ],
   "source": [
    "%%time\n",
    "plot_PCA(features_list, features_names, n_components=23)"
   ]
  },
  {
   "cell_type": "code",
   "execution_count": 27,
   "id": "436292f4-5881-4520-a004-72784c2da81e",
   "metadata": {},
   "outputs": [
    {
     "data": {
      "application/vnd.jupyter.widget-view+json": {
       "model_id": "d7e38dd967e44d28ab845fec1768352a",
       "version_major": 2,
       "version_minor": 0
      },
      "text/plain": [
       "Doing PCA(2):   0%|          | 0/1 [00:00<?, ?images/s]"
      ]
     },
     "metadata": {},
     "output_type": "display_data"
    },
    {
     "data": {
      "application/vnd.jupyter.widget-view+json": {
       "model_id": "e56c4e30f7ca4ab4a8f1eabf44a7d9b1",
       "version_major": 2,
       "version_minor": 0
      },
      "text/plain": [
       "Doing tSNE(2):   0%|          | 0/1 [00:00<?, ?images/s]"
      ]
     },
     "metadata": {},
     "output_type": "display_data"
    },
    {
     "name": "stderr",
     "output_type": "stream",
     "text": [
      "/Users/rasentha/opt/anaconda3/envs/amd-gpu2/lib/python3.8/site-packages/sklearn/manifold/_t_sne.py:996: FutureWarning: The PCA initialization in TSNE will change to have the standard deviation of PC1 equal to 1e-4 in 1.2. This will ensure better convergence.\n",
      "  warnings.warn(\n"
     ]
    },
    {
     "data": {
      "image/png": "[encoded data removed]",
      "text/plain": [
       "<Figure size 1000x500 with 2 Axes>"
      ]
     },
     "metadata": {},
     "output_type": "display_data"
    },
    {
     "name": "stdout",
     "output_type": "stream",
     "text": [
      "CPU times: user 1min 53s, sys: 2.54 s, total: 1min 55s\n",
      "Wall time: 21.3 s\n"
     ]
    }
   ],
   "source": [
    "%%time\n",
    "def visualize_components():\n",
    "    pcas = feature_extractor.get_PCA(features_list, n_components=2)[-1]\n",
    "    tsnes = feature_extractor.get_tsne(features_list, n_components=2)\n",
    "    plot_components(features_list, \n",
    "                    pcas, \n",
    "                    tsnes,\n",
    "                    features_names,\n",
    "                    included_labels=LABELS_TO_INCLUDE)\n",
    "visualize_components()"
   ]
  },
  {
   "cell_type": "markdown",
   "id": "020e2033-7239-4425-a763-a624cf4f0c66",
   "metadata": {},
   "source": [
    "## KNN Classification"
   ]
  },
  {
   "cell_type": "code",
   "execution_count": 28,
   "id": "0ada30c0-38e2-4aae-b128-049e9f1e064f",
   "metadata": {},
   "outputs": [
    {
     "data": {
      "application/vnd.jupyter.widget-view+json": {
       "model_id": "3a04bec9b61742449bfaa9e90568ecc4",
       "version_major": 2,
       "version_minor": 0
      },
      "text/plain": [
       "Doing PCA(2):   0%|          | 0/1 [00:00<?, ?images/s]"
      ]
     },
     "metadata": {},
     "output_type": "display_data"
    },
    {
     "name": "stdout",
     "output_type": "stream",
     "text": [
      "(5400, 2)\n"
     ]
    },
    {
     "data": {
      "application/vnd.jupyter.widget-view+json": {
       "model_id": "4994e699153545dab01584d498bca849",
       "version_major": 2,
       "version_minor": 0
      },
      "text/plain": [
       "Doing tSNE(2):   0%|          | 0/1 [00:00<?, ?images/s]"
      ]
     },
     "metadata": {},
     "output_type": "display_data"
    },
    {
     "name": "stderr",
     "output_type": "stream",
     "text": [
      "/Users/rasentha/opt/anaconda3/envs/amd-gpu2/lib/python3.8/site-packages/sklearn/manifold/_t_sne.py:996: FutureWarning: The PCA initialization in TSNE will change to have the standard deviation of PC1 equal to 1e-4 in 1.2. This will ensure better convergence.\n",
      "  warnings.warn(\n"
     ]
    },
    {
     "name": "stdout",
     "output_type": "stream",
     "text": [
      "(5400, 2)\n"
     ]
    }
   ],
   "source": [
    "# Load feature vectors\n",
    "# X_pixels_pca, X_hog_pca, X_CNN_pca, X_canny_pca, X_pose_pca = feature_extractor.get_PCA(features_list, n_components=2)[-1]\n",
    "# X_pixels_tsne, X_hog_tsne, X_CNN_tsne, X_canny_tsne, X_pose_tsne = feature_extractor.get_tsne(features_list, n_components=2)\n",
    "[X_keypoints_pca] = feature_extractor.get_PCA(features_list, n_components=2)[-1]\n",
    "print(np.array(X_keypoints_pca).shape)\n",
    "[X_keypoints_tsne] = feature_extractor.get_tsne(features_list, n_components=2)\n",
    "print(np.array(X_keypoints_tsne).shape)"
   ]
  },
  {
   "cell_type": "code",
   "execution_count": 29,
   "id": "9524c591-3aed-4a0b-88bc-d604dc8c23f3",
   "metadata": {},
   "outputs": [
    {
     "name": "stdout",
     "output_type": "stream",
     "text": [
      "Accuracies from 100 samples:\n",
      "Keypoints tSNE Accuracy:  0.94\n"
     ]
    }
   ],
   "source": [
    "def calc_accuracy(knn, pca, y, idx):\n",
    "    knn.fit(pca, y)\n",
    "    accuracy = 0\n",
    "    for i in idx:\n",
    "        label = knn.predict([pca[i,:]])\n",
    "        if label[0] == y[i]:\n",
    "            accuracy +=1\n",
    "    return accuracy\n",
    "\n",
    "def accuracies(n_samples):\n",
    "    knn = KNeighborsClassifier(n_neighbors = 3)\n",
    "    idx = np.random.choice(np.arange(len(y)), n_samples, replace=False)\n",
    "    # print(y[idx])\n",
    "    print(f'Accuracies from {n_samples} samples:')\n",
    "    # print('Pixel PCA Accuracy: ', calc_accuracy(knn, X_pixels_pca, y, idx)/n_samples)\n",
    "    # print('Pixel tSNE Accuracy: ', calc_accuracy(knn, X_pixels_tsne, y, idx)/n_samples)\n",
    "    # print('HOG PCA Accuracy: ', calc_accuracy(knn, X_hog_pca, y, idx)/n_samples)\n",
    "    # print('HOG tSNE Accuracy: ', calc_accuracy(knn, X_hog_tsne, y, idx)/n_samples)\n",
    "    # print('CNN PCA Accuracy: ', calc_accuracy(knn, X_CNN_pca, y, idx)/n_samples)\n",
    "    # print('CNN tSNE Accuracy: ', calc_accuracy(knn, X_CNN_tsne, y, idx)/n_samples)\n",
    "    # print('Canny PCA Accuracy: ', calc_accuracy(knn, X_canny_pca, y, idx)/n_samples)\n",
    "    # print('Canny tSNE Accuracy: ', calc_accuracy(knn, X_canny_tsne, y, idx)/n_samples)\n",
    "    # print('Pose PCA Accuracy: ', calc_accuracy(knn, X_pose_pca, y, idx)/n_samples)\n",
    "    # print('Pose tSNE Accuracy: ', calc_accuracy(knn, X_pose_tsne, y, idx)/n_samples)\n",
    "    # print('Keypoints PCA Accuracy: ', calc_accuracy(knn, X_keypoints_pca, y, idx)/n_samples)\n",
    "    print('Keypoints tSNE Accuracy: ', calc_accuracy(knn, X_keypoints_tsne, y, idx)/n_samples)\n",
    "\n",
    "accuracies(100)"
   ]
  },
  {
   "cell_type": "markdown",
   "id": "ffa1d5ea-ab5d-4d5d-a862-cd3f83c3dc55",
   "metadata": {},
   "source": [
    "## PCA and Logistic Regression"
   ]
  },
  {
   "cell_type": "code",
   "execution_count": 30,
   "id": "d022e6bd-2270-4cc7-8ab7-32d8448e91ca",
   "metadata": {},
   "outputs": [],
   "source": [
    "# get the train and test split\n",
    "# [pixel_features, hog_features, cnn_features, canny_features, pose_features] = feature_extractor.load_feature_vectors(config.FEATURE_VECTORS_FOLDER, data['filename'], data['label'])\n",
    "train_idx, val_idx = train_test_split(np.arange(len(y)), test_size=0.2, random_state=config.SEED)"
   ]
  },
  {
   "cell_type": "code",
   "execution_count": 31,
   "id": "44e68196-ec5e-4031-9dc2-5661e4e615a8",
   "metadata": {},
   "outputs": [],
   "source": [
    "def train_classifier(in_feat, in_y, in_train_idx, val_idx):\n",
    "    # get the train and validation split\n",
    "    X_train = in_feat[in_train_idx, :].copy()\n",
    "    y_train = in_y[in_train_idx].copy()\n",
    "    X_val = in_feat[val_idx, :].copy()\n",
    "    y_val = in_y[val_idx].copy()\n",
    "\n",
    "    # scaling\n",
    "    scaler = StandardScaler()\n",
    "    X_train = scaler.fit_transform(X_train)\n",
    "    X_val = scaler.transform(X_val)\n",
    "\n",
    "    # classifier with cross validation\n",
    "    \n",
    "    # 1e-5, 1e-4, 1e-3, ..., 1, 10, 100,\n",
    "    param_grid = {\"C\": loguniform(1e-3, 1e5)}\n",
    "    # clf = RandomizedSearchCV(LogisticRegression(solver='liblinear', random_state=config.SEED), param_grid, n_iter=100)\n",
    "    clf = RandomizedSearchCV(LogisticRegression(penalty='l1', max_iter=5000, solver='saga', random_state=config.SEED), param_grid, n_iter=10)\n",
    "    clf = clf.fit(X_train, y_train)\n",
    "    y_pred = clf.predict(X_val)\n",
    "\n",
    "    return accuracy_score(y_val, y_pred)"
   ]
  },
  {
   "cell_type": "code",
   "execution_count": 32,
   "id": "b68b7cec-ad67-4971-9848-a3087a2bd725",
   "metadata": {},
   "outputs": [
    {
     "name": "stdout",
     "output_type": "stream",
     "text": [
      "Keypoints Feature Accuracy\n"
     ]
    },
    {
     "data": {
      "application/vnd.jupyter.widget-view+json": {
       "model_id": "c38e203bdf4b4f48b570be1ac8a24333",
       "version_major": 2,
       "version_minor": 0
      },
      "text/plain": [
       "Keypoints:   0%|          | 0/9 [00:00<?, ?it/s]"
      ]
     },
     "metadata": {},
     "output_type": "display_data"
    },
    {
     "data": {
      "application/vnd.jupyter.widget-view+json": {
       "model_id": "5a8b6b37f7c54d06993fb0c49c808b9c",
       "version_major": 2,
       "version_minor": 0
      },
      "text/plain": [
       "Doing PCA(4):   0%|          | 0/1 [00:00<?, ?images/s]"
      ]
     },
     "metadata": {},
     "output_type": "display_data"
    },
    {
     "data": {
      "application/vnd.jupyter.widget-view+json": {
       "model_id": "541d7ff1d8c84d81ae750df0643301f8",
       "version_major": 2,
       "version_minor": 0
      },
      "text/plain": [
       "Doing PCA(7):   0%|          | 0/1 [00:00<?, ?images/s]"
      ]
     },
     "metadata": {},
     "output_type": "display_data"
    },
    {
     "data": {
      "application/vnd.jupyter.widget-view+json": {
       "model_id": "fc8d534963f244bb94d70b28ce3d0967",
       "version_major": 2,
       "version_minor": 0
      },
      "text/plain": [
       "Doing PCA(10):   0%|          | 0/1 [00:00<?, ?images/s]"
      ]
     },
     "metadata": {},
     "output_type": "display_data"
    },
    {
     "data": {
      "application/vnd.jupyter.widget-view+json": {
       "model_id": "ef2f13ce22bb4ffda903e9428e89319b",
       "version_major": 2,
       "version_minor": 0
      },
      "text/plain": [
       "Doing PCA(13):   0%|          | 0/1 [00:00<?, ?images/s]"
      ]
     },
     "metadata": {},
     "output_type": "display_data"
    },
    {
     "data": {
      "application/vnd.jupyter.widget-view+json": {
       "model_id": "03cccc69591f483990b826a4b2500a85",
       "version_major": 2,
       "version_minor": 0
      },
      "text/plain": [
       "Doing PCA(16):   0%|          | 0/1 [00:00<?, ?images/s]"
      ]
     },
     "metadata": {},
     "output_type": "display_data"
    },
    {
     "data": {
      "application/vnd.jupyter.widget-view+json": {
       "model_id": "dd3fbe7ead6d4eeaae03553e9778730a",
       "version_major": 2,
       "version_minor": 0
      },
      "text/plain": [
       "Doing PCA(19):   0%|          | 0/1 [00:00<?, ?images/s]"
      ]
     },
     "metadata": {},
     "output_type": "display_data"
    },
    {
     "data": {
      "application/vnd.jupyter.widget-view+json": {
       "model_id": "2cc6476777c74caf8fdf5f45a729b37f",
       "version_major": 2,
       "version_minor": 0
      },
      "text/plain": [
       "Doing PCA(22):   0%|          | 0/1 [00:00<?, ?images/s]"
      ]
     },
     "metadata": {},
     "output_type": "display_data"
    },
    {
     "data": {
      "application/vnd.jupyter.widget-view+json": {
       "model_id": "8173bd75d58d43e5bbac6ecb065af924",
       "version_major": 2,
       "version_minor": 0
      },
      "text/plain": [
       "Doing PCA(24):   0%|          | 0/1 [00:00<?, ?images/s]"
      ]
     },
     "metadata": {},
     "output_type": "display_data"
    },
    {
     "name": "stderr",
     "output_type": "stream",
     "text": [
      "/Users/rasentha/opt/anaconda3/envs/amd-gpu2/lib/python3.8/site-packages/sklearn/linear_model/_sag.py:350: ConvergenceWarning: The max_iter was reached which means the coef_ did not converge\n",
      "  warnings.warn(\n",
      "/Users/rasentha/opt/anaconda3/envs/amd-gpu2/lib/python3.8/site-packages/sklearn/linear_model/_sag.py:350: ConvergenceWarning: The max_iter was reached which means the coef_ did not converge\n",
      "  warnings.warn(\n",
      "/Users/rasentha/opt/anaconda3/envs/amd-gpu2/lib/python3.8/site-packages/sklearn/linear_model/_sag.py:350: ConvergenceWarning: The max_iter was reached which means the coef_ did not converge\n",
      "  warnings.warn(\n"
     ]
    }
   ],
   "source": [
    "def train_and_check(features, n_components, name, y, train_idx, val_idx):\n",
    "    pbar = tqdm(desc=name, total=len(n_components) + 1, position=0, leave=True)\n",
    "    acc = []\n",
    "    for n in n_components:\n",
    "        pbar.set_description(f'{name}: Computing PCA({n})')\n",
    "        _, X = feature_extractor.get_PCA([features], n_components=n+1)\n",
    "        acc.append(train_classifier(X[0], y, train_idx, val_idx))\n",
    "        pbar.update(1)\n",
    "    pbar.set_description(f'{name}: Training classifier')\n",
    "    acc.append(train_classifier(features, y, train_idx, val_idx))\n",
    "    pbar.update(1)\n",
    "    pbar.close()\n",
    "    return acc\n",
    "\n",
    "# get accuracy with different features\n",
    "n_components = [50, 100, 150, 200]\n",
    "n_components = [200]\n",
    "n_components = [3, 6, 9, 12, 15, 18, 21, 23]\n",
    "# print('Pixel Feature Accuracy')\n",
    "# pixel_acc = train_and_check(pixel_features, n_components, 'Pixel', y, train_idx, val_idx)\n",
    "# print('Pose Feature Accuracy')\n",
    "# pose_acc = train_and_check(pose_features, n_components, 'Pose', y, train_idx, val_idx)\n",
    "print('Keypoints Feature Accuracy')\n",
    "keypoints_acc = train_and_check(keypoints_features, n_components, 'Keypoints', y, train_idx, val_idx)\n",
    "# print('CNN Feature Accuracy')\n",
    "# CNN_acc = train_and_check(CNN_features, n_components, 'CNN', y, train_idx, val_idx)\n",
    "\n",
    "# pixel_tqdm = tqdm(prefix='Pixel', total=len(n_components) + 1, position=0, leave=True)\n",
    "# pixel_acc = []\n",
    "# for n in n_components:\n",
    "#     pixel_tqdm.set_description(f'Computing PCA({n})')\n",
    "#     _, X = feature_extractor.get_PCA([pixel_features], n_components=n+1)\n",
    "#     pixel_acc.append(train_classifier(X[0], y, train_idx, val_idx))\n",
    "#     pixel_tqdm.update(1)\n",
    "# pixel_tqdm.set_description(f'Training calssifier')\n",
    "# pixel_acc.append(train_classifier(pixel_features, y, train_idx, val_idx))\n",
    "# pixel_tqdm.update(1)\n",
    "# pixel_tqdm.close()\n",
    "\n",
    "# print('Pose Feature Accuracy')\n",
    "# pose_acc = []\n",
    "# for n in range(n_components):\n",
    "#   _, X = feature_extractor.get_PCA([pose_features], n_components=n+1)\n",
    "#   pose_acc.append(train_classifier(X[0], y, train_idx, val_idx))\n",
    "# pose_acc.append(train_classifier(pose_features, y, train_idx, val_idx))\n",
    "\n",
    "# print('CNN Feature Accuracy')\n",
    "# CNN_acc = []\n",
    "# for n in range(n_components):\n",
    "#   _, X = feature_extractor.get_PCA([CNN_features], n_components=n+1)\n",
    "#   CNN_acc.append(train_classifier(X[0], y, train_idx, val_idx))\n",
    "# CNN_acc.append(train_classifier(CNN_features, y, train_idx, val_idx))"
   ]
  },
  {
   "cell_type": "code",
   "execution_count": 34,
   "id": "5db95797-5f9f-40d4-bb34-7bf6cfec4c80",
   "metadata": {},
   "outputs": [
    {
     "name": "stdout",
     "output_type": "stream",
     "text": [
      "[0.6703703703703704, 0.7194444444444444, 0.7481481481481481, 0.7648148148148148, 0.7731481481481481, 0.8157407407407408, 0.812037037037037, 0.8203703703703704, 0.8287037037037037]\n"
     ]
    }
   ],
   "source": [
    "print(keypoints_acc)"
   ]
  },
  {
   "cell_type": "code",
   "execution_count": 35,
   "id": "ed5f731d-93cc-4628-8015-e70322c7e0a7",
   "metadata": {},
   "outputs": [
    {
     "name": "stderr",
     "output_type": "stream",
     "text": [
      "/var/folders/s4/p0y554f56hd_d9fk8y79dy3c0000gs/T/ipykernel_27855/565228329.py:12: MatplotlibDeprecationWarning: The 'b' parameter of grid() has been renamed 'visible' since Matplotlib 3.5; support for the old name will be dropped two minor releases later.\n",
      "  plt.grid(b=True)\n"
     ]
    },
    {
     "data": {
      "image/png": "[encoded data removed]",
      "text/plain": [
       "<Figure size 1500x500 with 1 Axes>"
      ]
     },
     "metadata": {},
     "output_type": "display_data"
    }
   ],
   "source": [
    "# plot the accuracy graph\n",
    "plt.figure(figsize=(15,5))\n",
    "# plt.plot(np.array(pixel_acc)*100, 'b-', label='pixel features')\n",
    "# plt.plot(np.array(pose_acc)*100, 'g-', label='pose features')\n",
    "# plt.plot(np.array(CNN_acc)*100, 'k-', label='CNN features')\n",
    "\n",
    "plt.plot(np.array(keypoints_acc)*100, 'b-', label='keypoints features')\n",
    "\n",
    "xtick_labels = [f'{i+1}' for i in n_components] + ['All']\n",
    "plt.xticks(np.arange(len(n_components) + 1), labels=xtick_labels)\n",
    "plt.yticks(np.linspace(70, 100, 8))\n",
    "plt.grid(b=True)\n",
    "plt.xlabel('Number of components')\n",
    "plt.ylabel('Accuracy')\n",
    "plt.ylim([70, 100])\n",
    "plt.legend()\n",
    "plt.show()"
   ]
  },
  {
   "cell_type": "markdown",
   "id": "a3efc091-d3ae-4cf4-82ca-e7802aebb0a7",
   "metadata": {},
   "source": [
    "## Logistic Regression"
   ]
  },
  {
   "cell_type": "code",
   "execution_count": 36,
   "id": "e2a90821-72c3-4e84-bf14-36b1d9007d31",
   "metadata": {},
   "outputs": [
    {
     "name": "stderr",
     "output_type": "stream",
     "text": [
      "/Users/rasentha/opt/anaconda3/envs/amd-gpu2/lib/python3.8/site-packages/sklearn/linear_model/_sag.py:350: ConvergenceWarning: The max_iter was reached which means the coef_ did not converge\n",
      "  warnings.warn(\n"
     ]
    },
    {
     "name": "stdout",
     "output_type": "stream",
     "text": [
      "Best params:{'C': 94.04291665070258, 'l1_ratio': 0.55, 'max_iter': 5000}\n",
      "CPU times: user 11min 16s, sys: 2.52 s, total: 11min 18s\n",
      "Wall time: 10min 39s\n"
     ]
    }
   ],
   "source": [
    "%%time\n",
    "def logit_classifier(in_feat, in_y, in_train_idx, val_idx, grid_params):\n",
    "    # get the train and validation split\n",
    "    X_train = in_feat[in_train_idx, :].copy()\n",
    "    y_train = in_y[in_train_idx].copy()\n",
    "    X_val = in_feat[val_idx, :].copy()\n",
    "    y_val = in_y[val_idx].copy()\n",
    "\n",
    "    # scaling\n",
    "    scaler = StandardScaler()\n",
    "    X_train = scaler.fit_transform(X_train)\n",
    "    X_val = scaler.transform(X_val)\n",
    "\n",
    "    # classifier with cross validation\n",
    "    # clf = RandomizedSearchCV(LogisticRegression(solver='liblinear', random_state=config.SEED), param_grid, n_iter=100)\n",
    "    clf = RandomizedSearchCV(LogisticRegression(penalty='elasticnet', solver='saga', random_state=config.SEED), grid_params, return_train_score=True)\n",
    "    clf = clf.fit(X_train, y_train)\n",
    "    y_pred = clf.predict(X_val)\n",
    "\n",
    "    return clf, accuracy_score(y_val, y_pred)\n",
    "\n",
    "def plot_logit_classifier(clf, features, y, train_idx, val_idx, grid_params):\n",
    "    df = pd.DataFrame(clf.cv_results_)\n",
    "    results = ['mean_test_score',\n",
    "           'mean_train_score',\n",
    "           'std_test_score', \n",
    "           'std_train_score']\n",
    "\n",
    "    # https://en.wikipedia.org/wiki/Pooled_variance#Pooled_standard_deviation\n",
    "    def pooled_var(stds):\n",
    "        n = 5 # size of each group\n",
    "        return np.sqrt(sum((n-1)*(stds**2))/ len(stds)*(n-1))\n",
    "\n",
    "\n",
    "    fig, axes = plt.subplots(1, len(grid_params), \n",
    "                             figsize = (5*len(grid_params), 7),\n",
    "                             sharey='row')\n",
    "    axes[0].set_ylabel(\"Score\", fontsize=25)\n",
    "    lw = 2\n",
    "    for idx, (param_name, param_range) in enumerate(grid_params.items()):\n",
    "        grouped_df = df.groupby(f'param_{param_name}')[results]\\\n",
    "            .agg({'mean_train_score': 'mean',\n",
    "                  'mean_test_score': 'mean',\n",
    "                  'std_train_score': pooled_var,\n",
    "                  'std_test_score': pooled_var})\n",
    "        previous_group = df.groupby(f'param_{param_name}')[results]\n",
    "        axes[idx].set_xlabel(param_name, fontsize=30)\n",
    "        axes[idx].set_ylim(0.0, 1.1)\n",
    "        # axes[idx].plot(param_range, grouped_df['mean_train_score'], label=\"Training score\",\n",
    "                    # color=\"darkorange\", lw=lw)\n",
    "        axes[idx].fill_between(param_range, grouped_df['mean_train_score'] - grouped_df['std_train_score'],\n",
    "                        grouped_df['mean_train_score'] + grouped_df['std_train_score'], alpha=0.2,\n",
    "                        color=\"darkorange\", lw=lw)\n",
    "        axes[idx].plot(param_range, grouped_df['mean_test_score'], label=\"Cross-validation score\",\n",
    "                    color=\"navy\", lw=lw)\n",
    "        axes[idx].fill_between(param_range, grouped_df['mean_test_score'] - grouped_df['std_test_score'],\n",
    "                        grouped_df['mean_test_score'] + grouped_df['std_test_score'], alpha=0.2,\n",
    "                        color=\"navy\", lw=lw)\n",
    "\n",
    "    handles, labels = axes[0].get_legend_handles_labels()\n",
    "    fig.suptitle('Validation curves', fontsize=40)\n",
    "    fig.legend(handles, labels, loc=8, ncol=2, fontsize=20)\n",
    "    fig.subplots_adjust(bottom=0.25, top=0.85)  \n",
    "    plt.show()    \n",
    "    return clf\n",
    "\n",
    "grid_params = {\"C\": loguniform(1, 1e5)}\n",
    "# [3.5, 4.0, 4.5, 5.0, 5.5, 6.0]\n",
    "grid_params = {\n",
    "    'C': loguniform(1e-3, 1e5),\n",
    "    'l1_ratio': [.5, 0.55, 0.6, .7, .8, .9, .95, 1.0],\n",
    "    'max_iter': [5000]\n",
    "}\n",
    "logit_clf, accuracy = logit_classifier(keypoints_features, y, train_idx, val_idx, grid_params=grid_params)\n",
    "print(f'Best params:{logit_clf.best_params_}')\n",
    "# print(f'validation accuracy: {accuracy}')\n",
    "# print(pd.DataFrame(logit_clf.cv_results_).columns, pd.DataFrame(logit_clf.cv_results_).shape)\n",
    "# plot_logit_classifier(logit_clf, keypoints_features, y, train_idx, val_idx, grid_params=grid_params)\n",
    "\n",
    "# Best params:{'C': 113.59102474833026, 'l1_ratio': 0.5}"
   ]
  },
  {
   "cell_type": "code",
   "execution_count": 42,
   "id": "d77669b5-4245-4298-8c2f-002a185fa817",
   "metadata": {},
   "outputs": [],
   "source": [
    "best_model = logit_clf\n",
    "# save model\n",
    "def save():\n",
    "    filename = f'{config.OUTPUT_FOLDER}/logit_model_saved/model.pkl'\n",
    "    with open(filename, 'wb') as file:\n",
    "        pickle.dump(best_model, file)\n",
    "save()        "
   ]
  },
  {
   "cell_type": "code",
   "execution_count": null,
   "id": "fb4b30e8-5ce0-4e21-9d64-9ef44dd1139b",
   "metadata": {},
   "outputs": [],
   "source": [
    "# Test saved model\n",
    "def load_and_test():"
   ]
  },
  {
   "cell_type": "markdown",
   "id": "bc0f9c68-77f3-4654-96d8-c906cfbaa379",
   "metadata": {},
   "source": [
    "## Model Performance Against Validation Dataset"
   ]
  },
  {
   "cell_type": "code",
   "execution_count": null,
   "id": "07ea1ed3-c67f-44c2-9256-985df937dc40",
   "metadata": {},
   "outputs": [],
   "source": [
    "def test_validation_ds():\n",
    "    filename = f'{config.OUTPUT_FOLDER}/logit_model_saved/model.pkl'\n",
    "    with open(filename, 'rb') as file:\n",
    "        pickled = pickle.load(file)\n",
    "        pickled.predict()\n",
    "    \n",
    "    \n",
    "test_validation_ds()"
   ]
  },
  {
   "cell_type": "markdown",
   "id": "1c93d6ac-ed78-47a6-8167-0dd8ca4fe58a",
   "metadata": {},
   "source": [
    "## Test Dataset"
   ]
  },
  {
   "cell_type": "code",
   "execution_count": null,
   "id": "2cfa1599-7f35-437c-a8bc-5939d0791fd5",
   "metadata": {},
   "outputs": [],
   "source": []
  }
 ],
 "metadata": {
  "kernelspec": {
   "display_name": "Python 3 (ipykernel)",
   "language": "python",
   "name": "python3"
  },
  "language_info": {
   "codemirror_mode": {
    "name": "ipython",
    "version": 3
   },
   "file_extension": ".py",
   "mimetype": "text/x-python",
   "name": "python",
   "nbconvert_exporter": "python",
   "pygments_lexer": "ipython3",
   "version": "3.8.15"
  },
  "widgets": {
   "application/vnd.jupyter.widget-state+json": {
    "state": {
     "0024637ffc234cc68f4c3beebc7d26aa": {
      "model_module": "@jupyter-widgets/controls",
      "model_module_version": "2.0.0",
      "model_name": "HBoxModel",
      "state": {
       "children": [
        "IPY_MODEL_39454cfe9f4c4597b5e3fb348c9eb88f",
        "IPY_MODEL_800a0bcdd36b4bc8b1a07ced3206f50a",
        "IPY_MODEL_3a63e55296a04b52bc4948c9f39d901d"
       ],
       "layout": "IPY_MODEL_83156ce2b9ac4216a0cbe4a05754c15d"
      }
     },
     "01b1980be5884a30a056a6129cfc73aa": {
      "model_module": "@jupyter-widgets/controls",
      "model_module_version": "2.0.0",
      "model_name": "ProgressStyleModel",
      "state": {
       "description_width": ""
      }
     },
     "01dedd6568be463b8dd6e3a33adf1aeb": {
      "model_module": "@jupyter-widgets/controls",
      "model_module_version": "2.0.0",
      "model_name": "FloatProgressModel",
      "state": {
       "bar_style": "success",
       "layout": "IPY_MODEL_b12b311407ca4941941814c4a60769fc",
       "max": 1,
       "style": "IPY_MODEL_4b2d0d318c194c7388e798b98c9000af",
       "value": 1
      }
     },
     "02f22662efb74a3687f0e4f661374c6b": {
      "model_module": "@jupyter-widgets/controls",
      "model_module_version": "2.0.0",
      "model_name": "HTMLStyleModel",
      "state": {
       "description_width": "",
       "font_size": null,
       "text_color": null
      }
     },
     "03cccc69591f483990b826a4b2500a85": {
      "model_module": "@jupyter-widgets/controls",
      "model_module_version": "2.0.0",
      "model_name": "HBoxModel",
      "state": {
       "children": [
        "IPY_MODEL_4f95cf0a421b4e7e8271c7fd1cfce15b",
        "IPY_MODEL_8aa9a9a0f34b4e76919d7c26ec3bcff5",
        "IPY_MODEL_906deaaa91e84a5ab2e98c21aff20b36"
       ],
       "layout": "IPY_MODEL_3d272a25f6c54e2fad7ceba25d08c92b"
      }
     },
     "058baadd33a94d4796bbfdb86728cd68": {
      "model_module": "@jupyter-widgets/controls",
      "model_module_version": "2.0.0",
      "model_name": "FloatProgressModel",
      "state": {
       "bar_style": "success",
       "layout": "IPY_MODEL_ec80e30d6c1346fabd1493e9e083435b",
       "max": 1,
       "style": "IPY_MODEL_3a14ad3863ee4b2f827cd4d70c323f1b",
       "value": 1
      }
     },
     "05e7881435ff45559b4c9937a2223380": {
      "model_module": "@jupyter-widgets/base",
      "model_module_version": "2.0.0",
      "model_name": "LayoutModel",
      "state": {}
     },
     "06aedd92f1b9423e85f75667e4242e1f": {
      "model_module": "@jupyter-widgets/controls",
      "model_module_version": "2.0.0",
      "model_name": "HBoxModel",
      "state": {
       "children": [
        "IPY_MODEL_8aca67f9d34043fdada44320c1a28fbb",
        "IPY_MODEL_058baadd33a94d4796bbfdb86728cd68",
        "IPY_MODEL_7f231eb3d53349b2a50a54d43ead75bc"
       ],
       "layout": "IPY_MODEL_50b70a3695ff47848278e918ffccf689"
      }
     },
     "079d3941ff634c72b93a34b99d152336": {
      "model_module": "@jupyter-widgets/base",
      "model_module_version": "2.0.0",
      "model_name": "LayoutModel",
      "state": {}
     },
     "07a80e225dca408288e6da77da3a67fe": {
      "model_module": "@jupyter-widgets/base",
      "model_module_version": "2.0.0",
      "model_name": "LayoutModel",
      "state": {}
     },
     "082d4465339f45d2afbdc3c5343baff0": {
      "model_module": "@jupyter-widgets/controls",
      "model_module_version": "2.0.0",
      "model_name": "HTMLStyleModel",
      "state": {
       "description_width": "",
       "font_size": null,
       "text_color": null
      }
     },
     "08adaee34f614f05b8fa9066db9af400": {
      "model_module": "@jupyter-widgets/controls",
      "model_module_version": "2.0.0",
      "model_name": "HTMLStyleModel",
      "state": {
       "description_width": "",
       "font_size": null,
       "text_color": null
      }
     },
     "097d01ffbed94e02a178de557aaf67fc": {
      "model_module": "@jupyter-widgets/controls",
      "model_module_version": "2.0.0",
      "model_name": "ProgressStyleModel",
      "state": {
       "description_width": ""
      }
     },
     "0c07b44d89c7466b84a309d8ee376c0e": {
      "model_module": "@jupyter-widgets/controls",
      "model_module_version": "2.0.0",
      "model_name": "HBoxModel",
      "state": {
       "children": [
        "IPY_MODEL_83152b1c3d6e4138bba19cb2dfdb9a8e",
        "IPY_MODEL_47b52c7ad0de4bb6ba4412fe2ce822ed",
        "IPY_MODEL_ca4163862476466a81123a33e567afb8"
       ],
       "layout": "IPY_MODEL_555228306e4e4f2cb8a6db849ce38bc3"
      }
     },
     "0c70af04e8ff413c9816b7a0298a6e85": {
      "model_module": "@jupyter-widgets/base",
      "model_module_version": "2.0.0",
      "model_name": "LayoutModel",
      "state": {}
     },
     "0e1023c32a824a18bcd0f1b83e5daedb": {
      "model_module": "@jupyter-widgets/base",
      "model_module_version": "2.0.0",
      "model_name": "LayoutModel",
      "state": {}
     },
     "0ed0d934c4084e26ae63432a8163cc8c": {
      "model_module": "@jupyter-widgets/controls",
      "model_module_version": "2.0.0",
      "model_name": "HTMLStyleModel",
      "state": {
       "description_width": "",
       "font_size": null,
       "text_color": null
      }
     },
     "123714fe371a45469efd2022f8d8b173": {
      "model_module": "@jupyter-widgets/controls",
      "model_module_version": "2.0.0",
      "model_name": "FloatProgressModel",
      "state": {
       "bar_style": "success",
       "layout": "IPY_MODEL_9f39117e3b2e44bfb545a529443c1ddb",
       "max": 1,
       "style": "IPY_MODEL_5535786e0a2d4516a5ca42f6ddb997de",
       "value": 1
      }
     },
     "13d76f2e5739479ba36c2d3e41d48f29": {
      "model_module": "@jupyter-widgets/controls",
      "model_module_version": "2.0.0",
      "model_name": "HTMLStyleModel",
      "state": {
       "description_width": "",
       "font_size": null,
       "text_color": null
      }
     },
     "14c6ff4f8dc44f4280ae3aed806aa552": {
      "model_module": "@jupyter-widgets/controls",
      "model_module_version": "2.0.0",
      "model_name": "HTMLModel",
      "state": {
       "layout": "IPY_MODEL_93e03c73732143aea2160fc4de4238bb",
       "style": "IPY_MODEL_2267eb87e996406fae4736c5d603341b",
       "value": "Doing tSNE(2): 100%"
      }
     },
     "1570dd679b2a40e7a60a53e9beb60229": {
      "model_module": "@jupyter-widgets/controls",
      "model_module_version": "2.0.0",
      "model_name": "HTMLStyleModel",
      "state": {
       "description_width": "",
       "font_size": null,
       "text_color": null
      }
     },
     "15823946360045639b6dd8132a2289b0": {
      "model_module": "@jupyter-widgets/controls",
      "model_module_version": "2.0.0",
      "model_name": "HBoxModel",
      "state": {
       "children": [
        "IPY_MODEL_54d9b3f4be1743b8886a23aa6c61fb70",
        "IPY_MODEL_912085da1f9848798badb6d5841dc118",
        "IPY_MODEL_5f0061663e3b43ebb7f8c92a89921826"
       ],
       "layout": "IPY_MODEL_a25745d0ef9342c390f2260dc525cbd6"
      }
     },
     "1664af7ebf2548a1b9196df351f46b52": {
      "model_module": "@jupyter-widgets/controls",
      "model_module_version": "2.0.0",
      "model_name": "FloatProgressModel",
      "state": {
       "bar_style": "success",
       "layout": "IPY_MODEL_519f44a0e82d43b4a2936aa40018e70f",
       "max": 1,
       "style": "IPY_MODEL_37cf160bafed4e86963ff04d9804ee02",
       "value": 1
      }
     },
     "168b47af732a46bbbc9f4a379de12c8f": {
      "model_module": "@jupyter-widgets/controls",
      "model_module_version": "2.0.0",
      "model_name": "HTMLStyleModel",
      "state": {
       "description_width": "",
       "font_size": null,
       "text_color": null
      }
     },
     "1746d46fa7474db6b61d5331d6e14133": {
      "model_module": "@jupyter-widgets/controls",
      "model_module_version": "2.0.0",
      "model_name": "HTMLModel",
      "state": {
       "layout": "IPY_MODEL_07a80e225dca408288e6da77da3a67fe",
       "style": "IPY_MODEL_f15324c6d6384bda9b9d705502cec13d",
       "value": " 1/1 [00:00&lt;00:00, 25.67images/s]"
      }
     },
     "176b45526e18453d99ab0270784a1a92": {
      "model_module": "@jupyter-widgets/base",
      "model_module_version": "2.0.0",
      "model_name": "LayoutModel",
      "state": {}
     },
     "181fc0db68754dffafa8d8856d93aafd": {
      "model_module": "@jupyter-widgets/controls",
      "model_module_version": "2.0.0",
      "model_name": "HTMLModel",
      "state": {
       "layout": "IPY_MODEL_ae43967edf254a8497ce74afd7328da7",
       "style": "IPY_MODEL_02f22662efb74a3687f0e4f661374c6b",
       "value": " 1/1 [00:00&lt;00:00, 26.25images/s]"
      }
     },
     "184b790330004f6b9e23ba230bedbf40": {
      "model_module": "@jupyter-widgets/controls",
      "model_module_version": "2.0.0",
      "model_name": "HTMLModel",
      "state": {
       "layout": "IPY_MODEL_f49a39a9852043f7b106590468c29b7e",
       "style": "IPY_MODEL_d2f324e0677448e2b27f23c20e25c472",
       "value": " 5400/5400 [01:26&lt;00:00, 65.32samples/s]"
      }
     },
     "19e56dc85cf344a79fadeb21ef20ac2f": {
      "model_module": "@jupyter-widgets/base",
      "model_module_version": "2.0.0",
      "model_name": "LayoutModel",
      "state": {}
     },
     "1b0a4d4a990a4c3c986819bbb1d5e670": {
      "model_module": "@jupyter-widgets/controls",
      "model_module_version": "2.0.0",
      "model_name": "FloatProgressModel",
      "state": {
       "bar_style": "success",
       "layout": "IPY_MODEL_26fa20792209409fa5c340482910b2a1",
       "max": 1,
       "style": "IPY_MODEL_e4b58211304b49e389ce6e5abb60b4bb",
       "value": 1
      }
     },
     "1bb9521ad8234a46875862d5f3c4809d": {
      "model_module": "@jupyter-widgets/controls",
      "model_module_version": "2.0.0",
      "model_name": "HTMLModel",
      "state": {
       "layout": "IPY_MODEL_f25fdd521e374302965ed568d6bc8a25",
       "style": "IPY_MODEL_8bd2b9fd4329441eb981f267aa5e109f",
       "value": " 5400/5400 [00:21&lt;00:00, 255.66images/s]"
      }
     },
     "1bd49ca8e8f5432eb2777206c47ce79b": {
      "model_module": "@jupyter-widgets/controls",
      "model_module_version": "2.0.0",
      "model_name": "ProgressStyleModel",
      "state": {
       "description_width": ""
      }
     },
     "1cdb8f3937874beaabb1396d445ed3bc": {
      "model_module": "@jupyter-widgets/base",
      "model_module_version": "2.0.0",
      "model_name": "LayoutModel",
      "state": {}
     },
     "1d9816a85c604addac42c5ef5fb0cc20": {
      "model_module": "@jupyter-widgets/controls",
      "model_module_version": "2.0.0",
      "model_name": "HBoxModel",
      "state": {
       "children": [
        "IPY_MODEL_9657637a88a34172a21472f7b027c6eb",
        "IPY_MODEL_6ef630faac324aaca387fa6fa8533e52",
        "IPY_MODEL_88387d59226c418bb3f181b22ceab00d"
       ],
       "layout": "IPY_MODEL_662c77683364460791ce7b19e2223e7c"
      }
     },
     "1dbda288d5d84a0fb3d83d5a97254310": {
      "model_module": "@jupyter-widgets/base",
      "model_module_version": "2.0.0",
      "model_name": "LayoutModel",
      "state": {}
     },
     "1ea0893ae2a441ffa4bf286fa8a49b67": {
      "model_module": "@jupyter-widgets/base",
      "model_module_version": "2.0.0",
      "model_name": "LayoutModel",
      "state": {}
     },
     "1ea0e67d1f854fd2a576028abff80db8": {
      "model_module": "@jupyter-widgets/controls",
      "model_module_version": "2.0.0",
      "model_name": "HTMLModel",
      "state": {
       "layout": "IPY_MODEL_3d6c8344def84be2a6a35061527513d3",
       "style": "IPY_MODEL_9f46396a87e14920aa7112678c3f9248",
       "value": "Doing PCA(23): 100%"
      }
     },
     "1fe89f5304ba4254aa0697aa21197b4f": {
      "model_module": "@jupyter-widgets/controls",
      "model_module_version": "2.0.0",
      "model_name": "HTMLModel",
      "state": {
       "layout": "IPY_MODEL_22d7ebc94bcd4cbd9982807b7f3f28e8",
       "style": "IPY_MODEL_c5fefdc6132646958eb6afd38cd0c367",
       "value": "Loading feature vectors: 100%"
      }
     },
     "2092c65f798544148373d83eb1c1610e": {
      "model_module": "@jupyter-widgets/controls",
      "model_module_version": "2.0.0",
      "model_name": "HTMLStyleModel",
      "state": {
       "description_width": "",
       "font_size": null,
       "text_color": null
      }
     },
     "2120d170ed0345dfbd3cd416928e6d20": {
      "model_module": "@jupyter-widgets/controls",
      "model_module_version": "2.0.0",
      "model_name": "HBoxModel",
      "state": {
       "children": [
        "IPY_MODEL_32f685d586c34514b6c615955cec580a",
        "IPY_MODEL_01dedd6568be463b8dd6e3a33adf1aeb",
        "IPY_MODEL_7378b6680ba1448cbd21eff99f999f75"
       ],
       "layout": "IPY_MODEL_2d5710010bce4136a739ffc9cd9464c8"
      }
     },
     "2174b62049714fc4ae8cb15a2c94cde8": {
      "model_module": "@jupyter-widgets/controls",
      "model_module_version": "2.0.0",
      "model_name": "HTMLStyleModel",
      "state": {
       "description_width": "",
       "font_size": null,
       "text_color": null
      }
     },
     "225325cac0944a5e970f9a613d2bcb18": {
      "model_module": "@jupyter-widgets/base",
      "model_module_version": "2.0.0",
      "model_name": "LayoutModel",
      "state": {}
     },
     "2267eb87e996406fae4736c5d603341b": {
      "model_module": "@jupyter-widgets/controls",
      "model_module_version": "2.0.0",
      "model_name": "HTMLStyleModel",
      "state": {
       "description_width": "",
       "font_size": null,
       "text_color": null
      }
     },
     "22d7ebc94bcd4cbd9982807b7f3f28e8": {
      "model_module": "@jupyter-widgets/base",
      "model_module_version": "2.0.0",
      "model_name": "LayoutModel",
      "state": {}
     },
     "231478bc186e424dbf5796b8557509b2": {
      "model_module": "@jupyter-widgets/controls",
      "model_module_version": "2.0.0",
      "model_name": "HTMLStyleModel",
      "state": {
       "description_width": "",
       "font_size": null,
       "text_color": null
      }
     },
     "2384b5aaa22043f284012f9408646a87": {
      "model_module": "@jupyter-widgets/controls",
      "model_module_version": "2.0.0",
      "model_name": "HTMLModel",
      "state": {
       "layout": "IPY_MODEL_4f2155d9463a4ea6a71dc089728bc6d4",
       "style": "IPY_MODEL_e74524d69f334b44849f097116a55e2b",
       "value": "Doing PCA(23): 100%"
      }
     },
     "24601d7c2c974b41b03ff75f68856810": {
      "model_module": "@jupyter-widgets/base",
      "model_module_version": "2.0.0",
      "model_name": "LayoutModel",
      "state": {}
     },
     "26fa20792209409fa5c340482910b2a1": {
      "model_module": "@jupyter-widgets/base",
      "model_module_version": "2.0.0",
      "model_name": "LayoutModel",
      "state": {}
     },
     "28a03661bb89402e9c38683e411facb4": {
      "model_module": "@jupyter-widgets/controls",
      "model_module_version": "2.0.0",
      "model_name": "HBoxModel",
      "state": {
       "children": [
        "IPY_MODEL_90aa732d4c5a4884b9dccfd87b17a2db",
        "IPY_MODEL_dbc6e5b3b6784e22bbe5a09bc1dcc477",
        "IPY_MODEL_91fd4791cbfd4c4ab891c72c1bf65a21"
       ],
       "layout": "IPY_MODEL_65cc1523fdee4e1c96a76e1e77b0426b"
      }
     },
     "28c5e4be308b46f9829a8fc61b8b999c": {
      "model_module": "@jupyter-widgets/base",
      "model_module_version": "2.0.0",
      "model_name": "LayoutModel",
      "state": {}
     },
     "2987a6ccda5543789f6ffd133b625f03": {
      "model_module": "@jupyter-widgets/controls",
      "model_module_version": "2.0.0",
      "model_name": "ProgressStyleModel",
      "state": {
       "description_width": ""
      }
     },
     "2b85ec300ab941148f69a519e87ffc4f": {
      "model_module": "@jupyter-widgets/controls",
      "model_module_version": "2.0.0",
      "model_name": "ProgressStyleModel",
      "state": {
       "description_width": ""
      }
     },
     "2cc6476777c74caf8fdf5f45a729b37f": {
      "model_module": "@jupyter-widgets/controls",
      "model_module_version": "2.0.0",
      "model_name": "HBoxModel",
      "state": {
       "children": [
        "IPY_MODEL_dc4dc4e5a7a34ffc92c3ae24e2214096",
        "IPY_MODEL_e095817f020b4c60bdc8507c17b0a054",
        "IPY_MODEL_3d70bfbbd54e46a5a863bbf5fe387ca6"
       ],
       "layout": "IPY_MODEL_225325cac0944a5e970f9a613d2bcb18"
      }
     },
     "2d5710010bce4136a739ffc9cd9464c8": {
      "model_module": "@jupyter-widgets/base",
      "model_module_version": "2.0.0",
      "model_name": "LayoutModel",
      "state": {}
     },
     "2e7fff9715304dfcb50b7ce8994094f0": {
      "model_module": "@jupyter-widgets/controls",
      "model_module_version": "2.0.0",
      "model_name": "HTMLModel",
      "state": {
       "layout": "IPY_MODEL_3967611b02804287bb13fda364d14d9f",
       "style": "IPY_MODEL_39eb15c2cbe245948de7b777bfd14abb",
       "value": " 1/1 [00:00&lt;00:00, 25.34images/s]"
      }
     },
     "2feb91e864d841a2bb4516551f264b6f": {
      "model_module": "@jupyter-widgets/controls",
      "model_module_version": "2.0.0",
      "model_name": "HTMLStyleModel",
      "state": {
       "description_width": "",
       "font_size": null,
       "text_color": null
      }
     },
     "30d3599974cd4b86b72c876d5cd3b600": {
      "model_module": "@jupyter-widgets/controls",
      "model_module_version": "2.0.0",
      "model_name": "FloatProgressModel",
      "state": {
       "bar_style": "success",
       "layout": "IPY_MODEL_a3ad2c3e9b1b439e807be2580776e584",
       "max": 1,
       "style": "IPY_MODEL_e571a22e619f4034852e63f00be9f237",
       "value": 1
      }
     },
     "31958276b3da4221b61ff2fd8e3ada17": {
      "model_module": "@jupyter-widgets/base",
      "model_module_version": "2.0.0",
      "model_name": "LayoutModel",
      "state": {}
     },
     "31aa410e95f44a959fecfde17a2c8a0f": {
      "model_module": "@jupyter-widgets/controls",
      "model_module_version": "2.0.0",
      "model_name": "HTMLStyleModel",
      "state": {
       "description_width": "",
       "font_size": null,
       "text_color": null
      }
     },
     "32a9c2d79ce849b9aec50c0756d604b7": {
      "model_module": "@jupyter-widgets/controls",
      "model_module_version": "2.0.0",
      "model_name": "HTMLModel",
      "state": {
       "layout": "IPY_MODEL_8bfdcef60d8a44d6a667f0984ed05bc7",
       "style": "IPY_MODEL_e5aa8247238c459b846aedb67585123a",
       "value": " 1/1 [00:20&lt;00:00, 20.79s/images]"
      }
     },
     "32f685d586c34514b6c615955cec580a": {
      "model_module": "@jupyter-widgets/controls",
      "model_module_version": "2.0.0",
      "model_name": "HTMLModel",
      "state": {
       "layout": "IPY_MODEL_ed59427cf07347ebae6ba4cebbdd0865",
       "style": "IPY_MODEL_b37d7dc44e3c41b2898144ae4cce2296",
       "value": "Doing PCA(23): 100%"
      }
     },
     "34923ad553ad4ff8884ad7a3a7550162": {
      "model_module": "@jupyter-widgets/controls",
      "model_module_version": "2.0.0",
      "model_name": "ProgressStyleModel",
      "state": {
       "description_width": ""
      }
     },
     "37cf160bafed4e86963ff04d9804ee02": {
      "model_module": "@jupyter-widgets/controls",
      "model_module_version": "2.0.0",
      "model_name": "ProgressStyleModel",
      "state": {
       "description_width": ""
      }
     },
     "39454cfe9f4c4597b5e3fb348c9eb88f": {
      "model_module": "@jupyter-widgets/controls",
      "model_module_version": "2.0.0",
      "model_name": "HTMLModel",
      "state": {
       "layout": "IPY_MODEL_df2ec22b6d434512a097eeb6f6248a75",
       "style": "IPY_MODEL_9f8c4cf15d064ab09c016dc9c134de45",
       "value": "Doing tSNE(2): 100%"
      }
     },
     "3967611b02804287bb13fda364d14d9f": {
      "model_module": "@jupyter-widgets/base",
      "model_module_version": "2.0.0",
      "model_name": "LayoutModel",
      "state": {}
     },
     "39deefb9bcf04a3c8048333cdaae7f89": {
      "model_module": "@jupyter-widgets/base",
      "model_module_version": "2.0.0",
      "model_name": "LayoutModel",
      "state": {}
     },
     "39eb15c2cbe245948de7b777bfd14abb": {
      "model_module": "@jupyter-widgets/controls",
      "model_module_version": "2.0.0",
      "model_name": "HTMLStyleModel",
      "state": {
       "description_width": "",
       "font_size": null,
       "text_color": null
      }
     },
     "3a04bec9b61742449bfaa9e90568ecc4": {
      "model_module": "@jupyter-widgets/controls",
      "model_module_version": "2.0.0",
      "model_name": "HBoxModel",
      "state": {
       "children": [
        "IPY_MODEL_5d556e99bcdf4becaadbcb9e5ed82661",
        "IPY_MODEL_30d3599974cd4b86b72c876d5cd3b600",
        "IPY_MODEL_2e7fff9715304dfcb50b7ce8994094f0"
       ],
       "layout": "IPY_MODEL_46b6bd4360bd4af388cde3661bac4d1a"
      }
     },
     "3a14ad3863ee4b2f827cd4d70c323f1b": {
      "model_module": "@jupyter-widgets/controls",
      "model_module_version": "2.0.0",
      "model_name": "ProgressStyleModel",
      "state": {
       "description_width": ""
      }
     },
     "3a63e55296a04b52bc4948c9f39d901d": {
      "model_module": "@jupyter-widgets/controls",
      "model_module_version": "2.0.0",
      "model_name": "HTMLModel",
      "state": {
       "layout": "IPY_MODEL_f29660c177624a6087e62d736fd0572c",
       "style": "IPY_MODEL_d1665d3434f54d7882957219d5bca6e5",
       "value": " 1/1 [00:18&lt;00:00, 18.19s/images]"
      }
     },
     "3c04f0ac034f48a083f511886376dd15": {
      "model_module": "@jupyter-widgets/controls",
      "model_module_version": "2.0.0",
      "model_name": "ProgressStyleModel",
      "state": {
       "description_width": ""
      }
     },
     "3ce0b619322a4fe7a697740effa0eaa5": {
      "model_module": "@jupyter-widgets/controls",
      "model_module_version": "2.0.0",
      "model_name": "HTMLStyleModel",
      "state": {
       "description_width": "",
       "font_size": null,
       "text_color": null
      }
     },
     "3d272a25f6c54e2fad7ceba25d08c92b": {
      "model_module": "@jupyter-widgets/base",
      "model_module_version": "2.0.0",
      "model_name": "LayoutModel",
      "state": {}
     },
     "3d6c8344def84be2a6a35061527513d3": {
      "model_module": "@jupyter-widgets/base",
      "model_module_version": "2.0.0",
      "model_name": "LayoutModel",
      "state": {}
     },
     "3d70bfbbd54e46a5a863bbf5fe387ca6": {
      "model_module": "@jupyter-widgets/controls",
      "model_module_version": "2.0.0",
      "model_name": "HTMLModel",
      "state": {
       "layout": "IPY_MODEL_b3c7937fd8b0415188ff249aadc716dd",
       "style": "IPY_MODEL_4f870e19c3114e61bc965a717c100993",
       "value": " 1/1 [00:00&lt;00:00, 15.39images/s]"
      }
     },
     "3e7672916ede4d17a39891e3880d08b8": {
      "model_module": "@jupyter-widgets/controls",
      "model_module_version": "2.0.0",
      "model_name": "HTMLModel",
      "state": {
       "layout": "IPY_MODEL_76025a6b0772403991c9e43db85c20ca",
       "style": "IPY_MODEL_5d83dbc254af4c6aafb1b94a3b7df93d",
       "value": " 1/1 [00:00&lt;00:00, 19.88images/s]"
      }
     },
     "3eeab78d20a048c8bd43611c016d6e74": {
      "model_module": "@jupyter-widgets/base",
      "model_module_version": "2.0.0",
      "model_name": "LayoutModel",
      "state": {}
     },
     "40b0d6b139ad4a1f9ee20041ff0ad65c": {
      "model_module": "@jupyter-widgets/controls",
      "model_module_version": "2.0.0",
      "model_name": "HTMLModel",
      "state": {
       "layout": "IPY_MODEL_5a9376dd43c844a3b87421bf9a949669",
       "style": "IPY_MODEL_5fe87030e0cb4db1bb7b5b507f443f93",
       "value": " 1/1 [00:00&lt;00:00, 17.54images/s]"
      }
     },
     "414912b81951425abedd82e3e14098f6": {
      "model_module": "@jupyter-widgets/controls",
      "model_module_version": "2.0.0",
      "model_name": "HTMLModel",
      "state": {
       "layout": "IPY_MODEL_f951cffa545f4e75b00ec39865c747e0",
       "style": "IPY_MODEL_588894d3e5b741f69440d611b16f5655",
       "value": "Doing tSNE(2): 100%"
      }
     },
     "419438c08ae14e63be5595dc30e74820": {
      "model_module": "@jupyter-widgets/base",
      "model_module_version": "2.0.0",
      "model_name": "LayoutModel",
      "state": {}
     },
     "41df3e128a1641c7be14ccf705abe14a": {
      "model_module": "@jupyter-widgets/controls",
      "model_module_version": "2.0.0",
      "model_name": "HTMLModel",
      "state": {
       "layout": "IPY_MODEL_71c3a959a91f4ffba2939dd1d8db1ede",
       "style": "IPY_MODEL_3ce0b619322a4fe7a697740effa0eaa5",
       "value": " 1/1 [00:00&lt;00:00, 14.01images/s]"
      }
     },
     "420f09fbaf854a5598a01ee64b31c5e4": {
      "model_module": "@jupyter-widgets/controls",
      "model_module_version": "2.0.0",
      "model_name": "ProgressStyleModel",
      "state": {
       "description_width": ""
      }
     },
     "4346763c280c4d4a91298c80ba4143ea": {
      "model_module": "@jupyter-widgets/controls",
      "model_module_version": "2.0.0",
      "model_name": "ProgressStyleModel",
      "state": {
       "description_width": ""
      }
     },
     "4399e1ab469e429497da557479545204": {
      "model_module": "@jupyter-widgets/controls",
      "model_module_version": "2.0.0",
      "model_name": "HTMLModel",
      "state": {
       "layout": "IPY_MODEL_748cfa12657c44959d58f4d4ce6d4b67",
       "style": "IPY_MODEL_729237bde8a74f428b4cc0adc527800c",
       "value": " 1/1 [00:00&lt;00:00, 17.09images/s]"
      }
     },
     "4480cf9c30ae40739bc4d37f6351ab03": {
      "model_module": "@jupyter-widgets/controls",
      "model_module_version": "2.0.0",
      "model_name": "FloatProgressModel",
      "state": {
       "bar_style": "success",
       "layout": "IPY_MODEL_19e56dc85cf344a79fadeb21ef20ac2f",
       "max": 1,
       "style": "IPY_MODEL_097d01ffbed94e02a178de557aaf67fc",
       "value": 1
      }
     },
     "45c09c98cf164e1a83f4f280811540ba": {
      "model_module": "@jupyter-widgets/controls",
      "model_module_version": "2.0.0",
      "model_name": "ProgressStyleModel",
      "state": {
       "description_width": ""
      }
     },
     "4609753ee09e430693c76eeabd51c084": {
      "model_module": "@jupyter-widgets/controls",
      "model_module_version": "2.0.0",
      "model_name": "HTMLStyleModel",
      "state": {
       "description_width": "",
       "font_size": null,
       "text_color": null
      }
     },
     "46b6bd4360bd4af388cde3661bac4d1a": {
      "model_module": "@jupyter-widgets/base",
      "model_module_version": "2.0.0",
      "model_name": "LayoutModel",
      "state": {}
     },
     "47b52c7ad0de4bb6ba4412fe2ce822ed": {
      "model_module": "@jupyter-widgets/controls",
      "model_module_version": "2.0.0",
      "model_name": "FloatProgressModel",
      "state": {
       "bar_style": "success",
       "layout": "IPY_MODEL_5272a3c9b9384c61b23bf4a98c0c4a06",
       "max": 5400,
       "style": "IPY_MODEL_c682c9b2661c4847adbd71486db63c71",
       "value": 5400
      }
     },
     "48540ef50bb14664969067339d301845": {
      "model_module": "@jupyter-widgets/base",
      "model_module_version": "2.0.0",
      "model_name": "LayoutModel",
      "state": {}
     },
     "487cf510f56740bb877d951970b4e1e8": {
      "model_module": "@jupyter-widgets/controls",
      "model_module_version": "2.0.0",
      "model_name": "ProgressStyleModel",
      "state": {
       "description_width": ""
      }
     },
     "488c2f52036e4b1e852ae588bf2ffafc": {
      "model_module": "@jupyter-widgets/controls",
      "model_module_version": "2.0.0",
      "model_name": "FloatProgressModel",
      "state": {
       "bar_style": "success",
       "layout": "IPY_MODEL_f4b3d81c86164825835ee2dc7f357e04",
       "max": 1,
       "style": "IPY_MODEL_72e3013bdb5a45b2a766721b774534aa",
       "value": 1
      }
     },
     "494a6f885ad442579af9554328abedf2": {
      "model_module": "@jupyter-widgets/base",
      "model_module_version": "2.0.0",
      "model_name": "LayoutModel",
      "state": {}
     },
     "495e7d144a4e4c9e954018b5b463c788": {
      "model_module": "@jupyter-widgets/base",
      "model_module_version": "2.0.0",
      "model_name": "LayoutModel",
      "state": {}
     },
     "4994e699153545dab01584d498bca849": {
      "model_module": "@jupyter-widgets/controls",
      "model_module_version": "2.0.0",
      "model_name": "HBoxModel",
      "state": {
       "children": [
        "IPY_MODEL_d45b02ad3390468580fd41cdc15ab9b0",
        "IPY_MODEL_917270d9f2f54f4ab592e841ba9d125b",
        "IPY_MODEL_b7506d6608ca40788cab71502a199455"
       ],
       "layout": "IPY_MODEL_737fdecbc68047e6adbc77320733a257"
      }
     },
     "4a0eee987c8a4474addd9fee184710d2": {
      "model_module": "@jupyter-widgets/controls",
      "model_module_version": "2.0.0",
      "model_name": "FloatProgressModel",
      "state": {
       "bar_style": "success",
       "layout": "IPY_MODEL_419438c08ae14e63be5595dc30e74820",
       "max": 1,
       "style": "IPY_MODEL_01b1980be5884a30a056a6129cfc73aa",
       "value": 1
      }
     },
     "4b190142bc9a487b9cda50e2691d2b57": {
      "model_module": "@jupyter-widgets/controls",
      "model_module_version": "2.0.0",
      "model_name": "HTMLStyleModel",
      "state": {
       "description_width": "",
       "font_size": null,
       "text_color": null
      }
     },
     "4b2d0d318c194c7388e798b98c9000af": {
      "model_module": "@jupyter-widgets/controls",
      "model_module_version": "2.0.0",
      "model_name": "ProgressStyleModel",
      "state": {
       "description_width": ""
      }
     },
     "4bf99a39e0b241bda7dcb656f50c760a": {
      "model_module": "@jupyter-widgets/controls",
      "model_module_version": "2.0.0",
      "model_name": "FloatProgressModel",
      "state": {
       "bar_style": "success",
       "layout": "IPY_MODEL_f83e7b87391e4b8d84c6d87bb3da2efb",
       "max": 9,
       "style": "IPY_MODEL_5149b3ef5123489a84d0d26277a32e54",
       "value": 9
      }
     },
     "4c11d02b9d3a4e01a32b836e853313fc": {
      "model_module": "@jupyter-widgets/base",
      "model_module_version": "2.0.0",
      "model_name": "LayoutModel",
      "state": {}
     },
     "4c28e2a41dfd49fc880ef7116c58e9f5": {
      "model_module": "@jupyter-widgets/controls",
      "model_module_version": "2.0.0",
      "model_name": "HTMLStyleModel",
      "state": {
       "description_width": "",
       "font_size": null,
       "text_color": null
      }
     },
     "4d91a3b4d97f47cf91d2e4548300e9ce": {
      "model_module": "@jupyter-widgets/base",
      "model_module_version": "2.0.0",
      "model_name": "LayoutModel",
      "state": {}
     },
     "4dd4d8a9102943d68809d35f05d9ff0e": {
      "model_module": "@jupyter-widgets/controls",
      "model_module_version": "2.0.0",
      "model_name": "ProgressStyleModel",
      "state": {
       "description_width": ""
      }
     },
     "4f2155d9463a4ea6a71dc089728bc6d4": {
      "model_module": "@jupyter-widgets/base",
      "model_module_version": "2.0.0",
      "model_name": "LayoutModel",
      "state": {}
     },
     "4f870e19c3114e61bc965a717c100993": {
      "model_module": "@jupyter-widgets/controls",
      "model_module_version": "2.0.0",
      "model_name": "HTMLStyleModel",
      "state": {
       "description_width": "",
       "font_size": null,
       "text_color": null
      }
     },
     "4f95cf0a421b4e7e8271c7fd1cfce15b": {
      "model_module": "@jupyter-widgets/controls",
      "model_module_version": "2.0.0",
      "model_name": "HTMLModel",
      "state": {
       "layout": "IPY_MODEL_63aecb75b84b41539af8fe91fa400807",
       "style": "IPY_MODEL_89aca493b50649bcb907a7d0909982e7",
       "value": "Doing PCA(16): 100%"
      }
     },
     "4fbd660a5aca424d9dc9d107f94a129b": {
      "model_module": "@jupyter-widgets/controls",
      "model_module_version": "2.0.0",
      "model_name": "HBoxModel",
      "state": {
       "children": [
        "IPY_MODEL_a2ef6a088bb64c338e151ff8dc7a3477",
        "IPY_MODEL_a82731bf767543209db431cd2745edd4",
        "IPY_MODEL_1bb9521ad8234a46875862d5f3c4809d"
       ],
       "layout": "IPY_MODEL_a8d0c7f6df474e03afcbbc7ed1fe1645"
      }
     },
     "4ffb553723c543feb3c92a927e64110a": {
      "model_module": "@jupyter-widgets/base",
      "model_module_version": "2.0.0",
      "model_name": "LayoutModel",
      "state": {}
     },
     "50b70a3695ff47848278e918ffccf689": {
      "model_module": "@jupyter-widgets/base",
      "model_module_version": "2.0.0",
      "model_name": "LayoutModel",
      "state": {}
     },
     "50dfaeec45ba4a04a4eb76c3dbd9e737": {
      "model_module": "@jupyter-widgets/base",
      "model_module_version": "2.0.0",
      "model_name": "LayoutModel",
      "state": {}
     },
     "5149b3ef5123489a84d0d26277a32e54": {
      "model_module": "@jupyter-widgets/controls",
      "model_module_version": "2.0.0",
      "model_name": "ProgressStyleModel",
      "state": {
       "description_width": ""
      }
     },
     "519f44a0e82d43b4a2936aa40018e70f": {
      "model_module": "@jupyter-widgets/base",
      "model_module_version": "2.0.0",
      "model_name": "LayoutModel",
      "state": {}
     },
     "5272a3c9b9384c61b23bf4a98c0c4a06": {
      "model_module": "@jupyter-widgets/base",
      "model_module_version": "2.0.0",
      "model_name": "LayoutModel",
      "state": {}
     },
     "533f4e27eda2461f8f89118bb77902a4": {
      "model_module": "@jupyter-widgets/controls",
      "model_module_version": "2.0.0",
      "model_name": "ProgressStyleModel",
      "state": {
       "description_width": ""
      }
     },
     "541d7ff1d8c84d81ae750df0643301f8": {
      "model_module": "@jupyter-widgets/controls",
      "model_module_version": "2.0.0",
      "model_name": "HBoxModel",
      "state": {
       "children": [
        "IPY_MODEL_8067e8f78fc84680831669087963ab1d",
        "IPY_MODEL_1b0a4d4a990a4c3c986819bbb1d5e670",
        "IPY_MODEL_181fc0db68754dffafa8d8856d93aafd"
       ],
       "layout": "IPY_MODEL_6010f8920c3e4803865a67126d999a49"
      }
     },
     "54d9b3f4be1743b8886a23aa6c61fb70": {
      "model_module": "@jupyter-widgets/controls",
      "model_module_version": "2.0.0",
      "model_name": "HTMLModel",
      "state": {
       "layout": "IPY_MODEL_a7a4669323f3428f80959b28d4255a1f",
       "style": "IPY_MODEL_59dceb552aa34b6781e36bc5371fa3d1",
       "value": "Doing PCA(2): 100%"
      }
     },
     "5535786e0a2d4516a5ca42f6ddb997de": {
      "model_module": "@jupyter-widgets/controls",
      "model_module_version": "2.0.0",
      "model_name": "ProgressStyleModel",
      "state": {
       "description_width": ""
      }
     },
     "555228306e4e4f2cb8a6db849ce38bc3": {
      "model_module": "@jupyter-widgets/base",
      "model_module_version": "2.0.0",
      "model_name": "LayoutModel",
      "state": {}
     },
     "57b3f8d249c64b799af2424c6a0cf640": {
      "model_module": "@jupyter-widgets/base",
      "model_module_version": "2.0.0",
      "model_name": "LayoutModel",
      "state": {}
     },
     "582c5da97a8049a8b0a03fa195e63972": {
      "model_module": "@jupyter-widgets/controls",
      "model_module_version": "2.0.0",
      "model_name": "FloatProgressModel",
      "state": {
       "bar_style": "success",
       "layout": "IPY_MODEL_494a6f885ad442579af9554328abedf2",
       "max": 1,
       "style": "IPY_MODEL_2b85ec300ab941148f69a519e87ffc4f",
       "value": 1
      }
     },
     "584a57644b5c4b1186982aa9dbedc09b": {
      "model_module": "@jupyter-widgets/base",
      "model_module_version": "2.0.0",
      "model_name": "LayoutModel",
      "state": {}
     },
     "588894d3e5b741f69440d611b16f5655": {
      "model_module": "@jupyter-widgets/controls",
      "model_module_version": "2.0.0",
      "model_name": "HTMLStyleModel",
      "state": {
       "description_width": "",
       "font_size": null,
       "text_color": null
      }
     },
     "589d4642e4ea4ec2b63b5562cd08f32c": {
      "model_module": "@jupyter-widgets/base",
      "model_module_version": "2.0.0",
      "model_name": "LayoutModel",
      "state": {}
     },
     "59dceb552aa34b6781e36bc5371fa3d1": {
      "model_module": "@jupyter-widgets/controls",
      "model_module_version": "2.0.0",
      "model_name": "HTMLStyleModel",
      "state": {
       "description_width": "",
       "font_size": null,
       "text_color": null
      }
     },
     "5a8b6b37f7c54d06993fb0c49c808b9c": {
      "model_module": "@jupyter-widgets/controls",
      "model_module_version": "2.0.0",
      "model_name": "HBoxModel",
      "state": {
       "children": [
        "IPY_MODEL_9f7b337282b34730a001c78b6d47bdc0",
        "IPY_MODEL_c8170403d4fa45429504bfca27dc90b7",
        "IPY_MODEL_1746d46fa7474db6b61d5331d6e14133"
       ],
       "layout": "IPY_MODEL_9e79e3fb2ec749059c7e7cf03b468d4a"
      }
     },
     "5a9376dd43c844a3b87421bf9a949669": {
      "model_module": "@jupyter-widgets/base",
      "model_module_version": "2.0.0",
      "model_name": "LayoutModel",
      "state": {}
     },
     "5ad976705a2c4b9bb5f07c48dcb97c5a": {
      "model_module": "@jupyter-widgets/base",
      "model_module_version": "2.0.0",
      "model_name": "LayoutModel",
      "state": {}
     },
     "5aeb0c3180c4493cb7a45fa559f78533": {
      "model_module": "@jupyter-widgets/controls",
      "model_module_version": "2.0.0",
      "model_name": "HTMLModel",
      "state": {
       "layout": "IPY_MODEL_e73e19180ecf4ee982d1d9ea0df44bdb",
       "style": "IPY_MODEL_d594bdfaa49043c48781aa8f68ba4527",
       "value": " 5400/5400 [00:17&lt;00:00, 330.19images/s]"
      }
     },
     "5b8911e68fab40a7860b1ec9d1806f50": {
      "model_module": "@jupyter-widgets/base",
      "model_module_version": "2.0.0",
      "model_name": "LayoutModel",
      "state": {}
     },
     "5d556e99bcdf4becaadbcb9e5ed82661": {
      "model_module": "@jupyter-widgets/controls",
      "model_module_version": "2.0.0",
      "model_name": "HTMLModel",
      "state": {
       "layout": "IPY_MODEL_69a0d2d57fea41939f8504459b3a8a9f",
       "style": "IPY_MODEL_8c108a0851ea4715863a9ca140883b84",
       "value": "Doing PCA(2): 100%"
      }
     },
     "5d83dbc254af4c6aafb1b94a3b7df93d": {
      "model_module": "@jupyter-widgets/controls",
      "model_module_version": "2.0.0",
      "model_name": "HTMLStyleModel",
      "state": {
       "description_width": "",
       "font_size": null,
       "text_color": null
      }
     },
     "5dd560c760ed45b98ea10b3339159626": {
      "model_module": "@jupyter-widgets/controls",
      "model_module_version": "2.0.0",
      "model_name": "HTMLStyleModel",
      "state": {
       "description_width": "",
       "font_size": null,
       "text_color": null
      }
     },
     "5decfbc8b3b44e4f8b2a1a334ddbd2dd": {
      "model_module": "@jupyter-widgets/controls",
      "model_module_version": "2.0.0",
      "model_name": "HTMLModel",
      "state": {
       "layout": "IPY_MODEL_c33da5f5c1194fb4b3a0202ab223ea91",
       "style": "IPY_MODEL_babf35724305445393be4e034e0524f3",
       "value": " 1/1 [00:00&lt;00:00, 20.94images/s]"
      }
     },
     "5f0061663e3b43ebb7f8c92a89921826": {
      "model_module": "@jupyter-widgets/controls",
      "model_module_version": "2.0.0",
      "model_name": "HTMLModel",
      "state": {
       "layout": "IPY_MODEL_e0d47641a0364a50a693d58e8398aa17",
       "style": "IPY_MODEL_68af2bdf33754bf6acc3cd6d2366a94a",
       "value": " 1/1 [00:00&lt;00:00, 33.78images/s]"
      }
     },
     "5f00b454425045628bec080ca1d9930a": {
      "model_module": "@jupyter-widgets/base",
      "model_module_version": "2.0.0",
      "model_name": "LayoutModel",
      "state": {}
     },
     "5f542c72138a49d199aa30afc7dacdbd": {
      "model_module": "@jupyter-widgets/base",
      "model_module_version": "2.0.0",
      "model_name": "LayoutModel",
      "state": {}
     },
     "5fe87030e0cb4db1bb7b5b507f443f93": {
      "model_module": "@jupyter-widgets/controls",
      "model_module_version": "2.0.0",
      "model_name": "HTMLStyleModel",
      "state": {
       "description_width": "",
       "font_size": null,
       "text_color": null
      }
     },
     "6010f8920c3e4803865a67126d999a49": {
      "model_module": "@jupyter-widgets/base",
      "model_module_version": "2.0.0",
      "model_name": "LayoutModel",
      "state": {}
     },
     "6018a22499a8444ab783d80a5f28670d": {
      "model_module": "@jupyter-widgets/base",
      "model_module_version": "2.0.0",
      "model_name": "LayoutModel",
      "state": {}
     },
     "60a28d256cfb4c67a38aff220d70d5a0": {
      "model_module": "@jupyter-widgets/controls",
      "model_module_version": "2.0.0",
      "model_name": "HBoxModel",
      "state": {
       "children": [
        "IPY_MODEL_1ea0e67d1f854fd2a576028abff80db8",
        "IPY_MODEL_1664af7ebf2548a1b9196df351f46b52",
        "IPY_MODEL_40b0d6b139ad4a1f9ee20041ff0ad65c"
       ],
       "layout": "IPY_MODEL_176b45526e18453d99ab0270784a1a92"
      }
     },
     "621b02911e454870af6637d23d9a1c22": {
      "model_module": "@jupyter-widgets/controls",
      "model_module_version": "2.0.0",
      "model_name": "HTMLModel",
      "state": {
       "layout": "IPY_MODEL_b712f23f94fa4131915210a3b308e5ee",
       "style": "IPY_MODEL_765de47919194bd69e129d76505bbba2",
       "value": " 1/1 [00:00&lt;00:00, 11.78images/s]"
      }
     },
     "63aecb75b84b41539af8fe91fa400807": {
      "model_module": "@jupyter-widgets/base",
      "model_module_version": "2.0.0",
      "model_name": "LayoutModel",
      "state": {}
     },
     "63b4555dfdf44914980e4abd18ac38e2": {
      "model_module": "@jupyter-widgets/controls",
      "model_module_version": "2.0.0",
      "model_name": "HBoxModel",
      "state": {
       "children": [
        "IPY_MODEL_2384b5aaa22043f284012f9408646a87",
        "IPY_MODEL_123714fe371a45469efd2022f8d8b173",
        "IPY_MODEL_621b02911e454870af6637d23d9a1c22"
       ],
       "layout": "IPY_MODEL_a49510fd64af429088488e872a87d418"
      }
     },
     "63e587836edf4eb09623a5759ebc062d": {
      "model_module": "@jupyter-widgets/base",
      "model_module_version": "2.0.0",
      "model_name": "LayoutModel",
      "state": {}
     },
     "64171e7a96cb43a89b8fa1070cdaeccc": {
      "model_module": "@jupyter-widgets/base",
      "model_module_version": "2.0.0",
      "model_name": "LayoutModel",
      "state": {}
     },
     "64cdd8f26bcc481d9b98c69eeefe11d4": {
      "model_module": "@jupyter-widgets/base",
      "model_module_version": "2.0.0",
      "model_name": "LayoutModel",
      "state": {}
     },
     "6549d6b52dc34ffaabfebaf7303493d5": {
      "model_module": "@jupyter-widgets/base",
      "model_module_version": "2.0.0",
      "model_name": "LayoutModel",
      "state": {}
     },
     "65cc1523fdee4e1c96a76e1e77b0426b": {
      "model_module": "@jupyter-widgets/base",
      "model_module_version": "2.0.0",
      "model_name": "LayoutModel",
      "state": {}
     },
     "662c77683364460791ce7b19e2223e7c": {
      "model_module": "@jupyter-widgets/base",
      "model_module_version": "2.0.0",
      "model_name": "LayoutModel",
      "state": {}
     },
     "682a83f6299443ee9963b76b0af57002": {
      "model_module": "@jupyter-widgets/base",
      "model_module_version": "2.0.0",
      "model_name": "LayoutModel",
      "state": {}
     },
     "68af2bdf33754bf6acc3cd6d2366a94a": {
      "model_module": "@jupyter-widgets/controls",
      "model_module_version": "2.0.0",
      "model_name": "HTMLStyleModel",
      "state": {
       "description_width": "",
       "font_size": null,
       "text_color": null
      }
     },
     "69a0d2d57fea41939f8504459b3a8a9f": {
      "model_module": "@jupyter-widgets/base",
      "model_module_version": "2.0.0",
      "model_name": "LayoutModel",
      "state": {}
     },
     "6cf2bc3c8c714b85aa19807a68d4bd4b": {
      "model_module": "@jupyter-widgets/base",
      "model_module_version": "2.0.0",
      "model_name": "LayoutModel",
      "state": {}
     },
     "6ed59e77a6c3487cba2a8915fc36364c": {
      "model_module": "@jupyter-widgets/controls",
      "model_module_version": "2.0.0",
      "model_name": "HTMLStyleModel",
      "state": {
       "description_width": "",
       "font_size": null,
       "text_color": null
      }
     },
     "6ef630faac324aaca387fa6fa8533e52": {
      "model_module": "@jupyter-widgets/controls",
      "model_module_version": "2.0.0",
      "model_name": "FloatProgressModel",
      "state": {
       "bar_style": "success",
       "layout": "IPY_MODEL_d5fd3f326b4f42f08ba5ec9b7645a0f0",
       "max": 1,
       "style": "IPY_MODEL_487cf510f56740bb877d951970b4e1e8",
       "value": 1
      }
     },
     "6feb474126bd4b5d9eafb271e67a0943": {
      "model_module": "@jupyter-widgets/controls",
      "model_module_version": "2.0.0",
      "model_name": "ProgressStyleModel",
      "state": {
       "description_width": ""
      }
     },
     "6fee271791754a42a2869101e746532c": {
      "model_module": "@jupyter-widgets/base",
      "model_module_version": "2.0.0",
      "model_name": "LayoutModel",
      "state": {}
     },
     "7194f5d123ed481d8fa67c6f7e8ddf0d": {
      "model_module": "@jupyter-widgets/base",
      "model_module_version": "2.0.0",
      "model_name": "LayoutModel",
      "state": {}
     },
     "71c3a959a91f4ffba2939dd1d8db1ede": {
      "model_module": "@jupyter-widgets/base",
      "model_module_version": "2.0.0",
      "model_name": "LayoutModel",
      "state": {}
     },
     "729237bde8a74f428b4cc0adc527800c": {
      "model_module": "@jupyter-widgets/controls",
      "model_module_version": "2.0.0",
      "model_name": "HTMLStyleModel",
      "state": {
       "description_width": "",
       "font_size": null,
       "text_color": null
      }
     },
     "72e3013bdb5a45b2a766721b774534aa": {
      "model_module": "@jupyter-widgets/controls",
      "model_module_version": "2.0.0",
      "model_name": "ProgressStyleModel",
      "state": {
       "description_width": ""
      }
     },
     "7378b6680ba1448cbd21eff99f999f75": {
      "model_module": "@jupyter-widgets/controls",
      "model_module_version": "2.0.0",
      "model_name": "HTMLModel",
      "state": {
       "layout": "IPY_MODEL_d64ea0b021ff4531aa0228c926dca6eb",
       "style": "IPY_MODEL_08adaee34f614f05b8fa9066db9af400",
       "value": " 1/1 [00:00&lt;00:00, 16.32images/s]"
      }
     },
     "737fdecbc68047e6adbc77320733a257": {
      "model_module": "@jupyter-widgets/base",
      "model_module_version": "2.0.0",
      "model_name": "LayoutModel",
      "state": {}
     },
     "748cfa12657c44959d58f4d4ce6d4b67": {
      "model_module": "@jupyter-widgets/base",
      "model_module_version": "2.0.0",
      "model_name": "LayoutModel",
      "state": {}
     },
     "749f870a05db4aabb02264b45980d501": {
      "model_module": "@jupyter-widgets/base",
      "model_module_version": "2.0.0",
      "model_name": "LayoutModel",
      "state": {}
     },
     "74c4ca45960b487da5611ed576e7e3b2": {
      "model_module": "@jupyter-widgets/base",
      "model_module_version": "2.0.0",
      "model_name": "LayoutModel",
      "state": {}
     },
     "750aeb4c2eff4428b4d769c8b03edf47": {
      "model_module": "@jupyter-widgets/controls",
      "model_module_version": "2.0.0",
      "model_name": "HTMLModel",
      "state": {
       "layout": "IPY_MODEL_3eeab78d20a048c8bd43611c016d6e74",
       "style": "IPY_MODEL_4b190142bc9a487b9cda50e2691d2b57",
       "value": "Doing PCA(19): 100%"
      }
     },
     "752429425298414ea1a2fb1e27071631": {
      "model_module": "@jupyter-widgets/controls",
      "model_module_version": "2.0.0",
      "model_name": "FloatProgressModel",
      "state": {
       "bar_style": "success",
       "layout": "IPY_MODEL_7f5f96fb39694f09819d726329989948",
       "max": 5400,
       "style": "IPY_MODEL_9a7fc0e01f0a4d9299814fcbe5a586b4",
       "value": 5400
      }
     },
     "75a28c0425dd4130b204841c4281854f": {
      "model_module": "@jupyter-widgets/base",
      "model_module_version": "2.0.0",
      "model_name": "LayoutModel",
      "state": {}
     },
     "76025a6b0772403991c9e43db85c20ca": {
      "model_module": "@jupyter-widgets/base",
      "model_module_version": "2.0.0",
      "model_name": "LayoutModel",
      "state": {}
     },
     "765de47919194bd69e129d76505bbba2": {
      "model_module": "@jupyter-widgets/controls",
      "model_module_version": "2.0.0",
      "model_name": "HTMLStyleModel",
      "state": {
       "description_width": "",
       "font_size": null,
       "text_color": null
      }
     },
     "79c149d5940545cdaac36e609d1d77c3": {
      "model_module": "@jupyter-widgets/controls",
      "model_module_version": "2.0.0",
      "model_name": "HTMLModel",
      "state": {
       "layout": "IPY_MODEL_05e7881435ff45559b4c9937a2223380",
       "style": "IPY_MODEL_8cf77cbe7513424b9d39fea99673087d",
       "value": "Loading feature vectors: 100%"
      }
     },
     "7a801b1f0f42455ca0ffbfc53252bab3": {
      "model_module": "@jupyter-widgets/controls",
      "model_module_version": "2.0.0",
      "model_name": "HTMLStyleModel",
      "state": {
       "description_width": "",
       "font_size": null,
       "text_color": null
      }
     },
     "7d2f26f5bef040269f87b91e6f698cd7": {
      "model_module": "@jupyter-widgets/controls",
      "model_module_version": "2.0.0",
      "model_name": "HBoxModel",
      "state": {
       "children": [
        "IPY_MODEL_8177954228b749c28222a94eb3fe0550",
        "IPY_MODEL_eac4c6698a43423aaedf6a9002937527",
        "IPY_MODEL_184b790330004f6b9e23ba230bedbf40"
       ],
       "layout": "IPY_MODEL_5f00b454425045628bec080ca1d9930a"
      }
     },
     "7e24b4d5d52e4cdba6a3070410e23b08": {
      "model_module": "@jupyter-widgets/controls",
      "model_module_version": "2.0.0",
      "model_name": "ProgressStyleModel",
      "state": {
       "description_width": ""
      }
     },
     "7f231eb3d53349b2a50a54d43ead75bc": {
      "model_module": "@jupyter-widgets/controls",
      "model_module_version": "2.0.0",
      "model_name": "HTMLModel",
      "state": {
       "layout": "IPY_MODEL_ffbf5286e54f43d1bf415f026f125a60",
       "style": "IPY_MODEL_be378edb5f9247f2ab294b22503c5e3c",
       "value": " 1/1 [00:00&lt;00:00, 26.78images/s]"
      }
     },
     "7f5f96fb39694f09819d726329989948": {
      "model_module": "@jupyter-widgets/base",
      "model_module_version": "2.0.0",
      "model_name": "LayoutModel",
      "state": {}
     },
     "800a0bcdd36b4bc8b1a07ced3206f50a": {
      "model_module": "@jupyter-widgets/controls",
      "model_module_version": "2.0.0",
      "model_name": "FloatProgressModel",
      "state": {
       "bar_style": "success",
       "layout": "IPY_MODEL_495e7d144a4e4c9e954018b5b463c788",
       "max": 1,
       "style": "IPY_MODEL_45c09c98cf164e1a83f4f280811540ba",
       "value": 1
      }
     },
     "8020abac80924940a283a935ab0075eb": {
      "model_module": "@jupyter-widgets/controls",
      "model_module_version": "2.0.0",
      "model_name": "HTMLStyleModel",
      "state": {
       "description_width": "",
       "font_size": null,
       "text_color": null
      }
     },
     "8067e8f78fc84680831669087963ab1d": {
      "model_module": "@jupyter-widgets/controls",
      "model_module_version": "2.0.0",
      "model_name": "HTMLModel",
      "state": {
       "layout": "IPY_MODEL_1dbda288d5d84a0fb3d83d5a97254310",
       "style": "IPY_MODEL_2174b62049714fc4ae8cb15a2c94cde8",
       "value": "Doing PCA(7): 100%"
      }
     },
     "8173bd75d58d43e5bbac6ecb065af924": {
      "model_module": "@jupyter-widgets/controls",
      "model_module_version": "2.0.0",
      "model_name": "HBoxModel",
      "state": {
       "children": [
        "IPY_MODEL_cf42a88b04e241b2bdb6ef0d32da1d6f",
        "IPY_MODEL_84c1a1a42da040fb90a9e288e4fa141a",
        "IPY_MODEL_4399e1ab469e429497da557479545204"
       ],
       "layout": "IPY_MODEL_4d91a3b4d97f47cf91d2e4548300e9ce"
      }
     },
     "8177954228b749c28222a94eb3fe0550": {
      "model_module": "@jupyter-widgets/controls",
      "model_module_version": "2.0.0",
      "model_name": "HTMLModel",
      "state": {
       "layout": "IPY_MODEL_874a2f1e81154bcfa109aa548bfd7cd4",
       "style": "IPY_MODEL_9714286d5f80407e87bcf18810d54965",
       "value": "Loading 5400 samples: 100%"
      }
     },
     "829a774e9ba144f591d0327da85b68ea": {
      "model_module": "@jupyter-widgets/base",
      "model_module_version": "2.0.0",
      "model_name": "LayoutModel",
      "state": {}
     },
     "83152b1c3d6e4138bba19cb2dfdb9a8e": {
      "model_module": "@jupyter-widgets/controls",
      "model_module_version": "2.0.0",
      "model_name": "HTMLModel",
      "state": {
       "layout": "IPY_MODEL_9aeaba0ec0b7498e8542f455a65e77a7",
       "style": "IPY_MODEL_2092c65f798544148373d83eb1c1610e",
       "value": "Loading 5400 samples: 100%"
      }
     },
     "83156ce2b9ac4216a0cbe4a05754c15d": {
      "model_module": "@jupyter-widgets/base",
      "model_module_version": "2.0.0",
      "model_name": "LayoutModel",
      "state": {}
     },
     "83f18969de0647459d7aa4e73d9d2f65": {
      "model_module": "@jupyter-widgets/base",
      "model_module_version": "2.0.0",
      "model_name": "LayoutModel",
      "state": {}
     },
     "844bc0bebcb34c9c82bd5f371caf7bde": {
      "model_module": "@jupyter-widgets/base",
      "model_module_version": "2.0.0",
      "model_name": "LayoutModel",
      "state": {}
     },
     "84c1a1a42da040fb90a9e288e4fa141a": {
      "model_module": "@jupyter-widgets/controls",
      "model_module_version": "2.0.0",
      "model_name": "FloatProgressModel",
      "state": {
       "bar_style": "success",
       "layout": "IPY_MODEL_def896772d44423a9c7db0f8119c14f0",
       "max": 1,
       "style": "IPY_MODEL_a431a4823e234dea97695cbcefa585d2",
       "value": 1
      }
     },
     "8620d22e631e4ffe919bc0d5177cb83a": {
      "model_module": "@jupyter-widgets/base",
      "model_module_version": "2.0.0",
      "model_name": "LayoutModel",
      "state": {}
     },
     "874a2f1e81154bcfa109aa548bfd7cd4": {
      "model_module": "@jupyter-widgets/base",
      "model_module_version": "2.0.0",
      "model_name": "LayoutModel",
      "state": {}
     },
     "8812cac3289f433c8047d71ef1f77899": {
      "model_module": "@jupyter-widgets/controls",
      "model_module_version": "2.0.0",
      "model_name": "HTMLStyleModel",
      "state": {
       "description_width": "",
       "font_size": null,
       "text_color": null
      }
     },
     "88387d59226c418bb3f181b22ceab00d": {
      "model_module": "@jupyter-widgets/controls",
      "model_module_version": "2.0.0",
      "model_name": "HTMLModel",
      "state": {
       "layout": "IPY_MODEL_bee9adc710b74619ad3811d1ce9eff07",
       "style": "IPY_MODEL_995d0547e7344e62ac7cec54bf9a3a3b",
       "value": " 1/1 [00:12&lt;00:00, 12.86s/images]"
      }
     },
     "888f099a8c3c4a0a9824398b29d4654d": {
      "model_module": "@jupyter-widgets/controls",
      "model_module_version": "2.0.0",
      "model_name": "FloatProgressModel",
      "state": {
       "bar_style": "success",
       "layout": "IPY_MODEL_5f542c72138a49d199aa30afc7dacdbd",
       "max": 5400,
       "style": "IPY_MODEL_6feb474126bd4b5d9eafb271e67a0943",
       "value": 5400
      }
     },
     "89aca493b50649bcb907a7d0909982e7": {
      "model_module": "@jupyter-widgets/controls",
      "model_module_version": "2.0.0",
      "model_name": "HTMLStyleModel",
      "state": {
       "description_width": "",
       "font_size": null,
       "text_color": null
      }
     },
     "8aa9a9a0f34b4e76919d7c26ec3bcff5": {
      "model_module": "@jupyter-widgets/controls",
      "model_module_version": "2.0.0",
      "model_name": "FloatProgressModel",
      "state": {
       "bar_style": "success",
       "layout": "IPY_MODEL_f265a7cc77ae4aa68481f32100700639",
       "max": 1,
       "style": "IPY_MODEL_3c04f0ac034f48a083f511886376dd15",
       "value": 1
      }
     },
     "8aca67f9d34043fdada44320c1a28fbb": {
      "model_module": "@jupyter-widgets/controls",
      "model_module_version": "2.0.0",
      "model_name": "HTMLModel",
      "state": {
       "layout": "IPY_MODEL_6fee271791754a42a2869101e746532c",
       "style": "IPY_MODEL_082d4465339f45d2afbdc3c5343baff0",
       "value": "Doing PCA(2): 100%"
      }
     },
     "8b37dc7536b649a8addede9843f5233a": {
      "model_module": "@jupyter-widgets/controls",
      "model_module_version": "2.0.0",
      "model_name": "HTMLModel",
      "state": {
       "layout": "IPY_MODEL_fd8a1a2cc5bb4412805564a208805b25",
       "style": "IPY_MODEL_0ed0d934c4084e26ae63432a8163cc8c",
       "value": "Doing PCA(23): 100%"
      }
     },
     "8bd2b9fd4329441eb981f267aa5e109f": {
      "model_module": "@jupyter-widgets/controls",
      "model_module_version": "2.0.0",
      "model_name": "HTMLStyleModel",
      "state": {
       "description_width": "",
       "font_size": null,
       "text_color": null
      }
     },
     "8bfdcef60d8a44d6a667f0984ed05bc7": {
      "model_module": "@jupyter-widgets/base",
      "model_module_version": "2.0.0",
      "model_name": "LayoutModel",
      "state": {}
     },
     "8c108a0851ea4715863a9ca140883b84": {
      "model_module": "@jupyter-widgets/controls",
      "model_module_version": "2.0.0",
      "model_name": "HTMLStyleModel",
      "state": {
       "description_width": "",
       "font_size": null,
       "text_color": null
      }
     },
     "8c6edf57e3e14c99b8ce2f217683f226": {
      "model_module": "@jupyter-widgets/controls",
      "model_module_version": "2.0.0",
      "model_name": "ProgressStyleModel",
      "state": {
       "description_width": ""
      }
     },
     "8c970dac3e344e3d9d2efdb1a37cc3ab": {
      "model_module": "@jupyter-widgets/controls",
      "model_module_version": "2.0.0",
      "model_name": "HTMLModel",
      "state": {
       "layout": "IPY_MODEL_1cdb8f3937874beaabb1396d445ed3bc",
       "style": "IPY_MODEL_d243af67f9fe4788a0cf86ee1301a4ca",
       "value": "Loading 5400 samples: 100%"
      }
     },
     "8cf77cbe7513424b9d39fea99673087d": {
      "model_module": "@jupyter-widgets/controls",
      "model_module_version": "2.0.0",
      "model_name": "HTMLStyleModel",
      "state": {
       "description_width": "",
       "font_size": null,
       "text_color": null
      }
     },
     "906deaaa91e84a5ab2e98c21aff20b36": {
      "model_module": "@jupyter-widgets/controls",
      "model_module_version": "2.0.0",
      "model_name": "HTMLModel",
      "state": {
       "layout": "IPY_MODEL_31958276b3da4221b61ff2fd8e3ada17",
       "style": "IPY_MODEL_231478bc186e424dbf5796b8557509b2",
       "value": " 1/1 [00:00&lt;00:00, 21.34images/s]"
      }
     },
     "90aa732d4c5a4884b9dccfd87b17a2db": {
      "model_module": "@jupyter-widgets/controls",
      "model_module_version": "2.0.0",
      "model_name": "HTMLModel",
      "state": {
       "layout": "IPY_MODEL_5ad976705a2c4b9bb5f07c48dcb97c5a",
       "style": "IPY_MODEL_8020abac80924940a283a935ab0075eb",
       "value": "Doing PCA(2): 100%"
      }
     },
     "912085da1f9848798badb6d5841dc118": {
      "model_module": "@jupyter-widgets/controls",
      "model_module_version": "2.0.0",
      "model_name": "FloatProgressModel",
      "state": {
       "bar_style": "success",
       "layout": "IPY_MODEL_63e587836edf4eb09623a5759ebc062d",
       "max": 1,
       "style": "IPY_MODEL_34923ad553ad4ff8884ad7a3a7550162",
       "value": 1
      }
     },
     "917270d9f2f54f4ab592e841ba9d125b": {
      "model_module": "@jupyter-widgets/controls",
      "model_module_version": "2.0.0",
      "model_name": "FloatProgressModel",
      "state": {
       "bar_style": "success",
       "layout": "IPY_MODEL_74c4ca45960b487da5611ed576e7e3b2",
       "max": 1,
       "style": "IPY_MODEL_420f09fbaf854a5598a01ee64b31c5e4",
       "value": 1
      }
     },
     "91fd4791cbfd4c4ab891c72c1bf65a21": {
      "model_module": "@jupyter-widgets/controls",
      "model_module_version": "2.0.0",
      "model_name": "HTMLModel",
      "state": {
       "layout": "IPY_MODEL_db30f4c9ada9430c942836d182c12d59",
       "style": "IPY_MODEL_f73101a892f64a68b99e272b6b82ab59",
       "value": " 1/1 [00:00&lt;00:00, 26.49images/s]"
      }
     },
     "93e03c73732143aea2160fc4de4238bb": {
      "model_module": "@jupyter-widgets/base",
      "model_module_version": "2.0.0",
      "model_name": "LayoutModel",
      "state": {}
     },
     "9657637a88a34172a21472f7b027c6eb": {
      "model_module": "@jupyter-widgets/controls",
      "model_module_version": "2.0.0",
      "model_name": "HTMLModel",
      "state": {
       "layout": "IPY_MODEL_e9e8a632a17e4a23ba0c256b2b1edbff",
       "style": "IPY_MODEL_e09f985aad4b4316af75213377b4c640",
       "value": "Doing tSNE(2): 100%"
      }
     },
     "9714286d5f80407e87bcf18810d54965": {
      "model_module": "@jupyter-widgets/controls",
      "model_module_version": "2.0.0",
      "model_name": "HTMLStyleModel",
      "state": {
       "description_width": "",
       "font_size": null,
       "text_color": null
      }
     },
     "995d0547e7344e62ac7cec54bf9a3a3b": {
      "model_module": "@jupyter-widgets/controls",
      "model_module_version": "2.0.0",
      "model_name": "HTMLStyleModel",
      "state": {
       "description_width": "",
       "font_size": null,
       "text_color": null
      }
     },
     "9a7fc0e01f0a4d9299814fcbe5a586b4": {
      "model_module": "@jupyter-widgets/controls",
      "model_module_version": "2.0.0",
      "model_name": "ProgressStyleModel",
      "state": {
       "description_width": ""
      }
     },
     "9aeaba0ec0b7498e8542f455a65e77a7": {
      "model_module": "@jupyter-widgets/base",
      "model_module_version": "2.0.0",
      "model_name": "LayoutModel",
      "state": {}
     },
     "9d5f65160311455da2d4284cab0d445e": {
      "model_module": "@jupyter-widgets/controls",
      "model_module_version": "2.0.0",
      "model_name": "FloatProgressModel",
      "state": {
       "bar_style": "success",
       "layout": "IPY_MODEL_64171e7a96cb43a89b8fa1070cdaeccc",
       "max": 5400,
       "style": "IPY_MODEL_af87e21cbe034c70a584d354349e5bd0",
       "value": 5400
      }
     },
     "9e79e3fb2ec749059c7e7cf03b468d4a": {
      "model_module": "@jupyter-widgets/base",
      "model_module_version": "2.0.0",
      "model_name": "LayoutModel",
      "state": {}
     },
     "9f39117e3b2e44bfb545a529443c1ddb": {
      "model_module": "@jupyter-widgets/base",
      "model_module_version": "2.0.0",
      "model_name": "LayoutModel",
      "state": {}
     },
     "9f46396a87e14920aa7112678c3f9248": {
      "model_module": "@jupyter-widgets/controls",
      "model_module_version": "2.0.0",
      "model_name": "HTMLStyleModel",
      "state": {
       "description_width": "",
       "font_size": null,
       "text_color": null
      }
     },
     "9f7b337282b34730a001c78b6d47bdc0": {
      "model_module": "@jupyter-widgets/controls",
      "model_module_version": "2.0.0",
      "model_name": "HTMLModel",
      "state": {
       "layout": "IPY_MODEL_48540ef50bb14664969067339d301845",
       "style": "IPY_MODEL_5dd560c760ed45b98ea10b3339159626",
       "value": "Doing PCA(4): 100%"
      }
     },
     "9f8c4cf15d064ab09c016dc9c134de45": {
      "model_module": "@jupyter-widgets/controls",
      "model_module_version": "2.0.0",
      "model_name": "HTMLStyleModel",
      "state": {
       "description_width": "",
       "font_size": null,
       "text_color": null
      }
     },
     "a0eb27ce47614c509610abc517705224": {
      "model_module": "@jupyter-widgets/controls",
      "model_module_version": "2.0.0",
      "model_name": "HBoxModel",
      "state": {
       "children": [
        "IPY_MODEL_1fe89f5304ba4254aa0697aa21197b4f",
        "IPY_MODEL_752429425298414ea1a2fb1e27071631",
        "IPY_MODEL_5aeb0c3180c4493cb7a45fa559f78533"
       ],
       "layout": "IPY_MODEL_fa6c140bd3644fc7aea290dcdeccde76"
      }
     },
     "a16fea7597264b6091e69f99e1c120cc": {
      "model_module": "@jupyter-widgets/controls",
      "model_module_version": "2.0.0",
      "model_name": "HTMLModel",
      "state": {
       "layout": "IPY_MODEL_c07835dea8d146fe95f9e545403e13a0",
       "style": "IPY_MODEL_7a801b1f0f42455ca0ffbfc53252bab3",
       "value": "Keypoints: Training classifier: 100%"
      }
     },
     "a25745d0ef9342c390f2260dc525cbd6": {
      "model_module": "@jupyter-widgets/base",
      "model_module_version": "2.0.0",
      "model_name": "LayoutModel",
      "state": {}
     },
     "a2ef6a088bb64c338e151ff8dc7a3477": {
      "model_module": "@jupyter-widgets/controls",
      "model_module_version": "2.0.0",
      "model_name": "HTMLModel",
      "state": {
       "layout": "IPY_MODEL_682a83f6299443ee9963b76b0af57002",
       "style": "IPY_MODEL_c51d68aa62ca407e88957ec8c7f725e2",
       "value": "Loading feature vectors: 100%"
      }
     },
     "a38b8f5501bb4fa699a8fd2a1984b820": {
      "model_module": "@jupyter-widgets/controls",
      "model_module_version": "2.0.0",
      "model_name": "HTMLModel",
      "state": {
       "layout": "IPY_MODEL_f3cbbfd6b18940e99102bb821ac82668",
       "style": "IPY_MODEL_f0204512dc934385b30e349c41ecb485",
       "value": " 1/1 [00:00&lt;00:00, 19.67images/s]"
      }
     },
     "a3921e4ef90044659e408c9ab498fb34": {
      "model_module": "@jupyter-widgets/base",
      "model_module_version": "2.0.0",
      "model_name": "LayoutModel",
      "state": {}
     },
     "a3ad2c3e9b1b439e807be2580776e584": {
      "model_module": "@jupyter-widgets/base",
      "model_module_version": "2.0.0",
      "model_name": "LayoutModel",
      "state": {}
     },
     "a431a4823e234dea97695cbcefa585d2": {
      "model_module": "@jupyter-widgets/controls",
      "model_module_version": "2.0.0",
      "model_name": "ProgressStyleModel",
      "state": {
       "description_width": ""
      }
     },
     "a49510fd64af429088488e872a87d418": {
      "model_module": "@jupyter-widgets/base",
      "model_module_version": "2.0.0",
      "model_name": "LayoutModel",
      "state": {}
     },
     "a4cd3a924523473a9ffcba4395527294": {
      "model_module": "@jupyter-widgets/controls",
      "model_module_version": "2.0.0",
      "model_name": "HBoxModel",
      "state": {
       "children": [
        "IPY_MODEL_8b37dc7536b649a8addede9843f5233a",
        "IPY_MODEL_d72c56c5fed24754aec2cc36e6ef451d",
        "IPY_MODEL_a38b8f5501bb4fa699a8fd2a1984b820"
       ],
       "layout": "IPY_MODEL_5b8911e68fab40a7860b1ec9d1806f50"
      }
     },
     "a68c4536ccdd40f889499a74230462da": {
      "model_module": "@jupyter-widgets/base",
      "model_module_version": "2.0.0",
      "model_name": "LayoutModel",
      "state": {}
     },
     "a7a4669323f3428f80959b28d4255a1f": {
      "model_module": "@jupyter-widgets/base",
      "model_module_version": "2.0.0",
      "model_name": "LayoutModel",
      "state": {}
     },
     "a82731bf767543209db431cd2745edd4": {
      "model_module": "@jupyter-widgets/controls",
      "model_module_version": "2.0.0",
      "model_name": "FloatProgressModel",
      "state": {
       "bar_style": "success",
       "layout": "IPY_MODEL_57b3f8d249c64b799af2424c6a0cf640",
       "max": 5400,
       "style": "IPY_MODEL_c70b271108734fdabf75ac37076201e2",
       "value": 5400
      }
     },
     "a8395abe73bf494cae26a66c3e7adc70": {
      "model_module": "@jupyter-widgets/base",
      "model_module_version": "2.0.0",
      "model_name": "LayoutModel",
      "state": {}
     },
     "a8d0c7f6df474e03afcbbc7ed1fe1645": {
      "model_module": "@jupyter-widgets/base",
      "model_module_version": "2.0.0",
      "model_name": "LayoutModel",
      "state": {}
     },
     "ae43967edf254a8497ce74afd7328da7": {
      "model_module": "@jupyter-widgets/base",
      "model_module_version": "2.0.0",
      "model_name": "LayoutModel",
      "state": {}
     },
     "af18a07758264e62a5852a46eff60529": {
      "model_module": "@jupyter-widgets/controls",
      "model_module_version": "2.0.0",
      "model_name": "ProgressStyleModel",
      "state": {
       "description_width": ""
      }
     },
     "af87e21cbe034c70a584d354349e5bd0": {
      "model_module": "@jupyter-widgets/controls",
      "model_module_version": "2.0.0",
      "model_name": "ProgressStyleModel",
      "state": {
       "description_width": ""
      }
     },
     "b12b311407ca4941941814c4a60769fc": {
      "model_module": "@jupyter-widgets/base",
      "model_module_version": "2.0.0",
      "model_name": "LayoutModel",
      "state": {}
     },
     "b2af87a5b13c45639c8c42af6dc85d51": {
      "model_module": "@jupyter-widgets/controls",
      "model_module_version": "2.0.0",
      "model_name": "HBoxModel",
      "state": {
       "children": [
        "IPY_MODEL_8c970dac3e344e3d9d2efdb1a37cc3ab",
        "IPY_MODEL_888f099a8c3c4a0a9824398b29d4654d",
        "IPY_MODEL_da1c87a51ed5402b83d60f3e0462c7fa"
       ],
       "layout": "IPY_MODEL_39deefb9bcf04a3c8048333cdaae7f89"
      }
     },
     "b37d7dc44e3c41b2898144ae4cce2296": {
      "model_module": "@jupyter-widgets/controls",
      "model_module_version": "2.0.0",
      "model_name": "HTMLStyleModel",
      "state": {
       "description_width": "",
       "font_size": null,
       "text_color": null
      }
     },
     "b3c7937fd8b0415188ff249aadc716dd": {
      "model_module": "@jupyter-widgets/base",
      "model_module_version": "2.0.0",
      "model_name": "LayoutModel",
      "state": {}
     },
     "b3e4c092442049528afafeb4636529b4": {
      "model_module": "@jupyter-widgets/controls",
      "model_module_version": "2.0.0",
      "model_name": "HTMLStyleModel",
      "state": {
       "description_width": "",
       "font_size": null,
       "text_color": null
      }
     },
     "b6dc3a12f99a43429ccd57474db9c085": {
      "model_module": "@jupyter-widgets/base",
      "model_module_version": "2.0.0",
      "model_name": "LayoutModel",
      "state": {}
     },
     "b712f23f94fa4131915210a3b308e5ee": {
      "model_module": "@jupyter-widgets/base",
      "model_module_version": "2.0.0",
      "model_name": "LayoutModel",
      "state": {}
     },
     "b7506d6608ca40788cab71502a199455": {
      "model_module": "@jupyter-widgets/controls",
      "model_module_version": "2.0.0",
      "model_name": "HTMLModel",
      "state": {
       "layout": "IPY_MODEL_589d4642e4ea4ec2b63b5562cd08f32c",
       "style": "IPY_MODEL_fa1ff5db7aeb4295904d1d757b4b9cf0",
       "value": " 1/1 [00:20&lt;00:00, 20.72s/images]"
      }
     },
     "b9deea1cfd4c41b7a514227c166d572f": {
      "model_module": "@jupyter-widgets/controls",
      "model_module_version": "2.0.0",
      "model_name": "HTMLModel",
      "state": {
       "layout": "IPY_MODEL_1ea0893ae2a441ffa4bf286fa8a49b67",
       "style": "IPY_MODEL_1570dd679b2a40e7a60a53e9beb60229",
       "value": " 5400/5400 [00:22&lt;00:00, 265.00images/s]"
      }
     },
     "babf35724305445393be4e034e0524f3": {
      "model_module": "@jupyter-widgets/controls",
      "model_module_version": "2.0.0",
      "model_name": "HTMLStyleModel",
      "state": {
       "description_width": "",
       "font_size": null,
       "text_color": null
      }
     },
     "bb825c1e37224cfab62d2fc01a187ff0": {
      "model_module": "@jupyter-widgets/controls",
      "model_module_version": "2.0.0",
      "model_name": "HTMLModel",
      "state": {
       "layout": "IPY_MODEL_50dfaeec45ba4a04a4eb76c3dbd9e737",
       "style": "IPY_MODEL_4609753ee09e430693c76eeabd51c084",
       "value": "Loading feature vectors: 100%"
      }
     },
     "bc278d15dff4406f9df96291457cf327": {
      "model_module": "@jupyter-widgets/controls",
      "model_module_version": "2.0.0",
      "model_name": "HTMLModel",
      "state": {
       "layout": "IPY_MODEL_f623e4e79b3441eaa3da508196d085b7",
       "style": "IPY_MODEL_31aa410e95f44a959fecfde17a2c8a0f",
       "value": "Doing PCA(13): 100%"
      }
     },
     "bd43de94e4a44405891de6d8695912aa": {
      "model_module": "@jupyter-widgets/controls",
      "model_module_version": "2.0.0",
      "model_name": "FloatProgressModel",
      "state": {
       "bar_style": "success",
       "layout": "IPY_MODEL_7194f5d123ed481d8fa67c6f7e8ddf0d",
       "max": 5400,
       "style": "IPY_MODEL_533f4e27eda2461f8f89118bb77902a4",
       "value": 5400
      }
     },
     "be378edb5f9247f2ab294b22503c5e3c": {
      "model_module": "@jupyter-widgets/controls",
      "model_module_version": "2.0.0",
      "model_name": "HTMLStyleModel",
      "state": {
       "description_width": "",
       "font_size": null,
       "text_color": null
      }
     },
     "bee9adc710b74619ad3811d1ce9eff07": {
      "model_module": "@jupyter-widgets/base",
      "model_module_version": "2.0.0",
      "model_name": "LayoutModel",
      "state": {}
     },
     "c07835dea8d146fe95f9e545403e13a0": {
      "model_module": "@jupyter-widgets/base",
      "model_module_version": "2.0.0",
      "model_name": "LayoutModel",
      "state": {}
     },
     "c33da5f5c1194fb4b3a0202ab223ea91": {
      "model_module": "@jupyter-widgets/base",
      "model_module_version": "2.0.0",
      "model_name": "LayoutModel",
      "state": {}
     },
     "c38e203bdf4b4f48b570be1ac8a24333": {
      "model_module": "@jupyter-widgets/controls",
      "model_module_version": "2.0.0",
      "model_name": "HBoxModel",
      "state": {
       "children": [
        "IPY_MODEL_a16fea7597264b6091e69f99e1c120cc",
        "IPY_MODEL_4bf99a39e0b241bda7dcb656f50c760a",
        "IPY_MODEL_d1e31c6f24264c33b6d9b6d91a0c1901"
       ],
       "layout": "IPY_MODEL_0c70af04e8ff413c9816b7a0298a6e85"
      }
     },
     "c51d68aa62ca407e88957ec8c7f725e2": {
      "model_module": "@jupyter-widgets/controls",
      "model_module_version": "2.0.0",
      "model_name": "HTMLStyleModel",
      "state": {
       "description_width": "",
       "font_size": null,
       "text_color": null
      }
     },
     "c5fefdc6132646958eb6afd38cd0c367": {
      "model_module": "@jupyter-widgets/controls",
      "model_module_version": "2.0.0",
      "model_name": "HTMLStyleModel",
      "state": {
       "description_width": "",
       "font_size": null,
       "text_color": null
      }
     },
     "c673b2e910d1494fadbc6c1a11263ff7": {
      "model_module": "@jupyter-widgets/controls",
      "model_module_version": "2.0.0",
      "model_name": "HTMLStyleModel",
      "state": {
       "description_width": "",
       "font_size": null,
       "text_color": null
      }
     },
     "c682c9b2661c4847adbd71486db63c71": {
      "model_module": "@jupyter-widgets/controls",
      "model_module_version": "2.0.0",
      "model_name": "ProgressStyleModel",
      "state": {
       "description_width": ""
      }
     },
     "c70b271108734fdabf75ac37076201e2": {
      "model_module": "@jupyter-widgets/controls",
      "model_module_version": "2.0.0",
      "model_name": "ProgressStyleModel",
      "state": {
       "description_width": ""
      }
     },
     "c8170403d4fa45429504bfca27dc90b7": {
      "model_module": "@jupyter-widgets/controls",
      "model_module_version": "2.0.0",
      "model_name": "FloatProgressModel",
      "state": {
       "bar_style": "success",
       "layout": "IPY_MODEL_584a57644b5c4b1186982aa9dbedc09b",
       "max": 1,
       "style": "IPY_MODEL_7e24b4d5d52e4cdba6a3070410e23b08",
       "value": 1
      }
     },
     "ca4163862476466a81123a33e567afb8": {
      "model_module": "@jupyter-widgets/controls",
      "model_module_version": "2.0.0",
      "model_name": "HTMLModel",
      "state": {
       "layout": "IPY_MODEL_a68c4536ccdd40f889499a74230462da",
       "style": "IPY_MODEL_2feb91e864d841a2bb4516551f264b6f",
       "value": " 5400/5400 [01:23&lt;00:00, 65.92samples/s]"
      }
     },
     "ccd06ba17b0c48e38649b17f151453f8": {
      "model_module": "@jupyter-widgets/controls",
      "model_module_version": "2.0.0",
      "model_name": "HBoxModel",
      "state": {
       "children": [
        "IPY_MODEL_414912b81951425abedd82e3e14098f6",
        "IPY_MODEL_4a0eee987c8a4474addd9fee184710d2",
        "IPY_MODEL_e03ecffb0f134146b4954d2ad6af1da3"
       ],
       "layout": "IPY_MODEL_28c5e4be308b46f9829a8fc61b8b999c"
      }
     },
     "cda7433d9cd848148e5ea2e862151b71": {
      "model_module": "@jupyter-widgets/controls",
      "model_module_version": "2.0.0",
      "model_name": "FloatProgressModel",
      "state": {
       "bar_style": "success",
       "layout": "IPY_MODEL_8620d22e631e4ffe919bc0d5177cb83a",
       "max": 1,
       "style": "IPY_MODEL_1bd49ca8e8f5432eb2777206c47ce79b",
       "value": 1
      }
     },
     "cea7fb1020e4408c89dc371e5884b26d": {
      "model_module": "@jupyter-widgets/base",
      "model_module_version": "2.0.0",
      "model_name": "LayoutModel",
      "state": {}
     },
     "cf42a88b04e241b2bdb6ef0d32da1d6f": {
      "model_module": "@jupyter-widgets/controls",
      "model_module_version": "2.0.0",
      "model_name": "HTMLModel",
      "state": {
       "layout": "IPY_MODEL_844bc0bebcb34c9c82bd5f371caf7bde",
       "style": "IPY_MODEL_e6874c57e159494e82ccaf630606a1ea",
       "value": "Doing PCA(24): 100%"
      }
     },
     "d1665d3434f54d7882957219d5bca6e5": {
      "model_module": "@jupyter-widgets/controls",
      "model_module_version": "2.0.0",
      "model_name": "HTMLStyleModel",
      "state": {
       "description_width": "",
       "font_size": null,
       "text_color": null
      }
     },
     "d1e31c6f24264c33b6d9b6d91a0c1901": {
      "model_module": "@jupyter-widgets/controls",
      "model_module_version": "2.0.0",
      "model_name": "HTMLModel",
      "state": {
       "layout": "IPY_MODEL_24601d7c2c974b41b03ff75f68856810",
       "style": "IPY_MODEL_4c28e2a41dfd49fc880ef7116c58e9f5",
       "value": " 9/9 [43:15&lt;00:00, 519.59s/it]"
      }
     },
     "d243af67f9fe4788a0cf86ee1301a4ca": {
      "model_module": "@jupyter-widgets/controls",
      "model_module_version": "2.0.0",
      "model_name": "HTMLStyleModel",
      "state": {
       "description_width": "",
       "font_size": null,
       "text_color": null
      }
     },
     "d2f324e0677448e2b27f23c20e25c472": {
      "model_module": "@jupyter-widgets/controls",
      "model_module_version": "2.0.0",
      "model_name": "HTMLStyleModel",
      "state": {
       "description_width": "",
       "font_size": null,
       "text_color": null
      }
     },
     "d36dd19b5cca4083a440cb9babe153d2": {
      "model_module": "@jupyter-widgets/controls",
      "model_module_version": "2.0.0",
      "model_name": "HBoxModel",
      "state": {
       "children": [
        "IPY_MODEL_79c149d5940545cdaac36e609d1d77c3",
        "IPY_MODEL_bd43de94e4a44405891de6d8695912aa",
        "IPY_MODEL_b9deea1cfd4c41b7a514227c166d572f"
       ],
       "layout": "IPY_MODEL_749f870a05db4aabb02264b45980d501"
      }
     },
     "d45b02ad3390468580fd41cdc15ab9b0": {
      "model_module": "@jupyter-widgets/controls",
      "model_module_version": "2.0.0",
      "model_name": "HTMLModel",
      "state": {
       "layout": "IPY_MODEL_cea7fb1020e4408c89dc371e5884b26d",
       "style": "IPY_MODEL_b3e4c092442049528afafeb4636529b4",
       "value": "Doing tSNE(2): 100%"
      }
     },
     "d594bdfaa49043c48781aa8f68ba4527": {
      "model_module": "@jupyter-widgets/controls",
      "model_module_version": "2.0.0",
      "model_name": "HTMLStyleModel",
      "state": {
       "description_width": "",
       "font_size": null,
       "text_color": null
      }
     },
     "d5fd3f326b4f42f08ba5ec9b7645a0f0": {
      "model_module": "@jupyter-widgets/base",
      "model_module_version": "2.0.0",
      "model_name": "LayoutModel",
      "state": {}
     },
     "d64ea0b021ff4531aa0228c926dca6eb": {
      "model_module": "@jupyter-widgets/base",
      "model_module_version": "2.0.0",
      "model_name": "LayoutModel",
      "state": {}
     },
     "d72c56c5fed24754aec2cc36e6ef451d": {
      "model_module": "@jupyter-widgets/controls",
      "model_module_version": "2.0.0",
      "model_name": "FloatProgressModel",
      "state": {
       "bar_style": "success",
       "layout": "IPY_MODEL_079d3941ff634c72b93a34b99d152336",
       "max": 1,
       "style": "IPY_MODEL_4dd4d8a9102943d68809d35f05d9ff0e",
       "value": 1
      }
     },
     "d7e38dd967e44d28ab845fec1768352a": {
      "model_module": "@jupyter-widgets/controls",
      "model_module_version": "2.0.0",
      "model_name": "HBoxModel",
      "state": {
       "children": [
        "IPY_MODEL_da4665a70a0e47ef919ff11e0ecd6f14",
        "IPY_MODEL_4480cf9c30ae40739bc4d37f6351ab03",
        "IPY_MODEL_5decfbc8b3b44e4f8b2a1a334ddbd2dd"
       ],
       "layout": "IPY_MODEL_a3921e4ef90044659e408c9ab498fb34"
      }
     },
     "d8386f67072f4facad24bce10661ede7": {
      "model_module": "@jupyter-widgets/base",
      "model_module_version": "2.0.0",
      "model_name": "LayoutModel",
      "state": {}
     },
     "da1c87a51ed5402b83d60f3e0462c7fa": {
      "model_module": "@jupyter-widgets/controls",
      "model_module_version": "2.0.0",
      "model_name": "HTMLModel",
      "state": {
       "layout": "IPY_MODEL_6cf2bc3c8c714b85aa19807a68d4bd4b",
       "style": "IPY_MODEL_168b47af732a46bbbc9f4a379de12c8f",
       "value": " 5400/5400 [02:02&lt;00:00, 46.74samples/s]"
      }
     },
     "da2c0bf39fbd4a56a6d0f711c7232163": {
      "model_module": "@jupyter-widgets/base",
      "model_module_version": "2.0.0",
      "model_name": "LayoutModel",
      "state": {}
     },
     "da4665a70a0e47ef919ff11e0ecd6f14": {
      "model_module": "@jupyter-widgets/controls",
      "model_module_version": "2.0.0",
      "model_name": "HTMLModel",
      "state": {
       "layout": "IPY_MODEL_a8395abe73bf494cae26a66c3e7adc70",
       "style": "IPY_MODEL_c673b2e910d1494fadbc6c1a11263ff7",
       "value": "Doing PCA(2): 100%"
      }
     },
     "db30f4c9ada9430c942836d182c12d59": {
      "model_module": "@jupyter-widgets/base",
      "model_module_version": "2.0.0",
      "model_name": "LayoutModel",
      "state": {}
     },
     "dbc6e5b3b6784e22bbe5a09bc1dcc477": {
      "model_module": "@jupyter-widgets/controls",
      "model_module_version": "2.0.0",
      "model_name": "FloatProgressModel",
      "state": {
       "bar_style": "success",
       "layout": "IPY_MODEL_0e1023c32a824a18bcd0f1b83e5daedb",
       "max": 1,
       "style": "IPY_MODEL_8c6edf57e3e14c99b8ce2f217683f226",
       "value": 1
      }
     },
     "dbd753b971c44e56874b06c4f96deb18": {
      "model_module": "@jupyter-widgets/controls",
      "model_module_version": "2.0.0",
      "model_name": "HTMLStyleModel",
      "state": {
       "description_width": "",
       "font_size": null,
       "text_color": null
      }
     },
     "dc4dc4e5a7a34ffc92c3ae24e2214096": {
      "model_module": "@jupyter-widgets/controls",
      "model_module_version": "2.0.0",
      "model_name": "HTMLModel",
      "state": {
       "layout": "IPY_MODEL_fe0944f471144b94827c76b474c0d387",
       "style": "IPY_MODEL_ea6fe142f1cf4bd8a10f214747f491fc",
       "value": "Doing PCA(22): 100%"
      }
     },
     "dd3fbe7ead6d4eeaae03553e9778730a": {
      "model_module": "@jupyter-widgets/controls",
      "model_module_version": "2.0.0",
      "model_name": "HBoxModel",
      "state": {
       "children": [
        "IPY_MODEL_750aeb4c2eff4428b4d769c8b03edf47",
        "IPY_MODEL_cda7433d9cd848148e5ea2e862151b71",
        "IPY_MODEL_41df3e128a1641c7be14ccf705abe14a"
       ],
       "layout": "IPY_MODEL_4c11d02b9d3a4e01a32b836e853313fc"
      }
     },
     "def896772d44423a9c7db0f8119c14f0": {
      "model_module": "@jupyter-widgets/base",
      "model_module_version": "2.0.0",
      "model_name": "LayoutModel",
      "state": {}
     },
     "df2ec22b6d434512a097eeb6f6248a75": {
      "model_module": "@jupyter-widgets/base",
      "model_module_version": "2.0.0",
      "model_name": "LayoutModel",
      "state": {}
     },
     "e03ecffb0f134146b4954d2ad6af1da3": {
      "model_module": "@jupyter-widgets/controls",
      "model_module_version": "2.0.0",
      "model_name": "HTMLModel",
      "state": {
       "layout": "IPY_MODEL_75a28c0425dd4130b204841c4281854f",
       "style": "IPY_MODEL_13d76f2e5739479ba36c2d3e41d48f29",
       "value": " 1/1 [00:12&lt;00:00, 12.66s/images]"
      }
     },
     "e095817f020b4c60bdc8507c17b0a054": {
      "model_module": "@jupyter-widgets/controls",
      "model_module_version": "2.0.0",
      "model_name": "FloatProgressModel",
      "state": {
       "bar_style": "success",
       "layout": "IPY_MODEL_64cdd8f26bcc481d9b98c69eeefe11d4",
       "max": 1,
       "style": "IPY_MODEL_4346763c280c4d4a91298c80ba4143ea",
       "value": 1
      }
     },
     "e09f985aad4b4316af75213377b4c640": {
      "model_module": "@jupyter-widgets/controls",
      "model_module_version": "2.0.0",
      "model_name": "HTMLStyleModel",
      "state": {
       "description_width": "",
       "font_size": null,
       "text_color": null
      }
     },
     "e0d47641a0364a50a693d58e8398aa17": {
      "model_module": "@jupyter-widgets/base",
      "model_module_version": "2.0.0",
      "model_name": "LayoutModel",
      "state": {}
     },
     "e4b58211304b49e389ce6e5abb60b4bb": {
      "model_module": "@jupyter-widgets/controls",
      "model_module_version": "2.0.0",
      "model_name": "ProgressStyleModel",
      "state": {
       "description_width": ""
      }
     },
     "e56c4e30f7ca4ab4a8f1eabf44a7d9b1": {
      "model_module": "@jupyter-widgets/controls",
      "model_module_version": "2.0.0",
      "model_name": "HBoxModel",
      "state": {
       "children": [
        "IPY_MODEL_14c6ff4f8dc44f4280ae3aed806aa552",
        "IPY_MODEL_582c5da97a8049a8b0a03fa195e63972",
        "IPY_MODEL_32a9c2d79ce849b9aec50c0756d604b7"
       ],
       "layout": "IPY_MODEL_da2c0bf39fbd4a56a6d0f711c7232163"
      }
     },
     "e571a22e619f4034852e63f00be9f237": {
      "model_module": "@jupyter-widgets/controls",
      "model_module_version": "2.0.0",
      "model_name": "ProgressStyleModel",
      "state": {
       "description_width": ""
      }
     },
     "e5aa8247238c459b846aedb67585123a": {
      "model_module": "@jupyter-widgets/controls",
      "model_module_version": "2.0.0",
      "model_name": "HTMLStyleModel",
      "state": {
       "description_width": "",
       "font_size": null,
       "text_color": null
      }
     },
     "e6874c57e159494e82ccaf630606a1ea": {
      "model_module": "@jupyter-widgets/controls",
      "model_module_version": "2.0.0",
      "model_name": "HTMLStyleModel",
      "state": {
       "description_width": "",
       "font_size": null,
       "text_color": null
      }
     },
     "e73e19180ecf4ee982d1d9ea0df44bdb": {
      "model_module": "@jupyter-widgets/base",
      "model_module_version": "2.0.0",
      "model_name": "LayoutModel",
      "state": {}
     },
     "e74524d69f334b44849f097116a55e2b": {
      "model_module": "@jupyter-widgets/controls",
      "model_module_version": "2.0.0",
      "model_name": "HTMLStyleModel",
      "state": {
       "description_width": "",
       "font_size": null,
       "text_color": null
      }
     },
     "e805f791f6644cce84ae3072a44f1e81": {
      "model_module": "@jupyter-widgets/base",
      "model_module_version": "2.0.0",
      "model_name": "LayoutModel",
      "state": {}
     },
     "e9842c3cd2b74376877939f8e0f441c0": {
      "model_module": "@jupyter-widgets/controls",
      "model_module_version": "2.0.0",
      "model_name": "HTMLModel",
      "state": {
       "layout": "IPY_MODEL_4ffb553723c543feb3c92a927e64110a",
       "style": "IPY_MODEL_8812cac3289f433c8047d71ef1f77899",
       "value": " 5400/5400 [00:17&lt;00:00, 323.49images/s]"
      }
     },
     "e9e8a632a17e4a23ba0c256b2b1edbff": {
      "model_module": "@jupyter-widgets/base",
      "model_module_version": "2.0.0",
      "model_name": "LayoutModel",
      "state": {}
     },
     "ea07b9af7daf4bf49aabb14d4bbcbf88": {
      "model_module": "@jupyter-widgets/controls",
      "model_module_version": "2.0.0",
      "model_name": "HTMLModel",
      "state": {
       "layout": "IPY_MODEL_6549d6b52dc34ffaabfebaf7303493d5",
       "style": "IPY_MODEL_dbd753b971c44e56874b06c4f96deb18",
       "value": "Doing PCA(10): 100%"
      }
     },
     "ea6fe142f1cf4bd8a10f214747f491fc": {
      "model_module": "@jupyter-widgets/controls",
      "model_module_version": "2.0.0",
      "model_name": "HTMLStyleModel",
      "state": {
       "description_width": "",
       "font_size": null,
       "text_color": null
      }
     },
     "eac4c6698a43423aaedf6a9002937527": {
      "model_module": "@jupyter-widgets/controls",
      "model_module_version": "2.0.0",
      "model_name": "FloatProgressModel",
      "state": {
       "bar_style": "success",
       "layout": "IPY_MODEL_6018a22499a8444ab783d80a5f28670d",
       "max": 5400,
       "style": "IPY_MODEL_2987a6ccda5543789f6ffd133b625f03",
       "value": 5400
      }
     },
     "ec80e30d6c1346fabd1493e9e083435b": {
      "model_module": "@jupyter-widgets/base",
      "model_module_version": "2.0.0",
      "model_name": "LayoutModel",
      "state": {}
     },
     "ed59427cf07347ebae6ba4cebbdd0865": {
      "model_module": "@jupyter-widgets/base",
      "model_module_version": "2.0.0",
      "model_name": "LayoutModel",
      "state": {}
     },
     "ef2f13ce22bb4ffda903e9428e89319b": {
      "model_module": "@jupyter-widgets/controls",
      "model_module_version": "2.0.0",
      "model_name": "HBoxModel",
      "state": {
       "children": [
        "IPY_MODEL_bc278d15dff4406f9df96291457cf327",
        "IPY_MODEL_488c2f52036e4b1e852ae588bf2ffafc",
        "IPY_MODEL_f34544c2b23b44b88b5f9d1b150c9f45"
       ],
       "layout": "IPY_MODEL_d8386f67072f4facad24bce10661ede7"
      }
     },
     "f0204512dc934385b30e349c41ecb485": {
      "model_module": "@jupyter-widgets/controls",
      "model_module_version": "2.0.0",
      "model_name": "HTMLStyleModel",
      "state": {
       "description_width": "",
       "font_size": null,
       "text_color": null
      }
     },
     "f15324c6d6384bda9b9d705502cec13d": {
      "model_module": "@jupyter-widgets/controls",
      "model_module_version": "2.0.0",
      "model_name": "HTMLStyleModel",
      "state": {
       "description_width": "",
       "font_size": null,
       "text_color": null
      }
     },
     "f25fdd521e374302965ed568d6bc8a25": {
      "model_module": "@jupyter-widgets/base",
      "model_module_version": "2.0.0",
      "model_name": "LayoutModel",
      "state": {}
     },
     "f265a7cc77ae4aa68481f32100700639": {
      "model_module": "@jupyter-widgets/base",
      "model_module_version": "2.0.0",
      "model_name": "LayoutModel",
      "state": {}
     },
     "f29660c177624a6087e62d736fd0572c": {
      "model_module": "@jupyter-widgets/base",
      "model_module_version": "2.0.0",
      "model_name": "LayoutModel",
      "state": {}
     },
     "f34544c2b23b44b88b5f9d1b150c9f45": {
      "model_module": "@jupyter-widgets/controls",
      "model_module_version": "2.0.0",
      "model_name": "HTMLModel",
      "state": {
       "layout": "IPY_MODEL_e805f791f6644cce84ae3072a44f1e81",
       "style": "IPY_MODEL_6ed59e77a6c3487cba2a8915fc36364c",
       "value": " 1/1 [00:00&lt;00:00, 21.80images/s]"
      }
     },
     "f3cbbfd6b18940e99102bb821ac82668": {
      "model_module": "@jupyter-widgets/base",
      "model_module_version": "2.0.0",
      "model_name": "LayoutModel",
      "state": {}
     },
     "f4012c8f33f84946bb05036e2e7b7d45": {
      "model_module": "@jupyter-widgets/controls",
      "model_module_version": "2.0.0",
      "model_name": "HBoxModel",
      "state": {
       "children": [
        "IPY_MODEL_bb825c1e37224cfab62d2fc01a187ff0",
        "IPY_MODEL_9d5f65160311455da2d4284cab0d445e",
        "IPY_MODEL_e9842c3cd2b74376877939f8e0f441c0"
       ],
       "layout": "IPY_MODEL_83f18969de0647459d7aa4e73d9d2f65"
      }
     },
     "f49a39a9852043f7b106590468c29b7e": {
      "model_module": "@jupyter-widgets/base",
      "model_module_version": "2.0.0",
      "model_name": "LayoutModel",
      "state": {}
     },
     "f4b3d81c86164825835ee2dc7f357e04": {
      "model_module": "@jupyter-widgets/base",
      "model_module_version": "2.0.0",
      "model_name": "LayoutModel",
      "state": {}
     },
     "f623e4e79b3441eaa3da508196d085b7": {
      "model_module": "@jupyter-widgets/base",
      "model_module_version": "2.0.0",
      "model_name": "LayoutModel",
      "state": {}
     },
     "f73101a892f64a68b99e272b6b82ab59": {
      "model_module": "@jupyter-widgets/controls",
      "model_module_version": "2.0.0",
      "model_name": "HTMLStyleModel",
      "state": {
       "description_width": "",
       "font_size": null,
       "text_color": null
      }
     },
     "f83e7b87391e4b8d84c6d87bb3da2efb": {
      "model_module": "@jupyter-widgets/base",
      "model_module_version": "2.0.0",
      "model_name": "LayoutModel",
      "state": {}
     },
     "f880c05712c3479ba83afd8e70ec4b0f": {
      "model_module": "@jupyter-widgets/controls",
      "model_module_version": "2.0.0",
      "model_name": "FloatProgressModel",
      "state": {
       "bar_style": "success",
       "layout": "IPY_MODEL_829a774e9ba144f591d0327da85b68ea",
       "max": 1,
       "style": "IPY_MODEL_af18a07758264e62a5852a46eff60529",
       "value": 1
      }
     },
     "f951cffa545f4e75b00ec39865c747e0": {
      "model_module": "@jupyter-widgets/base",
      "model_module_version": "2.0.0",
      "model_name": "LayoutModel",
      "state": {}
     },
     "fa1ff5db7aeb4295904d1d757b4b9cf0": {
      "model_module": "@jupyter-widgets/controls",
      "model_module_version": "2.0.0",
      "model_name": "HTMLStyleModel",
      "state": {
       "description_width": "",
       "font_size": null,
       "text_color": null
      }
     },
     "fa6c140bd3644fc7aea290dcdeccde76": {
      "model_module": "@jupyter-widgets/base",
      "model_module_version": "2.0.0",
      "model_name": "LayoutModel",
      "state": {}
     },
     "fc8d534963f244bb94d70b28ce3d0967": {
      "model_module": "@jupyter-widgets/controls",
      "model_module_version": "2.0.0",
      "model_name": "HBoxModel",
      "state": {
       "children": [
        "IPY_MODEL_ea07b9af7daf4bf49aabb14d4bbcbf88",
        "IPY_MODEL_f880c05712c3479ba83afd8e70ec4b0f",
        "IPY_MODEL_3e7672916ede4d17a39891e3880d08b8"
       ],
       "layout": "IPY_MODEL_b6dc3a12f99a43429ccd57474db9c085"
      }
     },
     "fd8a1a2cc5bb4412805564a208805b25": {
      "model_module": "@jupyter-widgets/base",
      "model_module_version": "2.0.0",
      "model_name": "LayoutModel",
      "state": {}
     },
     "fe0944f471144b94827c76b474c0d387": {
      "model_module": "@jupyter-widgets/base",
      "model_module_version": "2.0.0",
      "model_name": "LayoutModel",
      "state": {}
     },
     "ffbf5286e54f43d1bf415f026f125a60": {
      "model_module": "@jupyter-widgets/base",
      "model_module_version": "2.0.0",
      "model_name": "LayoutModel",
      "state": {}
     }
    },
    "version_major": 2,
    "version_minor": 0
   }
  }
 },
 "nbformat": 4,
 "nbformat_minor": 5
}
