{
 "cells": [
  {
   "cell_type": "code",
   "execution_count": 1,
   "id": "1da199cf-f585-4f48-aba7-9dd68c35f6f4",
   "metadata": {},
   "outputs": [],
   "source": [
    "%load_ext autoreload\n",
    "%autoreload 2\n",
    "%matplotlib inline"
   ]
  },
  {
   "cell_type": "code",
   "execution_count": 35,
   "id": "cc4f09a6-79fb-4181-8ec7-818f8f13a1d2",
   "metadata": {},
   "outputs": [
    {
     "name": "stdout",
     "output_type": "stream",
     "text": [
      "torch.__version__: 1.13.0\n",
      "tensor([1.], device='mps:0')\n"
     ]
    }
   ],
   "source": [
    "import time\n",
    "import matplotlib.pyplot as plt\n",
    "import matplotlib.ticker as ticker\n",
    "from enum import Enum, IntEnum\n",
    "\n",
    "import numpy as np\n",
    "import pandas as pd\n",
    "from torch.utils.data import DataLoader\n",
    "from torch import nn\n",
    "from torchsummary import summary\n",
    "import torch\n",
    "print (f'torch.__version__: {torch.__version__}')\n",
    "import tensorflow as tf\n",
    "import cv2 as cv\n",
    "from torchvision import transforms\n",
    "import pickle\n",
    "\n",
    "import enums\n",
    "import viz\n",
    "import configuration\n",
    "import customdataset\n",
    "import transformers\n",
    "import models\n",
    "import feature_helpers\n",
    "from utilmethods import create_output_folders, check_torch_mps_device, make_torch_deterministic\n",
    "\n",
    "from sklearn.neighbors import KNeighborsClassifier\n",
    "from sklearn.model_selection import train_test_split\n",
    "from sklearn.model_selection import RandomizedSearchCV, GridSearchCV, validation_curve\n",
    "from sklearn import metrics\n",
    "from sklearn.metrics import ConfusionMatrixDisplay\n",
    "from sklearn.preprocessing import StandardScaler\n",
    "from sklearn.linear_model import LogisticRegression\n",
    "from scipy.stats import loguniform\n",
    "\n",
    "from tqdm.notebook import tqdm\n",
    "\n",
    "check_torch_mps_device()\n",
    "device = 'cpu'\n",
    "device = 'mps'\n",
    "\n",
    "config = configuration.Configuration()\n",
    "face_config = configuration.FaceConfig(config)\n",
    "pose_config = configuration.PoseConfig(config)\n",
    "feature_extractor = feature_helpers.FeatureExtractor(config, face_config, pose_config, tqdm)\n",
    "\n",
    "LABELS_TO_INCLUDE = config.class_dict.keys()\n",
    "# LABELS_TO_INCLUDE=[0,1,2,9]\n",
    "\n",
    "IMAGE_TYPES = [enums.ImageTypes.ORIGINAL,enums.ImageTypes.POSE, enums.ImageTypes.FACE]"
   ]
  },
  {
   "cell_type": "markdown",
   "id": "2dee1b57-1b3e-49cb-ba70-1109afad2a40",
   "metadata": {},
   "source": [
    "## Load Data"
   ]
  },
  {
   "cell_type": "code",
   "execution_count": 4,
   "id": "3364253f-4d78-449a-91ce-036ea10a0e1e",
   "metadata": {},
   "outputs": [
    {
     "data": {
      "application/vnd.jupyter.widget-view+json": {
       "model_id": "f42d240d6218439a8d4f682be18c0428",
       "version_major": 2,
       "version_minor": 0
      },
      "text/plain": [
       "Loading 5400 samples:   0%|          | 0/5400 [00:00<?, ?samples/s]"
      ]
     },
     "metadata": {},
     "output_type": "display_data"
    },
    {
     "name": "stdout",
     "output_type": "stream",
     "text": [
      "Loaded 5400 samples.\n",
      "CPU times: user 7min 10s, sys: 1min 19s, total: 8min 29s\n",
      "Wall time: 1min 29s\n"
     ]
    }
   ],
   "source": [
    "%%time\n",
    "# Load the data\n",
    "data = feature_extractor.load_data(image_types=IMAGE_TYPES, labels=LABELS_TO_INCLUDE, shuffle=True, sample_type=enums.SampleType.TRAIN_VALIDATION,\n",
    "                                   count_per_label=540, include_feature_vectors=False)\n",
    "print(f'Loaded {data.shape[0]} samples.')\n"
   ]
  },
  {
   "cell_type": "code",
   "execution_count": 101,
   "id": "eeaf77ef-acfa-42cf-8fbc-bec767522c98",
   "metadata": {},
   "outputs": [
    {
     "data": {
      "application/vnd.jupyter.widget-view+json": {
       "model_id": "6086ad17a7af4c3ca1d84528f69a47ba",
       "version_major": 2,
       "version_minor": 0
      },
      "text/plain": [
       "Loading feature vectors:   0%|          | 0/5400 [00:00<?, ?images/s]"
      ]
     },
     "metadata": {},
     "output_type": "display_data"
    },
    {
     "name": "stdout",
     "output_type": "stream",
     "text": [
      "Loaded 5400 samples with Index(['filename', 'label', 'original', 'pose', 'face'], dtype='object') columns.\n",
      "hog_features:(5400, 5776), hog_features.min:0.0, hog_features.max:1.0\n",
      "pixel_features:(5400, 25600), pixel_features.min:0.0, pixel_features.max:0.9999000430107117\n",
      "cnn_features:(5400, 2048), cnn_features.min:0.0, cnn_features.max:1.607669472694397\n",
      "canny_features:(5400, 25600), canny_features.min:0, canny_features.max:255\n",
      "pose_features:(5400, 65536), pose_features.min:0.0, pose_features.max:0.6640035510063171\n",
      "keypoints_features:(5400, 26), keypoints_features.min:-0.5003660321235657, keypoints_features.max:0.9989637667923688\n",
      "rh_angles:(5400,), rh_angles.min:0.14272619159056515, rh_angles.max:359.62695604525277\n",
      "lh_angles:(5400,), lh_angles.min:5.817067027043849, lh_angles.max:357.32084582961005\n",
      "\n",
      "CPU times: user 8.4 s, sys: 7.48 s, total: 15.9 s\n",
      "Wall time: 25.3 s\n"
     ]
    }
   ],
   "source": [
    "%%time\n",
    "all_features = feature_extractor.load_feature_vectors(config.FEATURE_VECTORS_FOLDER, data[enums.DataColumn.FILENAME.value], data[enums.DataColumn.LABEL.value])\n",
    "# pixel_features = data[enums.DataColumn.PIXEL_VECTOR.value].to_numpy()\n",
    "# hog_features = data[enums.DataColumn.HOG_VECTOR.value].to_numpy()\n",
    "# cnn_features = data[enums.DataColumn.CNN_VECTOR.value].to_numpy()\n",
    "# canny_features = data[enums.DataColumn.CANNY_VECTOR.value].to_numpy()\n",
    "# pose_features = data[enums.DataColumn.POSE_VECTOR.value].to_numpy()\n",
    "features_names = ['Pixel', 'Hog', 'CNN', 'Canny', 'Pose', 'Keypoints', ]\n",
    "[pixel_features, hog_features, cnn_features, canny_features, pose_features, keypoints_features, _, rh_angles, lh_angles] = all_features\n",
    "# Just keep cnn and keypoints_features as other features are too big.\n",
    "features_list = [keypoints_features]\n",
    "features_names = ['Keypoints']\n",
    "y = data[enums.DataColumn.LABEL.value]\n",
    "\n",
    "print(f'Loaded {data.shape[0]} samples with {data.columns} columns.')\n",
    "print(f'hog_features:{hog_features.shape}, hog_features.min:{np.min(hog_features)}, hog_features.max:{np.max(hog_features)}')\n",
    "print(f'pixel_features:{pixel_features.shape}, pixel_features.min:{np.min(pixel_features)}, pixel_features.max:{np.max(pixel_features)}')\n",
    "print(f'cnn_features:{cnn_features.shape}, cnn_features.min:{np.min(cnn_features)}, cnn_features.max:{np.max(cnn_features)}')\n",
    "print(f'canny_features:{canny_features.shape}, canny_features.min:{np.min(canny_features)}, canny_features.max:{np.max(canny_features)}')\n",
    "print(f'pose_features:{pose_features.shape}, pose_features.min:{np.min(pose_features)}, pose_features.max:{np.max(pose_features)}')\n",
    "print(f'keypoints_features:{keypoints_features.shape}, keypoints_features.min:{np.min(keypoints_features)}, keypoints_features.max:{np.max(keypoints_features)}')\n",
    "print(f'rh_angles:{rh_angles.shape}, rh_angles.min:{np.min(rh_angles)}, rh_angles.max:{np.max(rh_angles)}')\n",
    "print(f'lh_angles:{lh_angles.shape}, lh_angles.min:{np.min(lh_angles)}, lh_angles.max:{np.max(lh_angles)}')\n",
    "\n",
    "print()\n"
   ]
  },
  {
   "cell_type": "markdown",
   "id": "d3380be1-213f-4c53-92e9-a4ba962520aa",
   "metadata": {},
   "source": [
    "## Dimensionality Reduction"
   ]
  },
  {
   "cell_type": "code",
   "execution_count": 92,
   "id": "f36cac05-0698-4d20-a10b-3104651620a6",
   "metadata": {},
   "outputs": [],
   "source": [
    "# Helpers for vizualizing\n",
    "def plot_PCA(X_list, names, n_components=2, out_file='pca.jpg'):\n",
    "    pca_list, xpca_list = feature_extractor.get_PCA(X_list, n_components=n_components)\n",
    "    plt.figure(figsize=(15,5))\n",
    "    colors = ['b-', 'g-', 'r-', 'k-', 'y-']\n",
    "    plot_labels = [f'{name} features' for name in names]\n",
    "    for i in range(len(X_list)):\n",
    "        plt.plot(np.cumsum(pca_list[i].explained_variance_ratio_), colors[i], label=plot_labels[i])\n",
    "    plt.xticks(np.arange(n_components)+1)\n",
    "    plt.yticks(np.linspace(0, 1, 8))\n",
    "    plt.grid(visible=True)\n",
    "    plt.xlabel('Number of components')\n",
    "    plt.ylabel('Explained Variances')\n",
    "    plt.legend()\n",
    "    plt.tight_layout(pad=0.1, h_pad=None, w_pad=None, rect=None)\n",
    "    plt.savefig(f'{config.OUTPUT_FOLDER}/report_plots/{out_file}', dpi=300)\n",
    "    plt.show()\n",
    "\n",
    "def plot_classes(X, y, ax, title, included_labels):\n",
    "    colormap = plt.cm.gist_rainbow # hsv tab20 #nipy_spectral #, Set1,Paired\n",
    "    colorst = [colormap(i) for i in np.linspace(0, 1.0, len(np.unique(y)))]\n",
    "    markers = ['o', 'v', 's', 'p', 'x', '>', '*', '<', 'P', '^']\n",
    "    for k, label in enumerate(included_labels):\n",
    "        marker = markers[k % len(markers)]\n",
    "        if X.shape[1] == 2:\n",
    "            ax.scatter(X[y==label, 0], X[y==label, 1], facecolors=colorst[k], marker=marker, label=config.class_dict[label])\n",
    "        else:\n",
    "            ax.scatter(X[y==label, 0], X[y==label, 1], X[y==label, 2], facecolors=colorst[k], marker=marker, label=config.class_dict[label])\n",
    "    ax.set_title(title)\n",
    "    \n",
    "def plot_components(features_list, X_pcas, X_tsnes, names, included_labels=LABELS_TO_INCLUDE, out_file='clustering.jpg'):\n",
    "    # project the features into 2 dimensions\n",
    "    fig, ax = plt.subplots(nrows=len(features_list), ncols=2, figsize=(10,5))\n",
    "    if len(features_list) == 1:\n",
    "        ax = [ax]\n",
    "\n",
    "    # y is the class labels\n",
    "    for i in range(len(features_list)):\n",
    "        plot_classes(X_pcas[i], y, ax[i][0], title=f'{names[i]} PCA', included_labels=LABELS_TO_INCLUDE)\n",
    "        plot_classes(X_tsnes[i], y, ax[i][1], title=f'{names[i]} tSNE', included_labels=LABELS_TO_INCLUDE)\n",
    "    \n",
    "    handles, plot_labels = ax[0][0].get_legend_handles_labels()\n",
    "    fig.legend(handles, plot_labels, loc='upper center')\n",
    "    plt.tight_layout(pad=0.1, h_pad=None, w_pad=12, rect=None)\n",
    "    plt.savefig(f'{config.OUTPUT_FOLDER}/report_plots/{out_file}', dpi=300)\n",
    "    plt.show()"
   ]
  },
  {
   "cell_type": "code",
   "execution_count": 93,
   "id": "cc5e46d6-26d2-43c7-8365-eaf49617b495",
   "metadata": {},
   "outputs": [
    {
     "name": "stdout",
     "output_type": "stream",
     "text": [
      "features_list: 2\n",
      "(5400, 5776)\n"
     ]
    }
   ],
   "source": [
    "print(f'features_list: {len(features_list)}')\n",
    "print(np.array(features_list[0]).shape)"
   ]
  },
  {
   "cell_type": "code",
   "execution_count": 102,
   "id": "8cfc87ff-a58c-4dc4-b7f3-2b96c5170458",
   "metadata": {},
   "outputs": [
    {
     "data": {
      "application/vnd.jupyter.widget-view+json": {
       "model_id": "5dc520674d1a47daaaedbb6ddea522ff",
       "version_major": 2,
       "version_minor": 0
      },
      "text/plain": [
       "Doing PCA(26):   0%|          | 0/1 [00:00<?, ?images/s]"
      ]
     },
     "metadata": {},
     "output_type": "display_data"
    },
    {
     "data": {
      "image/png": "[encoded data removed]",
      "text/plain": [
       "<Figure size 1500x500 with 1 Axes>"
      ]
     },
     "metadata": {},
     "output_type": "display_data"
    },
    {
     "name": "stdout",
     "output_type": "stream",
     "text": [
      "CPU times: user 1.54 s, sys: 55.7 ms, total: 1.59 s\n",
      "Wall time: 522 ms\n"
     ]
    }
   ],
   "source": [
    "%%time\n",
    "plot_PCA([features_list[0]], [features_names[0]], n_components=26, out_file=f'{features_names[0]}_pca.jpg')\n",
    "# plot_PCA([features_list[1]], [features_names[1]], n_components=500, out_file=f'{features_names[1]}_pca.jpg')"
   ]
  },
  {
   "cell_type": "code",
   "execution_count": 82,
   "id": "436292f4-5881-4520-a004-72784c2da81e",
   "metadata": {},
   "outputs": [
    {
     "data": {
      "application/vnd.jupyter.widget-view+json": {
       "model_id": "70128c51a0984a769f2c2430f4bf0476",
       "version_major": 2,
       "version_minor": 0
      },
      "text/plain": [
       "Doing PCA(2):   0%|          | 0/1 [00:00<?, ?images/s]"
      ]
     },
     "metadata": {},
     "output_type": "display_data"
    },
    {
     "data": {
      "application/vnd.jupyter.widget-view+json": {
       "model_id": "f00043f8295b4301af0783437b6b2485",
       "version_major": 2,
       "version_minor": 0
      },
      "text/plain": [
       "Doing tSNE(2):   0%|          | 0/1 [00:00<?, ?images/s]"
      ]
     },
     "metadata": {},
     "output_type": "display_data"
    },
    {
     "name": "stderr",
     "output_type": "stream",
     "text": [
      "/Users/rasentha/opt/anaconda3/envs/amd-gpu2/lib/python3.8/site-packages/sklearn/manifold/_t_sne.py:996: FutureWarning: The PCA initialization in TSNE will change to have the standard deviation of PC1 equal to 1e-4 in 1.2. This will ensure better convergence.\n",
      "  warnings.warn(\n"
     ]
    },
    {
     "data": {
      "image/png": "[encoded data removed]",
      "text/plain": [
       "<Figure size 1000x500 with 2 Axes>"
      ]
     },
     "metadata": {},
     "output_type": "display_data"
    },
    {
     "name": "stdout",
     "output_type": "stream",
     "text": [
      "CPU times: user 1min 19s, sys: 1.55 s, total: 1min 21s\n",
      "Wall time: 14.3 s\n"
     ]
    }
   ],
   "source": [
    "%%time\n",
    "def visualize_components():\n",
    "    pcas = feature_extractor.get_PCA(features_list, n_components=2)[-1]\n",
    "    tsnes = feature_extractor.get_tsne(features_list, n_components=2)\n",
    "    plot_components(features_list, \n",
    "                    pcas, \n",
    "                    tsnes,\n",
    "                    features_names,\n",
    "                    included_labels=LABELS_TO_INCLUDE)\n",
    "visualize_components()"
   ]
  },
  {
   "cell_type": "markdown",
   "id": "020e2033-7239-4425-a763-a624cf4f0c66",
   "metadata": {},
   "source": [
    "## KNN Classification"
   ]
  },
  {
   "cell_type": "code",
   "execution_count": 103,
   "id": "0ada30c0-38e2-4aae-b128-049e9f1e064f",
   "metadata": {},
   "outputs": [
    {
     "data": {
      "application/vnd.jupyter.widget-view+json": {
       "model_id": "12a0a2babc61443eba0d1d83d77b27ce",
       "version_major": 2,
       "version_minor": 0
      },
      "text/plain": [
       "Doing PCA(10):   0%|          | 0/1 [00:00<?, ?images/s]"
      ]
     },
     "metadata": {},
     "output_type": "display_data"
    },
    {
     "name": "stdout",
     "output_type": "stream",
     "text": [
      "(5400, 10)\n"
     ]
    }
   ],
   "source": [
    "# Load feature vectors\n",
    "# X_pixels_pca, X_hog_pca, X_CNN_pca, X_canny_pca, X_pose_pca = feature_extractor.get_PCA(features_list, n_components=2)[-1]\n",
    "# X_pixels_tsne, X_hog_tsne, X_CNN_tsne, X_canny_tsne, X_pose_tsne = feature_extractor.get_tsne(features_list, n_components=2)\n",
    "[X_keypoints_pca] = feature_extractor.get_PCA(features_list, n_components=10)[-1]\n",
    "print(np.array(X_keypoints_pca).shape)\n",
    "# [X_keypoints_tsne] = feature_extractor.get_tsne(features_list, n_components=10)\n",
    "# print(np.array(X_keypoints_tsne).shape)"
   ]
  },
  {
   "cell_type": "code",
   "execution_count": 104,
   "id": "9524c591-3aed-4a0b-88bc-d604dc8c23f3",
   "metadata": {},
   "outputs": [
    {
     "name": "stdout",
     "output_type": "stream",
     "text": [
      "Accuracies from 100 samples:\n",
      "Keypoints PCA Accuracy:  0.96\n"
     ]
    }
   ],
   "source": [
    "def calc_accuracy(knn, pca, y, idx):\n",
    "    knn.fit(pca, y)\n",
    "    accuracy = 0\n",
    "    for i in idx:\n",
    "        label = knn.predict([pca[i,:]])\n",
    "        if label[0] == y[i]:\n",
    "            accuracy +=1\n",
    "    return accuracy\n",
    "\n",
    "def accuracies(n_samples):\n",
    "    knn = KNeighborsClassifier(n_neighbors = 3)\n",
    "    idx = np.random.choice(np.arange(len(y)), n_samples, replace=False)\n",
    "    # print(y[idx])\n",
    "    print(f'Accuracies from {n_samples} samples:')\n",
    "    # print('Pixel PCA Accuracy: ', calc_accuracy(knn, X_pixels_pca, y, idx)/n_samples)\n",
    "    # print('Pixel tSNE Accuracy: ', calc_accuracy(knn, X_pixels_tsne, y, idx)/n_samples)\n",
    "    # print('HOG PCA Accuracy: ', calc_accuracy(knn, X_hog_pca, y, idx)/n_samples)\n",
    "    # print('HOG tSNE Accuracy: ', calc_accuracy(knn, X_hog_tsne, y, idx)/n_samples)\n",
    "    # print('CNN PCA Accuracy: ', calc_accuracy(knn, X_CNN_pca, y, idx)/n_samples)\n",
    "    # print('CNN tSNE Accuracy: ', calc_accuracy(knn, X_CNN_tsne, y, idx)/n_samples)\n",
    "    # print('Canny PCA Accuracy: ', calc_accuracy(knn, X_canny_pca, y, idx)/n_samples)\n",
    "    # print('Canny tSNE Accuracy: ', calc_accuracy(knn, X_canny_tsne, y, idx)/n_samples)\n",
    "    # print('Pose PCA Accuracy: ', calc_accuracy(knn, X_pose_pca, y, idx)/n_samples)\n",
    "    # print('Pose tSNE Accuracy: ', calc_accuracy(knn, X_pose_tsne, y, idx)/n_samples)\n",
    "    print('Keypoints PCA Accuracy: ', calc_accuracy(knn, X_keypoints_pca, y, idx)/n_samples)\n",
    "    # print('Keypoints tSNE Accuracy: ', calc_accuracy(knn, X_keypoints_tsne, y, idx)/n_samples)\n",
    "\n",
    "accuracies(100)"
   ]
  },
  {
   "cell_type": "markdown",
   "id": "ffa1d5ea-ab5d-4d5d-a862-cd3f83c3dc55",
   "metadata": {},
   "source": [
    "## PCA and Logistic Regression"
   ]
  },
  {
   "cell_type": "code",
   "execution_count": 6,
   "id": "d022e6bd-2270-4cc7-8ab7-32d8448e91ca",
   "metadata": {},
   "outputs": [],
   "source": [
    "# get the train and test split\n",
    "# [pixel_features, hog_features, cnn_features, canny_features, pose_features] = feature_extractor.load_feature_vectors(config.FEATURE_VECTORS_FOLDER, data['filename'], data['label'])\n",
    "train_idx, val_idx = train_test_split(np.arange(len(y)), test_size=0.2, random_state=config.SEED)"
   ]
  },
  {
   "cell_type": "code",
   "execution_count": 7,
   "id": "44e68196-ec5e-4031-9dc2-5661e4e615a8",
   "metadata": {},
   "outputs": [],
   "source": [
    "def train_classifier(in_feat, in_y, in_train_idx, val_idx):\n",
    "    # get the train and validation split\n",
    "    X_train = in_feat[in_train_idx, :].copy()\n",
    "    y_train = in_y[in_train_idx].copy()\n",
    "    X_val = in_feat[val_idx, :].copy()\n",
    "    y_val = in_y[val_idx].copy()\n",
    "\n",
    "    # scaling\n",
    "    scaler = StandardScaler()\n",
    "    X_train = scaler.fit_transform(X_train)\n",
    "    X_val = scaler.transform(X_val)\n",
    "\n",
    "    # classifier with cross validation\n",
    "    \n",
    "    # 1e-5, 1e-4, 1e-3, ..., 1, 10, 100,\n",
    "    param_grid = {\"C\": loguniform(1e-3, 1e5)}\n",
    "    # clf = RandomizedSearchCV(LogisticRegression(solver='liblinear', random_state=config.SEED), param_grid, n_iter=100)\n",
    "    clf = RandomizedSearchCV(LogisticRegression(penalty='l1', max_iter=5000, solver='saga', random_state=config.SEED), param_grid, n_iter=10)\n",
    "    clf = clf.fit(X_train, y_train)\n",
    "    y_pred = clf.predict(X_val)\n",
    "\n",
    "    return metrics.accuracy_score(y_val, y_pred)"
   ]
  },
  {
   "cell_type": "code",
   "execution_count": 32,
   "id": "b68b7cec-ad67-4971-9848-a3087a2bd725",
   "metadata": {},
   "outputs": [
    {
     "name": "stdout",
     "output_type": "stream",
     "text": [
      "Keypoints Feature Accuracy\n"
     ]
    },
    {
     "data": {
      "application/vnd.jupyter.widget-view+json": {
       "model_id": "c38e203bdf4b4f48b570be1ac8a24333",
       "version_major": 2,
       "version_minor": 0
      },
      "text/plain": [
       "Keypoints:   0%|          | 0/9 [00:00<?, ?it/s]"
      ]
     },
     "metadata": {},
     "output_type": "display_data"
    },
    {
     "data": {
      "application/vnd.jupyter.widget-view+json": {
       "model_id": "5a8b6b37f7c54d06993fb0c49c808b9c",
       "version_major": 2,
       "version_minor": 0
      },
      "text/plain": [
       "Doing PCA(4):   0%|          | 0/1 [00:00<?, ?images/s]"
      ]
     },
     "metadata": {},
     "output_type": "display_data"
    },
    {
     "data": {
      "application/vnd.jupyter.widget-view+json": {
       "model_id": "541d7ff1d8c84d81ae750df0643301f8",
       "version_major": 2,
       "version_minor": 0
      },
      "text/plain": [
       "Doing PCA(7):   0%|          | 0/1 [00:00<?, ?images/s]"
      ]
     },
     "metadata": {},
     "output_type": "display_data"
    },
    {
     "data": {
      "application/vnd.jupyter.widget-view+json": {
       "model_id": "fc8d534963f244bb94d70b28ce3d0967",
       "version_major": 2,
       "version_minor": 0
      },
      "text/plain": [
       "Doing PCA(10):   0%|          | 0/1 [00:00<?, ?images/s]"
      ]
     },
     "metadata": {},
     "output_type": "display_data"
    },
    {
     "data": {
      "application/vnd.jupyter.widget-view+json": {
       "model_id": "ef2f13ce22bb4ffda903e9428e89319b",
       "version_major": 2,
       "version_minor": 0
      },
      "text/plain": [
       "Doing PCA(13):   0%|          | 0/1 [00:00<?, ?images/s]"
      ]
     },
     "metadata": {},
     "output_type": "display_data"
    },
    {
     "data": {
      "application/vnd.jupyter.widget-view+json": {
       "model_id": "03cccc69591f483990b826a4b2500a85",
       "version_major": 2,
       "version_minor": 0
      },
      "text/plain": [
       "Doing PCA(16):   0%|          | 0/1 [00:00<?, ?images/s]"
      ]
     },
     "metadata": {},
     "output_type": "display_data"
    },
    {
     "data": {
      "application/vnd.jupyter.widget-view+json": {
       "model_id": "dd3fbe7ead6d4eeaae03553e9778730a",
       "version_major": 2,
       "version_minor": 0
      },
      "text/plain": [
       "Doing PCA(19):   0%|          | 0/1 [00:00<?, ?images/s]"
      ]
     },
     "metadata": {},
     "output_type": "display_data"
    },
    {
     "data": {
      "application/vnd.jupyter.widget-view+json": {
       "model_id": "2cc6476777c74caf8fdf5f45a729b37f",
       "version_major": 2,
       "version_minor": 0
      },
      "text/plain": [
       "Doing PCA(22):   0%|          | 0/1 [00:00<?, ?images/s]"
      ]
     },
     "metadata": {},
     "output_type": "display_data"
    },
    {
     "data": {
      "application/vnd.jupyter.widget-view+json": {
       "model_id": "8173bd75d58d43e5bbac6ecb065af924",
       "version_major": 2,
       "version_minor": 0
      },
      "text/plain": [
       "Doing PCA(24):   0%|          | 0/1 [00:00<?, ?images/s]"
      ]
     },
     "metadata": {},
     "output_type": "display_data"
    },
    {
     "name": "stderr",
     "output_type": "stream",
     "text": [
      "/Users/rasentha/opt/anaconda3/envs/amd-gpu2/lib/python3.8/site-packages/sklearn/linear_model/_sag.py:350: ConvergenceWarning: The max_iter was reached which means the coef_ did not converge\n",
      "  warnings.warn(\n",
      "/Users/rasentha/opt/anaconda3/envs/amd-gpu2/lib/python3.8/site-packages/sklearn/linear_model/_sag.py:350: ConvergenceWarning: The max_iter was reached which means the coef_ did not converge\n",
      "  warnings.warn(\n",
      "/Users/rasentha/opt/anaconda3/envs/amd-gpu2/lib/python3.8/site-packages/sklearn/linear_model/_sag.py:350: ConvergenceWarning: The max_iter was reached which means the coef_ did not converge\n",
      "  warnings.warn(\n"
     ]
    }
   ],
   "source": [
    "def train_and_check(features, n_components, name, y, train_idx, val_idx):\n",
    "    pbar = tqdm(desc=name, total=len(n_components) + 1, position=0, leave=True)\n",
    "    acc = []\n",
    "    for n in n_components:\n",
    "        pbar.set_description(f'{name}: Computing PCA({n})')\n",
    "        _, X = feature_extractor.get_PCA([features], n_components=n+1)\n",
    "        acc.append(train_classifier(X[0], y, train_idx, val_idx))\n",
    "        pbar.update(1)\n",
    "    pbar.set_description(f'{name}: Training classifier')\n",
    "    acc.append(train_classifier(features, y, train_idx, val_idx))\n",
    "    pbar.update(1)\n",
    "    pbar.close()\n",
    "    return acc\n",
    "\n",
    "# get accuracy with different features\n",
    "n_components = [50, 100, 150, 200]\n",
    "n_components = [200]\n",
    "n_components = [3, 6, 9, 12, 15, 18, 21, 23]\n",
    "# print('Pixel Feature Accuracy')\n",
    "# pixel_acc = train_and_check(pixel_features, n_components, 'Pixel', y, train_idx, val_idx)\n",
    "# print('Pose Feature Accuracy')\n",
    "# pose_acc = train_and_check(pose_features, n_components, 'Pose', y, train_idx, val_idx)\n",
    "print('Keypoints Feature Accuracy')\n",
    "keypoints_acc = train_and_check(keypoints_features, n_components, 'Keypoints', y, train_idx, val_idx)\n",
    "# print('CNN Feature Accuracy')\n",
    "# CNN_acc = train_and_check(CNN_features, n_components, 'CNN', y, train_idx, val_idx)\n",
    "\n",
    "# pixel_tqdm = tqdm(prefix='Pixel', total=len(n_components) + 1, position=0, leave=True)\n",
    "# pixel_acc = []\n",
    "# for n in n_components:\n",
    "#     pixel_tqdm.set_description(f'Computing PCA({n})')\n",
    "#     _, X = feature_extractor.get_PCA([pixel_features], n_components=n+1)\n",
    "#     pixel_acc.append(train_classifier(X[0], y, train_idx, val_idx))\n",
    "#     pixel_tqdm.update(1)\n",
    "# pixel_tqdm.set_description(f'Training calssifier')\n",
    "# pixel_acc.append(train_classifier(pixel_features, y, train_idx, val_idx))\n",
    "# pixel_tqdm.update(1)\n",
    "# pixel_tqdm.close()\n",
    "\n",
    "# print('Pose Feature Accuracy')\n",
    "# pose_acc = []\n",
    "# for n in range(n_components):\n",
    "#   _, X = feature_extractor.get_PCA([pose_features], n_components=n+1)\n",
    "#   pose_acc.append(train_classifier(X[0], y, train_idx, val_idx))\n",
    "# pose_acc.append(train_classifier(pose_features, y, train_idx, val_idx))\n",
    "\n",
    "# print('CNN Feature Accuracy')\n",
    "# CNN_acc = []\n",
    "# for n in range(n_components):\n",
    "#   _, X = feature_extractor.get_PCA([CNN_features], n_components=n+1)\n",
    "#   CNN_acc.append(train_classifier(X[0], y, train_idx, val_idx))\n",
    "# CNN_acc.append(train_classifier(CNN_features, y, train_idx, val_idx))"
   ]
  },
  {
   "cell_type": "code",
   "execution_count": 35,
   "id": "ed5f731d-93cc-4628-8015-e70322c7e0a7",
   "metadata": {},
   "outputs": [
    {
     "name": "stderr",
     "output_type": "stream",
     "text": [
      "/var/folders/s4/p0y554f56hd_d9fk8y79dy3c0000gs/T/ipykernel_27855/565228329.py:12: MatplotlibDeprecationWarning: The 'b' parameter of grid() has been renamed 'visible' since Matplotlib 3.5; support for the old name will be dropped two minor releases later.\n",
      "  plt.grid(b=True)\n"
     ]
    },
    {
     "data": {
      "image/png": "[encoded data removed]",
      "text/plain": [
       "<Figure size 1500x500 with 1 Axes>"
      ]
     },
     "metadata": {},
     "output_type": "display_data"
    }
   ],
   "source": [
    "# plot the accuracy graph\n",
    "plt.figure(figsize=(15,5))\n",
    "# plt.plot(np.array(pixel_acc)*100, 'b-', label='pixel features')\n",
    "# plt.plot(np.array(pose_acc)*100, 'g-', label='pose features')\n",
    "# plt.plot(np.array(CNN_acc)*100, 'k-', label='CNN features')\n",
    "\n",
    "plt.plot(np.array(keypoints_acc)*100, 'b-', label='keypoints features')\n",
    "\n",
    "xtick_labels = [f'{i+1}' for i in n_components] + ['All']\n",
    "plt.xticks(np.arange(len(n_components) + 1), labels=xtick_labels)\n",
    "plt.yticks(np.linspace(70, 100, 8))\n",
    "plt.grid(b=True)\n",
    "plt.xlabel('Number of components')\n",
    "plt.ylabel('Accuracy')\n",
    "plt.ylim([70, 100])\n",
    "plt.legend()\n",
    "plt.show()"
   ]
  },
  {
   "cell_type": "markdown",
   "id": "a3efc091-d3ae-4cf4-82ca-e7802aebb0a7",
   "metadata": {},
   "source": [
    "## Logistic Regression"
   ]
  },
  {
   "cell_type": "code",
   "execution_count": 10,
   "id": "e2a90821-72c3-4e84-bf14-36b1d9007d31",
   "metadata": {
    "scrolled": true,
    "tags": []
   },
   "outputs": [
    {
     "name": "stdout",
     "output_type": "stream",
     "text": [
      "CPU times: user 22min 44s, sys: 4.88 s, total: 22min 48s\n",
      "Wall time: 22min 9s\n"
     ]
    }
   ],
   "source": [
    "%%time\n",
    "def logit_classifier(in_feat, in_y, in_train_idx, val_idx, grid_params, max_iter=5000):\n",
    "    # get the train and validation split\n",
    "    X_train = in_feat[in_train_idx, :].copy()\n",
    "    y_train = in_y[in_train_idx].copy()\n",
    "    X_val = in_feat[val_idx, :].copy()\n",
    "    y_val = in_y[val_idx].copy()\n",
    "\n",
    "    # scaling\n",
    "    scaler = StandardScaler()\n",
    "    X_train = scaler.fit_transform(X_train)\n",
    "    X_val = scaler.transform(X_val)\n",
    "    # Save scaler for future use.\n",
    "    pickle.dump(scaler, open(f'{config.OUTPUT_FOLDER}/logit_model_saved/validation_scaler.pkl','wb'))\n",
    "\n",
    "    # classifier with cross validation\n",
    "    # clf = RandomizedSearchCV(LogisticRegression(solver='liblinear', random_state=config.SEED), param_grid, n_iter=100)\n",
    "    clf = RandomizedSearchCV(LogisticRegression(penalty='elasticnet', solver='saga', random_state=config.SEED, max_iter=max_iter),\n",
    "                       grid_params, return_train_score=True, scoring='neg_log_loss')\n",
    "    clf = clf.fit(X_train, y_train)\n",
    "    y_pred = clf.predict(X_val)\n",
    "    return clf, metrics.accuracy_score(y_val, y_pred)\n",
    "\n",
    "# Parameter space for random search hyper parameter tuning.\n",
    "# grid_params = {\n",
    "#     'C': loguniform(1e-3, 1e5),\n",
    "#     'l1_ratio': [.3, .4, .5, 0.55, 0.6, 0.65, .7, .8, .9, 1.0],}\n",
    "\n",
    "# Parameter space for random search hyper parameter tuning.\n",
    "grid_params = {\n",
    "    'C': loguniform(50, 2*1e2),\n",
    "    'l1_ratio': loguniform(0.3, 0.9)}\n",
    "\n",
    "# Random search of hyper parameters\n",
    "logit_clf, accuracy = logit_classifier(keypoints_features, y, train_idx, val_idx, grid_params=grid_params)"
   ]
  },
  {
   "cell_type": "code",
   "execution_count": 15,
   "id": "9b51b90e-55f1-4b94-9e64-d94ac47f85a3",
   "metadata": {},
   "outputs": [
    {
     "name": "stdout",
     "output_type": "stream",
     "text": [
      "Best params:{'C': 50.763993085989235, 'l1_ratio': 0.44385437365185526}\n",
      "Validation accuracy: 0.837037037037037\n"
     ]
    }
   ],
   "source": [
    "print(f'Best params:{logit_clf.best_params_}')\n",
    "print(f'Validation accuracy: {accuracy}')\n",
    "# save model\n",
    "def save():\n",
    "    filename = f'{config.OUTPUT_FOLDER}/logit_model_saved/multiclass_random_hyperparam_model.pkl'\n",
    "    with open(filename, 'wb') as file:\n",
    "        pickle.dump(logit_clf, file)\n",
    "save()\n",
    "# print(f'validation accuracy: {accuracy}')\n",
    "# print(pd.DataFrame(logit_clf.cv_results_).columns, pd.DataFrame(logit_clf.cv_results_).shape)\n",
    "\n",
    "# Best params:{'C': 113.59102474833026, 'l1_ratio': 0.5}\n",
    "best_model = logit_clf"
   ]
  },
  {
   "cell_type": "code",
   "execution_count": 18,
   "id": "53a0b5f9-f40c-4524-b3e1-7aeccb72e349",
   "metadata": {},
   "outputs": [
    {
     "data": {
      "image/png": "[encoded data removed]",
      "text/plain": [
       "<Figure size 640x480 with 1 Axes>"
      ]
     },
     "metadata": {},
     "output_type": "display_data"
    },
    {
     "name": "stdout",
     "output_type": "stream",
     "text": [
      "   mean_fit_time  std_fit_time  mean_score_time  std_score_time     param_C  \\\n",
      "0      24.849777      2.739290         0.003974        0.004548   92.456927   \n",
      "1      23.904340      2.212169         0.001621        0.000227   50.763993   \n",
      "2      27.582604      2.882424         0.001750        0.000283  170.621884   \n",
      "3      26.220836      2.425900         0.001529        0.000073  100.736895   \n",
      "4      24.571631      2.013529         0.001477        0.000066   69.955094   \n",
      "5      26.013339      2.165176         0.001606        0.000190   109.02595   \n",
      "6      28.402269      2.461384         0.002261        0.000989  171.378988   \n",
      "7      27.235358      1.950719         0.002045        0.000379   90.390383   \n",
      "8      26.638629      3.422291         0.001595        0.000176  166.539264   \n",
      "9      24.515505      2.032001         0.001499        0.000054   76.377272   \n",
      "\n",
      "  param_l1_ratio                                             params  \\\n",
      "0       0.311256  {'C': 92.45692742958937, 'l1_ratio': 0.3112563...   \n",
      "1       0.443854  {'C': 50.763993085989235, 'l1_ratio': 0.443854...   \n",
      "2       0.664406  {'C': 170.62188423347627, 'l1_ratio': 0.664406...   \n",
      "3       0.455358  {'C': 100.7368951723372, 'l1_ratio': 0.4553584...   \n",
      "4       0.350217  {'C': 69.95509405406052, 'l1_ratio': 0.3502173...   \n",
      "5       0.833426  {'C': 109.02595010362116, 'l1_ratio': 0.833425...   \n",
      "6       0.517491  {'C': 171.37898796503626, 'l1_ratio': 0.517490...   \n",
      "7       0.338342  {'C': 90.39038259926484, 'l1_ratio': 0.3383418...   \n",
      "8       0.434584  {'C': 166.53926372100455, 'l1_ratio': 0.434583...   \n",
      "9       0.732894  {'C': 76.3772722093469, 'l1_ratio': 0.73289352...   \n",
      "\n",
      "   split0_test_score  split1_test_score  split2_test_score  ...  \\\n",
      "0          -0.582813          -0.534235          -0.615447  ...   \n",
      "1          -0.582560          -0.533769          -0.613937  ...   \n",
      "2          -0.583088          -0.534659          -0.617241  ...   \n",
      "3          -0.582877          -0.534351          -0.615992  ...   \n",
      "4          -0.582698          -0.534031          -0.614743  ...   \n",
      "5          -0.582998          -0.534541          -0.617014  ...   \n",
      "6          -0.583063          -0.534624          -0.617022  ...   \n",
      "7          -0.582809          -0.534230          -0.615454  ...   \n",
      "8          -0.583041          -0.534592          -0.616857  ...   \n",
      "9          -0.582835          -0.534296          -0.616125  ...   \n",
      "\n",
      "   mean_test_score  std_test_score  rank_test_score  split0_train_score  \\\n",
      "0        -0.584482        0.027566                4           -0.494874   \n",
      "1        -0.583740        0.027279                1           -0.495035   \n",
      "2        -0.585276        0.027925               10           -0.494719   \n",
      "3        -0.584710        0.027676                6           -0.494825   \n",
      "4        -0.584145        0.027430                2           -0.494945   \n",
      "5        -0.585118        0.027886                7           -0.494741   \n",
      "6        -0.585192        0.027880                9           -0.494735   \n",
      "7        -0.584479        0.027568                3           -0.494874   \n",
      "8        -0.585125        0.027846                8           -0.494747   \n",
      "9        -0.584699        0.027712                5           -0.494819   \n",
      "\n",
      "   split1_train_score  split2_train_score  split3_train_score  \\\n",
      "0           -0.507321           -0.485849           -0.494719   \n",
      "1           -0.507422           -0.486065           -0.494854   \n",
      "2           -0.507234           -0.485636           -0.494565   \n",
      "3           -0.507293           -0.485780           -0.494670   \n",
      "4           -0.507364           -0.485945           -0.494781   \n",
      "5           -0.507249           -0.485662           -0.494589   \n",
      "6           -0.507242           -0.485660           -0.494582   \n",
      "7           -0.507321           -0.485848           -0.494719   \n",
      "8           -0.507249           -0.485678           -0.494595   \n",
      "9           -0.507294           -0.485767           -0.494666   \n",
      "\n",
      "   split4_train_score  mean_train_score  std_train_score  \n",
      "0           -0.492906         -0.495134         0.006927  \n",
      "1           -0.493012         -0.495278         0.006895  \n",
      "2           -0.492809         -0.494993         0.006963  \n",
      "3           -0.492874         -0.495089         0.006939  \n",
      "4           -0.492953         -0.495198         0.006913  \n",
      "5           -0.492823         -0.495013         0.006960  \n",
      "6           -0.492820         -0.495008         0.006959  \n",
      "7           -0.492905         -0.495134         0.006928  \n",
      "8           -0.492827         -0.495019         0.006955  \n",
      "9           -0.492870         -0.495083         0.006943  \n",
      "\n",
      "[10 rows x 22 columns]\n"
     ]
    },
    {
     "data": {
      "image/png": "[encoded data removed]",
      "text/plain": [
       "<Figure size 1000x700 with 2 Axes>"
      ]
     },
     "metadata": {},
     "output_type": "display_data"
    }
   ],
   "source": [
    "import math\n",
    "def load_saved_model():\n",
    "    filename = f'{config.OUTPUT_FOLDER}/logit_model_saved/multiclass_random_hyperparam_model.pkl'\n",
    "    with open(filename, 'rb') as file:\n",
    "        return pickle.load(file)\n",
    "\n",
    "def plot_logit_classifier(clf, features, y, train_idx, val_idx, grid_params):\n",
    "    test_scores = clf.cv_results_['mean_test_score']\n",
    "    train_scores = clf.cv_results_['mean_train_score'] \n",
    "    plt.plot(test_scores, label='test')\n",
    "    plt.plot(train_scores, label='train')\n",
    "    plt.legend(loc='best')\n",
    "    plt.show()\n",
    "\n",
    "    df = pd.DataFrame(clf.cv_results_)\n",
    "    print(df)\n",
    "    results = ['mean_test_score',\n",
    "           'mean_train_score',\n",
    "           'std_test_score', \n",
    "           'std_train_score']\n",
    "\n",
    "    # https://en.wikipedia.org/wiki/Pooled_variance#Pooled_standard_deviation\n",
    "    def pooled_var(stds):\n",
    "        n = 5 # size of each group\n",
    "        return np.sqrt(sum((n-1)*(stds**2))/ len(stds)*(n-1))\n",
    "\n",
    "\n",
    "    fig, axes = plt.subplots(1, len(grid_params),\n",
    "                             figsize = (5*len(grid_params), 7),\n",
    "                             sharey='row')\n",
    "    axes[0].set_ylabel(\"Accuracy (higher is better)\", fontsize=12)\n",
    "    lw = 2\n",
    "    for idx, (param_name, param_range) in enumerate(grid_params.items()):\n",
    "        # if param_name == 'max_iter':\n",
    "        #     continue\n",
    "        df_filtered = df #[(df[f'param_{param_name}'] < 1000) ]\n",
    "        param_range = sorted(df_filtered[f'param_{param_name}'].unique())\n",
    "        grouped_df = df_filtered.sort_values(by=f'param_{param_name}').groupby(f'param_{param_name}')[results]\\\n",
    "            .agg({'mean_train_score': 'mean',\n",
    "                  'mean_test_score': 'mean',\n",
    "                  'std_train_score': pooled_var,\n",
    "                  'std_test_score': pooled_var})\n",
    "        \n",
    "        previous_group = df_filtered.groupby(f'param_{param_name}')[results]\n",
    "        axes[idx].set_xlabel(param_name, fontsize=12)\n",
    "        # axes[idx].set_ylim(0.0, 1.1)\n",
    "        axes[idx].plot(param_range, grouped_df['mean_train_score'], label=\"Training score\",\n",
    "                    color=\"darkorange\", lw=lw)\n",
    "        axes[idx].fill_between(param_range, grouped_df['mean_train_score'] - grouped_df['std_train_score'],\n",
    "                        grouped_df['mean_train_score'] + grouped_df['std_train_score'], alpha=0.2,\n",
    "                        color=\"darkorange\", lw=lw)\n",
    "        axes[idx].plot(param_range, grouped_df['mean_test_score'], label=\"Cross-validation score\",\n",
    "                    color=\"navy\", lw=lw)\n",
    "        axes[idx].fill_between(param_range, grouped_df['mean_test_score'] - grouped_df['std_test_score'],\n",
    "                        grouped_df['mean_test_score'] + grouped_df['std_test_score'], alpha=0.2,\n",
    "                        color=\"navy\", lw=lw)\n",
    "\n",
    "    handles, labels = axes[0].get_legend_handles_labels()\n",
    "    fig.suptitle('Validation curves', fontsize=18)\n",
    "    fig.legend(handles, labels, ncol=2, fontsize=10)\n",
    "    fig.subplots_adjust(bottom=0.25, top=0.85)  \n",
    "    plt.tight_layout()\n",
    "    plt.savefig(f'{config.OUTPUT_FOLDER}/report_plots/logistic_regression_random_hyper_param_tuning.jpg', dpi=300)\n",
    "    plt.show()\n",
    "\n",
    "plot_logit_classifier(load_saved_model(), keypoints_features, y, train_idx, val_idx, grid_params=grid_params)\n"
   ]
  },
  {
   "cell_type": "markdown",
   "id": "bc0f9c68-77f3-4654-96d8-c906cfbaa379",
   "metadata": {},
   "source": [
    "## Model Performance Against Validation Dataset"
   ]
  },
  {
   "cell_type": "code",
   "execution_count": 70,
   "id": "07ea1ed3-c67f-44c2-9256-985df937dc40",
   "metadata": {},
   "outputs": [
    {
     "data": {
      "image/png": "[encoded data removed]",
      "text/plain": [
       "<Figure size 1000x600 with 2 Axes>"
      ]
     },
     "metadata": {},
     "output_type": "display_data"
    }
   ],
   "source": [
    "def test_validation_ds(X, y, dataset_name, out_file='logistic_confusion_matrix_validation.jpg'):\n",
    "    mode_filename = f'{config.OUTPUT_FOLDER}/logit_model_saved/multiclass_random_hyperparam_model.pkl'\n",
    "    scaler_file_name = f'{config.OUTPUT_FOLDER}/logit_model_saved/validation_scaler.pkl'\n",
    "\n",
    "    with open(mode_filename, 'rb') as modelfile, open(scaler_file_name, 'rb') as scalerfile:\n",
    "        model = pickle.load(modelfile)\n",
    "        scaler = pickle.load(scalerfile)\n",
    "        X_val = scaler.transform(X)\n",
    "        y_pred = model.predict(X_val)\n",
    "        fig, ax = plt.subplots(figsize=(10, 6))\n",
    "        ax.set_title(f'Confusion Matrx ({dataset_name} Dataset)')\n",
    "        disp_labels = [config.class_dict[key] for key in sorted(config.class_dict.keys())]\n",
    "        cm = metrics.confusion_matrix(y, y_pred, labels=model.classes_)\n",
    "        disp = ConfusionMatrixDisplay(confusion_matrix=cm, display_labels=disp_labels)\n",
    "        disp.plot(xticks_rotation='30', ax=ax)\n",
    "        ax.set_xticklabels(ax.get_xticklabels(), rotation=30, ha='right')        \n",
    "        plt.subplots_adjust(bottom=0.3)\n",
    "        plt.savefig(f'{config.OUTPUT_FOLDER}/report_plots/{out_file}', dpi=300)\n",
    "        plt.tight_layout()        \n",
    "        plt.show()\n",
    "\n",
    "    # Visualize images that the model got very wrong.\n",
    "    \n",
    "test_validation_ds(keypoints_features[val_idx, :].copy(), y[val_idx].copy(), dataset_name='Validation')\n"
   ]
  },
  {
   "cell_type": "markdown",
   "id": "1c93d6ac-ed78-47a6-8167-0dd8ca4fe58a",
   "metadata": {},
   "source": [
    "## Test Dataset"
   ]
  },
  {
   "cell_type": "code",
   "execution_count": null,
   "id": "2cfa1599-7f35-437c-a8bc-5939d0791fd5",
   "metadata": {},
   "outputs": [
    {
     "ename": "AttributeError",
     "evalue": "'RandomizedSearchCV' object has no attribute 'coef_'",
     "output_type": "error",
     "traceback": [
      "\u001b[0;31m---------------------------------------------------------------------------\u001b[0m",
      "\u001b[0;31mAttributeError\u001b[0m                            Traceback (most recent call last)",
      "Cell \u001b[0;32mIn [75], line 1\u001b[0m\n\u001b[0;32m----> 1\u001b[0m \u001b[38;5;28mprint\u001b[39m(\u001b[43mbest_model\u001b[49m\u001b[38;5;241;43m.\u001b[39;49m\u001b[43mcoef_\u001b[49m)\n",
      "\u001b[0;31mAttributeError\u001b[0m: 'RandomizedSearchCV' object has no attribute 'coef_'"
     ]
    }
   ],
   "source": []
  },
  {
   "cell_type": "code",
   "execution_count": null,
   "id": "045a8fef-7ec7-445e-bdb2-4ef880dec504",
   "metadata": {},
   "outputs": [],
   "source": []
  }
 ],
 "metadata": {
  "kernelspec": {
   "display_name": "Python 3 (ipykernel)",
   "language": "python",
   "name": "python3"
  },
  "language_info": {
   "codemirror_mode": {
    "name": "ipython",
    "version": 3
   },
   "file_extension": ".py",
   "mimetype": "text/x-python",
   "name": "python",
   "nbconvert_exporter": "python",
   "pygments_lexer": "ipython3",
   "version": "3.8.15"
  },
  "widgets": {
   "application/vnd.jupyter.widget-state+json": {
    "state": {
     "001bbd5b116646ceb2f76aa5755e29b1": {
      "model_module": "@jupyter-widgets/controls",
      "model_module_version": "2.0.0",
      "model_name": "HTMLModel",
      "state": {
       "layout": "IPY_MODEL_e3a0d908feb44e68814fa73caa30a6da",
       "style": "IPY_MODEL_43402cb95eec470c9ea3cce5f5ca640d",
       "value": " 1/1 [00:00&lt;00:00, 21.89images/s]"
      }
     },
     "007bcee4a1154227b8bbfa880914f07a": {
      "model_module": "@jupyter-widgets/controls",
      "model_module_version": "2.0.0",
      "model_name": "HTMLStyleModel",
      "state": {
       "description_width": "",
       "font_size": null,
       "text_color": null
      }
     },
     "01c894dde26248f3b1684ddcc1d03ea8": {
      "model_module": "@jupyter-widgets/base",
      "model_module_version": "2.0.0",
      "model_name": "LayoutModel",
      "state": {}
     },
     "0661dc1624c04cff8cdf464d05397579": {
      "model_module": "@jupyter-widgets/base",
      "model_module_version": "2.0.0",
      "model_name": "LayoutModel",
      "state": {}
     },
     "06bd58934dc348a683b689f285e4d225": {
      "model_module": "@jupyter-widgets/controls",
      "model_module_version": "2.0.0",
      "model_name": "HTMLStyleModel",
      "state": {
       "description_width": "",
       "font_size": null,
       "text_color": null
      }
     },
     "07b057874633489e8de86283a1ccd4f0": {
      "model_module": "@jupyter-widgets/base",
      "model_module_version": "2.0.0",
      "model_name": "LayoutModel",
      "state": {}
     },
     "07cfccf9b93d42d9a63d640c4e973bbc": {
      "model_module": "@jupyter-widgets/controls",
      "model_module_version": "2.0.0",
      "model_name": "HTMLModel",
      "state": {
       "layout": "IPY_MODEL_d51c56b3f824420690f28d9b8f50b511",
       "style": "IPY_MODEL_fab78c6c9a5c4571a5f105afe976f3d5",
       "value": " 1/1 [00:13&lt;00:00, 13.45s/images]"
      }
     },
     "07fd81ab76c54c00941a9b915a864d49": {
      "model_module": "@jupyter-widgets/base",
      "model_module_version": "2.0.0",
      "model_name": "LayoutModel",
      "state": {}
     },
     "087c70c662ed479ba9c9a89c697793da": {
      "model_module": "@jupyter-widgets/base",
      "model_module_version": "2.0.0",
      "model_name": "LayoutModel",
      "state": {}
     },
     "08a5b38eb356468cb935e872bf095fbc": {
      "model_module": "@jupyter-widgets/base",
      "model_module_version": "2.0.0",
      "model_name": "LayoutModel",
      "state": {}
     },
     "0ac8b725103941cf91e1beb9edf29e1a": {
      "model_module": "@jupyter-widgets/controls",
      "model_module_version": "2.0.0",
      "model_name": "HBoxModel",
      "state": {
       "children": [
        "IPY_MODEL_82e7ef1c8ba3466baf5663184a63837b",
        "IPY_MODEL_4c03e133aa044dadb51421e754576580",
        "IPY_MODEL_ecc7c503198c4be49bdd299c7d8d937b"
       ],
       "layout": "IPY_MODEL_bd99e31ed63a4b6a8c1d77f8898a5003"
      }
     },
     "0b17b856db9d49d989ef352e9f0d508a": {
      "model_module": "@jupyter-widgets/controls",
      "model_module_version": "2.0.0",
      "model_name": "HTMLModel",
      "state": {
       "layout": "IPY_MODEL_201116017c46461f920be1fedb34c077",
       "style": "IPY_MODEL_1a4b88cfa37542618d2663c0709e96ed",
       "value": " 2/2 [00:00&lt;00:00,  2.18images/s]"
      }
     },
     "0b8a198d7a764e8ebc39b38df4d15484": {
      "model_module": "@jupyter-widgets/base",
      "model_module_version": "2.0.0",
      "model_name": "LayoutModel",
      "state": {}
     },
     "0b9fd0a49da34c639f5b66179e4be272": {
      "model_module": "@jupyter-widgets/base",
      "model_module_version": "2.0.0",
      "model_name": "LayoutModel",
      "state": {}
     },
     "0bcefe8f710c42478ea8876a20a670a5": {
      "model_module": "@jupyter-widgets/controls",
      "model_module_version": "2.0.0",
      "model_name": "HBoxModel",
      "state": {
       "children": [
        "IPY_MODEL_78fcdd7eb44747d08755e90dc313226f",
        "IPY_MODEL_1cf4bdb2db62436a8c0b866470a7b5ae",
        "IPY_MODEL_e5f443b295bf42f998709fd500c01ebb"
       ],
       "layout": "IPY_MODEL_d3c003e051b942a4b214d41206301fc8"
      }
     },
     "0cc710f47e074b34bd8a9ab0f13e012a": {
      "model_module": "@jupyter-widgets/controls",
      "model_module_version": "2.0.0",
      "model_name": "HTMLModel",
      "state": {
       "layout": "IPY_MODEL_29af0a30f67a47ae891c0f41ad2f12f0",
       "style": "IPY_MODEL_50c065a765fc4e01801f418ecca30e60",
       "value": " 1/2 [00:00&lt;00:00,  1.16images/s]"
      }
     },
     "1142b1da80cf4e01896856ea3aa53100": {
      "model_module": "@jupyter-widgets/base",
      "model_module_version": "2.0.0",
      "model_name": "LayoutModel",
      "state": {}
     },
     "1166e0a878b4413ab3d1c0d81d1bbdea": {
      "model_module": "@jupyter-widgets/base",
      "model_module_version": "2.0.0",
      "model_name": "LayoutModel",
      "state": {}
     },
     "12a0a2babc61443eba0d1d83d77b27ce": {
      "model_module": "@jupyter-widgets/controls",
      "model_module_version": "2.0.0",
      "model_name": "HBoxModel",
      "state": {
       "children": [
        "IPY_MODEL_5de37367d5ff49f199d58a4687171793",
        "IPY_MODEL_30ec8e1786af430a96687139a07cc05d",
        "IPY_MODEL_001bbd5b116646ceb2f76aa5755e29b1"
       ],
       "layout": "IPY_MODEL_cfdde3546caf4cb39f7ce8f996f487fa"
      }
     },
     "12e7e43f4402454f8764e6b2be247d3b": {
      "model_module": "@jupyter-widgets/base",
      "model_module_version": "2.0.0",
      "model_name": "LayoutModel",
      "state": {}
     },
     "13063cad51a94879aaac2194a74020fe": {
      "model_module": "@jupyter-widgets/base",
      "model_module_version": "2.0.0",
      "model_name": "LayoutModel",
      "state": {}
     },
     "15f4f15ce0ed450b8c30eaa8413edad5": {
      "model_module": "@jupyter-widgets/controls",
      "model_module_version": "2.0.0",
      "model_name": "HTMLModel",
      "state": {
       "layout": "IPY_MODEL_d1c56a311c314976b95055d3eae94d15",
       "style": "IPY_MODEL_e1c12fa692e14cb3bf08307f6e4c306c",
       "value": " 1/1 [00:00&lt;00:00, 27.98images/s]"
      }
     },
     "170f10d035904978aff46048aa236a96": {
      "model_module": "@jupyter-widgets/controls",
      "model_module_version": "2.0.0",
      "model_name": "ProgressStyleModel",
      "state": {
       "description_width": ""
      }
     },
     "17544ad0b5c04629afdccceec193ceb8": {
      "model_module": "@jupyter-widgets/controls",
      "model_module_version": "2.0.0",
      "model_name": "HTMLModel",
      "state": {
       "layout": "IPY_MODEL_1b7badf795ab4a6cb36e8955f13f43e7",
       "style": "IPY_MODEL_7e69df957edf4ea9b3004859849487b6",
       "value": " 1/1 [00:00&lt;00:00,  7.57images/s]"
      }
     },
     "1a4b88cfa37542618d2663c0709e96ed": {
      "model_module": "@jupyter-widgets/controls",
      "model_module_version": "2.0.0",
      "model_name": "HTMLStyleModel",
      "state": {
       "description_width": "",
       "font_size": null,
       "text_color": null
      }
     },
     "1b7badf795ab4a6cb36e8955f13f43e7": {
      "model_module": "@jupyter-widgets/base",
      "model_module_version": "2.0.0",
      "model_name": "LayoutModel",
      "state": {}
     },
     "1bc0266f228347d0bb5414772065a01f": {
      "model_module": "@jupyter-widgets/controls",
      "model_module_version": "2.0.0",
      "model_name": "HTMLModel",
      "state": {
       "layout": "IPY_MODEL_5f3941c366954c2dbb6296db50aca511",
       "style": "IPY_MODEL_a6f30fbffb8442ea8ee94c8c2beaaf9d",
       "value": " 5400/5400 [00:18&lt;00:00, 332.52images/s]"
      }
     },
     "1cf4bdb2db62436a8c0b866470a7b5ae": {
      "model_module": "@jupyter-widgets/controls",
      "model_module_version": "2.0.0",
      "model_name": "FloatProgressModel",
      "state": {
       "bar_style": "success",
       "layout": "IPY_MODEL_ae89bc92c3e542728e0c1488f00b09a5",
       "max": 2,
       "style": "IPY_MODEL_50fd68c4ec774fa09ccfeabd6ede25cc",
       "value": 2
      }
     },
     "1d32a565f40e45e2be6f762e0d909b46": {
      "model_module": "@jupyter-widgets/controls",
      "model_module_version": "2.0.0",
      "model_name": "HTMLStyleModel",
      "state": {
       "description_width": "",
       "font_size": null,
       "text_color": null
      }
     },
     "1d6e03882ff04486bf0383648aaa3a44": {
      "model_module": "@jupyter-widgets/controls",
      "model_module_version": "2.0.0",
      "model_name": "HTMLModel",
      "state": {
       "layout": "IPY_MODEL_dda39ce8b7c4411da15c8046ad4cecf7",
       "style": "IPY_MODEL_06bd58934dc348a683b689f285e4d225",
       "value": " 5400/5400 [01:29&lt;00:00, 61.17samples/s]"
      }
     },
     "1ff33f044789433ca6c1ee8849233a63": {
      "model_module": "@jupyter-widgets/base",
      "model_module_version": "2.0.0",
      "model_name": "LayoutModel",
      "state": {}
     },
     "201116017c46461f920be1fedb34c077": {
      "model_module": "@jupyter-widgets/base",
      "model_module_version": "2.0.0",
      "model_name": "LayoutModel",
      "state": {}
     },
     "205e3a4df9864a71a1806b48140e9bd9": {
      "model_module": "@jupyter-widgets/base",
      "model_module_version": "2.0.0",
      "model_name": "LayoutModel",
      "state": {}
     },
     "225eafa1f1584b25a4248b436813d08b": {
      "model_module": "@jupyter-widgets/controls",
      "model_module_version": "2.0.0",
      "model_name": "FloatProgressModel",
      "state": {
       "bar_style": "success",
       "layout": "IPY_MODEL_2d44b657cb1447efafe89e166218d079",
       "max": 5400,
       "style": "IPY_MODEL_ea935ebb4077402f83e305de7c672301",
       "value": 5400
      }
     },
     "228cf74550034eab86ef0582b5c4f564": {
      "model_module": "@jupyter-widgets/controls",
      "model_module_version": "2.0.0",
      "model_name": "HTMLStyleModel",
      "state": {
       "description_width": "",
       "font_size": null,
       "text_color": null
      }
     },
     "2310f9bbf9754cfdbd558a17405bd9ca": {
      "model_module": "@jupyter-widgets/controls",
      "model_module_version": "2.0.0",
      "model_name": "HTMLModel",
      "state": {
       "layout": "IPY_MODEL_757cf3e4f8874fb5a34fb0f3704b487a",
       "style": "IPY_MODEL_3162636a9f4c4753bce6c82ddbc500f5",
       "value": "Doing PCA(500): 100%"
      }
     },
     "250a55133a2345108bc43e96ebb3c078": {
      "model_module": "@jupyter-widgets/base",
      "model_module_version": "2.0.0",
      "model_name": "LayoutModel",
      "state": {}
     },
     "2535ec13761a4bb089fb2eb1ccc1856c": {
      "model_module": "@jupyter-widgets/controls",
      "model_module_version": "2.0.0",
      "model_name": "HTMLModel",
      "state": {
       "layout": "IPY_MODEL_e2c9be48f4074838bfe860476cb69edf",
       "style": "IPY_MODEL_4a7dd9cb7c404b8f9258521d09289955",
       "value": " 1/1 [00:02&lt;00:00,  2.29s/images]"
      }
     },
     "2560da32b1174720a9f85efd1c984c12": {
      "model_module": "@jupyter-widgets/controls",
      "model_module_version": "2.0.0",
      "model_name": "HTMLModel",
      "state": {
       "layout": "IPY_MODEL_a526693f5eaa437fa5c1afb223006da3",
       "style": "IPY_MODEL_1d32a565f40e45e2be6f762e0d909b46",
       "value": "Doing PCA(2): 100%"
      }
     },
     "262f928f5a164a289b0fb9e936ab5089": {
      "model_module": "@jupyter-widgets/controls",
      "model_module_version": "2.0.0",
      "model_name": "HBoxModel",
      "state": {
       "children": [
        "IPY_MODEL_acf8e518c4194634a4e8c6e3b84df53f",
        "IPY_MODEL_7e382050599b47a2a2f121b2619cd1fa",
        "IPY_MODEL_2535ec13761a4bb089fb2eb1ccc1856c"
       ],
       "layout": "IPY_MODEL_9ddf34b28d454537999b8516e5029f0b"
      }
     },
     "27751218b31649cebf7ec8d81d313a1c": {
      "model_module": "@jupyter-widgets/controls",
      "model_module_version": "2.0.0",
      "model_name": "ProgressStyleModel",
      "state": {
       "description_width": ""
      }
     },
     "2783867fc3b74d22a79e63d805d633f0": {
      "model_module": "@jupyter-widgets/controls",
      "model_module_version": "2.0.0",
      "model_name": "HTMLModel",
      "state": {
       "layout": "IPY_MODEL_92a3f6bcd08c4fc9ab28da896059f550",
       "style": "IPY_MODEL_4f1fe8b26a7e418388b7580a911affbc",
       "value": "Doing PCA(200):  50%"
      }
     },
     "285f87a062d547dc821d421c36a535b7": {
      "model_module": "@jupyter-widgets/base",
      "model_module_version": "2.0.0",
      "model_name": "LayoutModel",
      "state": {}
     },
     "29af0a30f67a47ae891c0f41ad2f12f0": {
      "model_module": "@jupyter-widgets/base",
      "model_module_version": "2.0.0",
      "model_name": "LayoutModel",
      "state": {}
     },
     "2c2845dc4e4543f99c6a9d2c7c19d745": {
      "model_module": "@jupyter-widgets/controls",
      "model_module_version": "2.0.0",
      "model_name": "FloatProgressModel",
      "state": {
       "bar_style": "success",
       "layout": "IPY_MODEL_81dd6ddc5dd04f31b725475da1d45c9d",
       "max": 1,
       "style": "IPY_MODEL_52ac62a24a7541cbad63e26008c854cf",
       "value": 1
      }
     },
     "2d44b657cb1447efafe89e166218d079": {
      "model_module": "@jupyter-widgets/base",
      "model_module_version": "2.0.0",
      "model_name": "LayoutModel",
      "state": {}
     },
     "2d531180b5894c77a85b97e0da0fd52d": {
      "model_module": "@jupyter-widgets/base",
      "model_module_version": "2.0.0",
      "model_name": "LayoutModel",
      "state": {}
     },
     "2f0aefb9daf9411c9ac5cb39e8a3a94f": {
      "model_module": "@jupyter-widgets/controls",
      "model_module_version": "2.0.0",
      "model_name": "ProgressStyleModel",
      "state": {
       "description_width": ""
      }
     },
     "2f0ccc8949264b1ea9026badcd2315e7": {
      "model_module": "@jupyter-widgets/controls",
      "model_module_version": "2.0.0",
      "model_name": "HTMLStyleModel",
      "state": {
       "description_width": "",
       "font_size": null,
       "text_color": null
      }
     },
     "304016cd1d4e4cc6bab0e8645a8a0eef": {
      "model_module": "@jupyter-widgets/controls",
      "model_module_version": "2.0.0",
      "model_name": "HBoxModel",
      "state": {
       "children": [
        "IPY_MODEL_868db944e99142d7882f114418236d3f",
        "IPY_MODEL_225eafa1f1584b25a4248b436813d08b",
        "IPY_MODEL_ce7787a49b9c4a3992fc6a2b4bb6155c"
       ],
       "layout": "IPY_MODEL_087c70c662ed479ba9c9a89c697793da"
      }
     },
     "30ec8e1786af430a96687139a07cc05d": {
      "model_module": "@jupyter-widgets/controls",
      "model_module_version": "2.0.0",
      "model_name": "FloatProgressModel",
      "state": {
       "bar_style": "success",
       "layout": "IPY_MODEL_01c894dde26248f3b1684ddcc1d03ea8",
       "max": 1,
       "style": "IPY_MODEL_61555f50b4a041ecbfea0e608fb87179",
       "value": 1
      }
     },
     "3162636a9f4c4753bce6c82ddbc500f5": {
      "model_module": "@jupyter-widgets/controls",
      "model_module_version": "2.0.0",
      "model_name": "HTMLStyleModel",
      "state": {
       "description_width": "",
       "font_size": null,
       "text_color": null
      }
     },
     "31a6bb8665f3493ebb9f04981fb45f79": {
      "model_module": "@jupyter-widgets/controls",
      "model_module_version": "2.0.0",
      "model_name": "HBoxModel",
      "state": {
       "children": [
        "IPY_MODEL_9009ac3a21254067ba352fc614c0122c",
        "IPY_MODEL_e6c88b76549c4d1fa6a28a15207aec9b",
        "IPY_MODEL_1bc0266f228347d0bb5414772065a01f"
       ],
       "layout": "IPY_MODEL_68c6799d43f547dfab770676c4e1a5fb"
      }
     },
     "33f175ca3433448a83e5cd4ed360ea91": {
      "model_module": "@jupyter-widgets/base",
      "model_module_version": "2.0.0",
      "model_name": "LayoutModel",
      "state": {}
     },
     "3931a897fef54ae2b0809d6ec0bfb47b": {
      "model_module": "@jupyter-widgets/controls",
      "model_module_version": "2.0.0",
      "model_name": "HTMLModel",
      "state": {
       "layout": "IPY_MODEL_1ff33f044789433ca6c1ee8849233a63",
       "style": "IPY_MODEL_e42cec8ba06e4090a4649eeb67788ec4",
       "value": "Doing PCA(26): 100%"
      }
     },
     "399ce0d594f2454f87aa89f54efe2320": {
      "model_module": "@jupyter-widgets/base",
      "model_module_version": "2.0.0",
      "model_name": "LayoutModel",
      "state": {}
     },
     "3a5423657afb4ab19b512b168e9367df": {
      "model_module": "@jupyter-widgets/base",
      "model_module_version": "2.0.0",
      "model_name": "LayoutModel",
      "state": {}
     },
     "3ab9deab667a43a18815ab8f8d8ea40c": {
      "model_module": "@jupyter-widgets/controls",
      "model_module_version": "2.0.0",
      "model_name": "ProgressStyleModel",
      "state": {
       "description_width": ""
      }
     },
     "3b7188fa6bc64107a25a0ccceaf8102b": {
      "model_module": "@jupyter-widgets/controls",
      "model_module_version": "2.0.0",
      "model_name": "HTMLModel",
      "state": {
       "layout": "IPY_MODEL_89a5aa1c9eba495db31db688abc57b6b",
       "style": "IPY_MODEL_b82855b542ae40899c83f70c127daa9c",
       "value": " 5400/5400 [00:17&lt;00:00, 320.35images/s]"
      }
     },
     "3e693adbcf024bdf9a94e58d27e5aa98": {
      "model_module": "@jupyter-widgets/controls",
      "model_module_version": "2.0.0",
      "model_name": "HTMLStyleModel",
      "state": {
       "description_width": "",
       "font_size": null,
       "text_color": null
      }
     },
     "40cd1ecc736e4f9c9439467cce0f0823": {
      "model_module": "@jupyter-widgets/controls",
      "model_module_version": "2.0.0",
      "model_name": "HTMLStyleModel",
      "state": {
       "description_width": "",
       "font_size": null,
       "text_color": null
      }
     },
     "43402cb95eec470c9ea3cce5f5ca640d": {
      "model_module": "@jupyter-widgets/controls",
      "model_module_version": "2.0.0",
      "model_name": "HTMLStyleModel",
      "state": {
       "description_width": "",
       "font_size": null,
       "text_color": null
      }
     },
     "45df7dfd143b4de085defe9cf9a303fa": {
      "model_module": "@jupyter-widgets/base",
      "model_module_version": "2.0.0",
      "model_name": "LayoutModel",
      "state": {}
     },
     "490fa24d71554827b7ae6b6a71ba9f16": {
      "model_module": "@jupyter-widgets/controls",
      "model_module_version": "2.0.0",
      "model_name": "HTMLModel",
      "state": {
       "layout": "IPY_MODEL_51aa0f40537346fc82274005ca591450",
       "style": "IPY_MODEL_cb85e630420241ce9fdb0e58c1e896a5",
       "value": "Doing PCA(26): 100%"
      }
     },
     "4a7dd9cb7c404b8f9258521d09289955": {
      "model_module": "@jupyter-widgets/controls",
      "model_module_version": "2.0.0",
      "model_name": "HTMLStyleModel",
      "state": {
       "description_width": "",
       "font_size": null,
       "text_color": null
      }
     },
     "4ac02090ac1b46bc96cb56d1b3928c21": {
      "model_module": "@jupyter-widgets/controls",
      "model_module_version": "2.0.0",
      "model_name": "HTMLStyleModel",
      "state": {
       "description_width": "",
       "font_size": null,
       "text_color": null
      }
     },
     "4b3658fa95244bc3967b0e27661352bd": {
      "model_module": "@jupyter-widgets/base",
      "model_module_version": "2.0.0",
      "model_name": "LayoutModel",
      "state": {}
     },
     "4c03e133aa044dadb51421e754576580": {
      "model_module": "@jupyter-widgets/controls",
      "model_module_version": "2.0.0",
      "model_name": "FloatProgressModel",
      "state": {
       "bar_style": "success",
       "layout": "IPY_MODEL_07b057874633489e8de86283a1ccd4f0",
       "max": 1,
       "style": "IPY_MODEL_7825a3d9fd7e47259b7c42bce6cee3ff",
       "value": 1
      }
     },
     "4d72f847ae49478bb3af5809f9ed1fda": {
      "model_module": "@jupyter-widgets/controls",
      "model_module_version": "2.0.0",
      "model_name": "FloatProgressModel",
      "state": {
       "bar_style": "success",
       "layout": "IPY_MODEL_bb0a5b6c98624b64bbaa02c9095a687c",
       "max": 5400,
       "style": "IPY_MODEL_6a572c27e5784073b97f4c2ea1c75ea6",
       "value": 5400
      }
     },
     "4df09aecba3945e3a1aed5caa24da59a": {
      "model_module": "@jupyter-widgets/base",
      "model_module_version": "2.0.0",
      "model_name": "LayoutModel",
      "state": {}
     },
     "4dff79b6691b437182199ec702008b4f": {
      "model_module": "@jupyter-widgets/controls",
      "model_module_version": "2.0.0",
      "model_name": "HTMLModel",
      "state": {
       "layout": "IPY_MODEL_610024bcae7949ae90ef83d19ce53cf3",
       "style": "IPY_MODEL_b9e55c6c0b8e46dba7ba5957556c46d9",
       "value": " 1/1 [00:00&lt;00:00, 22.68images/s]"
      }
     },
     "4e37fd58b2be41bebdacb71667921691": {
      "model_module": "@jupyter-widgets/controls",
      "model_module_version": "2.0.0",
      "model_name": "FloatProgressModel",
      "state": {
       "bar_style": "success",
       "layout": "IPY_MODEL_ab16493fa1a349d59a71337661d8b184",
       "max": 2,
       "style": "IPY_MODEL_b3bc43177f464a068c9ff0685a95bfbf",
       "value": 2
      }
     },
     "4f1fe8b26a7e418388b7580a911affbc": {
      "model_module": "@jupyter-widgets/controls",
      "model_module_version": "2.0.0",
      "model_name": "HTMLStyleModel",
      "state": {
       "description_width": "",
       "font_size": null,
       "text_color": null
      }
     },
     "4f59bddcec8140f3998f7fc3f9e326aa": {
      "model_module": "@jupyter-widgets/controls",
      "model_module_version": "2.0.0",
      "model_name": "ProgressStyleModel",
      "state": {
       "description_width": ""
      }
     },
     "4fa306f3c55a4f9d9308c6860aa5ecfb": {
      "model_module": "@jupyter-widgets/base",
      "model_module_version": "2.0.0",
      "model_name": "LayoutModel",
      "state": {}
     },
     "50c065a765fc4e01801f418ecca30e60": {
      "model_module": "@jupyter-widgets/controls",
      "model_module_version": "2.0.0",
      "model_name": "HTMLStyleModel",
      "state": {
       "description_width": "",
       "font_size": null,
       "text_color": null
      }
     },
     "50fd68c4ec774fa09ccfeabd6ede25cc": {
      "model_module": "@jupyter-widgets/controls",
      "model_module_version": "2.0.0",
      "model_name": "ProgressStyleModel",
      "state": {
       "description_width": ""
      }
     },
     "51aa0f40537346fc82274005ca591450": {
      "model_module": "@jupyter-widgets/base",
      "model_module_version": "2.0.0",
      "model_name": "LayoutModel",
      "state": {}
     },
     "52ac62a24a7541cbad63e26008c854cf": {
      "model_module": "@jupyter-widgets/controls",
      "model_module_version": "2.0.0",
      "model_name": "ProgressStyleModel",
      "state": {
       "description_width": ""
      }
     },
     "52fd82748a594d53a4eab0c62fc616af": {
      "model_module": "@jupyter-widgets/base",
      "model_module_version": "2.0.0",
      "model_name": "LayoutModel",
      "state": {}
     },
     "58a0a104d57a4ab9b6c018f0e3507d5e": {
      "model_module": "@jupyter-widgets/base",
      "model_module_version": "2.0.0",
      "model_name": "LayoutModel",
      "state": {}
     },
     "592cd358bbc54b25a10413731d31caff": {
      "model_module": "@jupyter-widgets/base",
      "model_module_version": "2.0.0",
      "model_name": "LayoutModel",
      "state": {}
     },
     "5952657f42fa4525b21f284c26d87edd": {
      "model_module": "@jupyter-widgets/controls",
      "model_module_version": "2.0.0",
      "model_name": "FloatProgressModel",
      "state": {
       "bar_style": "success",
       "layout": "IPY_MODEL_60ba2fc9756f49a8a959f2353d4fee85",
       "max": 5400,
       "style": "IPY_MODEL_bc2dc87de60246cb827eb8028de19488",
       "value": 5400
      }
     },
     "5a1d0dd9c2b5491898f9bd944690fdd4": {
      "model_module": "@jupyter-widgets/controls",
      "model_module_version": "2.0.0",
      "model_name": "HTMLStyleModel",
      "state": {
       "description_width": "",
       "font_size": null,
       "text_color": null
      }
     },
     "5cdc9b885d6a4cd0a1ceb7e1c61f62fd": {
      "model_module": "@jupyter-widgets/controls",
      "model_module_version": "2.0.0",
      "model_name": "HBoxModel",
      "state": {
       "children": [
        "IPY_MODEL_94bd32e4e1f44a629dbed8a4fd66ae33",
        "IPY_MODEL_646bf5bf2c894d759d801c3f34f6cb3d",
        "IPY_MODEL_ac8e3baf12c3472daf0e18e53b8625fc"
       ],
       "layout": "IPY_MODEL_644609fd9c8441b4bd1819eff61bceaf"
      }
     },
     "5d14451ad0a94eed816716b9c919f208": {
      "model_module": "@jupyter-widgets/controls",
      "model_module_version": "2.0.0",
      "model_name": "FloatProgressModel",
      "state": {
       "bar_style": "success",
       "layout": "IPY_MODEL_4b3658fa95244bc3967b0e27661352bd",
       "max": 5400,
       "style": "IPY_MODEL_f87f8f021dee4ca3a1f41c671509c2dc",
       "value": 5400
      }
     },
     "5dc520674d1a47daaaedbb6ddea522ff": {
      "model_module": "@jupyter-widgets/controls",
      "model_module_version": "2.0.0",
      "model_name": "HBoxModel",
      "state": {
       "children": [
        "IPY_MODEL_9ef4b7d44f2b49a9a38b570f8814e3f3",
        "IPY_MODEL_a9021b0a26b742408d601930d3849afe",
        "IPY_MODEL_bf54a52f9f2e49ed8921afa171ca1c66"
       ],
       "layout": "IPY_MODEL_a6da970d125a407a94e9660381b383b2"
      }
     },
     "5dd5e328ef1a46afa2c7cea7340b843b": {
      "model_module": "@jupyter-widgets/base",
      "model_module_version": "2.0.0",
      "model_name": "LayoutModel",
      "state": {}
     },
     "5de37367d5ff49f199d58a4687171793": {
      "model_module": "@jupyter-widgets/controls",
      "model_module_version": "2.0.0",
      "model_name": "HTMLModel",
      "state": {
       "layout": "IPY_MODEL_ec725658d11d488d8451224ec6ad5464",
       "style": "IPY_MODEL_6e57d68888024ddfb14d2cde3713d4a0",
       "value": "Doing PCA(10): 100%"
      }
     },
     "5f3941c366954c2dbb6296db50aca511": {
      "model_module": "@jupyter-widgets/base",
      "model_module_version": "2.0.0",
      "model_name": "LayoutModel",
      "state": {}
     },
     "6086ad17a7af4c3ca1d84528f69a47ba": {
      "model_module": "@jupyter-widgets/controls",
      "model_module_version": "2.0.0",
      "model_name": "HBoxModel",
      "state": {
       "children": [
        "IPY_MODEL_b2230e4fd6a344a78731b3deeb166057",
        "IPY_MODEL_5d14451ad0a94eed816716b9c919f208",
        "IPY_MODEL_3b7188fa6bc64107a25a0ccceaf8102b"
       ],
       "layout": "IPY_MODEL_205e3a4df9864a71a1806b48140e9bd9"
      }
     },
     "60ba2fc9756f49a8a959f2353d4fee85": {
      "model_module": "@jupyter-widgets/base",
      "model_module_version": "2.0.0",
      "model_name": "LayoutModel",
      "state": {}
     },
     "610024bcae7949ae90ef83d19ce53cf3": {
      "model_module": "@jupyter-widgets/base",
      "model_module_version": "2.0.0",
      "model_name": "LayoutModel",
      "state": {}
     },
     "61555f50b4a041ecbfea0e608fb87179": {
      "model_module": "@jupyter-widgets/controls",
      "model_module_version": "2.0.0",
      "model_name": "ProgressStyleModel",
      "state": {
       "description_width": ""
      }
     },
     "63c676cf9f904b8fa039c14906e2c8ef": {
      "model_module": "@jupyter-widgets/controls",
      "model_module_version": "2.0.0",
      "model_name": "HTMLStyleModel",
      "state": {
       "description_width": "",
       "font_size": null,
       "text_color": null
      }
     },
     "644609fd9c8441b4bd1819eff61bceaf": {
      "model_module": "@jupyter-widgets/base",
      "model_module_version": "2.0.0",
      "model_name": "LayoutModel",
      "state": {}
     },
     "645e741422884ffaa54af3000364a1c3": {
      "model_module": "@jupyter-widgets/base",
      "model_module_version": "2.0.0",
      "model_name": "LayoutModel",
      "state": {}
     },
     "646bf5bf2c894d759d801c3f34f6cb3d": {
      "model_module": "@jupyter-widgets/controls",
      "model_module_version": "2.0.0",
      "model_name": "FloatProgressModel",
      "state": {
       "bar_style": "success",
       "layout": "IPY_MODEL_e7177e82d7db41a18d8134155631524b",
       "max": 5400,
       "style": "IPY_MODEL_ecda5a61008b4ba0aeec876992e25d72",
       "value": 5400
      }
     },
     "66999c617b7d4c139b1e6342d40f6450": {
      "model_module": "@jupyter-widgets/controls",
      "model_module_version": "2.0.0",
      "model_name": "HTMLStyleModel",
      "state": {
       "description_width": "",
       "font_size": null,
       "text_color": null
      }
     },
     "687837422b184aaf898d83644366a69d": {
      "model_module": "@jupyter-widgets/controls",
      "model_module_version": "2.0.0",
      "model_name": "ProgressStyleModel",
      "state": {
       "description_width": ""
      }
     },
     "68c6799d43f547dfab770676c4e1a5fb": {
      "model_module": "@jupyter-widgets/base",
      "model_module_version": "2.0.0",
      "model_name": "LayoutModel",
      "state": {}
     },
     "6a572c27e5784073b97f4c2ea1c75ea6": {
      "model_module": "@jupyter-widgets/controls",
      "model_module_version": "2.0.0",
      "model_name": "ProgressStyleModel",
      "state": {
       "description_width": ""
      }
     },
     "6adf29448c2a4b5bae294496ba27529a": {
      "model_module": "@jupyter-widgets/base",
      "model_module_version": "2.0.0",
      "model_name": "LayoutModel",
      "state": {}
     },
     "6ca2a57b89f24d0090fcf4fef0f92557": {
      "model_module": "@jupyter-widgets/base",
      "model_module_version": "2.0.0",
      "model_name": "LayoutModel",
      "state": {}
     },
     "6e57d68888024ddfb14d2cde3713d4a0": {
      "model_module": "@jupyter-widgets/controls",
      "model_module_version": "2.0.0",
      "model_name": "HTMLStyleModel",
      "state": {
       "description_width": "",
       "font_size": null,
       "text_color": null
      }
     },
     "6ef5412206bd4e85bf1945fae2d1cb12": {
      "model_module": "@jupyter-widgets/controls",
      "model_module_version": "2.0.0",
      "model_name": "FloatProgressModel",
      "state": {
       "bar_style": "success",
       "layout": "IPY_MODEL_d7a7b243faa440e3a8f3e7c406a2c9da",
       "max": 1,
       "style": "IPY_MODEL_3ab9deab667a43a18815ab8f8d8ea40c",
       "value": 1
      }
     },
     "6fe8a6b104c941f0a0d8c77bdce2442b": {
      "model_module": "@jupyter-widgets/base",
      "model_module_version": "2.0.0",
      "model_name": "LayoutModel",
      "state": {}
     },
     "6ff86d55e9ea415fa5721f938291588b": {
      "model_module": "@jupyter-widgets/controls",
      "model_module_version": "2.0.0",
      "model_name": "HTMLStyleModel",
      "state": {
       "description_width": "",
       "font_size": null,
       "text_color": null
      }
     },
     "70128c51a0984a769f2c2430f4bf0476": {
      "model_module": "@jupyter-widgets/controls",
      "model_module_version": "2.0.0",
      "model_name": "HBoxModel",
      "state": {
       "children": [
        "IPY_MODEL_2560da32b1174720a9f85efd1c984c12",
        "IPY_MODEL_2c2845dc4e4543f99c6a9d2c7c19d745",
        "IPY_MODEL_aa6575649821440eb3f04d6d6a4d7540"
       ],
       "layout": "IPY_MODEL_6adf29448c2a4b5bae294496ba27529a"
      }
     },
     "7026b30cb63f4199808666489e640402": {
      "model_module": "@jupyter-widgets/controls",
      "model_module_version": "2.0.0",
      "model_name": "HTMLModel",
      "state": {
       "layout": "IPY_MODEL_2d531180b5894c77a85b97e0da0fd52d",
       "style": "IPY_MODEL_dd9cfc8e01064271b3d5bbc0737fa57a",
       "value": "Doing tSNE(2): 100%"
      }
     },
     "73863984c62846199caf796338b79c17": {
      "model_module": "@jupyter-widgets/base",
      "model_module_version": "2.0.0",
      "model_name": "LayoutModel",
      "state": {}
     },
     "739e595bfd9442948a2e2fadbd55dd9e": {
      "model_module": "@jupyter-widgets/controls",
      "model_module_version": "2.0.0",
      "model_name": "ProgressStyleModel",
      "state": {
       "description_width": ""
      }
     },
     "757cf3e4f8874fb5a34fb0f3704b487a": {
      "model_module": "@jupyter-widgets/base",
      "model_module_version": "2.0.0",
      "model_name": "LayoutModel",
      "state": {}
     },
     "7825a3d9fd7e47259b7c42bce6cee3ff": {
      "model_module": "@jupyter-widgets/controls",
      "model_module_version": "2.0.0",
      "model_name": "ProgressStyleModel",
      "state": {
       "description_width": ""
      }
     },
     "78fcdd7eb44747d08755e90dc313226f": {
      "model_module": "@jupyter-widgets/controls",
      "model_module_version": "2.0.0",
      "model_name": "HTMLModel",
      "state": {
       "layout": "IPY_MODEL_13063cad51a94879aaac2194a74020fe",
       "style": "IPY_MODEL_b516ea37406b4f96a733a592826513eb",
       "value": "Doing PCA(26): 100%"
      }
     },
     "79c6b7b2c9aa447a83f28c96a5db1283": {
      "model_module": "@jupyter-widgets/controls",
      "model_module_version": "2.0.0",
      "model_name": "HBoxModel",
      "state": {
       "children": [
        "IPY_MODEL_d6460b2248fa4cffa23e11d80f4ae788",
        "IPY_MODEL_4d72f847ae49478bb3af5809f9ed1fda",
        "IPY_MODEL_e096a8ffbe344d7598906323cfcf0924"
       ],
       "layout": "IPY_MODEL_4fa306f3c55a4f9d9308c6860aa5ecfb"
      }
     },
     "7e382050599b47a2a2f121b2619cd1fa": {
      "model_module": "@jupyter-widgets/controls",
      "model_module_version": "2.0.0",
      "model_name": "FloatProgressModel",
      "state": {
       "bar_style": "success",
       "layout": "IPY_MODEL_d8282da2c3084fc4b991e2af2bc2bff5",
       "max": 1,
       "style": "IPY_MODEL_9772549e682e4b40b727979feaecb760",
       "value": 1
      }
     },
     "7e41d39a4f7a40fd9caac549c2a8382c": {
      "model_module": "@jupyter-widgets/controls",
      "model_module_version": "2.0.0",
      "model_name": "FloatProgressModel",
      "state": {
       "bar_style": "danger",
       "layout": "IPY_MODEL_52fd82748a594d53a4eab0c62fc616af",
       "max": 2,
       "style": "IPY_MODEL_f85ceeb5244a4bbaa66c40dffc8ea8e7",
       "value": 1
      }
     },
     "7e69df957edf4ea9b3004859849487b6": {
      "model_module": "@jupyter-widgets/controls",
      "model_module_version": "2.0.0",
      "model_name": "HTMLStyleModel",
      "state": {
       "description_width": "",
       "font_size": null,
       "text_color": null
      }
     },
     "806a30703f8f41b2b0433d78ec70ec17": {
      "model_module": "@jupyter-widgets/controls",
      "model_module_version": "2.0.0",
      "model_name": "HTMLStyleModel",
      "state": {
       "description_width": "",
       "font_size": null,
       "text_color": null
      }
     },
     "810d3282cd19447981923ca8653d5951": {
      "model_module": "@jupyter-widgets/controls",
      "model_module_version": "2.0.0",
      "model_name": "HTMLModel",
      "state": {
       "layout": "IPY_MODEL_58a0a104d57a4ab9b6c018f0e3507d5e",
       "style": "IPY_MODEL_945942f064d949819b4f9d87205d77ec",
       "value": " 1/1 [00:00&lt;00:00, 25.02images/s]"
      }
     },
     "81dd6ddc5dd04f31b725475da1d45c9d": {
      "model_module": "@jupyter-widgets/base",
      "model_module_version": "2.0.0",
      "model_name": "LayoutModel",
      "state": {}
     },
     "82e7ef1c8ba3466baf5663184a63837b": {
      "model_module": "@jupyter-widgets/controls",
      "model_module_version": "2.0.0",
      "model_name": "HTMLModel",
      "state": {
       "layout": "IPY_MODEL_645e741422884ffaa54af3000364a1c3",
       "style": "IPY_MODEL_b29415617a6c483aabd3ef6316fcc276",
       "value": "Doing PCA(500): 100%"
      }
     },
     "850ebef1e4604cd4a618bd5ca099774d": {
      "model_module": "@jupyter-widgets/base",
      "model_module_version": "2.0.0",
      "model_name": "LayoutModel",
      "state": {}
     },
     "8674e03ac6f44daab929e923015c39ff": {
      "model_module": "@jupyter-widgets/controls",
      "model_module_version": "2.0.0",
      "model_name": "HTMLModel",
      "state": {
       "layout": "IPY_MODEL_c74936961dd74761a5775aeee16b3798",
       "style": "IPY_MODEL_ae05059c21d74c98a996caa3c5614854",
       "value": "Doing PCA(10): 100%"
      }
     },
     "868db944e99142d7882f114418236d3f": {
      "model_module": "@jupyter-widgets/controls",
      "model_module_version": "2.0.0",
      "model_name": "HTMLModel",
      "state": {
       "layout": "IPY_MODEL_b95590ef5f044c05a7a9407649154890",
       "style": "IPY_MODEL_f86f10d971ba43ed83a699efebb362aa",
       "value": "Loading feature vectors: 100%"
      }
     },
     "86bf740ffe11468ba50a819df586730f": {
      "model_module": "@jupyter-widgets/base",
      "model_module_version": "2.0.0",
      "model_name": "LayoutModel",
      "state": {}
     },
     "89a5aa1c9eba495db31db688abc57b6b": {
      "model_module": "@jupyter-widgets/base",
      "model_module_version": "2.0.0",
      "model_name": "LayoutModel",
      "state": {}
     },
     "89eb9b5935f547deb06c0b8ce2d8e3b1": {
      "model_module": "@jupyter-widgets/base",
      "model_module_version": "2.0.0",
      "model_name": "LayoutModel",
      "state": {}
     },
     "8a7ee04615784f86b3ee1153d96497a0": {
      "model_module": "@jupyter-widgets/base",
      "model_module_version": "2.0.0",
      "model_name": "LayoutModel",
      "state": {}
     },
     "8edeaec0eb274f2dad8d0d9ec7783594": {
      "model_module": "@jupyter-widgets/controls",
      "model_module_version": "2.0.0",
      "model_name": "HBoxModel",
      "state": {
       "children": [
        "IPY_MODEL_ac1a098bc5d04895a3513101d6c48855",
        "IPY_MODEL_c7a9e24fdc18414a884c8b98da45e30e",
        "IPY_MODEL_e78fe8b13bf2442b9252e287647711f5"
       ],
       "layout": "IPY_MODEL_285f87a062d547dc821d421c36a535b7"
      }
     },
     "8f1467fddb1f498682c5bbc5fd816a28": {
      "model_module": "@jupyter-widgets/controls",
      "model_module_version": "2.0.0",
      "model_name": "HBoxModel",
      "state": {
       "children": [
        "IPY_MODEL_3931a897fef54ae2b0809d6ec0bfb47b",
        "IPY_MODEL_4e37fd58b2be41bebdacb71667921691",
        "IPY_MODEL_0b17b856db9d49d989ef352e9f0d508a"
       ],
       "layout": "IPY_MODEL_c4b5538f41ea434e8c0da2ed5be8bacb"
      }
     },
     "9009ac3a21254067ba352fc614c0122c": {
      "model_module": "@jupyter-widgets/controls",
      "model_module_version": "2.0.0",
      "model_name": "HTMLModel",
      "state": {
       "layout": "IPY_MODEL_850ebef1e4604cd4a618bd5ca099774d",
       "style": "IPY_MODEL_6ff86d55e9ea415fa5721f938291588b",
       "value": "Loading feature vectors: 100%"
      }
     },
     "90fc19c26bbc47698a99057bb59b87bd": {
      "model_module": "@jupyter-widgets/base",
      "model_module_version": "2.0.0",
      "model_name": "LayoutModel",
      "state": {}
     },
     "916d1e1d29f24ac085541bac9c4668cf": {
      "model_module": "@jupyter-widgets/controls",
      "model_module_version": "2.0.0",
      "model_name": "HTMLStyleModel",
      "state": {
       "description_width": "",
       "font_size": null,
       "text_color": null
      }
     },
     "92215ee7baba402bae94bd8dc0ef808c": {
      "model_module": "@jupyter-widgets/base",
      "model_module_version": "2.0.0",
      "model_name": "LayoutModel",
      "state": {}
     },
     "92716902bc464d55b3dae4d012df1241": {
      "model_module": "@jupyter-widgets/controls",
      "model_module_version": "2.0.0",
      "model_name": "HBoxModel",
      "state": {
       "children": [
        "IPY_MODEL_2783867fc3b74d22a79e63d805d633f0",
        "IPY_MODEL_7e41d39a4f7a40fd9caac549c2a8382c",
        "IPY_MODEL_0cc710f47e074b34bd8a9ab0f13e012a"
       ],
       "layout": "IPY_MODEL_250a55133a2345108bc43e96ebb3c078"
      }
     },
     "92a3f6bcd08c4fc9ab28da896059f550": {
      "model_module": "@jupyter-widgets/base",
      "model_module_version": "2.0.0",
      "model_name": "LayoutModel",
      "state": {}
     },
     "945942f064d949819b4f9d87205d77ec": {
      "model_module": "@jupyter-widgets/controls",
      "model_module_version": "2.0.0",
      "model_name": "HTMLStyleModel",
      "state": {
       "description_width": "",
       "font_size": null,
       "text_color": null
      }
     },
     "94bd32e4e1f44a629dbed8a4fd66ae33": {
      "model_module": "@jupyter-widgets/controls",
      "model_module_version": "2.0.0",
      "model_name": "HTMLModel",
      "state": {
       "layout": "IPY_MODEL_592cd358bbc54b25a10413731d31caff",
       "style": "IPY_MODEL_ef11d89d2a894d1082e8bb8c95a394c3",
       "value": "Loading feature vectors: 100%"
      }
     },
     "952ab0e86b114612a08908474d8cd291": {
      "model_module": "@jupyter-widgets/base",
      "model_module_version": "2.0.0",
      "model_name": "LayoutModel",
      "state": {}
     },
     "958ff90410f14372933aff37f143e20d": {
      "model_module": "@jupyter-widgets/controls",
      "model_module_version": "2.0.0",
      "model_name": "HTMLModel",
      "state": {
       "layout": "IPY_MODEL_bc72482ced0a4f5fb94c5401b5647211",
       "style": "IPY_MODEL_dc0fc4ebd220437bb5d871dc96f9cabb",
       "value": " 1/1 [00:02&lt;00:00,  2.21s/images]"
      }
     },
     "9772549e682e4b40b727979feaecb760": {
      "model_module": "@jupyter-widgets/controls",
      "model_module_version": "2.0.0",
      "model_name": "ProgressStyleModel",
      "state": {
       "description_width": ""
      }
     },
     "988b1f3977d24edf98bf85657d5a199f": {
      "model_module": "@jupyter-widgets/controls",
      "model_module_version": "2.0.0",
      "model_name": "HTMLStyleModel",
      "state": {
       "description_width": "",
       "font_size": null,
       "text_color": null
      }
     },
     "99ad0302ad7d4e72abcd2e75665d48d5": {
      "model_module": "@jupyter-widgets/controls",
      "model_module_version": "2.0.0",
      "model_name": "FloatProgressModel",
      "state": {
       "bar_style": "success",
       "layout": "IPY_MODEL_0b8a198d7a764e8ebc39b38df4d15484",
       "max": 1,
       "style": "IPY_MODEL_170f10d035904978aff46048aa236a96",
       "value": 1
      }
     },
     "9a1506b1e38441948ff8e71a02ebe047": {
      "model_module": "@jupyter-widgets/controls",
      "model_module_version": "2.0.0",
      "model_name": "HTMLStyleModel",
      "state": {
       "description_width": "",
       "font_size": null,
       "text_color": null
      }
     },
     "9ddf34b28d454537999b8516e5029f0b": {
      "model_module": "@jupyter-widgets/base",
      "model_module_version": "2.0.0",
      "model_name": "LayoutModel",
      "state": {}
     },
     "9ef4b7d44f2b49a9a38b570f8814e3f3": {
      "model_module": "@jupyter-widgets/controls",
      "model_module_version": "2.0.0",
      "model_name": "HTMLModel",
      "state": {
       "layout": "IPY_MODEL_12e7e43f4402454f8764e6b2be247d3b",
       "style": "IPY_MODEL_ec4a18a8889c420580cc0018db4f7f10",
       "value": "Doing PCA(26): 100%"
      }
     },
     "a124288866534a21a5be35b6a216f396": {
      "model_module": "@jupyter-widgets/controls",
      "model_module_version": "2.0.0",
      "model_name": "HTMLStyleModel",
      "state": {
       "description_width": "",
       "font_size": null,
       "text_color": null
      }
     },
     "a1f5337823fe4f8db621989a70aea5b9": {
      "model_module": "@jupyter-widgets/base",
      "model_module_version": "2.0.0",
      "model_name": "LayoutModel",
      "state": {}
     },
     "a2d9c8d4592f4257bd3726928952e93e": {
      "model_module": "@jupyter-widgets/base",
      "model_module_version": "2.0.0",
      "model_name": "LayoutModel",
      "state": {}
     },
     "a526693f5eaa437fa5c1afb223006da3": {
      "model_module": "@jupyter-widgets/base",
      "model_module_version": "2.0.0",
      "model_name": "LayoutModel",
      "state": {}
     },
     "a66748166a4348f9ba3777d430788b15": {
      "model_module": "@jupyter-widgets/controls",
      "model_module_version": "2.0.0",
      "model_name": "HTMLStyleModel",
      "state": {
       "description_width": "",
       "font_size": null,
       "text_color": null
      }
     },
     "a681b974d4c844e1936c07b5cf35c105": {
      "model_module": "@jupyter-widgets/controls",
      "model_module_version": "2.0.0",
      "model_name": "FloatProgressModel",
      "state": {
       "bar_style": "success",
       "layout": "IPY_MODEL_3a5423657afb4ab19b512b168e9367df",
       "max": 1,
       "style": "IPY_MODEL_db949c2922cc427a9d033aa6e81d8ecc",
       "value": 1
      }
     },
     "a6da970d125a407a94e9660381b383b2": {
      "model_module": "@jupyter-widgets/base",
      "model_module_version": "2.0.0",
      "model_name": "LayoutModel",
      "state": {}
     },
     "a6f30fbffb8442ea8ee94c8c2beaaf9d": {
      "model_module": "@jupyter-widgets/controls",
      "model_module_version": "2.0.0",
      "model_name": "HTMLStyleModel",
      "state": {
       "description_width": "",
       "font_size": null,
       "text_color": null
      }
     },
     "a800ffff933d4240b1d258340d5a39dd": {
      "model_module": "@jupyter-widgets/controls",
      "model_module_version": "2.0.0",
      "model_name": "HBoxModel",
      "state": {
       "children": [
        "IPY_MODEL_ceb7971377f545aba340b3afe6a8b222",
        "IPY_MODEL_cc0c3df22c32437ab85ec72b7081815c",
        "IPY_MODEL_f44cf3acd23740258a43275d69c3a9c7"
       ],
       "layout": "IPY_MODEL_86bf740ffe11468ba50a819df586730f"
      }
     },
     "a9021b0a26b742408d601930d3849afe": {
      "model_module": "@jupyter-widgets/controls",
      "model_module_version": "2.0.0",
      "model_name": "FloatProgressModel",
      "state": {
       "bar_style": "success",
       "layout": "IPY_MODEL_f1e4cf0dd95e4c238b8081ec661296e8",
       "max": 1,
       "style": "IPY_MODEL_739e595bfd9442948a2e2fadbd55dd9e",
       "value": 1
      }
     },
     "aa6575649821440eb3f04d6d6a4d7540": {
      "model_module": "@jupyter-widgets/controls",
      "model_module_version": "2.0.0",
      "model_name": "HTMLModel",
      "state": {
       "layout": "IPY_MODEL_a2d9c8d4592f4257bd3726928952e93e",
       "style": "IPY_MODEL_3e693adbcf024bdf9a94e58d27e5aa98",
       "value": " 1/1 [00:00&lt;00:00, 24.20images/s]"
      }
     },
     "aaf84f93bbb14a99886cc2ed88b18d26": {
      "model_module": "@jupyter-widgets/base",
      "model_module_version": "2.0.0",
      "model_name": "LayoutModel",
      "state": {}
     },
     "ab0a7c115e73439ab06c93989b1859d5": {
      "model_module": "@jupyter-widgets/controls",
      "model_module_version": "2.0.0",
      "model_name": "HBoxModel",
      "state": {
       "children": [
        "IPY_MODEL_2310f9bbf9754cfdbd558a17405bd9ca",
        "IPY_MODEL_6ef5412206bd4e85bf1945fae2d1cb12",
        "IPY_MODEL_958ff90410f14372933aff37f143e20d"
       ],
       "layout": "IPY_MODEL_b2c030db7112469082b810e55a3c7818"
      }
     },
     "ab16493fa1a349d59a71337661d8b184": {
      "model_module": "@jupyter-widgets/base",
      "model_module_version": "2.0.0",
      "model_name": "LayoutModel",
      "state": {}
     },
     "ac1a098bc5d04895a3513101d6c48855": {
      "model_module": "@jupyter-widgets/controls",
      "model_module_version": "2.0.0",
      "model_name": "HTMLModel",
      "state": {
       "layout": "IPY_MODEL_e2cef1802dc64469b8b02159939559c9",
       "style": "IPY_MODEL_ebe7f08ae7c6459585ee218605728a04",
       "value": "Doing PCA(26): 100%"
      }
     },
     "ac5af9d389e24a60a45c88d9377aac48": {
      "model_module": "@jupyter-widgets/controls",
      "model_module_version": "2.0.0",
      "model_name": "HTMLModel",
      "state": {
       "layout": "IPY_MODEL_1142b1da80cf4e01896856ea3aa53100",
       "style": "IPY_MODEL_4ac02090ac1b46bc96cb56d1b3928c21",
       "value": "Doing PCA(10): 100%"
      }
     },
     "ac8e3baf12c3472daf0e18e53b8625fc": {
      "model_module": "@jupyter-widgets/controls",
      "model_module_version": "2.0.0",
      "model_name": "HTMLModel",
      "state": {
       "layout": "IPY_MODEL_33f175ca3433448a83e5cd4ed360ea91",
       "style": "IPY_MODEL_fac43f1456a34d9ab1c7116890d34d95",
       "value": " 5400/5400 [00:17&lt;00:00, 303.19images/s]"
      }
     },
     "acf8e518c4194634a4e8c6e3b84df53f": {
      "model_module": "@jupyter-widgets/controls",
      "model_module_version": "2.0.0",
      "model_name": "HTMLModel",
      "state": {
       "layout": "IPY_MODEL_b512bf5c6e524047b7e68deaaf53ea55",
       "style": "IPY_MODEL_66999c617b7d4c139b1e6342d40f6450",
       "value": "Doing PCA(500): 100%"
      }
     },
     "ae05059c21d74c98a996caa3c5614854": {
      "model_module": "@jupyter-widgets/controls",
      "model_module_version": "2.0.0",
      "model_name": "HTMLStyleModel",
      "state": {
       "description_width": "",
       "font_size": null,
       "text_color": null
      }
     },
     "ae89bc92c3e542728e0c1488f00b09a5": {
      "model_module": "@jupyter-widgets/base",
      "model_module_version": "2.0.0",
      "model_name": "LayoutModel",
      "state": {}
     },
     "af93f949e2d4441294bfa8bcd816021e": {
      "model_module": "@jupyter-widgets/base",
      "model_module_version": "2.0.0",
      "model_name": "LayoutModel",
      "state": {}
     },
     "b078c6cd73ab4934b2a4abae1928c7dd": {
      "model_module": "@jupyter-widgets/controls",
      "model_module_version": "2.0.0",
      "model_name": "ProgressStyleModel",
      "state": {
       "description_width": ""
      }
     },
     "b2230e4fd6a344a78731b3deeb166057": {
      "model_module": "@jupyter-widgets/controls",
      "model_module_version": "2.0.0",
      "model_name": "HTMLModel",
      "state": {
       "layout": "IPY_MODEL_89eb9b5935f547deb06c0b8ce2d8e3b1",
       "style": "IPY_MODEL_40cd1ecc736e4f9c9439467cce0f0823",
       "value": "Loading feature vectors: 100%"
      }
     },
     "b29415617a6c483aabd3ef6316fcc276": {
      "model_module": "@jupyter-widgets/controls",
      "model_module_version": "2.0.0",
      "model_name": "HTMLStyleModel",
      "state": {
       "description_width": "",
       "font_size": null,
       "text_color": null
      }
     },
     "b2c030db7112469082b810e55a3c7818": {
      "model_module": "@jupyter-widgets/base",
      "model_module_version": "2.0.0",
      "model_name": "LayoutModel",
      "state": {}
     },
     "b3bc43177f464a068c9ff0685a95bfbf": {
      "model_module": "@jupyter-widgets/controls",
      "model_module_version": "2.0.0",
      "model_name": "ProgressStyleModel",
      "state": {
       "description_width": ""
      }
     },
     "b42156efb35a4e998815aac4e3165594": {
      "model_module": "@jupyter-widgets/controls",
      "model_module_version": "2.0.0",
      "model_name": "HTMLStyleModel",
      "state": {
       "description_width": "",
       "font_size": null,
       "text_color": null
      }
     },
     "b512bf5c6e524047b7e68deaaf53ea55": {
      "model_module": "@jupyter-widgets/base",
      "model_module_version": "2.0.0",
      "model_name": "LayoutModel",
      "state": {}
     },
     "b516ea37406b4f96a733a592826513eb": {
      "model_module": "@jupyter-widgets/controls",
      "model_module_version": "2.0.0",
      "model_name": "HTMLStyleModel",
      "state": {
       "description_width": "",
       "font_size": null,
       "text_color": null
      }
     },
     "b7806898a1bb46b0a86916cfd57f44d5": {
      "model_module": "@jupyter-widgets/controls",
      "model_module_version": "2.0.0",
      "model_name": "HTMLModel",
      "state": {
       "layout": "IPY_MODEL_08a5b38eb356468cb935e872bf095fbc",
       "style": "IPY_MODEL_f21373d14ed24ef185f58dfee8187b6f",
       "value": "Doing tSNE(10):   0%"
      }
     },
     "b82855b542ae40899c83f70c127daa9c": {
      "model_module": "@jupyter-widgets/controls",
      "model_module_version": "2.0.0",
      "model_name": "HTMLStyleModel",
      "state": {
       "description_width": "",
       "font_size": null,
       "text_color": null
      }
     },
     "b95590ef5f044c05a7a9407649154890": {
      "model_module": "@jupyter-widgets/base",
      "model_module_version": "2.0.0",
      "model_name": "LayoutModel",
      "state": {}
     },
     "b9e55c6c0b8e46dba7ba5957556c46d9": {
      "model_module": "@jupyter-widgets/controls",
      "model_module_version": "2.0.0",
      "model_name": "HTMLStyleModel",
      "state": {
       "description_width": "",
       "font_size": null,
       "text_color": null
      }
     },
     "baa58e8ae358455490d8249daed2865c": {
      "model_module": "@jupyter-widgets/controls",
      "model_module_version": "2.0.0",
      "model_name": "FloatProgressModel",
      "state": {
       "bar_style": "success",
       "layout": "IPY_MODEL_aaf84f93bbb14a99886cc2ed88b18d26",
       "max": 1,
       "style": "IPY_MODEL_2f0aefb9daf9411c9ac5cb39e8a3a94f",
       "value": 1
      }
     },
     "baf7768fce4442ed8a7ad5a0f3127528": {
      "model_module": "@jupyter-widgets/base",
      "model_module_version": "2.0.0",
      "model_name": "LayoutModel",
      "state": {}
     },
     "bb0a5b6c98624b64bbaa02c9095a687c": {
      "model_module": "@jupyter-widgets/base",
      "model_module_version": "2.0.0",
      "model_name": "LayoutModel",
      "state": {}
     },
     "bc2dc87de60246cb827eb8028de19488": {
      "model_module": "@jupyter-widgets/controls",
      "model_module_version": "2.0.0",
      "model_name": "ProgressStyleModel",
      "state": {
       "description_width": ""
      }
     },
     "bc72482ced0a4f5fb94c5401b5647211": {
      "model_module": "@jupyter-widgets/base",
      "model_module_version": "2.0.0",
      "model_name": "LayoutModel",
      "state": {}
     },
     "bd99e31ed63a4b6a8c1d77f8898a5003": {
      "model_module": "@jupyter-widgets/base",
      "model_module_version": "2.0.0",
      "model_name": "LayoutModel",
      "state": {}
     },
     "bf54a52f9f2e49ed8921afa171ca1c66": {
      "model_module": "@jupyter-widgets/controls",
      "model_module_version": "2.0.0",
      "model_name": "HTMLModel",
      "state": {
       "layout": "IPY_MODEL_90fc19c26bbc47698a99057bb59b87bd",
       "style": "IPY_MODEL_a124288866534a21a5be35b6a216f396",
       "value": " 1/1 [00:00&lt;00:00, 33.14images/s]"
      }
     },
     "c132c3d7de074774a9c1734d0be56db7": {
      "model_module": "@jupyter-widgets/controls",
      "model_module_version": "2.0.0",
      "model_name": "HBoxModel",
      "state": {
       "children": [
        "IPY_MODEL_b7806898a1bb46b0a86916cfd57f44d5",
        "IPY_MODEL_e98815d6637d4ca2bda649c514d3ae24",
        "IPY_MODEL_e1c9560ac63349f485a6de2b8d744d69"
       ],
       "layout": "IPY_MODEL_399ce0d594f2454f87aa89f54efe2320"
      }
     },
     "c1ffabb3acdb4abe8256e32518d0a85f": {
      "model_module": "@jupyter-widgets/controls",
      "model_module_version": "2.0.0",
      "model_name": "HBoxModel",
      "state": {
       "children": [
        "IPY_MODEL_ac5af9d389e24a60a45c88d9377aac48",
        "IPY_MODEL_a681b974d4c844e1936c07b5cf35c105",
        "IPY_MODEL_4dff79b6691b437182199ec702008b4f"
       ],
       "layout": "IPY_MODEL_dba4db70a3fe4af1b72816aed48d6cdd"
      }
     },
     "c2477996d9074d16afe60b40687d3a8b": {
      "model_module": "@jupyter-widgets/controls",
      "model_module_version": "2.0.0",
      "model_name": "ProgressStyleModel",
      "state": {
       "description_width": ""
      }
     },
     "c4b5538f41ea434e8c0da2ed5be8bacb": {
      "model_module": "@jupyter-widgets/base",
      "model_module_version": "2.0.0",
      "model_name": "LayoutModel",
      "state": {}
     },
     "c575b915f1f84fc0ab8459029803dcb5": {
      "model_module": "@jupyter-widgets/base",
      "model_module_version": "2.0.0",
      "model_name": "LayoutModel",
      "state": {}
     },
     "c74936961dd74761a5775aeee16b3798": {
      "model_module": "@jupyter-widgets/base",
      "model_module_version": "2.0.0",
      "model_name": "LayoutModel",
      "state": {}
     },
     "c7a9e24fdc18414a884c8b98da45e30e": {
      "model_module": "@jupyter-widgets/controls",
      "model_module_version": "2.0.0",
      "model_name": "FloatProgressModel",
      "state": {
       "bar_style": "success",
       "layout": "IPY_MODEL_af93f949e2d4441294bfa8bcd816021e",
       "max": 1,
       "style": "IPY_MODEL_27751218b31649cebf7ec8d81d313a1c",
       "value": 1
      }
     },
     "cb85e630420241ce9fdb0e58c1e896a5": {
      "model_module": "@jupyter-widgets/controls",
      "model_module_version": "2.0.0",
      "model_name": "HTMLStyleModel",
      "state": {
       "description_width": "",
       "font_size": null,
       "text_color": null
      }
     },
     "cc0c3df22c32437ab85ec72b7081815c": {
      "model_module": "@jupyter-widgets/controls",
      "model_module_version": "2.0.0",
      "model_name": "FloatProgressModel",
      "state": {
       "bar_style": "success",
       "layout": "IPY_MODEL_45df7dfd143b4de085defe9cf9a303fa",
       "max": 1,
       "style": "IPY_MODEL_f0684958c2db446ba77e60f0a5c9a4f1",
       "value": 1
      }
     },
     "ce7787a49b9c4a3992fc6a2b4bb6155c": {
      "model_module": "@jupyter-widgets/controls",
      "model_module_version": "2.0.0",
      "model_name": "HTMLModel",
      "state": {
       "layout": "IPY_MODEL_6fe8a6b104c941f0a0d8c77bdce2442b",
       "style": "IPY_MODEL_988b1f3977d24edf98bf85657d5a199f",
       "value": " 5400/5400 [00:23&lt;00:00, 251.80images/s]"
      }
     },
     "cea83e3675a04adc9f5d2d0aada104aa": {
      "model_module": "@jupyter-widgets/controls",
      "model_module_version": "2.0.0",
      "model_name": "FloatProgressModel",
      "state": {
       "bar_style": "success",
       "layout": "IPY_MODEL_a1f5337823fe4f8db621989a70aea5b9",
       "max": 1,
       "style": "IPY_MODEL_c2477996d9074d16afe60b40687d3a8b",
       "value": 1
      }
     },
     "ceb7971377f545aba340b3afe6a8b222": {
      "model_module": "@jupyter-widgets/controls",
      "model_module_version": "2.0.0",
      "model_name": "HTMLModel",
      "state": {
       "layout": "IPY_MODEL_8a7ee04615784f86b3ee1153d96497a0",
       "style": "IPY_MODEL_63c676cf9f904b8fa039c14906e2c8ef",
       "value": "Doing PCA(500): 100%"
      }
     },
     "cfc04cdf509e4d9a99a9eeb667c57eea": {
      "model_module": "@jupyter-widgets/base",
      "model_module_version": "2.0.0",
      "model_name": "LayoutModel",
      "state": {}
     },
     "cfdde3546caf4cb39f7ce8f996f487fa": {
      "model_module": "@jupyter-widgets/base",
      "model_module_version": "2.0.0",
      "model_name": "LayoutModel",
      "state": {}
     },
     "d1c56a311c314976b95055d3eae94d15": {
      "model_module": "@jupyter-widgets/base",
      "model_module_version": "2.0.0",
      "model_name": "LayoutModel",
      "state": {}
     },
     "d2e97917d21d4c74922628b7d4f87296": {
      "model_module": "@jupyter-widgets/controls",
      "model_module_version": "2.0.0",
      "model_name": "HTMLModel",
      "state": {
       "layout": "IPY_MODEL_73863984c62846199caf796338b79c17",
       "style": "IPY_MODEL_2f0ccc8949264b1ea9026badcd2315e7",
       "value": "Loading 5400 samples: 100%"
      }
     },
     "d3c003e051b942a4b214d41206301fc8": {
      "model_module": "@jupyter-widgets/base",
      "model_module_version": "2.0.0",
      "model_name": "LayoutModel",
      "state": {}
     },
     "d51c56b3f824420690f28d9b8f50b511": {
      "model_module": "@jupyter-widgets/base",
      "model_module_version": "2.0.0",
      "model_name": "LayoutModel",
      "state": {}
     },
     "d5f86aa6c511461687b9eb01d613f35e": {
      "model_module": "@jupyter-widgets/base",
      "model_module_version": "2.0.0",
      "model_name": "LayoutModel",
      "state": {}
     },
     "d6460b2248fa4cffa23e11d80f4ae788": {
      "model_module": "@jupyter-widgets/controls",
      "model_module_version": "2.0.0",
      "model_name": "HTMLModel",
      "state": {
       "layout": "IPY_MODEL_4df09aecba3945e3a1aed5caa24da59a",
       "style": "IPY_MODEL_007bcee4a1154227b8bbfa880914f07a",
       "value": "Loading feature vectors: 100%"
      }
     },
     "d7a7b243faa440e3a8f3e7c406a2c9da": {
      "model_module": "@jupyter-widgets/base",
      "model_module_version": "2.0.0",
      "model_name": "LayoutModel",
      "state": {}
     },
     "d8282da2c3084fc4b991e2af2bc2bff5": {
      "model_module": "@jupyter-widgets/base",
      "model_module_version": "2.0.0",
      "model_name": "LayoutModel",
      "state": {}
     },
     "db949c2922cc427a9d033aa6e81d8ecc": {
      "model_module": "@jupyter-widgets/controls",
      "model_module_version": "2.0.0",
      "model_name": "ProgressStyleModel",
      "state": {
       "description_width": ""
      }
     },
     "dba4db70a3fe4af1b72816aed48d6cdd": {
      "model_module": "@jupyter-widgets/base",
      "model_module_version": "2.0.0",
      "model_name": "LayoutModel",
      "state": {}
     },
     "dc0fc4ebd220437bb5d871dc96f9cabb": {
      "model_module": "@jupyter-widgets/controls",
      "model_module_version": "2.0.0",
      "model_name": "HTMLStyleModel",
      "state": {
       "description_width": "",
       "font_size": null,
       "text_color": null
      }
     },
     "dd9cfc8e01064271b3d5bbc0737fa57a": {
      "model_module": "@jupyter-widgets/controls",
      "model_module_version": "2.0.0",
      "model_name": "HTMLStyleModel",
      "state": {
       "description_width": "",
       "font_size": null,
       "text_color": null
      }
     },
     "dda39ce8b7c4411da15c8046ad4cecf7": {
      "model_module": "@jupyter-widgets/base",
      "model_module_version": "2.0.0",
      "model_name": "LayoutModel",
      "state": {}
     },
     "ddc709ec98d04a929588cf5605205403": {
      "model_module": "@jupyter-widgets/controls",
      "model_module_version": "2.0.0",
      "model_name": "HTMLModel",
      "state": {
       "layout": "IPY_MODEL_1166e0a878b4413ab3d1c0d81d1bbdea",
       "style": "IPY_MODEL_a66748166a4348f9ba3777d430788b15",
       "value": "Doing PCA(26): 100%"
      }
     },
     "e096a8ffbe344d7598906323cfcf0924": {
      "model_module": "@jupyter-widgets/controls",
      "model_module_version": "2.0.0",
      "model_name": "HTMLModel",
      "state": {
       "layout": "IPY_MODEL_f57ca4f99d0847ac84171d1f57f52476",
       "style": "IPY_MODEL_806a30703f8f41b2b0433d78ec70ec17",
       "value": " 5400/5400 [00:19&lt;00:00, 299.76images/s]"
      }
     },
     "e1c12fa692e14cb3bf08307f6e4c306c": {
      "model_module": "@jupyter-widgets/controls",
      "model_module_version": "2.0.0",
      "model_name": "HTMLStyleModel",
      "state": {
       "description_width": "",
       "font_size": null,
       "text_color": null
      }
     },
     "e1c9560ac63349f485a6de2b8d744d69": {
      "model_module": "@jupyter-widgets/controls",
      "model_module_version": "2.0.0",
      "model_name": "HTMLModel",
      "state": {
       "layout": "IPY_MODEL_952ab0e86b114612a08908474d8cd291",
       "style": "IPY_MODEL_9a1506b1e38441948ff8e71a02ebe047",
       "value": " 0/1 [00:00&lt;?, ?images/s]"
      }
     },
     "e2c9be48f4074838bfe860476cb69edf": {
      "model_module": "@jupyter-widgets/base",
      "model_module_version": "2.0.0",
      "model_name": "LayoutModel",
      "state": {}
     },
     "e2cef1802dc64469b8b02159939559c9": {
      "model_module": "@jupyter-widgets/base",
      "model_module_version": "2.0.0",
      "model_name": "LayoutModel",
      "state": {}
     },
     "e3a0d908feb44e68814fa73caa30a6da": {
      "model_module": "@jupyter-widgets/base",
      "model_module_version": "2.0.0",
      "model_name": "LayoutModel",
      "state": {}
     },
     "e42cec8ba06e4090a4649eeb67788ec4": {
      "model_module": "@jupyter-widgets/controls",
      "model_module_version": "2.0.0",
      "model_name": "HTMLStyleModel",
      "state": {
       "description_width": "",
       "font_size": null,
       "text_color": null
      }
     },
     "e5f443b295bf42f998709fd500c01ebb": {
      "model_module": "@jupyter-widgets/controls",
      "model_module_version": "2.0.0",
      "model_name": "HTMLModel",
      "state": {
       "layout": "IPY_MODEL_92215ee7baba402bae94bd8dc0ef808c",
       "style": "IPY_MODEL_228cf74550034eab86ef0582b5c4f564",
       "value": " 2/2 [00:00&lt;00:00,  2.34images/s]"
      }
     },
     "e6c88b76549c4d1fa6a28a15207aec9b": {
      "model_module": "@jupyter-widgets/controls",
      "model_module_version": "2.0.0",
      "model_name": "FloatProgressModel",
      "state": {
       "bar_style": "success",
       "layout": "IPY_MODEL_baf7768fce4442ed8a7ad5a0f3127528",
       "max": 5400,
       "style": "IPY_MODEL_4f59bddcec8140f3998f7fc3f9e326aa",
       "value": 5400
      }
     },
     "e7177e82d7db41a18d8134155631524b": {
      "model_module": "@jupyter-widgets/base",
      "model_module_version": "2.0.0",
      "model_name": "LayoutModel",
      "state": {}
     },
     "e78fe8b13bf2442b9252e287647711f5": {
      "model_module": "@jupyter-widgets/controls",
      "model_module_version": "2.0.0",
      "model_name": "HTMLModel",
      "state": {
       "layout": "IPY_MODEL_cfc04cdf509e4d9a99a9eeb667c57eea",
       "style": "IPY_MODEL_916d1e1d29f24ac085541bac9c4668cf",
       "value": " 1/1 [00:00&lt;00:00,  8.57images/s]"
      }
     },
     "e98815d6637d4ca2bda649c514d3ae24": {
      "model_module": "@jupyter-widgets/controls",
      "model_module_version": "2.0.0",
      "model_name": "FloatProgressModel",
      "state": {
       "bar_style": "danger",
       "layout": "IPY_MODEL_0b9fd0a49da34c639f5b66179e4be272",
       "max": 1,
       "style": "IPY_MODEL_687837422b184aaf898d83644366a69d"
      }
     },
     "e9dc7f8e311b46e69a1394ceef2cfdeb": {
      "model_module": "@jupyter-widgets/controls",
      "model_module_version": "2.0.0",
      "model_name": "HBoxModel",
      "state": {
       "children": [
        "IPY_MODEL_8674e03ac6f44daab929e923015c39ff",
        "IPY_MODEL_ff2f0eac8c064e1e8011c5d817325201",
        "IPY_MODEL_810d3282cd19447981923ca8653d5951"
       ],
       "layout": "IPY_MODEL_c575b915f1f84fc0ab8459029803dcb5"
      }
     },
     "ea935ebb4077402f83e305de7c672301": {
      "model_module": "@jupyter-widgets/controls",
      "model_module_version": "2.0.0",
      "model_name": "ProgressStyleModel",
      "state": {
       "description_width": ""
      }
     },
     "ebe7f08ae7c6459585ee218605728a04": {
      "model_module": "@jupyter-widgets/controls",
      "model_module_version": "2.0.0",
      "model_name": "HTMLStyleModel",
      "state": {
       "description_width": "",
       "font_size": null,
       "text_color": null
      }
     },
     "ec4a18a8889c420580cc0018db4f7f10": {
      "model_module": "@jupyter-widgets/controls",
      "model_module_version": "2.0.0",
      "model_name": "HTMLStyleModel",
      "state": {
       "description_width": "",
       "font_size": null,
       "text_color": null
      }
     },
     "ec725658d11d488d8451224ec6ad5464": {
      "model_module": "@jupyter-widgets/base",
      "model_module_version": "2.0.0",
      "model_name": "LayoutModel",
      "state": {}
     },
     "ecc7c503198c4be49bdd299c7d8d937b": {
      "model_module": "@jupyter-widgets/controls",
      "model_module_version": "2.0.0",
      "model_name": "HTMLModel",
      "state": {
       "layout": "IPY_MODEL_d5f86aa6c511461687b9eb01d613f35e",
       "style": "IPY_MODEL_b42156efb35a4e998815aac4e3165594",
       "value": " 1/1 [00:02&lt;00:00,  2.25s/images]"
      }
     },
     "ecda5a61008b4ba0aeec876992e25d72": {
      "model_module": "@jupyter-widgets/controls",
      "model_module_version": "2.0.0",
      "model_name": "ProgressStyleModel",
      "state": {
       "description_width": ""
      }
     },
     "ef11d89d2a894d1082e8bb8c95a394c3": {
      "model_module": "@jupyter-widgets/controls",
      "model_module_version": "2.0.0",
      "model_name": "HTMLStyleModel",
      "state": {
       "description_width": "",
       "font_size": null,
       "text_color": null
      }
     },
     "f00043f8295b4301af0783437b6b2485": {
      "model_module": "@jupyter-widgets/controls",
      "model_module_version": "2.0.0",
      "model_name": "HBoxModel",
      "state": {
       "children": [
        "IPY_MODEL_7026b30cb63f4199808666489e640402",
        "IPY_MODEL_cea83e3675a04adc9f5d2d0aada104aa",
        "IPY_MODEL_07cfccf9b93d42d9a63d640c4e973bbc"
       ],
       "layout": "IPY_MODEL_f3f7bc543d774b19ac7d64fa623e0704"
      }
     },
     "f0684958c2db446ba77e60f0a5c9a4f1": {
      "model_module": "@jupyter-widgets/controls",
      "model_module_version": "2.0.0",
      "model_name": "ProgressStyleModel",
      "state": {
       "description_width": ""
      }
     },
     "f1e4cf0dd95e4c238b8081ec661296e8": {
      "model_module": "@jupyter-widgets/base",
      "model_module_version": "2.0.0",
      "model_name": "LayoutModel",
      "state": {}
     },
     "f21373d14ed24ef185f58dfee8187b6f": {
      "model_module": "@jupyter-widgets/controls",
      "model_module_version": "2.0.0",
      "model_name": "HTMLStyleModel",
      "state": {
       "description_width": "",
       "font_size": null,
       "text_color": null
      }
     },
     "f3f0e71e297e4685a39b324bab008fed": {
      "model_module": "@jupyter-widgets/controls",
      "model_module_version": "2.0.0",
      "model_name": "HBoxModel",
      "state": {
       "children": [
        "IPY_MODEL_490fa24d71554827b7ae6b6a71ba9f16",
        "IPY_MODEL_baa58e8ae358455490d8249daed2865c",
        "IPY_MODEL_17544ad0b5c04629afdccceec193ceb8"
       ],
       "layout": "IPY_MODEL_0661dc1624c04cff8cdf464d05397579"
      }
     },
     "f3f7bc543d774b19ac7d64fa623e0704": {
      "model_module": "@jupyter-widgets/base",
      "model_module_version": "2.0.0",
      "model_name": "LayoutModel",
      "state": {}
     },
     "f42d240d6218439a8d4f682be18c0428": {
      "model_module": "@jupyter-widgets/controls",
      "model_module_version": "2.0.0",
      "model_name": "HBoxModel",
      "state": {
       "children": [
        "IPY_MODEL_d2e97917d21d4c74922628b7d4f87296",
        "IPY_MODEL_5952657f42fa4525b21f284c26d87edd",
        "IPY_MODEL_1d6e03882ff04486bf0383648aaa3a44"
       ],
       "layout": "IPY_MODEL_6ca2a57b89f24d0090fcf4fef0f92557"
      }
     },
     "f44cf3acd23740258a43275d69c3a9c7": {
      "model_module": "@jupyter-widgets/controls",
      "model_module_version": "2.0.0",
      "model_name": "HTMLModel",
      "state": {
       "layout": "IPY_MODEL_ff6351225e5d4d45838a494d3297f819",
       "style": "IPY_MODEL_5a1d0dd9c2b5491898f9bd944690fdd4",
       "value": " 1/1 [00:02&lt;00:00,  2.11s/images]"
      }
     },
     "f57ca4f99d0847ac84171d1f57f52476": {
      "model_module": "@jupyter-widgets/base",
      "model_module_version": "2.0.0",
      "model_name": "LayoutModel",
      "state": {}
     },
     "f85ceeb5244a4bbaa66c40dffc8ea8e7": {
      "model_module": "@jupyter-widgets/controls",
      "model_module_version": "2.0.0",
      "model_name": "ProgressStyleModel",
      "state": {
       "description_width": ""
      }
     },
     "f86f10d971ba43ed83a699efebb362aa": {
      "model_module": "@jupyter-widgets/controls",
      "model_module_version": "2.0.0",
      "model_name": "HTMLStyleModel",
      "state": {
       "description_width": "",
       "font_size": null,
       "text_color": null
      }
     },
     "f87f8f021dee4ca3a1f41c671509c2dc": {
      "model_module": "@jupyter-widgets/controls",
      "model_module_version": "2.0.0",
      "model_name": "ProgressStyleModel",
      "state": {
       "description_width": ""
      }
     },
     "fab78c6c9a5c4571a5f105afe976f3d5": {
      "model_module": "@jupyter-widgets/controls",
      "model_module_version": "2.0.0",
      "model_name": "HTMLStyleModel",
      "state": {
       "description_width": "",
       "font_size": null,
       "text_color": null
      }
     },
     "fac43f1456a34d9ab1c7116890d34d95": {
      "model_module": "@jupyter-widgets/controls",
      "model_module_version": "2.0.0",
      "model_name": "HTMLStyleModel",
      "state": {
       "description_width": "",
       "font_size": null,
       "text_color": null
      }
     },
     "fb49ab7b051c4a6a82539b637c1ae85f": {
      "model_module": "@jupyter-widgets/controls",
      "model_module_version": "2.0.0",
      "model_name": "HBoxModel",
      "state": {
       "children": [
        "IPY_MODEL_ddc709ec98d04a929588cf5605205403",
        "IPY_MODEL_99ad0302ad7d4e72abcd2e75665d48d5",
        "IPY_MODEL_15f4f15ce0ed450b8c30eaa8413edad5"
       ],
       "layout": "IPY_MODEL_07fd81ab76c54c00941a9b915a864d49"
      }
     },
     "ff2f0eac8c064e1e8011c5d817325201": {
      "model_module": "@jupyter-widgets/controls",
      "model_module_version": "2.0.0",
      "model_name": "FloatProgressModel",
      "state": {
       "bar_style": "success",
       "layout": "IPY_MODEL_5dd5e328ef1a46afa2c7cea7340b843b",
       "max": 1,
       "style": "IPY_MODEL_b078c6cd73ab4934b2a4abae1928c7dd",
       "value": 1
      }
     },
     "ff6351225e5d4d45838a494d3297f819": {
      "model_module": "@jupyter-widgets/base",
      "model_module_version": "2.0.0",
      "model_name": "LayoutModel",
      "state": {}
     }
    },
    "version_major": 2,
    "version_minor": 0
   }
  }
 },
 "nbformat": 4,
 "nbformat_minor": 5
}
