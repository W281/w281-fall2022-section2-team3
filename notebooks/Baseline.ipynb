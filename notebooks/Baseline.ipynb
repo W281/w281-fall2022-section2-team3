{
 "cells": [
  {
   "cell_type": "markdown",
   "id": "193dca06-51e8-4263-b8b1-68b185e3442f",
   "metadata": {},
   "source": [
    "# 0. Prerequisites"
   ]
  },
  {
   "cell_type": "code",
   "execution_count": 3,
   "id": "5cde41c0-4b6f-4cd1-b54d-ee0d51246117",
   "metadata": {},
   "outputs": [
    {
     "name": "stdout",
     "output_type": "stream",
     "text": [
      "TensorFlow version: 2.10.0\n",
      "Python Platform: macOS-12.6-arm64-arm-64bit\n",
      "Tensor Flow Version: 2.10.0\n",
      "Keras Version: 2.10.0\n",
      "\n",
      "Python 3.9.12 (main, Jun  1 2022, 06:34:44) \n",
      "[Clang 12.0.0 ]\n",
      "Pandas 1.5.2\n",
      "Scikit-Learn 1.1.3\n",
      "SciPy 1.9.3\n",
      "GPU is available\n"
     ]
    }
   ],
   "source": [
    "import configuration\n",
    "import coremltools\n",
    "import cv2\n",
    "import glob\n",
    "import os\n",
    "import platform\n",
    "import preprocessor\n",
    "import random\n",
    "import statistics\n",
    "import sys\n",
    "import time\n",
    "import viz\n",
    "\n",
    "%matplotlib inline\n",
    "import matplotlib.pyplot as plt\n",
    "import numpy as np\n",
    "import pandas as pd\n",
    "import scipy as sp\n",
    "import tensorflow as tf\n",
    "print(f'TensorFlow version: {tf.__version__}')\n",
    "\n",
    "from sklearn.model_selection import StratifiedKFold\n",
    "from tensorflow import keras\n",
    "from tensorflow.keras.layers import ZeroPadding2D, Conv2D, MaxPooling2D, Flatten, Dense, Dropout, Input\n",
    "from tensorflow.keras.layers import GlobalAveragePooling2D, MaxPooling2D\n",
    "from tensorflow.keras.models import Model, Sequential\n",
    "from tensorflow.keras.callbacks import ModelCheckpoint\n",
    "from tensorflow.keras import regularizers\n",
    "from tensorflow.keras.preprocessing.image import ImageDataGenerator\n",
    "from tensorflow.keras.models import load_model\n",
    "from PIL import Image\n",
    "\n",
    "print(f\"Python Platform: {platform.platform()}\")\n",
    "print(f\"Tensor Flow Version: {tf.__version__}\")\n",
    "print(f\"Keras Version: {keras.__version__}\")\n",
    "print()\n",
    "print(f\"Python {sys.version}\")\n",
    "print(f\"Pandas {pd.__version__}\")\n",
    "print(f\"Scikit-Learn {sk.__version__}\")\n",
    "print(f\"SciPy {sp.__version__}\")\n",
    "gpu = len(tf.config.list_physical_devices('GPU'))>0\n",
    "print(\"GPU is\", \"available\" if gpu else \"NOT AVAILABLE\")\n",
    "\n",
    "preproc = preprocessor.PreProcessor()\n",
    "config = configuration.Configuration()\n",
    "vizualizer = viz.Vizualizer()"
   ]
  },
  {
   "cell_type": "code",
   "execution_count": 4,
   "id": "91719889-ddbd-4c73-8f19-19f7a1602524",
   "metadata": {},
   "outputs": [],
   "source": [
    "# Helper methods\n",
    "# Ref: https://coremltools.readme.io/docs/introductory-quickstart\n",
    "def convert_tf_saved_model(in_model_file, out_model_file):\n",
    "    # Define the input type as image, \n",
    "    # set pre-processing parameters to normalize the image \n",
    "    # to have its values in the interval [-1,1] \n",
    "    # as expected by the mobilenet model\n",
    "    image_input = coremltools.ImageType(shape=(1, 224, 224, 3,),\n",
    "                               bias=[-1,-1,-1], scale=1/255.)\n",
    "\n",
    "    # set class labels\n",
    "    class_labels = list(config.class_dict.values())\n",
    "    \n",
    "    classifier_config = coremltools.ClassifierConfig(class_labels)\n",
    "\n",
    "    model = load_model(in_model_file)\n",
    "    \n",
    "    print(\"[INFO] converting model\")\n",
    "    coreml_model = coremltools.convert(\n",
    "        model, \n",
    "        inputs=[image_input], \n",
    "        classifier_config=classifier_config,\n",
    "    )    \n",
    "\n",
    "    print(\"[INFO] saving model\")\n",
    "    coreml_model.save(out_model_file)"
   ]
  },
  {
   "cell_type": "markdown",
   "id": "68f22b3f-3737-4d8f-a1e2-493dba84f9f3",
   "metadata": {},
   "source": [
    "# 1. Data Import"
   ]
  },
  {
   "cell_type": "code",
   "execution_count": 4,
   "id": "b1aa4825-3146-4624-84ae-dd4cecdcc546",
   "metadata": {},
   "outputs": [
    {
     "name": "stdout",
     "output_type": "stream",
     "text": [
      "Found 17943 images belonging to 10 classes.\n",
      "Found 4481 images belonging to 10 classes.\n"
     ]
    }
   ],
   "source": [
    "train_datagen = ImageDataGenerator(\n",
    "        rescale=1./255, validation_split=0.2)\n",
    "\n",
    "train_generator = train_datagen.flow_from_directory(\n",
    "        config.TRAIN_DATA,\n",
    "        target_size=(224, 224),\n",
    "        batch_size=32,\n",
    "        class_mode='categorical',\n",
    "        subset='training')\n",
    "\n",
    "val_generator = train_datagen.flow_from_directory(\n",
    "        config.TRAIN_DATA,\n",
    "        target_size=(224,224),\n",
    "        batch_size=32,\n",
    "        class_mode='categorical',\n",
    "        subset='validation')\n",
    "\n",
    "imgs, labels = next(train_generator)"
   ]
  },
  {
   "cell_type": "code",
   "execution_count": 7,
   "id": "dd76939c-b1ce-4b24-91a0-38dc637fba29",
   "metadata": {},
   "outputs": [
    {
     "data": {
      "text/plain": [
       "(32, 224, 224, 3)"
      ]
     },
     "execution_count": 7,
     "metadata": {},
     "output_type": "execute_result"
    }
   ],
   "source": [
    "imgs.shape"
   ]
  },
  {
   "cell_type": "code",
   "execution_count": null,
   "id": "1103869e-fb9a-4d1e-a312-ce79543589f0",
   "metadata": {},
   "outputs": [],
   "source": []
  },
  {
   "cell_type": "code",
   "execution_count": null,
   "id": "870e21f8-5d8f-4ffc-97d7-c67cfeb246e6",
   "metadata": {},
   "outputs": [],
   "source": [
    "# k-fold\n",
    "kfold = StratifiedKFold(n_splits=N_SPLIT,shuffle=True,random_state=42)"
   ]
  },
  {
   "cell_type": "code",
   "execution_count": null,
   "id": "1b1fb7c8-743d-488c-be1c-5a8dbf0df176",
   "metadata": {},
   "outputs": [],
   "source": []
  },
  {
   "cell_type": "code",
   "execution_count": null,
   "id": "100ccca5-3d24-482d-a6ca-1ff5e2008f75",
   "metadata": {},
   "outputs": [],
   "source": []
  },
  {
   "cell_type": "code",
   "execution_count": null,
   "id": "6ab9996d-5b50-4348-b629-5425f2411c84",
   "metadata": {},
   "outputs": [],
   "source": []
  },
  {
   "cell_type": "code",
   "execution_count": null,
   "id": "768acee0-e871-4f7d-bd29-f4b0ee1f5b16",
   "metadata": {},
   "outputs": [],
   "source": []
  },
  {
   "cell_type": "code",
   "execution_count": null,
   "id": "08915889-1e31-46b3-bc21-acaa72649cec",
   "metadata": {},
   "outputs": [],
   "source": []
  },
  {
   "cell_type": "code",
   "execution_count": null,
   "id": "a7f8c44c-4028-4d07-b137-848aa94409cd",
   "metadata": {},
   "outputs": [],
   "source": []
  },
  {
   "cell_type": "code",
   "execution_count": null,
   "id": "ca93e4ea-6a0e-40f5-9d94-6a1eed7b2eb4",
   "metadata": {},
   "outputs": [],
   "source": []
  },
  {
   "cell_type": "code",
   "execution_count": null,
   "id": "72d0d953-488b-4e66-a733-9ed89bab4fb0",
   "metadata": {},
   "outputs": [],
   "source": []
  },
  {
   "cell_type": "code",
   "execution_count": null,
   "id": "1eb79cc8-ad62-43ee-a02f-1f1499d42285",
   "metadata": {},
   "outputs": [],
   "source": []
  },
  {
   "cell_type": "code",
   "execution_count": null,
   "id": "b1e963f9-e95d-421d-9287-ee1b83c10582",
   "metadata": {},
   "outputs": [],
   "source": []
  },
  {
   "cell_type": "code",
   "execution_count": null,
   "id": "9dc5a344-6ad4-421d-892b-f767379b95d8",
   "metadata": {},
   "outputs": [],
   "source": []
  },
  {
   "cell_type": "code",
   "execution_count": null,
   "id": "d965c084-6f1e-4ba2-ac20-8b050b362da8",
   "metadata": {},
   "outputs": [],
   "source": []
  },
  {
   "cell_type": "code",
   "execution_count": null,
   "id": "101b8347-2351-4251-bcdd-c40544c2e541",
   "metadata": {},
   "outputs": [],
   "source": []
  },
  {
   "cell_type": "code",
   "execution_count": null,
   "id": "7c2141e0-f96a-4807-938f-da9213421bf0",
   "metadata": {},
   "outputs": [],
   "source": []
  },
  {
   "cell_type": "code",
   "execution_count": null,
   "id": "519ae244-dee3-46ed-bd91-a4a239b5890e",
   "metadata": {},
   "outputs": [],
   "source": []
  },
  {
   "cell_type": "code",
   "execution_count": null,
   "id": "cfbbfbe1-3cc5-447e-a1ab-7d7ba421e158",
   "metadata": {},
   "outputs": [],
   "source": []
  }
 ],
 "metadata": {
  "kernelspec": {
   "display_name": "Python 3 (ipykernel)",
   "language": "python",
   "name": "python3"
  },
  "language_info": {
   "codemirror_mode": {
    "name": "ipython",
    "version": 3
   },
   "file_extension": ".py",
   "mimetype": "text/x-python",
   "name": "python",
   "nbconvert_exporter": "python",
   "pygments_lexer": "ipython3",
   "version": "3.9.12"
  }
 },
 "nbformat": 4,
 "nbformat_minor": 5
}
