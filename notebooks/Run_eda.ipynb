{
 "cells": [
  {
   "cell_type": "markdown",
   "id": "4669f297-d659-453d-a2e2-551c36fe10bf",
   "metadata": {
    "tags": []
   },
   "source": [
    "# Introduction\n",
    "Feature extraction is a time intensive effort and hence we have isolated all steps of feature extraction to this notebook. Once the feature extraction is done, we will use the [W281_Fall_2022_Final_Report_Driver_Behavior_Detection](W281_Fall_2022_Final_Report_Driver_Behavior_Detection.ipynb) notebook for feature analysis, model training and model evaluation.\n",
    "## Prerequisites For This Notebook\n",
    "This notebook needs that all depedencies are installed. Please follow the steps in [Readme](../README.md) for setting up the environment and installing dependencies."
   ]
  },
  {
   "cell_type": "markdown",
   "id": "889948d0-dcc1-42a3-b360-9f0210e8284f",
   "metadata": {
    "tags": []
   },
   "source": [
    "## Step 0: Notebook Initialization"
   ]
  },
  {
   "cell_type": "code",
   "execution_count": 1,
   "id": "cee50a6e-f278-422d-ba2d-c844ab37a4d6",
   "metadata": {},
   "outputs": [],
   "source": [
    "%load_ext autoreload\n",
    "%autoreload 2\n",
    "%matplotlib inline"
   ]
  },
  {
   "cell_type": "code",
   "execution_count": 2,
   "id": "24e00710-fca8-41ce-8319-56209c1d1503",
   "metadata": {},
   "outputs": [
    {
     "name": "stderr",
     "output_type": "stream",
     "text": [
      "2022-12-10 22:04:09.058910: I tensorflow/core/platform/cpu_feature_guard.cc:193] This TensorFlow binary is optimized with oneAPI Deep Neural Network Library (oneDNN) to use the following CPU instructions in performance-critical operations:  AVX2 FMA\n",
      "To enable them in other operations, rebuild TensorFlow with the appropriate compiler flags.\n",
      "WARNING:coremltools:TensorFlow version 2.10.1 has not been tested with coremltools. You may run into unexpected errors. TensorFlow 2.10.0 is the most recent version that has been tested.\n",
      "WARNING:coremltools:Torch version 1.13.0 has not been tested with coremltools. You may run into unexpected errors. Torch 1.12.1 is the most recent version that has been tested.\n",
      "WARNING:root:TensorFlow Decision Forests 1.0.1 is compatible with the following TensorFlow Versions: ['2.10.0']. However, TensorFlow 2.10.1 was detected. This can cause issues with the TF API and symbols in the custom C++ ops. See the TF and TF-DF compatibility table at https://github.com/tensorflow/decision-forests/blob/main/documentation/known_issues.md#compatibility-table.\n"
     ]
    }
   ],
   "source": [
    "import time\n",
    "import os\n",
    "from tqdm.notebook import tqdm\n",
    "from collections import defaultdict\n",
    "\n",
    "import numpy as np\n",
    "import pandas as pd\n",
    "\n",
    "import seaborn as sns\n",
    "from matplotlib import pyplot as plt\n",
    "import matplotlib.ticker as ticker\n",
    "import matplotlib\n",
    "\n",
    "import cv2 as cv\n",
    "import torch\n",
    "from torchvision import transforms\n",
    "\n",
    "import transformers\n",
    "import eda_helpers\n",
    "import feature_helpers\n",
    "import viz\n",
    "import configuration\n",
    "import customdataset\n",
    "import enums\n",
    "\n",
    "device = 'cpu'\n",
    "config = configuration.Configuration()\n",
    "face_config = configuration.FaceConfig(config)\n",
    "pose_config = configuration.PoseConfig(config)\n",
    "vizualizer = viz.Vizualizer(config, face_config, pose_config, tqdm=tqdm)\n",
    "feature_extractor = feature_helpers.FeatureExtractor(config, face_config, pose_config, tqdm)\n",
    "\n",
    "IMAGE_TYPES = [enums.ImageTypes.ORIGINAL, enums.ImageTypes.POSE, enums.ImageTypes.FACE]"
   ]
  },
  {
   "cell_type": "markdown",
   "id": "c48b4486-2111-41ce-ae7f-4afa7f3d9ab1",
   "metadata": {
    "tags": []
   },
   "source": [
    "## Step 1: Face Extraction\n",
    "We will use pre-trained Multi-task Cascaded Convolutional Networks model[<sup>1</sup>](#cite_mtcnn) to extract faces from our images. The MTCNN model uses 3 stages:\n",
    "* Stage 1: The Proposal Network (P-Net), a fully connected network, that predicts bounding boxes around faces in the image\n",
    "* Stage 2: The Refine Network (R-Net), a CNN with dense layer to predict if the boxes identified by P-Net has a face or not\n",
    "* Stage 3: The Output Network (O-Net), another CNN that outputs the 5 facial keypoints.\n"
   ]
  },
  {
   "cell_type": "code",
   "execution_count": 3,
   "id": "821f84fa-b7fb-4099-9f44-a608e89daeb1",
   "metadata": {},
   "outputs": [
    {
     "data": {
      "application/vnd.jupyter.widget-view+json": {
       "model_id": "c53477ff39134d0599661248b34b12ed",
       "version_major": 2,
       "version_minor": 0
      },
      "text/plain": [
       "  0%|          | 0/22424 [00:00<?, ?files/s]"
      ]
     },
     "metadata": {},
     "output_type": "display_data"
    },
    {
     "name": "stdout",
     "output_type": "stream",
     "text": [
      "CPU times: user 5h 4min 2s, sys: 17min 44s, total: 5h 21min 47s\n",
      "Wall time: 54min 50s\n"
     ]
    }
   ],
   "source": [
    "%%time\n",
    "# Extract face from each image. Takes a few hours to run.\n",
    "def extract_faces():\n",
    "    eda_helpers.FaceExtractor(config, tqdm).extract_faces(face_config.FEATURES_FOLDER, face_config.FACE_SUMMARY_NAME, config.ANNOTATION_FILE)\n",
    "extract_faces() # Commented out as this takes a long time to run on our 20,000+ images."
   ]
  },
  {
   "cell_type": "markdown",
   "id": "8a3dbf4d-09e7-4daa-8313-9992836cd11b",
   "metadata": {
    "tags": []
   },
   "source": [
    "## Step 2: Train-Test-Validation Split\n",
    "Our training dataset has 22,000+ 640x480x3 color images. In order to iterate faster, we decided to limit the dataset to only those images for which MTCNN model was able to identify faces. This brought our data set to about 600 images per class. We applied 80-20-20 split and created the train-validation-test splits. This also helped make our next step of pose detection more manageable."
   ]
  },
  {
   "cell_type": "code",
   "execution_count": 6,
   "id": "9632eb5f-4153-4ba3-ab34-ccaaba0b7b71",
   "metadata": {},
   "outputs": [
    {
     "name": "stdout",
     "output_type": "stream",
     "text": [
      "Total samples: 22424\n"
     ]
    },
    {
     "data": {
      "application/vnd.jupyter.widget-view+json": {
       "model_id": "2b80940016724fe8bc58a24a530a270a",
       "version_major": 2,
       "version_minor": 0
      },
      "text/plain": [
       "  0%|          | 0/6000 [00:00<?, ?file/s]"
      ]
     },
     "metadata": {},
     "output_type": "display_data"
    },
    {
     "name": "stdout",
     "output_type": "stream",
     "text": [
      "Validating and saving the split-up...\n",
      "Created 4800 training samples\n",
      "Created 600 validation samples\n",
      "Created 600 testing samples\n",
      "Left with 16424 unused samples\n"
     ]
    }
   ],
   "source": [
    "def split_dataset():\n",
    "    splitter = eda_helpers.SampleSplitter(config, face_config, pose_config, tqdm=tqdm)\n",
    "    splitter.sample(config.class_dict.keys(), samples_per_class=[600, 480, 60, 60], out_file=config.ANNOTATION_FILE)\n",
    "\n",
    "split_dataset() # We have commented this code out as this is an one time task."
   ]
  },
  {
   "cell_type": "markdown",
   "id": "d1aa72fd-5ee1-44cd-97bb-1c7a9cacca54",
   "metadata": {
    "tags": []
   },
   "source": [
    "## Step 3: Pose Detection For Train-Test-Validation Splits\n",
    "Our intution is that the pose of the driver can be used to differentiate the classes. In order to build pose based features we want to extract human pose from the images using Google's [Movenet model](https://www.tensorflow.org/hub/tutorials/movenet) which is based on MobileNetV2[<sup>2</sup>](#cite_mobilenet)."
   ]
  },
  {
   "cell_type": "code",
   "execution_count": 18,
   "id": "0acab85b-4c59-4c0f-8b4f-57d4c68aad8b",
   "metadata": {},
   "outputs": [
    {
     "name": "stdout",
     "output_type": "stream",
     "text": [
      "Switching MatPlotLib backend from agg to Agg\n",
      "Loading model...\n"
     ]
    },
    {
     "data": {
      "application/vnd.jupyter.widget-view+json": {
       "model_id": "4e92c291601a47a1adc0714d17782b40",
       "version_major": 2,
       "version_minor": 0
      },
      "text/plain": [
       "  0%|          | 0/6000 [00:00<?, ?it/s]"
      ]
     },
     "metadata": {},
     "output_type": "display_data"
    },
    {
     "name": "stdout",
     "output_type": "stream",
     "text": [
      "CPU times: user 1h 27min 5s, sys: 14min, total: 1h 41min 5s\n",
      "Wall time: 1h 39min 46s\n"
     ]
    }
   ],
   "source": [
    "%%time\n",
    "def extract_pose():\n",
    "    original_backend = matplotlib.get_backend()\n",
    "    print(f'Switching MatPlotLib backend from {original_backend} to Agg')\n",
    "    # Pose extraction uses plt's canvas. We need a non-interactive backend to avoid memory leaks.\n",
    "    matplotlib.use('Agg')\n",
    "    pose_extractor = eda_helpers.PoseExtractor(config, face_config, pose_config, tqdm)\n",
    "    pose_extractor.extract_poses(pose_config.FEATURES_FOLDER, pose_config.SUMMARY_NAME)\n",
    "    matplotlib.use(original_backend)\n",
    "\n",
    "extract_pose() #Takes long time"
   ]
  },
  {
   "cell_type": "markdown",
   "id": "1e279c55-322d-421c-a813-70b03990e249",
   "metadata": {
    "tags": []
   },
   "source": [
    "## Step 4: Generate Feature Vectors"
   ]
  },
  {
   "cell_type": "code",
   "execution_count": 11,
   "id": "992981a0-f705-4247-8999-7f41a94e0496",
   "metadata": {},
   "outputs": [
    {
     "data": {
      "application/vnd.jupyter.widget-view+json": {
       "model_id": "f9b03995aa9842ef848d7424db36599e",
       "version_major": 2,
       "version_minor": 0
      },
      "text/plain": [
       "Loading 6000 samples:   0%|          | 0/6000 [00:00<?, ?samples/s]"
      ]
     },
     "metadata": {},
     "output_type": "display_data"
    },
    {
     "name": "stdout",
     "output_type": "stream",
     "text": [
      "CPU times: user 7min 46s, sys: 1min 21s, total: 9min 8s\n",
      "Wall time: 1min 36s\n"
     ]
    }
   ],
   "source": [
    "%%time  \n",
    "# faces, original_images, poses, y, filenames = load_data(30, other_types=[enums.ImageTypes.ORIGINAL, enums.ImageTypes.POSE, enums.ImageTypes.FACE], included_labels=config.included_labels)\n",
    "feature_extractor = feature_helpers.FeatureExtractor(config, face_config, pose_config, tqdm)\n",
    "data = feature_extractor.load_data(image_types=IMAGE_TYPES, sample_type=enums.SampleType.TRAIN_TEST_VALIDATION, shuffle=True)"
   ]
  },
  {
   "cell_type": "code",
   "execution_count": 12,
   "id": "7fb75a32-b4bd-4eaa-b433-efe266fde75f",
   "metadata": {},
   "outputs": [
    {
     "data": {
      "application/vnd.jupyter.widget-view+json": {
       "model_id": "4a22f2b640c443e29850b86cc594dd7f",
       "version_major": 2,
       "version_minor": 0
      },
      "text/plain": [
       "Building HOG Features:   0%|          | 0/6000 [00:00<?, ?images/s]"
      ]
     },
     "metadata": {},
     "output_type": "display_data"
    },
    {
     "name": "stdout",
     "output_type": "stream",
     "text": [
      "CPU times: user 2min 31s, sys: 2.29 s, total: 2min 33s\n",
      "Wall time: 2min 33s\n"
     ]
    }
   ],
   "source": [
    "%%time\n",
    "hog_features, hogs = feature_extractor.get_hog_features(data[enums.ImageTypes.FACE.name.lower()])"
   ]
  },
  {
   "cell_type": "code",
   "execution_count": 14,
   "id": "62ab2d5f-9ab0-401f-a589-48d622240663",
   "metadata": {},
   "outputs": [
    {
     "data": {
      "application/vnd.jupyter.widget-view+json": {
       "model_id": "7fd9700905ea4e4e8064d95be50e07d0",
       "version_major": 2,
       "version_minor": 0
      },
      "text/plain": [
       "Building Pixel Features:   0%|          | 0/6000 [00:00<?, ?images/s]"
      ]
     },
     "metadata": {},
     "output_type": "display_data"
    },
    {
     "name": "stdout",
     "output_type": "stream",
     "text": [
      "CPU times: user 494 ms, sys: 434 ms, total: 928 ms\n",
      "Wall time: 944 ms\n"
     ]
    }
   ],
   "source": [
    "%%time\n",
    "pixel_features = feature_extractor.get_pixel_features(data[enums.ImageTypes.FACE.name.lower()])"
   ]
  },
  {
   "cell_type": "code",
   "execution_count": 19,
   "id": "56ca0238-ff91-487b-af89-069bd685b135",
   "metadata": {},
   "outputs": [
    {
     "data": {
      "application/vnd.jupyter.widget-view+json": {
       "model_id": "512aa0a5c5ca4a80910a0d3ad50faed1",
       "version_major": 2,
       "version_minor": 0
      },
      "text/plain": [
       "Building ResNet152 Features:   0%|          | 0/6000 [00:00<?, ?images/s]"
      ]
     },
     "metadata": {},
     "output_type": "display_data"
    },
    {
     "name": "stdout",
     "output_type": "stream",
     "text": [
      "CPU times: user 2h 2min 32s, sys: 23min 26s, total: 2h 25min 59s\n",
      "Wall time: 25min 12s\n"
     ]
    }
   ],
   "source": [
    "%%time\n",
    "# GPU does not seems to help much.\n",
    "cnn_features = feature_extractor.get_cnn_features(data[enums.ImageTypes.ORIGINAL.name.lower()], device='cpu')"
   ]
  },
  {
   "cell_type": "code",
   "execution_count": 16,
   "id": "c0a283df-7828-40c2-841b-78823a7efe4f",
   "metadata": {},
   "outputs": [
    {
     "data": {
      "application/vnd.jupyter.widget-view+json": {
       "model_id": "a5136dbd8beb45aaa596fef29e36f050",
       "version_major": 2,
       "version_minor": 0
      },
      "text/plain": [
       "Building Edge Features:   0%|          | 0/6000 [00:00<?, ?images/s]"
      ]
     },
     "metadata": {},
     "output_type": "display_data"
    },
    {
     "name": "stdout",
     "output_type": "stream",
     "text": [
      "CPU times: user 4.3 s, sys: 1.39 s, total: 5.69 s\n",
      "Wall time: 1.56 s\n"
     ]
    }
   ],
   "source": [
    "%%time\n",
    "canny_features, cannies = feature_extractor.get_canny_features(data[enums.ImageTypes.FACE.name.lower()])"
   ]
  },
  {
   "cell_type": "code",
   "execution_count": 20,
   "id": "e68d4777-94f7-430f-988e-a1756b9998c6",
   "metadata": {},
   "outputs": [
    {
     "data": {
      "application/vnd.jupyter.widget-view+json": {
       "model_id": "0ab3aa5658f84f5594046136ba8c5cfa",
       "version_major": 2,
       "version_minor": 0
      },
      "text/plain": [
       "Building Pixel Features:   0%|          | 0/6000 [00:00<?, ?images/s]"
      ]
     },
     "metadata": {},
     "output_type": "display_data"
    },
    {
     "name": "stdout",
     "output_type": "stream",
     "text": [
      "CPU times: user 1.69 s, sys: 3.62 s, total: 5.31 s\n",
      "Wall time: 7.26 s\n"
     ]
    }
   ],
   "source": [
    "%%time\n",
    "pose_features = feature_extractor.get_pixel_features(data[enums.ImageTypes.POSE.name.lower()])"
   ]
  },
  {
   "cell_type": "code",
   "execution_count": 21,
   "id": "03aee12d-1e2d-4aa8-ab61-5f344f98d41c",
   "metadata": {
    "scrolled": true,
    "tags": []
   },
   "outputs": [
    {
     "data": {
      "application/vnd.jupyter.widget-view+json": {
       "model_id": "a8a78f6a4a1649e294d536e107492b79",
       "version_major": 2,
       "version_minor": 0
      },
      "text/plain": [
       "Loading 6000 samples:   0%|          | 0/6000 [00:00<?, ?samples/s]"
      ]
     },
     "metadata": {},
     "output_type": "display_data"
    },
    {
     "data": {
      "application/vnd.jupyter.widget-view+json": {
       "model_id": "636772b1526c47c3838930878e29efb2",
       "version_major": 2,
       "version_minor": 0
      },
      "text/plain": [
       "Building Body-Part Features:   0%|          | 0/6000 [00:00<?, ?images/s]"
      ]
     },
     "metadata": {},
     "output_type": "display_data"
    },
    {
     "name": "stderr",
     "output_type": "stream",
     "text": [
      "/Users/rasentha/mids/w281/project/w281-fall2022-section2-team3/notebooks/feature_helpers.py:138: RankWarning: Polyfit may be poorly conditioned\n",
      "  left_arm_feature, l_exists = self._get_bp_feature_for([255, 115, 75], channel_1) # (255, 115, 75) is color for left arm\n",
      "/Users/rasentha/mids/w281/project/w281-fall2022-section2-team3/notebooks/feature_helpers.py:138: RankWarning: Polyfit may be poorly conditioned\n",
      "  left_arm_feature, l_exists = self._get_bp_feature_for([255, 115, 75], channel_1) # (255, 115, 75) is color for left arm\n",
      "/Users/rasentha/mids/w281/project/w281-fall2022-section2-team3/notebooks/feature_helpers.py:138: RankWarning: Polyfit may be poorly conditioned\n",
      "  left_arm_feature, l_exists = self._get_bp_feature_for([255, 115, 75], channel_1) # (255, 115, 75) is color for left arm\n",
      "/Users/rasentha/mids/w281/project/w281-fall2022-section2-team3/notebooks/feature_helpers.py:138: RankWarning: Polyfit may be poorly conditioned\n",
      "  left_arm_feature, l_exists = self._get_bp_feature_for([255, 115, 75], channel_1) # (255, 115, 75) is color for left arm\n",
      "/Users/rasentha/mids/w281/project/w281-fall2022-section2-team3/notebooks/feature_helpers.py:139: RankWarning: Polyfit may be poorly conditioned\n",
      "  right_arm_feature, r_exists = self._get_bp_feature_for([255, 140, 56], channel_1) # (255, 140, 56) is color for right arm\n",
      "/Users/rasentha/mids/w281/project/w281-fall2022-section2-team3/notebooks/feature_helpers.py:138: RankWarning: Polyfit may be poorly conditioned\n",
      "  left_arm_feature, l_exists = self._get_bp_feature_for([255, 115, 75], channel_1) # (255, 115, 75) is color for left arm\n",
      "/Users/rasentha/mids/w281/project/w281-fall2022-section2-team3/notebooks/feature_helpers.py:138: RankWarning: Polyfit may be poorly conditioned\n",
      "  left_arm_feature, l_exists = self._get_bp_feature_for([255, 115, 75], channel_1) # (255, 115, 75) is color for left arm\n",
      "/Users/rasentha/mids/w281/project/w281-fall2022-section2-team3/notebooks/feature_helpers.py:138: RankWarning: Polyfit may be poorly conditioned\n",
      "  left_arm_feature, l_exists = self._get_bp_feature_for([255, 115, 75], channel_1) # (255, 115, 75) is color for left arm\n",
      "/Users/rasentha/mids/w281/project/w281-fall2022-section2-team3/notebooks/feature_helpers.py:138: RankWarning: Polyfit may be poorly conditioned\n",
      "  left_arm_feature, l_exists = self._get_bp_feature_for([255, 115, 75], channel_1) # (255, 115, 75) is color for left arm\n",
      "/Users/rasentha/mids/w281/project/w281-fall2022-section2-team3/notebooks/feature_helpers.py:138: RankWarning: Polyfit may be poorly conditioned\n",
      "  left_arm_feature, l_exists = self._get_bp_feature_for([255, 115, 75], channel_1) # (255, 115, 75) is color for left arm\n",
      "/Users/rasentha/mids/w281/project/w281-fall2022-section2-team3/notebooks/feature_helpers.py:138: RankWarning: Polyfit may be poorly conditioned\n",
      "  left_arm_feature, l_exists = self._get_bp_feature_for([255, 115, 75], channel_1) # (255, 115, 75) is color for left arm\n",
      "/Users/rasentha/mids/w281/project/w281-fall2022-section2-team3/notebooks/feature_helpers.py:138: RankWarning: Polyfit may be poorly conditioned\n",
      "  left_arm_feature, l_exists = self._get_bp_feature_for([255, 115, 75], channel_1) # (255, 115, 75) is color for left arm\n",
      "/Users/rasentha/mids/w281/project/w281-fall2022-section2-team3/notebooks/feature_helpers.py:138: RankWarning: Polyfit may be poorly conditioned\n",
      "  left_arm_feature, l_exists = self._get_bp_feature_for([255, 115, 75], channel_1) # (255, 115, 75) is color for left arm\n",
      "/Users/rasentha/mids/w281/project/w281-fall2022-section2-team3/notebooks/feature_helpers.py:138: RankWarning: Polyfit may be poorly conditioned\n",
      "  left_arm_feature, l_exists = self._get_bp_feature_for([255, 115, 75], channel_1) # (255, 115, 75) is color for left arm\n",
      "/Users/rasentha/mids/w281/project/w281-fall2022-section2-team3/notebooks/feature_helpers.py:138: RankWarning: Polyfit may be poorly conditioned\n",
      "  left_arm_feature, l_exists = self._get_bp_feature_for([255, 115, 75], channel_1) # (255, 115, 75) is color for left arm\n",
      "/Users/rasentha/mids/w281/project/w281-fall2022-section2-team3/notebooks/feature_helpers.py:138: RankWarning: Polyfit may be poorly conditioned\n",
      "  left_arm_feature, l_exists = self._get_bp_feature_for([255, 115, 75], channel_1) # (255, 115, 75) is color for left arm\n",
      "/Users/rasentha/mids/w281/project/w281-fall2022-section2-team3/notebooks/feature_helpers.py:138: RankWarning: Polyfit may be poorly conditioned\n",
      "  left_arm_feature, l_exists = self._get_bp_feature_for([255, 115, 75], channel_1) # (255, 115, 75) is color for left arm\n",
      "/Users/rasentha/mids/w281/project/w281-fall2022-section2-team3/notebooks/feature_helpers.py:138: RankWarning: Polyfit may be poorly conditioned\n",
      "  left_arm_feature, l_exists = self._get_bp_feature_for([255, 115, 75], channel_1) # (255, 115, 75) is color for left arm\n",
      "/Users/rasentha/mids/w281/project/w281-fall2022-section2-team3/notebooks/feature_helpers.py:139: RankWarning: Polyfit may be poorly conditioned\n",
      "  right_arm_feature, r_exists = self._get_bp_feature_for([255, 140, 56], channel_1) # (255, 140, 56) is color for right arm\n",
      "/Users/rasentha/mids/w281/project/w281-fall2022-section2-team3/notebooks/feature_helpers.py:139: RankWarning: Polyfit may be poorly conditioned\n",
      "  right_arm_feature, r_exists = self._get_bp_feature_for([255, 140, 56], channel_1) # (255, 140, 56) is color for right arm\n",
      "/Users/rasentha/mids/w281/project/w281-fall2022-section2-team3/notebooks/feature_helpers.py:138: RankWarning: Polyfit may be poorly conditioned\n",
      "  left_arm_feature, l_exists = self._get_bp_feature_for([255, 115, 75], channel_1) # (255, 115, 75) is color for left arm\n",
      "/Users/rasentha/mids/w281/project/w281-fall2022-section2-team3/notebooks/feature_helpers.py:138: RankWarning: Polyfit may be poorly conditioned\n",
      "  left_arm_feature, l_exists = self._get_bp_feature_for([255, 115, 75], channel_1) # (255, 115, 75) is color for left arm\n",
      "/Users/rasentha/mids/w281/project/w281-fall2022-section2-team3/notebooks/feature_helpers.py:139: RankWarning: Polyfit may be poorly conditioned\n",
      "  right_arm_feature, r_exists = self._get_bp_feature_for([255, 140, 56], channel_1) # (255, 140, 56) is color for right arm\n",
      "/Users/rasentha/mids/w281/project/w281-fall2022-section2-team3/notebooks/feature_helpers.py:138: RankWarning: Polyfit may be poorly conditioned\n",
      "  left_arm_feature, l_exists = self._get_bp_feature_for([255, 115, 75], channel_1) # (255, 115, 75) is color for left arm\n",
      "/Users/rasentha/mids/w281/project/w281-fall2022-section2-team3/notebooks/feature_helpers.py:138: RankWarning: Polyfit may be poorly conditioned\n",
      "  left_arm_feature, l_exists = self._get_bp_feature_for([255, 115, 75], channel_1) # (255, 115, 75) is color for left arm\n",
      "/Users/rasentha/mids/w281/project/w281-fall2022-section2-team3/notebooks/feature_helpers.py:138: RankWarning: Polyfit may be poorly conditioned\n",
      "  left_arm_feature, l_exists = self._get_bp_feature_for([255, 115, 75], channel_1) # (255, 115, 75) is color for left arm\n",
      "/Users/rasentha/mids/w281/project/w281-fall2022-section2-team3/notebooks/feature_helpers.py:138: RankWarning: Polyfit may be poorly conditioned\n",
      "  left_arm_feature, l_exists = self._get_bp_feature_for([255, 115, 75], channel_1) # (255, 115, 75) is color for left arm\n"
     ]
    },
    {
     "name": "stdout",
     "output_type": "stream",
     "text": [
      "CPU times: user 1h 18min 59s, sys: 6min 59s, total: 1h 25min 58s\n",
      "Wall time: 14min 44s\n"
     ]
    }
   ],
   "source": [
    "%%time\n",
    "# Generate the arms position and orientation features\n",
    "_ = feature_extractor.get_body_part_features(out_csv='body_parts_feat.csv')"
   ]
  },
  {
   "cell_type": "code",
   "execution_count": 22,
   "id": "f9393e78-fba2-4666-9382-99d37cd1f0ef",
   "metadata": {},
   "outputs": [
    {
     "data": {
      "application/vnd.jupyter.widget-view+json": {
       "model_id": "2ee083ba66dd425496fd4f154a1fa98d",
       "version_major": 2,
       "version_minor": 0
      },
      "text/plain": [
       "Getting eye counts:   0%|          | 0/6000 [00:00<?, ?images/s]"
      ]
     },
     "metadata": {},
     "output_type": "display_data"
    }
   ],
   "source": [
    "eye_count = feature_extractor.detect_eyes(config.TRAIN_DATA, data[enums.DataColumn.LABEL.name.lower()], data[enums.DataColumn.FILENAME.name.lower()])"
   ]
  },
  {
   "cell_type": "code",
   "execution_count": 23,
   "id": "099c9f59-57b9-4eea-bfe5-c9f44d110608",
   "metadata": {},
   "outputs": [
    {
     "name": "stdout",
     "output_type": "stream",
     "text": [
      "0: 4770, 1: 1096, 2: 121\n"
     ]
    }
   ],
   "source": [
    "def eye_summary(eye_count):\n",
    "    df = pd.DataFrame(eye_count, columns=['count'])\n",
    "    print(f'0: {df[df[\"count\"] == 0].shape[0]}, 1: {df[df[\"count\"] == 1].shape[0]}, 2: {df[df[\"count\"] == 2].shape[0]}')\n",
    "          \n",
    "eye_summary(eye_count)"
   ]
  },
  {
   "cell_type": "code",
   "execution_count": 29,
   "id": "2faf12b8-f242-4094-9314-22b14e831372",
   "metadata": {},
   "outputs": [
    {
     "data": {
      "application/vnd.jupyter.widget-view+json": {
       "model_id": "52709c7e30cf4c59a3befa1254c738bf",
       "version_major": 2,
       "version_minor": 0
      },
      "text/plain": [
       "Saving feature vectors:   0%|          | 0/6000 [00:00<?, ?images/s]"
      ]
     },
     "metadata": {},
     "output_type": "display_data"
    },
    {
     "name": "stdout",
     "output_type": "stream",
     "text": [
      "CPU times: user 9.06 s, sys: 9.48 s, total: 18.5 s\n",
      "Wall time: 19.9 s\n"
     ]
    }
   ],
   "source": [
    "%%time\n",
    "# Save the generated feature vectors.\n",
    "features_list = [pixel_features, hog_features, cnn_features, canny_features, pose_features, None]\n",
    "feature_extractor.save_feature_vectors(config.FEATURE_VECTORS_FOLDER, data['filename'], data['label'], features_list)"
   ]
  },
  {
   "cell_type": "code",
   "execution_count": 30,
   "id": "bdcbef6e-2bd8-491e-ab7c-9f0c5ecb2001",
   "metadata": {},
   "outputs": [
    {
     "name": "stdout",
     "output_type": "stream",
     "text": [
      "Loaded 6000 samples.\n",
      "hog_features:(6000, 5776), hog_features.min:0.0, hog_features.max:1.0\n",
      "pixel_features:(6000, 25600), pixel_features.min:0.0, pixel_features.max:0.9999000430107117\n",
      "cnn_features:(6000, 2048), cnn_features.min:0.0, cnn_features.max:1.6112374067306519\n",
      "canny_features:(6000, 25600), canny_features.min:0, canny_features.max:255\n",
      "pose_features:(6000, 65536), pose_features.min:0.0, pose_features.max:0.6640035510063171\n",
      "\n"
     ]
    }
   ],
   "source": [
    "print(f'Loaded {data.shape[0]} samples.')\n",
    "print(f'hog_features:{hog_features.shape}, hog_features.min:{np.min(hog_features)}, hog_features.max:{np.max(hog_features)}')\n",
    "print(f'pixel_features:{pixel_features.shape}, pixel_features.min:{np.min(pixel_features)}, pixel_features.max:{np.max(pixel_features)}')\n",
    "print(f'cnn_features:{cnn_features.shape}, cnn_features.min:{np.min(cnn_features)}, cnn_features.max:{np.max(cnn_features)}')\n",
    "print(f'canny_features:{canny_features.shape}, canny_features.min:{np.min(canny_features)}, canny_features.max:{np.max(canny_features)}')\n",
    "print(f'pose_features:{pose_features.shape}, pose_features.min:{np.min(pose_features)}, pose_features.max:{np.max(pose_features)}')\n",
    "# print(f'body_parts_features.min:{np.min(body_parts_features)}, body_parts_features.max:{np.max(body_parts_features)}')\n",
    "print()\n"
   ]
  },
  {
   "cell_type": "markdown",
   "id": "f62c02b8-20df-4244-abc3-0b0a56247c35",
   "metadata": {},
   "source": [
    "## References\n",
    "<span id=\"cite_mtcnn\">X. He, P. Wang, Z. Zhao, Y. Zhao and F. Su, \"MTCNN with Weighted Loss Penalty and Adaptive Threshold Learning for Facial Attribute Prediction,\" 2019 IEEE International Conference on Multimedia & Expo Workshops (ICMEW), 2019, pp. 180-185, doi: 10.1109/ICMEW.2019.00-90.</span>\n",
    "\n",
    "<span id=\"cite_mobilenet\">Sandler, M., Howard, A., Zhu, M., et al. (2018) Mobilenetv2: Inverted Residuals and Linear Bottlenecks. Proceedings of the IEEE Conference on Computer Vision and Pattern Recognition, Salt Lake City, 18-23 June 2018, 4510-4520.\n",
    "https://doi.org/10.1109/CVPR.2018.00474</span>"
   ]
  },
  {
   "cell_type": "markdown",
   "id": "3c7dbb7d-fb84-459a-9e21-a136cf1423f3",
   "metadata": {},
   "source": []
  }
 ],
 "metadata": {
  "kernelspec": {
   "display_name": "Python 3 (ipykernel)",
   "language": "python",
   "name": "python3"
  },
  "language_info": {
   "codemirror_mode": {
    "name": "ipython",
    "version": 3
   },
   "file_extension": ".py",
   "mimetype": "text/x-python",
   "name": "python",
   "nbconvert_exporter": "python",
   "pygments_lexer": "ipython3",
   "version": "3.8.15"
  },
  "widgets": {
   "application/vnd.jupyter.widget-state+json": {
    "state": {
     "006983868a4d4b5c832e89792d13e53c": {
      "model_module": "@jupyter-widgets/controls",
      "model_module_version": "2.0.0",
      "model_name": "HTMLModel",
      "state": {
       "layout": "IPY_MODEL_cc808c7e505e432a8588eb1378071b43",
       "style": "IPY_MODEL_d3a7a14b523c48cdaeb80e3a470ba7ee",
       "value": " 0/6000 [00:00&lt;?, ?images/s]"
      }
     },
     "020b7720782b4132bf1eeb14fa1e32f6": {
      "model_module": "@jupyter-widgets/base",
      "model_module_version": "2.0.0",
      "model_name": "LayoutModel",
      "state": {}
     },
     "05688112ad404b65848ff1e0d30d18ad": {
      "model_module": "@jupyter-widgets/controls",
      "model_module_version": "2.0.0",
      "model_name": "HTMLStyleModel",
      "state": {
       "description_width": "",
       "font_size": null,
       "text_color": null
      }
     },
     "0613fdcd488546eab9efe04ae219d7a9": {
      "model_module": "@jupyter-widgets/base",
      "model_module_version": "2.0.0",
      "model_name": "LayoutModel",
      "state": {}
     },
     "06c562479ac74e05a1cf7ce539d96049": {
      "model_module": "@jupyter-widgets/controls",
      "model_module_version": "2.0.0",
      "model_name": "ProgressStyleModel",
      "state": {
       "description_width": ""
      }
     },
     "085ab8ad9d5c47df8340cb51a365fe21": {
      "model_module": "@jupyter-widgets/controls",
      "model_module_version": "2.0.0",
      "model_name": "HTMLStyleModel",
      "state": {
       "description_width": "",
       "font_size": null,
       "text_color": null
      }
     },
     "099dc08caac4480cac527f7d3295adf9": {
      "model_module": "@jupyter-widgets/base",
      "model_module_version": "2.0.0",
      "model_name": "LayoutModel",
      "state": {}
     },
     "0ab3aa5658f84f5594046136ba8c5cfa": {
      "model_module": "@jupyter-widgets/controls",
      "model_module_version": "2.0.0",
      "model_name": "HBoxModel",
      "state": {
       "children": [
        "IPY_MODEL_c4f1e084f79e4f73ace0bc66e8da8767",
        "IPY_MODEL_8aa3a72dfe8d432a8b45f138a88feb7d",
        "IPY_MODEL_6947227ef2a4490284355ddef2188ef9"
       ],
       "layout": "IPY_MODEL_ffa29b42adee4f66bb16852e967394c2"
      }
     },
     "0cc72d9fa75e4cdfac3028ca791be576": {
      "model_module": "@jupyter-widgets/controls",
      "model_module_version": "2.0.0",
      "model_name": "ProgressStyleModel",
      "state": {
       "description_width": ""
      }
     },
     "0cf1989dbf354748b814d5768efd23eb": {
      "model_module": "@jupyter-widgets/controls",
      "model_module_version": "2.0.0",
      "model_name": "HTMLStyleModel",
      "state": {
       "description_width": "",
       "font_size": null,
       "text_color": null
      }
     },
     "0dc8ca0c404347dcbf5b84aaa617c6b2": {
      "model_module": "@jupyter-widgets/base",
      "model_module_version": "2.0.0",
      "model_name": "LayoutModel",
      "state": {}
     },
     "0e6b5374bac6492eaf3c58fc57eea28e": {
      "model_module": "@jupyter-widgets/controls",
      "model_module_version": "2.0.0",
      "model_name": "HBoxModel",
      "state": {
       "children": [
        "IPY_MODEL_4b04440c1f304ef9aab61215459b9814",
        "IPY_MODEL_44a5eb4b13e540329bb501f652add5e3",
        "IPY_MODEL_a9b2637c305c49a2b0c84f7b7e1d572a"
       ],
       "layout": "IPY_MODEL_60750a33e8624de495e5d99fe3f30e5f"
      }
     },
     "0ec2e978a3154ac4b2c09561828854fd": {
      "model_module": "@jupyter-widgets/controls",
      "model_module_version": "2.0.0",
      "model_name": "ProgressStyleModel",
      "state": {
       "description_width": ""
      }
     },
     "0ee7aa07a8d04944a0c00441feb5a5fd": {
      "model_module": "@jupyter-widgets/controls",
      "model_module_version": "2.0.0",
      "model_name": "HTMLModel",
      "state": {
       "layout": "IPY_MODEL_be05f87df4d1401d889253bbd0583fc6",
       "style": "IPY_MODEL_2815d095014f4c7681bbd3ba1a69b4a5",
       "value": " 6000/6000 [00:19&lt;00:00, 331.49images/s]"
      }
     },
     "11171d5f2a764427aba2edfb7a643d1f": {
      "model_module": "@jupyter-widgets/base",
      "model_module_version": "2.0.0",
      "model_name": "LayoutModel",
      "state": {}
     },
     "132d55934a9e45ccb395026618b5bb81": {
      "model_module": "@jupyter-widgets/controls",
      "model_module_version": "2.0.0",
      "model_name": "FloatProgressModel",
      "state": {
       "bar_style": "success",
       "layout": "IPY_MODEL_11171d5f2a764427aba2edfb7a643d1f",
       "max": 6000,
       "style": "IPY_MODEL_de4d265398034716b0c87d3477bbc54f",
       "value": 6000
      }
     },
     "1374baca6b144d519dbf44984d445791": {
      "model_module": "@jupyter-widgets/base",
      "model_module_version": "2.0.0",
      "model_name": "LayoutModel",
      "state": {}
     },
     "1629f4e4106943fdb95b5d6f002cc1c4": {
      "model_module": "@jupyter-widgets/controls",
      "model_module_version": "2.0.0",
      "model_name": "FloatProgressModel",
      "state": {
       "bar_style": "success",
       "layout": "IPY_MODEL_2255083dfd7d461ea47fed65426096e6",
       "max": 6000,
       "style": "IPY_MODEL_2767c63a0ab44d03a2ee03b4f236b4b8",
       "value": 6000
      }
     },
     "18016d79a05d438281497551dd8bd077": {
      "model_module": "@jupyter-widgets/controls",
      "model_module_version": "2.0.0",
      "model_name": "HTMLModel",
      "state": {
       "layout": "IPY_MODEL_3780c17acd3f49d69245666194d8c417",
       "style": "IPY_MODEL_f8d0cc5df3b84ff6ab2e6d29b7d4d543",
       "value": " 6000/6000 [01:35&lt;00:00, 64.44samples/s]"
      }
     },
     "1805b60d50514b3e93b9e979a1b0de29": {
      "model_module": "@jupyter-widgets/controls",
      "model_module_version": "2.0.0",
      "model_name": "HTMLStyleModel",
      "state": {
       "description_width": "",
       "font_size": null,
       "text_color": null
      }
     },
     "1853f11bebf64ba4885775d145976f62": {
      "model_module": "@jupyter-widgets/base",
      "model_module_version": "2.0.0",
      "model_name": "LayoutModel",
      "state": {}
     },
     "18f3c8081a41470cb671ca45da3e57e1": {
      "model_module": "@jupyter-widgets/base",
      "model_module_version": "2.0.0",
      "model_name": "LayoutModel",
      "state": {}
     },
     "18fc12b15ebe48889e95ad41fba4b376": {
      "model_module": "@jupyter-widgets/controls",
      "model_module_version": "2.0.0",
      "model_name": "HTMLModel",
      "state": {
       "layout": "IPY_MODEL_2c5463b71aea4bd48149684b81169d40",
       "style": "IPY_MODEL_591b7b049a554b80837d2dd823c66a76",
       "value": " 1011/6000 [03:50&lt;19:35,  4.24images/s]"
      }
     },
     "19cb8b804793428195c72acf1da81c92": {
      "model_module": "@jupyter-widgets/base",
      "model_module_version": "2.0.0",
      "model_name": "LayoutModel",
      "state": {}
     },
     "1adf68d7d7f4428f9217c00f4d0b4e0e": {
      "model_module": "@jupyter-widgets/base",
      "model_module_version": "2.0.0",
      "model_name": "LayoutModel",
      "state": {}
     },
     "1bee586b0e6b4e459befa483f301c9b5": {
      "model_module": "@jupyter-widgets/controls",
      "model_module_version": "2.0.0",
      "model_name": "HBoxModel",
      "state": {
       "children": [
        "IPY_MODEL_286c0feb637640a7ad3fbc9d98180009",
        "IPY_MODEL_ec9893ff61c043fd85b9a61b3f512273",
        "IPY_MODEL_7994609f8e904291887d05982f59ab72"
       ],
       "layout": "IPY_MODEL_c48ee13497f84eb7a2c4485c1951e3a5"
      }
     },
     "1c2984df1acc4e8d88a4384d562061a8": {
      "model_module": "@jupyter-widgets/controls",
      "model_module_version": "2.0.0",
      "model_name": "ProgressStyleModel",
      "state": {
       "description_width": ""
      }
     },
     "1ef503d2499348f9880258165373d73c": {
      "model_module": "@jupyter-widgets/controls",
      "model_module_version": "2.0.0",
      "model_name": "HTMLStyleModel",
      "state": {
       "description_width": "",
       "font_size": null,
       "text_color": null
      }
     },
     "1f472d3ef33e4c039e74d7f2ee6f2cbb": {
      "model_module": "@jupyter-widgets/base",
      "model_module_version": "2.0.0",
      "model_name": "LayoutModel",
      "state": {}
     },
     "1f9f50812b4540a79f8c06b06586acfa": {
      "model_module": "@jupyter-widgets/base",
      "model_module_version": "2.0.0",
      "model_name": "LayoutModel",
      "state": {}
     },
     "20c201a7e9b948a184fb7b7f78e852a2": {
      "model_module": "@jupyter-widgets/controls",
      "model_module_version": "2.0.0",
      "model_name": "HBoxModel",
      "state": {
       "children": [
        "IPY_MODEL_44bb58d971454be0808ad75d4d60c313",
        "IPY_MODEL_83652916903145d6af6061ea8cdb6247",
        "IPY_MODEL_4f68484a508a4447bed4f386821cf42a"
       ],
       "layout": "IPY_MODEL_0613fdcd488546eab9efe04ae219d7a9"
      }
     },
     "2255083dfd7d461ea47fed65426096e6": {
      "model_module": "@jupyter-widgets/base",
      "model_module_version": "2.0.0",
      "model_name": "LayoutModel",
      "state": {}
     },
     "227e24314c644e5f9bf62a34b6dea34a": {
      "model_module": "@jupyter-widgets/controls",
      "model_module_version": "2.0.0",
      "model_name": "HTMLStyleModel",
      "state": {
       "description_width": "",
       "font_size": null,
       "text_color": null
      }
     },
     "2286761343c14ebfa2d6a0a6dc3208a2": {
      "model_module": "@jupyter-widgets/controls",
      "model_module_version": "2.0.0",
      "model_name": "HTMLStyleModel",
      "state": {
       "description_width": "",
       "font_size": null,
       "text_color": null
      }
     },
     "22b72197c20c4c4a80d88efb48319f55": {
      "model_module": "@jupyter-widgets/controls",
      "model_module_version": "2.0.0",
      "model_name": "HTMLModel",
      "state": {
       "layout": "IPY_MODEL_b43c5909c7da4358b0ae388d89b9f109",
       "style": "IPY_MODEL_76c406cea5ec429a8fd389b11684409a",
       "value": " 6000/6000 [00:01&lt;00:00, 3869.43images/s]"
      }
     },
     "22c34e2d59ff4b73b43ddce009fdadbf": {
      "model_module": "@jupyter-widgets/base",
      "model_module_version": "2.0.0",
      "model_name": "LayoutModel",
      "state": {}
     },
     "2599c07a9e344cbca60523b68ad67f24": {
      "model_module": "@jupyter-widgets/base",
      "model_module_version": "2.0.0",
      "model_name": "LayoutModel",
      "state": {}
     },
     "2767c63a0ab44d03a2ee03b4f236b4b8": {
      "model_module": "@jupyter-widgets/controls",
      "model_module_version": "2.0.0",
      "model_name": "ProgressStyleModel",
      "state": {
       "description_width": ""
      }
     },
     "2815d095014f4c7681bbd3ba1a69b4a5": {
      "model_module": "@jupyter-widgets/controls",
      "model_module_version": "2.0.0",
      "model_name": "HTMLStyleModel",
      "state": {
       "description_width": "",
       "font_size": null,
       "text_color": null
      }
     },
     "2833f7603f7841b6991d6b9949762b5b": {
      "model_module": "@jupyter-widgets/base",
      "model_module_version": "2.0.0",
      "model_name": "LayoutModel",
      "state": {}
     },
     "286c0feb637640a7ad3fbc9d98180009": {
      "model_module": "@jupyter-widgets/controls",
      "model_module_version": "2.0.0",
      "model_name": "HTMLModel",
      "state": {
       "layout": "IPY_MODEL_1f9f50812b4540a79f8c06b06586acfa",
       "style": "IPY_MODEL_700a6f4e08724c85a2a6f6de28884857",
       "value": "Processing images labeled &#x27;Safe Driving&#x27;:   2%"
      }
     },
     "28f6724bb5204c9bafb2e23a444e24f6": {
      "model_module": "@jupyter-widgets/controls",
      "model_module_version": "2.0.0",
      "model_name": "ProgressStyleModel",
      "state": {
       "description_width": ""
      }
     },
     "290964debcc144058fbe756adc11f5f9": {
      "model_module": "@jupyter-widgets/base",
      "model_module_version": "2.0.0",
      "model_name": "LayoutModel",
      "state": {}
     },
     "2b80940016724fe8bc58a24a530a270a": {
      "model_module": "@jupyter-widgets/controls",
      "model_module_version": "2.0.0",
      "model_name": "HBoxModel",
      "state": {
       "children": [
        "IPY_MODEL_f2d76cbeeec046eaa8414a5c3da68868",
        "IPY_MODEL_9058f0cda9ab4d36b418ae9eeb980ffc",
        "IPY_MODEL_6497cd7a412e4387b4a8f877525c501d"
       ],
       "layout": "IPY_MODEL_de853485f47244e5becbf28bbbdac56e"
      }
     },
     "2ba261b495ef42d19cf71250782427d7": {
      "model_module": "@jupyter-widgets/base",
      "model_module_version": "2.0.0",
      "model_name": "LayoutModel",
      "state": {}
     },
     "2c5463b71aea4bd48149684b81169d40": {
      "model_module": "@jupyter-widgets/base",
      "model_module_version": "2.0.0",
      "model_name": "LayoutModel",
      "state": {}
     },
     "2ce647c848834df5aaadc964e4e6a2c6": {
      "model_module": "@jupyter-widgets/controls",
      "model_module_version": "2.0.0",
      "model_name": "HTMLStyleModel",
      "state": {
       "description_width": "",
       "font_size": null,
       "text_color": null
      }
     },
     "2d22034465ad482c82a23c17f617082b": {
      "model_module": "@jupyter-widgets/controls",
      "model_module_version": "2.0.0",
      "model_name": "HTMLModel",
      "state": {
       "layout": "IPY_MODEL_af427984d3c844dfaf6ac7a60c8e9ef0",
       "style": "IPY_MODEL_c621020686c546b8915ba663cd09521c",
       "value": " 0/6000 [00:00&lt;?, ?images/s]"
      }
     },
     "2ee083ba66dd425496fd4f154a1fa98d": {
      "model_module": "@jupyter-widgets/controls",
      "model_module_version": "2.0.0",
      "model_name": "HBoxModel",
      "state": {
       "children": [
        "IPY_MODEL_f3840ebc9b3b475fa67838ee70f2f0e1",
        "IPY_MODEL_5cf02ea4f13c4c4c93716fe4dd18d787",
        "IPY_MODEL_e6ac4e1bb4324584aa9fcbacec076adc"
       ],
       "layout": "IPY_MODEL_ef851212e2114df4b1d19fe3c174ae7c"
      }
     },
     "325a2dbca08a4956a372e74b3f2f33cd": {
      "model_module": "@jupyter-widgets/base",
      "model_module_version": "2.0.0",
      "model_name": "LayoutModel",
      "state": {}
     },
     "35e56b6e5e614e6ca47b8880a0d17baa": {
      "model_module": "@jupyter-widgets/base",
      "model_module_version": "2.0.0",
      "model_name": "LayoutModel",
      "state": {}
     },
     "37195417776d492080fabff245bd779d": {
      "model_module": "@jupyter-widgets/controls",
      "model_module_version": "2.0.0",
      "model_name": "HTMLModel",
      "state": {
       "layout": "IPY_MODEL_f984c02536144c3e8f2cd1986d377c06",
       "style": "IPY_MODEL_c781a6932ca54e4a85f14fa458e359f1",
       "value": "Processing img_86969.jpg : 100%"
      }
     },
     "3780c17acd3f49d69245666194d8c417": {
      "model_module": "@jupyter-widgets/base",
      "model_module_version": "2.0.0",
      "model_name": "LayoutModel",
      "state": {}
     },
     "37f117ac34944d0a859d3bca03539217": {
      "model_module": "@jupyter-widgets/controls",
      "model_module_version": "2.0.0",
      "model_name": "HTMLModel",
      "state": {
       "layout": "IPY_MODEL_dd7920ad4de2410ca62fc161945e0206",
       "style": "IPY_MODEL_cc9152b69db64a4f8a3272a9d9e8b4b5",
       "value": "Building HOG Features: 100%"
      }
     },
     "387cd5e25c1442939d29d3d406d0f8cb": {
      "model_module": "@jupyter-widgets/controls",
      "model_module_version": "2.0.0",
      "model_name": "HTMLModel",
      "state": {
       "layout": "IPY_MODEL_aca06daf54df445fad3b357f7243ede7",
       "style": "IPY_MODEL_c62f0d46b7f24a158b412d1eb42513c7",
       "value": "Saving feature vectors:   0%"
      }
     },
     "393f8564a3264258823170abe397ccb8": {
      "model_module": "@jupyter-widgets/base",
      "model_module_version": "2.0.0",
      "model_name": "LayoutModel",
      "state": {}
     },
     "3999702415eb4bfabef9a5a98a20cdc4": {
      "model_module": "@jupyter-widgets/base",
      "model_module_version": "2.0.0",
      "model_name": "LayoutModel",
      "state": {}
     },
     "3aecf48ebf0041789ef48fae8eb357fd": {
      "model_module": "@jupyter-widgets/base",
      "model_module_version": "2.0.0",
      "model_name": "LayoutModel",
      "state": {}
     },
     "3b715bf6d04241278cbb6068f06ea53c": {
      "model_module": "@jupyter-widgets/base",
      "model_module_version": "2.0.0",
      "model_name": "LayoutModel",
      "state": {}
     },
     "41e6a88f5e334d1f80f5be53e594dbf7": {
      "model_module": "@jupyter-widgets/controls",
      "model_module_version": "2.0.0",
      "model_name": "HTMLStyleModel",
      "state": {
       "description_width": "",
       "font_size": null,
       "text_color": null
      }
     },
     "436ea59098b142689116def95c2607b1": {
      "model_module": "@jupyter-widgets/controls",
      "model_module_version": "2.0.0",
      "model_name": "ProgressStyleModel",
      "state": {
       "description_width": ""
      }
     },
     "44a5eb4b13e540329bb501f652add5e3": {
      "model_module": "@jupyter-widgets/controls",
      "model_module_version": "2.0.0",
      "model_name": "FloatProgressModel",
      "state": {
       "bar_style": "danger",
       "layout": "IPY_MODEL_507d94e626d8410381cf661240c1b2cd",
       "max": 6000,
       "style": "IPY_MODEL_db216b911d01499ca9b21b1bc3aaf6c7"
      }
     },
     "44bb58d971454be0808ad75d4d60c313": {
      "model_module": "@jupyter-widgets/controls",
      "model_module_version": "2.0.0",
      "model_name": "HTMLModel",
      "state": {
       "layout": "IPY_MODEL_3aecf48ebf0041789ef48fae8eb357fd",
       "style": "IPY_MODEL_e54fee3098214d6b857990eb90dc77c5",
       "value": "Processing img_33534.jpg: "
      }
     },
     "4514a2f7fea640e987851da8022fb6ae": {
      "model_module": "@jupyter-widgets/controls",
      "model_module_version": "2.0.0",
      "model_name": "ProgressStyleModel",
      "state": {
       "description_width": ""
      }
     },
     "45c496a82e344bd99bb934ecf1db0d1b": {
      "model_module": "@jupyter-widgets/controls",
      "model_module_version": "2.0.0",
      "model_name": "HTMLStyleModel",
      "state": {
       "description_width": "",
       "font_size": null,
       "text_color": null
      }
     },
     "47fba7956572415fb7953235ee580dcc": {
      "model_module": "@jupyter-widgets/controls",
      "model_module_version": "2.0.0",
      "model_name": "HTMLStyleModel",
      "state": {
       "description_width": "",
       "font_size": null,
       "text_color": null
      }
     },
     "480894005a224a1b8ec3ab9750ed0ca8": {
      "model_module": "@jupyter-widgets/base",
      "model_module_version": "2.0.0",
      "model_name": "LayoutModel",
      "state": {}
     },
     "48c4e117e66248eeb3e3ebff6fb22dc5": {
      "model_module": "@jupyter-widgets/controls",
      "model_module_version": "2.0.0",
      "model_name": "ProgressStyleModel",
      "state": {
       "description_width": ""
      }
     },
     "48d7b2e7ea7e4bb3bbde4b9b009c5143": {
      "model_module": "@jupyter-widgets/base",
      "model_module_version": "2.0.0",
      "model_name": "LayoutModel",
      "state": {}
     },
     "4a22f2b640c443e29850b86cc594dd7f": {
      "model_module": "@jupyter-widgets/controls",
      "model_module_version": "2.0.0",
      "model_name": "HBoxModel",
      "state": {
       "children": [
        "IPY_MODEL_37f117ac34944d0a859d3bca03539217",
        "IPY_MODEL_7972c1ab8014415ca20a516244fb7ba3",
        "IPY_MODEL_77452105539844a9aeaf9346abe49ff6"
       ],
       "layout": "IPY_MODEL_8b51720a84034d59968c5d27c9e8161b"
      }
     },
     "4a68dbf813814348b0aaeee967700804": {
      "model_module": "@jupyter-widgets/controls",
      "model_module_version": "2.0.0",
      "model_name": "HTMLStyleModel",
      "state": {
       "description_width": "",
       "font_size": null,
       "text_color": null
      }
     },
     "4b04440c1f304ef9aab61215459b9814": {
      "model_module": "@jupyter-widgets/controls",
      "model_module_version": "2.0.0",
      "model_name": "HTMLModel",
      "state": {
       "layout": "IPY_MODEL_fac3fc4ec25e416d9ef5fcf87e449b2e",
       "style": "IPY_MODEL_a74ff27c832242619ff7c8df70ee7545",
       "value": "Loading feature vectors:   0%"
      }
     },
     "4bd42dd9e43d4d42b28106f1a6d2c0a7": {
      "model_module": "@jupyter-widgets/controls",
      "model_module_version": "2.0.0",
      "model_name": "HTMLModel",
      "state": {
       "layout": "IPY_MODEL_54097c0c731742de8cb403af1847c414",
       "style": "IPY_MODEL_227e24314c644e5f9bf62a34b6dea34a",
       "value": "Processing images labeled &#x27;Conversing&#x27;:   0%"
      }
     },
     "4e9279c449d74bdc927496c529b57b44": {
      "model_module": "@jupyter-widgets/base",
      "model_module_version": "2.0.0",
      "model_name": "LayoutModel",
      "state": {}
     },
     "4e92c291601a47a1adc0714d17782b40": {
      "model_module": "@jupyter-widgets/controls",
      "model_module_version": "2.0.0",
      "model_name": "HBoxModel",
      "state": {
       "children": [
        "IPY_MODEL_d02a9502cddb4a5db30ec1f5d65ac2a1",
        "IPY_MODEL_b8215a8efc844c1bb36b491cb5113e73",
        "IPY_MODEL_e84ebaa574854a8f9aae1d9321c37e32"
       ],
       "layout": "IPY_MODEL_a3e34b3fe89d485f83e719aa7342df32"
      }
     },
     "4f68484a508a4447bed4f386821cf42a": {
      "model_module": "@jupyter-widgets/controls",
      "model_module_version": "2.0.0",
      "model_name": "HTMLModel",
      "state": {
       "layout": "IPY_MODEL_71ecb98f0ea44372948d87b4646077a1",
       "style": "IPY_MODEL_1805b60d50514b3e93b9e979a1b0de29",
       "value": " 6010/? [00:10&lt;00:00, 572.50file/s]"
      }
     },
     "4fcac55526874cc892c63696c46b80ac": {
      "model_module": "@jupyter-widgets/base",
      "model_module_version": "2.0.0",
      "model_name": "LayoutModel",
      "state": {}
     },
     "4fcad9d0bd494e9a8a73ea1918a0ba5a": {
      "model_module": "@jupyter-widgets/base",
      "model_module_version": "2.0.0",
      "model_name": "LayoutModel",
      "state": {}
     },
     "500cf5ab3cd24ba8ae81e34cc8a2e6b3": {
      "model_module": "@jupyter-widgets/controls",
      "model_module_version": "2.0.0",
      "model_name": "HTMLModel",
      "state": {
       "layout": "IPY_MODEL_c8e48bcab1274ccea98d1fb23611326c",
       "style": "IPY_MODEL_0cf1989dbf354748b814d5768efd23eb",
       "value": " 6000/6000 [00:01&lt;00:00, 4751.26samples/s]"
      }
     },
     "507d94e626d8410381cf661240c1b2cd": {
      "model_module": "@jupyter-widgets/base",
      "model_module_version": "2.0.0",
      "model_name": "LayoutModel",
      "state": {}
     },
     "512aa0a5c5ca4a80910a0d3ad50faed1": {
      "model_module": "@jupyter-widgets/controls",
      "model_module_version": "2.0.0",
      "model_name": "HBoxModel",
      "state": {
       "children": [
        "IPY_MODEL_7692c954aa1d416c9d96ccb1f0fee8c6",
        "IPY_MODEL_55bd2c0e1b5d43bd88efdf29896a32ae",
        "IPY_MODEL_aceafac658ef48329f88a0672fc780e1"
       ],
       "layout": "IPY_MODEL_c69d0b6924404c89a4446336f68309b3"
      }
     },
     "52709c7e30cf4c59a3befa1254c738bf": {
      "model_module": "@jupyter-widgets/controls",
      "model_module_version": "2.0.0",
      "model_name": "HBoxModel",
      "state": {
       "children": [
        "IPY_MODEL_7cc97b2374f645a2ad4c94634f1c132f",
        "IPY_MODEL_98252d8d0c14438cb906004e81e75ab5",
        "IPY_MODEL_0ee7aa07a8d04944a0c00441feb5a5fd"
       ],
       "layout": "IPY_MODEL_c84a51b2ac354ce4b6d49c07266e9bf5"
      }
     },
     "52ef544242624523918e0da632a26cf2": {
      "model_module": "@jupyter-widgets/controls",
      "model_module_version": "2.0.0",
      "model_name": "FloatProgressModel",
      "state": {
       "bar_style": "danger",
       "layout": "IPY_MODEL_9e6ad1204ef0421f8f6a579ce1fb58a4",
       "max": 6000,
       "style": "IPY_MODEL_9c5dd35b5b994cf7a9ab5172284ae0ed"
      }
     },
     "53ec36734d0d4629a362e2f24f4e0cff": {
      "model_module": "@jupyter-widgets/controls",
      "model_module_version": "2.0.0",
      "model_name": "HTMLModel",
      "state": {
       "layout": "IPY_MODEL_48d7b2e7ea7e4bb3bbde4b9b009c5143",
       "style": "IPY_MODEL_47fba7956572415fb7953235ee580dcc",
       "value": "Loading 6000 samples: 100%"
      }
     },
     "54097c0c731742de8cb403af1847c414": {
      "model_module": "@jupyter-widgets/base",
      "model_module_version": "2.0.0",
      "model_name": "LayoutModel",
      "state": {}
     },
     "55204edd4947433e9f7abc7797c0b51a": {
      "model_module": "@jupyter-widgets/controls",
      "model_module_version": "2.0.0",
      "model_name": "HTMLModel",
      "state": {
       "layout": "IPY_MODEL_8475fd17f736402da526bd6e767b91a0",
       "style": "IPY_MODEL_b561348d32944a2cbac7e49ad578b0f4",
       "value": " 6000/6000 [01:36&lt;00:00, 63.64samples/s]"
      }
     },
     "55bd2c0e1b5d43bd88efdf29896a32ae": {
      "model_module": "@jupyter-widgets/controls",
      "model_module_version": "2.0.0",
      "model_name": "FloatProgressModel",
      "state": {
       "bar_style": "success",
       "layout": "IPY_MODEL_b2ceeb290db945999ccf6553f5c33c3b",
       "max": 6000,
       "style": "IPY_MODEL_678f24a7030544ebafca7bb15675658c",
       "value": 6000
      }
     },
     "56a73b2e01484409b3ea882989a9a793": {
      "model_module": "@jupyter-widgets/base",
      "model_module_version": "2.0.0",
      "model_name": "LayoutModel",
      "state": {}
     },
     "58b8313f1753483aadf727cc636dafe7": {
      "model_module": "@jupyter-widgets/controls",
      "model_module_version": "2.0.0",
      "model_name": "ProgressStyleModel",
      "state": {
       "description_width": ""
      }
     },
     "591b7b049a554b80837d2dd823c66a76": {
      "model_module": "@jupyter-widgets/controls",
      "model_module_version": "2.0.0",
      "model_name": "HTMLStyleModel",
      "state": {
       "description_width": "",
       "font_size": null,
       "text_color": null
      }
     },
     "5a09ae2fb7e2491caf78759693d0c77b": {
      "model_module": "@jupyter-widgets/controls",
      "model_module_version": "2.0.0",
      "model_name": "HTMLStyleModel",
      "state": {
       "description_width": "",
       "font_size": null,
       "text_color": null
      }
     },
     "5b1272222f8446cdad7fe8b85d8fb99f": {
      "model_module": "@jupyter-widgets/base",
      "model_module_version": "2.0.0",
      "model_name": "LayoutModel",
      "state": {}
     },
     "5be0a388e2864fd79a321d4d3c31db2e": {
      "model_module": "@jupyter-widgets/controls",
      "model_module_version": "2.0.0",
      "model_name": "HBoxModel",
      "state": {
       "children": [
        "IPY_MODEL_a4d016c9040b44d996099250036c4751",
        "IPY_MODEL_6537d45e6ec24212b8c1b53a167f7ea5",
        "IPY_MODEL_2d22034465ad482c82a23c17f617082b"
       ],
       "layout": "IPY_MODEL_a7d2b476a2f248dc9615a1683a0debdb"
      }
     },
     "5cf02ea4f13c4c4c93716fe4dd18d787": {
      "model_module": "@jupyter-widgets/controls",
      "model_module_version": "2.0.0",
      "model_name": "FloatProgressModel",
      "state": {
       "bar_style": "success",
       "layout": "IPY_MODEL_480894005a224a1b8ec3ab9750ed0ca8",
       "max": 6000,
       "style": "IPY_MODEL_b06711264bb8497ba54b9db1a205fe8a",
       "value": 6000
      }
     },
     "5d19eb2060024eceab9127d3241ec31a": {
      "model_module": "@jupyter-widgets/controls",
      "model_module_version": "2.0.0",
      "model_name": "HTMLStyleModel",
      "state": {
       "description_width": "",
       "font_size": null,
       "text_color": null
      }
     },
     "5ec2d755e01042a4b83b1cc07c875c00": {
      "model_module": "@jupyter-widgets/controls",
      "model_module_version": "2.0.0",
      "model_name": "ProgressStyleModel",
      "state": {
       "description_width": ""
      }
     },
     "602724e31a894f6186f61232e861b3a4": {
      "model_module": "@jupyter-widgets/base",
      "model_module_version": "2.0.0",
      "model_name": "LayoutModel",
      "state": {}
     },
     "6039fa03bab64a3f9a23afb8b1301eb9": {
      "model_module": "@jupyter-widgets/controls",
      "model_module_version": "2.0.0",
      "model_name": "HTMLStyleModel",
      "state": {
       "description_width": "",
       "font_size": null,
       "text_color": null
      }
     },
     "60750a33e8624de495e5d99fe3f30e5f": {
      "model_module": "@jupyter-widgets/base",
      "model_module_version": "2.0.0",
      "model_name": "LayoutModel",
      "state": {}
     },
     "62846fde60c14f26b9db4ee299deab0b": {
      "model_module": "@jupyter-widgets/controls",
      "model_module_version": "2.0.0",
      "model_name": "HTMLModel",
      "state": {
       "layout": "IPY_MODEL_325a2dbca08a4956a372e74b3f2f33cd",
       "style": "IPY_MODEL_1ef503d2499348f9880258165373d73c",
       "value": "Processing images labeled &#x27;Conversing&#x27;:   0%"
      }
     },
     "62c2dc4b09eb4b4684f52aa14ad28469": {
      "model_module": "@jupyter-widgets/base",
      "model_module_version": "2.0.0",
      "model_name": "LayoutModel",
      "state": {}
     },
     "636772b1526c47c3838930878e29efb2": {
      "model_module": "@jupyter-widgets/controls",
      "model_module_version": "2.0.0",
      "model_name": "HBoxModel",
      "state": {
       "children": [
        "IPY_MODEL_7f5fab0849614d5a9f54e7da482840ac",
        "IPY_MODEL_b5a02efb5bae4e489af4ff691c6af4d4",
        "IPY_MODEL_d793a07722f44843867bd577a4cc6562"
       ],
       "layout": "IPY_MODEL_1adf68d7d7f4428f9217c00f4d0b4e0e"
      }
     },
     "6372f251c7e940cd9cf3b6f3366eb219": {
      "model_module": "@jupyter-widgets/controls",
      "model_module_version": "2.0.0",
      "model_name": "FloatProgressModel",
      "state": {
       "bar_style": "danger",
       "layout": "IPY_MODEL_099dc08caac4480cac527f7d3295adf9",
       "max": 6000,
       "style": "IPY_MODEL_1c2984df1acc4e8d88a4384d562061a8",
       "value": 3339
      }
     },
     "6497cd7a412e4387b4a8f877525c501d": {
      "model_module": "@jupyter-widgets/controls",
      "model_module_version": "2.0.0",
      "model_name": "HTMLModel",
      "state": {
       "layout": "IPY_MODEL_81c35689b5f34beba0bb766c2fc97424",
       "style": "IPY_MODEL_702a08421a7e4a4a842c41147f12d1ac",
       "value": " 6010/? [00:01&lt;00:00, 4874.78file/s]"
      }
     },
     "6537d45e6ec24212b8c1b53a167f7ea5": {
      "model_module": "@jupyter-widgets/controls",
      "model_module_version": "2.0.0",
      "model_name": "FloatProgressModel",
      "state": {
       "bar_style": "danger",
       "layout": "IPY_MODEL_f377b0df74bd4e59988b41622cdd1d83",
       "max": 6000,
       "style": "IPY_MODEL_06c562479ac74e05a1cf7ce539d96049"
      }
     },
     "6604447cef574282a305879d917e8212": {
      "model_module": "@jupyter-widgets/controls",
      "model_module_version": "2.0.0",
      "model_name": "HTMLModel",
      "state": {
       "layout": "IPY_MODEL_4fcac55526874cc892c63696c46b80ac",
       "style": "IPY_MODEL_c55b2e8e92aa4c459f5674b838bc1ec6",
       "value": "Saving feature vectors:   0%"
      }
     },
     "678f24a7030544ebafca7bb15675658c": {
      "model_module": "@jupyter-widgets/controls",
      "model_module_version": "2.0.0",
      "model_name": "ProgressStyleModel",
      "state": {
       "description_width": ""
      }
     },
     "6947227ef2a4490284355ddef2188ef9": {
      "model_module": "@jupyter-widgets/controls",
      "model_module_version": "2.0.0",
      "model_name": "HTMLModel",
      "state": {
       "layout": "IPY_MODEL_98d8c9f5c5c94b2fbacbe970cdf6f6c3",
       "style": "IPY_MODEL_bc2621be248f4ddaa6cd8e54defcc035",
       "value": " 6000/6000 [00:04&lt;00:00, 1236.75images/s]"
      }
     },
     "699b7cd27147461fbcf07db363c1caf7": {
      "model_module": "@jupyter-widgets/controls",
      "model_module_version": "2.0.0",
      "model_name": "HTMLStyleModel",
      "state": {
       "description_width": "",
       "font_size": null,
       "text_color": null
      }
     },
     "6b14cb7a615446e2a74bd9fdc528820e": {
      "model_module": "@jupyter-widgets/controls",
      "model_module_version": "2.0.0",
      "model_name": "HBoxModel",
      "state": {
       "children": [
        "IPY_MODEL_6604447cef574282a305879d917e8212",
        "IPY_MODEL_77df2409d11942b3a0b9104a52e3d164",
        "IPY_MODEL_feb6e57308f64c2391dc628402809324"
       ],
       "layout": "IPY_MODEL_393f8564a3264258823170abe397ccb8"
      }
     },
     "6bde957f30e6498b9c93bf5a540598ce": {
      "model_module": "@jupyter-widgets/controls",
      "model_module_version": "2.0.0",
      "model_name": "HTMLStyleModel",
      "state": {
       "description_width": "",
       "font_size": null,
       "text_color": null
      }
     },
     "6c7aae78b53c434d9e843ab23a9e412a": {
      "model_module": "@jupyter-widgets/controls",
      "model_module_version": "2.0.0",
      "model_name": "HTMLStyleModel",
      "state": {
       "description_width": "",
       "font_size": null,
       "text_color": null
      }
     },
     "6d2f55319caa4f72bfed2e136bf4a51c": {
      "model_module": "@jupyter-widgets/controls",
      "model_module_version": "2.0.0",
      "model_name": "HBoxModel",
      "state": {
       "children": [
        "IPY_MODEL_d9745dfd153f431c9b72779c441d3b66",
        "IPY_MODEL_6372f251c7e940cd9cf3b6f3366eb219",
        "IPY_MODEL_a1568ffec5e0404eb80a9ff46b8d7086"
       ],
       "layout": "IPY_MODEL_1853f11bebf64ba4885775d145976f62"
      }
     },
     "700a6f4e08724c85a2a6f6de28884857": {
      "model_module": "@jupyter-widgets/controls",
      "model_module_version": "2.0.0",
      "model_name": "HTMLStyleModel",
      "state": {
       "description_width": "",
       "font_size": null,
       "text_color": null
      }
     },
     "702a08421a7e4a4a842c41147f12d1ac": {
      "model_module": "@jupyter-widgets/controls",
      "model_module_version": "2.0.0",
      "model_name": "HTMLStyleModel",
      "state": {
       "description_width": "",
       "font_size": null,
       "text_color": null
      }
     },
     "718c913e80f34940acb448b8db73be40": {
      "model_module": "@jupyter-widgets/base",
      "model_module_version": "2.0.0",
      "model_name": "LayoutModel",
      "state": {}
     },
     "71b3b7ad7012451f9be07b171f612ba3": {
      "model_module": "@jupyter-widgets/base",
      "model_module_version": "2.0.0",
      "model_name": "LayoutModel",
      "state": {}
     },
     "71ecb98f0ea44372948d87b4646077a1": {
      "model_module": "@jupyter-widgets/base",
      "model_module_version": "2.0.0",
      "model_name": "LayoutModel",
      "state": {}
     },
     "72024da67db4453c92d1ebe641b47401": {
      "model_module": "@jupyter-widgets/controls",
      "model_module_version": "2.0.0",
      "model_name": "HTMLModel",
      "state": {
       "layout": "IPY_MODEL_ae2bd589fe184856b4c5fec053eadb20",
       "style": "IPY_MODEL_f0d13f79a0984dbebe8d20b42b21e27b",
       "value": " 0/6000 [00:01&lt;?, ?it/s]"
      }
     },
     "7281733bb8fc4f7ab81b84712ff0d666": {
      "model_module": "@jupyter-widgets/base",
      "model_module_version": "2.0.0",
      "model_name": "LayoutModel",
      "state": {}
     },
     "7336fc6252a74a2485d14e5d05218cbf": {
      "model_module": "@jupyter-widgets/base",
      "model_module_version": "2.0.0",
      "model_name": "LayoutModel",
      "state": {}
     },
     "73d8abc7345046a49031c096caa8dec9": {
      "model_module": "@jupyter-widgets/controls",
      "model_module_version": "2.0.0",
      "model_name": "HTMLStyleModel",
      "state": {
       "description_width": "",
       "font_size": null,
       "text_color": null
      }
     },
     "76122308b0454f68b1194f6f2185f53d": {
      "model_module": "@jupyter-widgets/controls",
      "model_module_version": "2.0.0",
      "model_name": "ProgressStyleModel",
      "state": {
       "description_width": ""
      }
     },
     "7692c954aa1d416c9d96ccb1f0fee8c6": {
      "model_module": "@jupyter-widgets/controls",
      "model_module_version": "2.0.0",
      "model_name": "HTMLModel",
      "state": {
       "layout": "IPY_MODEL_718c913e80f34940acb448b8db73be40",
       "style": "IPY_MODEL_05688112ad404b65848ff1e0d30d18ad",
       "value": "Building ResNet152 Features: 100%"
      }
     },
     "76c406cea5ec429a8fd389b11684409a": {
      "model_module": "@jupyter-widgets/controls",
      "model_module_version": "2.0.0",
      "model_name": "HTMLStyleModel",
      "state": {
       "description_width": "",
       "font_size": null,
       "text_color": null
      }
     },
     "77452105539844a9aeaf9346abe49ff6": {
      "model_module": "@jupyter-widgets/controls",
      "model_module_version": "2.0.0",
      "model_name": "HTMLModel",
      "state": {
       "layout": "IPY_MODEL_8d17742e9d7940ec82bf6f4b652c5291",
       "style": "IPY_MODEL_7c09b256835b404bbf1aafe39834480d",
       "value": " 6000/6000 [02:33&lt;00:00, 40.59images/s]"
      }
     },
     "77df2409d11942b3a0b9104a52e3d164": {
      "model_module": "@jupyter-widgets/controls",
      "model_module_version": "2.0.0",
      "model_name": "FloatProgressModel",
      "state": {
       "bar_style": "danger",
       "layout": "IPY_MODEL_290964debcc144058fbe756adc11f5f9",
       "max": 6000,
       "style": "IPY_MODEL_f187fbe852a34fbabf2d66f7238e9821"
      }
     },
     "7972c1ab8014415ca20a516244fb7ba3": {
      "model_module": "@jupyter-widgets/controls",
      "model_module_version": "2.0.0",
      "model_name": "FloatProgressModel",
      "state": {
       "bar_style": "success",
       "layout": "IPY_MODEL_ac5d6da29c8d4a428c1731bede1602a4",
       "max": 6000,
       "style": "IPY_MODEL_76122308b0454f68b1194f6f2185f53d",
       "value": 6000
      }
     },
     "7994609f8e904291887d05982f59ab72": {
      "model_module": "@jupyter-widgets/controls",
      "model_module_version": "2.0.0",
      "model_name": "HTMLModel",
      "state": {
       "layout": "IPY_MODEL_0dc8ca0c404347dcbf5b84aaa617c6b2",
       "style": "IPY_MODEL_7f6f4a5b2d2a439fa743c33fc4be8f7c",
       "value": " 120/6000 [1:03:38&lt;1:45:37,  1.08s/it]"
      }
     },
     "79b59c46bc424c699ae9be4774cff800": {
      "model_module": "@jupyter-widgets/controls",
      "model_module_version": "2.0.0",
      "model_name": "HBoxModel",
      "state": {
       "children": [
        "IPY_MODEL_387cd5e25c1442939d29d3d406d0f8cb",
        "IPY_MODEL_87404f12d17244e380c85152a17ad756",
        "IPY_MODEL_006983868a4d4b5c832e89792d13e53c"
       ],
       "layout": "IPY_MODEL_a59c9c8aa272432398202a956bb2776c"
      }
     },
     "7c09b256835b404bbf1aafe39834480d": {
      "model_module": "@jupyter-widgets/controls",
      "model_module_version": "2.0.0",
      "model_name": "HTMLStyleModel",
      "state": {
       "description_width": "",
       "font_size": null,
       "text_color": null
      }
     },
     "7cc97b2374f645a2ad4c94634f1c132f": {
      "model_module": "@jupyter-widgets/controls",
      "model_module_version": "2.0.0",
      "model_name": "HTMLModel",
      "state": {
       "layout": "IPY_MODEL_5b1272222f8446cdad7fe8b85d8fb99f",
       "style": "IPY_MODEL_e1c8fb8a2f58493c894377240f70c6c1",
       "value": "Saving feature vectors: 100%"
      }
     },
     "7ce38a8f5fc14ce2bc0982e1213f2c2e": {
      "model_module": "@jupyter-widgets/controls",
      "model_module_version": "2.0.0",
      "model_name": "ProgressStyleModel",
      "state": {
       "description_width": ""
      }
     },
     "7e396a9cc4e24283a51d8273a642c02b": {
      "model_module": "@jupyter-widgets/controls",
      "model_module_version": "2.0.0",
      "model_name": "HTMLModel",
      "state": {
       "layout": "IPY_MODEL_22c34e2d59ff4b73b43ddce009fdadbf",
       "style": "IPY_MODEL_699b7cd27147461fbcf07db363c1caf7",
       "value": "Loading 6000 samples: 100%"
      }
     },
     "7f5fab0849614d5a9f54e7da482840ac": {
      "model_module": "@jupyter-widgets/controls",
      "model_module_version": "2.0.0",
      "model_name": "HTMLModel",
      "state": {
       "layout": "IPY_MODEL_1f472d3ef33e4c039e74d7f2ee6f2cbb",
       "style": "IPY_MODEL_5a09ae2fb7e2491caf78759693d0c77b",
       "value": "Building Body-Part Features: 100%"
      }
     },
     "7f6f4a5b2d2a439fa743c33fc4be8f7c": {
      "model_module": "@jupyter-widgets/controls",
      "model_module_version": "2.0.0",
      "model_name": "HTMLStyleModel",
      "state": {
       "description_width": "",
       "font_size": null,
       "text_color": null
      }
     },
     "7fd9700905ea4e4e8064d95be50e07d0": {
      "model_module": "@jupyter-widgets/controls",
      "model_module_version": "2.0.0",
      "model_name": "HBoxModel",
      "state": {
       "children": [
        "IPY_MODEL_c57ac00fa7074a0593977b0061b6391a",
        "IPY_MODEL_d3220b3228c5469f81f5a5c07bce7903",
        "IPY_MODEL_c9d617a5c8da4ebd98c39bf68f2ae857"
       ],
       "layout": "IPY_MODEL_a8c9cf9101d34e7b838c99a2fba7f6f1"
      }
     },
     "804c75ddd8b747ed997ff5ad894e0162": {
      "model_module": "@jupyter-widgets/base",
      "model_module_version": "2.0.0",
      "model_name": "LayoutModel",
      "state": {}
     },
     "81c35689b5f34beba0bb766c2fc97424": {
      "model_module": "@jupyter-widgets/base",
      "model_module_version": "2.0.0",
      "model_name": "LayoutModel",
      "state": {}
     },
     "83652916903145d6af6061ea8cdb6247": {
      "model_module": "@jupyter-widgets/controls",
      "model_module_version": "2.0.0",
      "model_name": "FloatProgressModel",
      "state": {
       "bar_style": "success",
       "layout": "IPY_MODEL_020b7720782b4132bf1eeb14fa1e32f6",
       "max": 6000,
       "style": "IPY_MODEL_48c4e117e66248eeb3e3ebff6fb22dc5",
       "value": 6000
      }
     },
     "8475fd17f736402da526bd6e767b91a0": {
      "model_module": "@jupyter-widgets/base",
      "model_module_version": "2.0.0",
      "model_name": "LayoutModel",
      "state": {}
     },
     "8575f8ef22b449faa6bcfcf99a55f2ea": {
      "model_module": "@jupyter-widgets/base",
      "model_module_version": "2.0.0",
      "model_name": "LayoutModel",
      "state": {}
     },
     "87404f12d17244e380c85152a17ad756": {
      "model_module": "@jupyter-widgets/controls",
      "model_module_version": "2.0.0",
      "model_name": "FloatProgressModel",
      "state": {
       "bar_style": "danger",
       "layout": "IPY_MODEL_92464f3c8ebc49148a7ed3326ea43197",
       "max": 6000,
       "style": "IPY_MODEL_58b8313f1753483aadf727cc636dafe7"
      }
     },
     "89dfd98634054b86a9443b4cdcfb2c13": {
      "model_module": "@jupyter-widgets/controls",
      "model_module_version": "2.0.0",
      "model_name": "HTMLStyleModel",
      "state": {
       "description_width": "",
       "font_size": null,
       "text_color": null
      }
     },
     "8aa3a72dfe8d432a8b45f138a88feb7d": {
      "model_module": "@jupyter-widgets/controls",
      "model_module_version": "2.0.0",
      "model_name": "FloatProgressModel",
      "state": {
       "bar_style": "success",
       "layout": "IPY_MODEL_f144907c03174edeaea8f2b50f5f0253",
       "max": 6000,
       "style": "IPY_MODEL_28f6724bb5204c9bafb2e23a444e24f6",
       "value": 6000
      }
     },
     "8b51720a84034d59968c5d27c9e8161b": {
      "model_module": "@jupyter-widgets/base",
      "model_module_version": "2.0.0",
      "model_name": "LayoutModel",
      "state": {}
     },
     "8cc6771f29694590b295ff24dee789ec": {
      "model_module": "@jupyter-widgets/controls",
      "model_module_version": "2.0.0",
      "model_name": "HTMLStyleModel",
      "state": {
       "description_width": "",
       "font_size": null,
       "text_color": null
      }
     },
     "8d17742e9d7940ec82bf6f4b652c5291": {
      "model_module": "@jupyter-widgets/base",
      "model_module_version": "2.0.0",
      "model_name": "LayoutModel",
      "state": {}
     },
     "8d53133bb13a4cef8e1db84b70efee14": {
      "model_module": "@jupyter-widgets/controls",
      "model_module_version": "2.0.0",
      "model_name": "ProgressStyleModel",
      "state": {
       "description_width": ""
      }
     },
     "8e215f8268ef4f5c8d2298f177c48059": {
      "model_module": "@jupyter-widgets/controls",
      "model_module_version": "2.0.0",
      "model_name": "HTMLModel",
      "state": {
       "layout": "IPY_MODEL_71b3b7ad7012451f9be07b171f612ba3",
       "style": "IPY_MODEL_b1a4dad2e05d496481af758462415e5f",
       "value": " 6000/6000 [01:36&lt;00:00, 63.93samples/s]"
      }
     },
     "8e53970221ec495f80d691280597fbcd": {
      "model_module": "@jupyter-widgets/controls",
      "model_module_version": "2.0.0",
      "model_name": "HBoxModel",
      "state": {
       "children": [
        "IPY_MODEL_62846fde60c14f26b9db4ee299deab0b",
        "IPY_MODEL_fe69f69b00ef489dafa25a2c341af4c0",
        "IPY_MODEL_c495fa03293241509096be2cbcbd32cd"
       ],
       "layout": "IPY_MODEL_7336fc6252a74a2485d14e5d05218cbf"
      }
     },
     "9058f0cda9ab4d36b418ae9eeb980ffc": {
      "model_module": "@jupyter-widgets/controls",
      "model_module_version": "2.0.0",
      "model_name": "FloatProgressModel",
      "state": {
       "bar_style": "success",
       "layout": "IPY_MODEL_4e9279c449d74bdc927496c529b57b44",
       "max": 6000,
       "style": "IPY_MODEL_0cc72d9fa75e4cdfac3028ca791be576",
       "value": 6000
      }
     },
     "92464f3c8ebc49148a7ed3326ea43197": {
      "model_module": "@jupyter-widgets/base",
      "model_module_version": "2.0.0",
      "model_name": "LayoutModel",
      "state": {}
     },
     "94fc4b16106a40c1b8e0372ec0316c76": {
      "model_module": "@jupyter-widgets/base",
      "model_module_version": "2.0.0",
      "model_name": "LayoutModel",
      "state": {}
     },
     "9533f995c76a446fbfb07f15c9f123d2": {
      "model_module": "@jupyter-widgets/base",
      "model_module_version": "2.0.0",
      "model_name": "LayoutModel",
      "state": {}
     },
     "95b56795b2324113bf51a4c709c11928": {
      "model_module": "@jupyter-widgets/controls",
      "model_module_version": "2.0.0",
      "model_name": "FloatProgressModel",
      "state": {
       "bar_style": "success",
       "layout": "IPY_MODEL_e38180b00e524a67bcef2edeef29ee1b",
       "max": 6000,
       "style": "IPY_MODEL_0ec2e978a3154ac4b2c09561828854fd",
       "value": 6000
      }
     },
     "966f3be83d75423a9c5ac85c76dc1491": {
      "model_module": "@jupyter-widgets/base",
      "model_module_version": "2.0.0",
      "model_name": "LayoutModel",
      "state": {}
     },
     "9817f69de20c45d0ac0e3b973e02c265": {
      "model_module": "@jupyter-widgets/base",
      "model_module_version": "2.0.0",
      "model_name": "LayoutModel",
      "state": {}
     },
     "98252d8d0c14438cb906004e81e75ab5": {
      "model_module": "@jupyter-widgets/controls",
      "model_module_version": "2.0.0",
      "model_name": "FloatProgressModel",
      "state": {
       "bar_style": "success",
       "layout": "IPY_MODEL_b1f33681305e4dc293c893afbf00b903",
       "max": 6000,
       "style": "IPY_MODEL_7ce38a8f5fc14ce2bc0982e1213f2c2e",
       "value": 6000
      }
     },
     "9833ef2862ea4dc5b897077a6d8b100c": {
      "model_module": "@jupyter-widgets/base",
      "model_module_version": "2.0.0",
      "model_name": "LayoutModel",
      "state": {}
     },
     "98d7aa0224f64ffa8074b55b0339e48f": {
      "model_module": "@jupyter-widgets/controls",
      "model_module_version": "2.0.0",
      "model_name": "FloatProgressModel",
      "state": {
       "bar_style": "danger",
       "layout": "IPY_MODEL_c23c20bef1b44602a66b73011c4931d6",
       "max": 6000,
       "style": "IPY_MODEL_d15d8bc9d0ae4447b50507785ec1b0fc",
       "value": 1011
      }
     },
     "98d8c9f5c5c94b2fbacbe970cdf6f6c3": {
      "model_module": "@jupyter-widgets/base",
      "model_module_version": "2.0.0",
      "model_name": "LayoutModel",
      "state": {}
     },
     "9c5dd35b5b994cf7a9ab5172284ae0ed": {
      "model_module": "@jupyter-widgets/controls",
      "model_module_version": "2.0.0",
      "model_name": "ProgressStyleModel",
      "state": {
       "description_width": ""
      }
     },
     "9c61801330194c79af7dd210968eebdc": {
      "model_module": "@jupyter-widgets/controls",
      "model_module_version": "2.0.0",
      "model_name": "HTMLStyleModel",
      "state": {
       "description_width": "",
       "font_size": null,
       "text_color": null
      }
     },
     "9dec0a1cd67444e184cf2a16a5dc9473": {
      "model_module": "@jupyter-widgets/controls",
      "model_module_version": "2.0.0",
      "model_name": "HTMLStyleModel",
      "state": {
       "description_width": "",
       "font_size": null,
       "text_color": null
      }
     },
     "9e6ad1204ef0421f8f6a579ce1fb58a4": {
      "model_module": "@jupyter-widgets/base",
      "model_module_version": "2.0.0",
      "model_name": "LayoutModel",
      "state": {}
     },
     "a037fa120da7419f88af184358aa2560": {
      "model_module": "@jupyter-widgets/controls",
      "model_module_version": "2.0.0",
      "model_name": "HTMLStyleModel",
      "state": {
       "description_width": "",
       "font_size": null,
       "text_color": null
      }
     },
     "a1568ffec5e0404eb80a9ff46b8d7086": {
      "model_module": "@jupyter-widgets/controls",
      "model_module_version": "2.0.0",
      "model_name": "HTMLModel",
      "state": {
       "layout": "IPY_MODEL_62c2dc4b09eb4b4684f52aa14ad28469",
       "style": "IPY_MODEL_085ab8ad9d5c47df8340cb51a365fe21",
       "value": " 3339/6000 [56:35&lt;44:02,  1.01it/s]"
      }
     },
     "a1d88285c390493393662056d8ac08c6": {
      "model_module": "@jupyter-widgets/base",
      "model_module_version": "2.0.0",
      "model_name": "LayoutModel",
      "state": {}
     },
     "a225a8403c014cce95bdd760f6f28776": {
      "model_module": "@jupyter-widgets/controls",
      "model_module_version": "2.0.0",
      "model_name": "FloatProgressModel",
      "state": {
       "bar_style": "success",
       "layout": "IPY_MODEL_ad483faa0d7343ad891c3f2c47f3718a",
       "max": 6000,
       "style": "IPY_MODEL_8d53133bb13a4cef8e1db84b70efee14",
       "value": 6000
      }
     },
     "a3e34b3fe89d485f83e719aa7342df32": {
      "model_module": "@jupyter-widgets/base",
      "model_module_version": "2.0.0",
      "model_name": "LayoutModel",
      "state": {}
     },
     "a4d016c9040b44d996099250036c4751": {
      "model_module": "@jupyter-widgets/controls",
      "model_module_version": "2.0.0",
      "model_name": "HTMLModel",
      "state": {
       "layout": "IPY_MODEL_aa95a4443e5740a3a7a21e9adb1d9c21",
       "style": "IPY_MODEL_a037fa120da7419f88af184358aa2560",
       "value": "Loading feature vectors:   0%"
      }
     },
     "a5136dbd8beb45aaa596fef29e36f050": {
      "model_module": "@jupyter-widgets/controls",
      "model_module_version": "2.0.0",
      "model_name": "HBoxModel",
      "state": {
       "children": [
        "IPY_MODEL_dfaf64efbbc1453ca292bd3efd2a5704",
        "IPY_MODEL_a225a8403c014cce95bdd760f6f28776",
        "IPY_MODEL_22b72197c20c4c4a80d88efb48319f55"
       ],
       "layout": "IPY_MODEL_b7ab49b7d5a64b99befb227468e4be0f"
      }
     },
     "a59c9c8aa272432398202a956bb2776c": {
      "model_module": "@jupyter-widgets/base",
      "model_module_version": "2.0.0",
      "model_name": "LayoutModel",
      "state": {}
     },
     "a74ff27c832242619ff7c8df70ee7545": {
      "model_module": "@jupyter-widgets/controls",
      "model_module_version": "2.0.0",
      "model_name": "HTMLStyleModel",
      "state": {
       "description_width": "",
       "font_size": null,
       "text_color": null
      }
     },
     "a7d2b476a2f248dc9615a1683a0debdb": {
      "model_module": "@jupyter-widgets/base",
      "model_module_version": "2.0.0",
      "model_name": "LayoutModel",
      "state": {}
     },
     "a8a78f6a4a1649e294d536e107492b79": {
      "model_module": "@jupyter-widgets/controls",
      "model_module_version": "2.0.0",
      "model_name": "HBoxModel",
      "state": {
       "children": [
        "IPY_MODEL_53ec36734d0d4629a362e2f24f4e0cff",
        "IPY_MODEL_95b56795b2324113bf51a4c709c11928",
        "IPY_MODEL_500cf5ab3cd24ba8ae81e34cc8a2e6b3"
       ],
       "layout": "IPY_MODEL_7281733bb8fc4f7ab81b84712ff0d666"
      }
     },
     "a8c9cf9101d34e7b838c99a2fba7f6f1": {
      "model_module": "@jupyter-widgets/base",
      "model_module_version": "2.0.0",
      "model_name": "LayoutModel",
      "state": {}
     },
     "a9b2637c305c49a2b0c84f7b7e1d572a": {
      "model_module": "@jupyter-widgets/controls",
      "model_module_version": "2.0.0",
      "model_name": "HTMLModel",
      "state": {
       "layout": "IPY_MODEL_ab7c5deac51a46899dce913d0b755b5f",
       "style": "IPY_MODEL_5d19eb2060024eceab9127d3241ec31a",
       "value": " 0/6000 [00:00&lt;?, ?images/s]"
      }
     },
     "aa95a4443e5740a3a7a21e9adb1d9c21": {
      "model_module": "@jupyter-widgets/base",
      "model_module_version": "2.0.0",
      "model_name": "LayoutModel",
      "state": {}
     },
     "ab0ea046a94743d3bdca8892f95a250f": {
      "model_module": "@jupyter-widgets/controls",
      "model_module_version": "2.0.0",
      "model_name": "HTMLStyleModel",
      "state": {
       "description_width": "",
       "font_size": null,
       "text_color": null
      }
     },
     "ab7c5deac51a46899dce913d0b755b5f": {
      "model_module": "@jupyter-widgets/base",
      "model_module_version": "2.0.0",
      "model_name": "LayoutModel",
      "state": {}
     },
     "abb049be02e9426196f12b6251adeccb": {
      "model_module": "@jupyter-widgets/controls",
      "model_module_version": "2.0.0",
      "model_name": "FloatProgressModel",
      "state": {
       "bar_style": "success",
       "layout": "IPY_MODEL_9533f995c76a446fbfb07f15c9f123d2",
       "max": 22424,
       "style": "IPY_MODEL_e50212f282504214ba4c91886e43d054",
       "value": 22424
      }
     },
     "ac5d6da29c8d4a428c1731bede1602a4": {
      "model_module": "@jupyter-widgets/base",
      "model_module_version": "2.0.0",
      "model_name": "LayoutModel",
      "state": {}
     },
     "aca06daf54df445fad3b357f7243ede7": {
      "model_module": "@jupyter-widgets/base",
      "model_module_version": "2.0.0",
      "model_name": "LayoutModel",
      "state": {}
     },
     "acb6676bd0b241399e626e4f7e3ff398": {
      "model_module": "@jupyter-widgets/base",
      "model_module_version": "2.0.0",
      "model_name": "LayoutModel",
      "state": {}
     },
     "aceafac658ef48329f88a0672fc780e1": {
      "model_module": "@jupyter-widgets/controls",
      "model_module_version": "2.0.0",
      "model_name": "HTMLModel",
      "state": {
       "layout": "IPY_MODEL_4fcad9d0bd494e9a8a73ea1918a0ba5a",
       "style": "IPY_MODEL_ab0ea046a94743d3bdca8892f95a250f",
       "value": " 6000/6000 [25:11&lt;00:00,  4.10images/s]"
      }
     },
     "ad3f6b59831743f987177bb3e6b77ce9": {
      "model_module": "@jupyter-widgets/base",
      "model_module_version": "2.0.0",
      "model_name": "LayoutModel",
      "state": {}
     },
     "ad483faa0d7343ad891c3f2c47f3718a": {
      "model_module": "@jupyter-widgets/base",
      "model_module_version": "2.0.0",
      "model_name": "LayoutModel",
      "state": {}
     },
     "adea5aef634141519cfa86e2402be09a": {
      "model_module": "@jupyter-widgets/controls",
      "model_module_version": "2.0.0",
      "model_name": "HTMLStyleModel",
      "state": {
       "description_width": "",
       "font_size": null,
       "text_color": null
      }
     },
     "ae2bd589fe184856b4c5fec053eadb20": {
      "model_module": "@jupyter-widgets/base",
      "model_module_version": "2.0.0",
      "model_name": "LayoutModel",
      "state": {}
     },
     "af427984d3c844dfaf6ac7a60c8e9ef0": {
      "model_module": "@jupyter-widgets/base",
      "model_module_version": "2.0.0",
      "model_name": "LayoutModel",
      "state": {}
     },
     "b06711264bb8497ba54b9db1a205fe8a": {
      "model_module": "@jupyter-widgets/controls",
      "model_module_version": "2.0.0",
      "model_name": "ProgressStyleModel",
      "state": {
       "description_width": ""
      }
     },
     "b0f23ee31e2c4c4f97405944489d2e18": {
      "model_module": "@jupyter-widgets/controls",
      "model_module_version": "2.0.0",
      "model_name": "HTMLModel",
      "state": {
       "layout": "IPY_MODEL_f9125e975cca4080b0df01ce9c84304c",
       "style": "IPY_MODEL_9c61801330194c79af7dd210968eebdc",
       "value": "Loading 6000 samples: 100%"
      }
     },
     "b1a4dad2e05d496481af758462415e5f": {
      "model_module": "@jupyter-widgets/controls",
      "model_module_version": "2.0.0",
      "model_name": "HTMLStyleModel",
      "state": {
       "description_width": "",
       "font_size": null,
       "text_color": null
      }
     },
     "b1f33681305e4dc293c893afbf00b903": {
      "model_module": "@jupyter-widgets/base",
      "model_module_version": "2.0.0",
      "model_name": "LayoutModel",
      "state": {}
     },
     "b2ceeb290db945999ccf6553f5c33c3b": {
      "model_module": "@jupyter-widgets/base",
      "model_module_version": "2.0.0",
      "model_name": "LayoutModel",
      "state": {}
     },
     "b31bb019a6734f228cc0f516b31eb9ab": {
      "model_module": "@jupyter-widgets/controls",
      "model_module_version": "2.0.0",
      "model_name": "FloatProgressModel",
      "state": {
       "bar_style": "success",
       "layout": "IPY_MODEL_e4cff3ae1bbb4ad89054e9f93a817bc2",
       "max": 6000,
       "style": "IPY_MODEL_5ec2d755e01042a4b83b1cc07c875c00",
       "value": 6000
      }
     },
     "b43c5909c7da4358b0ae388d89b9f109": {
      "model_module": "@jupyter-widgets/base",
      "model_module_version": "2.0.0",
      "model_name": "LayoutModel",
      "state": {}
     },
     "b561348d32944a2cbac7e49ad578b0f4": {
      "model_module": "@jupyter-widgets/controls",
      "model_module_version": "2.0.0",
      "model_name": "HTMLStyleModel",
      "state": {
       "description_width": "",
       "font_size": null,
       "text_color": null
      }
     },
     "b5a02efb5bae4e489af4ff691c6af4d4": {
      "model_module": "@jupyter-widgets/controls",
      "model_module_version": "2.0.0",
      "model_name": "FloatProgressModel",
      "state": {
       "bar_style": "success",
       "layout": "IPY_MODEL_35e56b6e5e614e6ca47b8880a0d17baa",
       "max": 6000,
       "style": "IPY_MODEL_d4f25494215849cba03d86d1a2db07ac",
       "value": 6000
      }
     },
     "b7ab49b7d5a64b99befb227468e4be0f": {
      "model_module": "@jupyter-widgets/base",
      "model_module_version": "2.0.0",
      "model_name": "LayoutModel",
      "state": {}
     },
     "b8215a8efc844c1bb36b491cb5113e73": {
      "model_module": "@jupyter-widgets/controls",
      "model_module_version": "2.0.0",
      "model_name": "FloatProgressModel",
      "state": {
       "bar_style": "success",
       "layout": "IPY_MODEL_3b715bf6d04241278cbb6068f06ea53c",
       "max": 6000,
       "style": "IPY_MODEL_fba0c0930bd74fcd8f5d7f4422ffb656",
       "value": 6000
      }
     },
     "b94c6df0966344c1b1c992f9cc5d8479": {
      "model_module": "@jupyter-widgets/controls",
      "model_module_version": "2.0.0",
      "model_name": "HBoxModel",
      "state": {
       "children": [
        "IPY_MODEL_f454bcb901ba4edc9291db92fa4561ff",
        "IPY_MODEL_98d7aa0224f64ffa8074b55b0339e48f",
        "IPY_MODEL_18fc12b15ebe48889e95ad41fba4b376"
       ],
       "layout": "IPY_MODEL_ce45c8890f8a4dfb90b2c5dce4c1cd14"
      }
     },
     "b98b62d64d7a44979253c4e647a26056": {
      "model_module": "@jupyter-widgets/controls",
      "model_module_version": "2.0.0",
      "model_name": "HTMLStyleModel",
      "state": {
       "description_width": "",
       "font_size": null,
       "text_color": null
      }
     },
     "bc2621be248f4ddaa6cd8e54defcc035": {
      "model_module": "@jupyter-widgets/controls",
      "model_module_version": "2.0.0",
      "model_name": "HTMLStyleModel",
      "state": {
       "description_width": "",
       "font_size": null,
       "text_color": null
      }
     },
     "be05f87df4d1401d889253bbd0583fc6": {
      "model_module": "@jupyter-widgets/base",
      "model_module_version": "2.0.0",
      "model_name": "LayoutModel",
      "state": {}
     },
     "c23c20bef1b44602a66b73011c4931d6": {
      "model_module": "@jupyter-widgets/base",
      "model_module_version": "2.0.0",
      "model_name": "LayoutModel",
      "state": {}
     },
     "c48ee13497f84eb7a2c4485c1951e3a5": {
      "model_module": "@jupyter-widgets/base",
      "model_module_version": "2.0.0",
      "model_name": "LayoutModel",
      "state": {}
     },
     "c495fa03293241509096be2cbcbd32cd": {
      "model_module": "@jupyter-widgets/controls",
      "model_module_version": "2.0.0",
      "model_name": "HTMLModel",
      "state": {
       "layout": "IPY_MODEL_9817f69de20c45d0ac0e3b973e02c265",
       "style": "IPY_MODEL_6c7aae78b53c434d9e843ab23a9e412a",
       "value": " 0/6000 [00:01&lt;?, ?it/s]"
      }
     },
     "c4f1e084f79e4f73ace0bc66e8da8767": {
      "model_module": "@jupyter-widgets/controls",
      "model_module_version": "2.0.0",
      "model_name": "HTMLModel",
      "state": {
       "layout": "IPY_MODEL_2ba261b495ef42d19cf71250782427d7",
       "style": "IPY_MODEL_b98b62d64d7a44979253c4e647a26056",
       "value": "Building Pixel Features: 100%"
      }
     },
     "c53477ff39134d0599661248b34b12ed": {
      "model_module": "@jupyter-widgets/controls",
      "model_module_version": "2.0.0",
      "model_name": "HBoxModel",
      "state": {
       "children": [
        "IPY_MODEL_37195417776d492080fabff245bd779d",
        "IPY_MODEL_abb049be02e9426196f12b6251adeccb",
        "IPY_MODEL_da458f5ec32a413fb17f3fed28974e73"
       ],
       "layout": "IPY_MODEL_56a73b2e01484409b3ea882989a9a793"
      }
     },
     "c55b2e8e92aa4c459f5674b838bc1ec6": {
      "model_module": "@jupyter-widgets/controls",
      "model_module_version": "2.0.0",
      "model_name": "HTMLStyleModel",
      "state": {
       "description_width": "",
       "font_size": null,
       "text_color": null
      }
     },
     "c57ac00fa7074a0593977b0061b6391a": {
      "model_module": "@jupyter-widgets/controls",
      "model_module_version": "2.0.0",
      "model_name": "HTMLModel",
      "state": {
       "layout": "IPY_MODEL_ad3f6b59831743f987177bb3e6b77ce9",
       "style": "IPY_MODEL_41e6a88f5e334d1f80f5be53e594dbf7",
       "value": "Building Pixel Features: 100%"
      }
     },
     "c621020686c546b8915ba663cd09521c": {
      "model_module": "@jupyter-widgets/controls",
      "model_module_version": "2.0.0",
      "model_name": "HTMLStyleModel",
      "state": {
       "description_width": "",
       "font_size": null,
       "text_color": null
      }
     },
     "c62f0d46b7f24a158b412d1eb42513c7": {
      "model_module": "@jupyter-widgets/controls",
      "model_module_version": "2.0.0",
      "model_name": "HTMLStyleModel",
      "state": {
       "description_width": "",
       "font_size": null,
       "text_color": null
      }
     },
     "c69d0b6924404c89a4446336f68309b3": {
      "model_module": "@jupyter-widgets/base",
      "model_module_version": "2.0.0",
      "model_name": "LayoutModel",
      "state": {}
     },
     "c781a6932ca54e4a85f14fa458e359f1": {
      "model_module": "@jupyter-widgets/controls",
      "model_module_version": "2.0.0",
      "model_name": "HTMLStyleModel",
      "state": {
       "description_width": "",
       "font_size": null,
       "text_color": null
      }
     },
     "c84a51b2ac354ce4b6d49c07266e9bf5": {
      "model_module": "@jupyter-widgets/base",
      "model_module_version": "2.0.0",
      "model_name": "LayoutModel",
      "state": {}
     },
     "c8e48bcab1274ccea98d1fb23611326c": {
      "model_module": "@jupyter-widgets/base",
      "model_module_version": "2.0.0",
      "model_name": "LayoutModel",
      "state": {}
     },
     "c9d617a5c8da4ebd98c39bf68f2ae857": {
      "model_module": "@jupyter-widgets/controls",
      "model_module_version": "2.0.0",
      "model_name": "HTMLModel",
      "state": {
       "layout": "IPY_MODEL_19cb8b804793428195c72acf1da81c92",
       "style": "IPY_MODEL_6039fa03bab64a3f9a23afb8b1301eb9",
       "value": " 6000/6000 [00:00&lt;00:00, 12637.62images/s]"
      }
     },
     "cc808c7e505e432a8588eb1378071b43": {
      "model_module": "@jupyter-widgets/base",
      "model_module_version": "2.0.0",
      "model_name": "LayoutModel",
      "state": {}
     },
     "cc9152b69db64a4f8a3272a9d9e8b4b5": {
      "model_module": "@jupyter-widgets/controls",
      "model_module_version": "2.0.0",
      "model_name": "HTMLStyleModel",
      "state": {
       "description_width": "",
       "font_size": null,
       "text_color": null
      }
     },
     "ce45c8890f8a4dfb90b2c5dce4c1cd14": {
      "model_module": "@jupyter-widgets/base",
      "model_module_version": "2.0.0",
      "model_name": "LayoutModel",
      "state": {}
     },
     "d02a9502cddb4a5db30ec1f5d65ac2a1": {
      "model_module": "@jupyter-widgets/controls",
      "model_module_version": "2.0.0",
      "model_name": "HTMLModel",
      "state": {
       "layout": "IPY_MODEL_8575f8ef22b449faa6bcfcf99a55f2ea",
       "style": "IPY_MODEL_adea5aef634141519cfa86e2402be09a",
       "value": "Processing images labeled &#x27;Conversing&#x27;: 100%"
      }
     },
     "d15d8bc9d0ae4447b50507785ec1b0fc": {
      "model_module": "@jupyter-widgets/controls",
      "model_module_version": "2.0.0",
      "model_name": "ProgressStyleModel",
      "state": {
       "description_width": ""
      }
     },
     "d31b8b49b17f470a9a3d80827acca588": {
      "model_module": "@jupyter-widgets/base",
      "model_module_version": "2.0.0",
      "model_name": "LayoutModel",
      "state": {}
     },
     "d3220b3228c5469f81f5a5c07bce7903": {
      "model_module": "@jupyter-widgets/controls",
      "model_module_version": "2.0.0",
      "model_name": "FloatProgressModel",
      "state": {
       "bar_style": "success",
       "layout": "IPY_MODEL_2599c07a9e344cbca60523b68ad67f24",
       "max": 6000,
       "style": "IPY_MODEL_4514a2f7fea640e987851da8022fb6ae",
       "value": 6000
      }
     },
     "d3a7a14b523c48cdaeb80e3a470ba7ee": {
      "model_module": "@jupyter-widgets/controls",
      "model_module_version": "2.0.0",
      "model_name": "HTMLStyleModel",
      "state": {
       "description_width": "",
       "font_size": null,
       "text_color": null
      }
     },
     "d4f25494215849cba03d86d1a2db07ac": {
      "model_module": "@jupyter-widgets/controls",
      "model_module_version": "2.0.0",
      "model_name": "ProgressStyleModel",
      "state": {
       "description_width": ""
      }
     },
     "d793a07722f44843867bd577a4cc6562": {
      "model_module": "@jupyter-widgets/controls",
      "model_module_version": "2.0.0",
      "model_name": "HTMLModel",
      "state": {
       "layout": "IPY_MODEL_804c75ddd8b747ed997ff5ad894e0162",
       "style": "IPY_MODEL_4a68dbf813814348b0aaeee967700804",
       "value": " 6000/6000 [14:35&lt;00:00,  6.46images/s]"
      }
     },
     "d8b5a7e2c4fe4dc08696a6981cb0b28c": {
      "model_module": "@jupyter-widgets/base",
      "model_module_version": "2.0.0",
      "model_name": "LayoutModel",
      "state": {}
     },
     "d8e86a5f71804ed086c31916871abdb2": {
      "model_module": "@jupyter-widgets/base",
      "model_module_version": "2.0.0",
      "model_name": "LayoutModel",
      "state": {}
     },
     "d8ec8c3ca09a4eaca37061b1cc00a8f8": {
      "model_module": "@jupyter-widgets/controls",
      "model_module_version": "2.0.0",
      "model_name": "HBoxModel",
      "state": {
       "children": [
        "IPY_MODEL_4bd42dd9e43d4d42b28106f1a6d2c0a7",
        "IPY_MODEL_52ef544242624523918e0da632a26cf2",
        "IPY_MODEL_72024da67db4453c92d1ebe641b47401"
       ],
       "layout": "IPY_MODEL_d31b8b49b17f470a9a3d80827acca588"
      }
     },
     "d9745dfd153f431c9b72779c441d3b66": {
      "model_module": "@jupyter-widgets/controls",
      "model_module_version": "2.0.0",
      "model_name": "HTMLModel",
      "state": {
       "layout": "IPY_MODEL_18f3c8081a41470cb671ca45da3e57e1",
       "style": "IPY_MODEL_2286761343c14ebfa2d6a0a6dc3208a2",
       "value": "Processing images labeled &#x27;Conversing&#x27;:  56%"
      }
     },
     "da458f5ec32a413fb17f3fed28974e73": {
      "model_module": "@jupyter-widgets/controls",
      "model_module_version": "2.0.0",
      "model_name": "HTMLModel",
      "state": {
       "layout": "IPY_MODEL_966f3be83d75423a9c5ac85c76dc1491",
       "style": "IPY_MODEL_8cc6771f29694590b295ff24dee789ec",
       "value": " 22424/22424 [54:50&lt;00:00,  3.61files/s]"
      }
     },
     "db216b911d01499ca9b21b1bc3aaf6c7": {
      "model_module": "@jupyter-widgets/controls",
      "model_module_version": "2.0.0",
      "model_name": "ProgressStyleModel",
      "state": {
       "description_width": ""
      }
     },
     "dd7920ad4de2410ca62fc161945e0206": {
      "model_module": "@jupyter-widgets/base",
      "model_module_version": "2.0.0",
      "model_name": "LayoutModel",
      "state": {}
     },
     "dd803e7edbb540198b156711b1727598": {
      "model_module": "@jupyter-widgets/controls",
      "model_module_version": "2.0.0",
      "model_name": "HTMLStyleModel",
      "state": {
       "description_width": "",
       "font_size": null,
       "text_color": null
      }
     },
     "de4d265398034716b0c87d3477bbc54f": {
      "model_module": "@jupyter-widgets/controls",
      "model_module_version": "2.0.0",
      "model_name": "ProgressStyleModel",
      "state": {
       "description_width": ""
      }
     },
     "de853485f47244e5becbf28bbbdac56e": {
      "model_module": "@jupyter-widgets/base",
      "model_module_version": "2.0.0",
      "model_name": "LayoutModel",
      "state": {}
     },
     "dfaf64efbbc1453ca292bd3efd2a5704": {
      "model_module": "@jupyter-widgets/controls",
      "model_module_version": "2.0.0",
      "model_name": "HTMLModel",
      "state": {
       "layout": "IPY_MODEL_2833f7603f7841b6991d6b9949762b5b",
       "style": "IPY_MODEL_45c496a82e344bd99bb934ecf1db0d1b",
       "value": "Building Edge Features: 100%"
      }
     },
     "e0c25e67637f4fdabca911262a45d372": {
      "model_module": "@jupyter-widgets/base",
      "model_module_version": "2.0.0",
      "model_name": "LayoutModel",
      "state": {}
     },
     "e1c8fb8a2f58493c894377240f70c6c1": {
      "model_module": "@jupyter-widgets/controls",
      "model_module_version": "2.0.0",
      "model_name": "HTMLStyleModel",
      "state": {
       "description_width": "",
       "font_size": null,
       "text_color": null
      }
     },
     "e38180b00e524a67bcef2edeef29ee1b": {
      "model_module": "@jupyter-widgets/base",
      "model_module_version": "2.0.0",
      "model_name": "LayoutModel",
      "state": {}
     },
     "e4cff3ae1bbb4ad89054e9f93a817bc2": {
      "model_module": "@jupyter-widgets/base",
      "model_module_version": "2.0.0",
      "model_name": "LayoutModel",
      "state": {}
     },
     "e50212f282504214ba4c91886e43d054": {
      "model_module": "@jupyter-widgets/controls",
      "model_module_version": "2.0.0",
      "model_name": "ProgressStyleModel",
      "state": {
       "description_width": ""
      }
     },
     "e54fee3098214d6b857990eb90dc77c5": {
      "model_module": "@jupyter-widgets/controls",
      "model_module_version": "2.0.0",
      "model_name": "HTMLStyleModel",
      "state": {
       "description_width": "",
       "font_size": null,
       "text_color": null
      }
     },
     "e6ac4e1bb4324584aa9fcbacec076adc": {
      "model_module": "@jupyter-widgets/controls",
      "model_module_version": "2.0.0",
      "model_name": "HTMLModel",
      "state": {
       "layout": "IPY_MODEL_acb6676bd0b241399e626e4f7e3ff398",
       "style": "IPY_MODEL_89dfd98634054b86a9443b4cdcfb2c13",
       "value": " 6000/6000 [02:08&lt;00:00, 50.67images/s]"
      }
     },
     "e84ebaa574854a8f9aae1d9321c37e32": {
      "model_module": "@jupyter-widgets/controls",
      "model_module_version": "2.0.0",
      "model_name": "HTMLModel",
      "state": {
       "layout": "IPY_MODEL_9833ef2862ea4dc5b897077a6d8b100c",
       "style": "IPY_MODEL_dd803e7edbb540198b156711b1727598",
       "value": " 6000/6000 [1:39:33&lt;00:00,  1.05it/s]"
      }
     },
     "e8c326dca1c94e178b99f3f9626011f2": {
      "model_module": "@jupyter-widgets/controls",
      "model_module_version": "2.0.0",
      "model_name": "ProgressStyleModel",
      "state": {
       "description_width": ""
      }
     },
     "e951a7afe2c9479d997dc229776a8857": {
      "model_module": "@jupyter-widgets/controls",
      "model_module_version": "2.0.0",
      "model_name": "HTMLModel",
      "state": {
       "layout": "IPY_MODEL_ee3224302fae48e19e9f31b9bdadd5df",
       "style": "IPY_MODEL_f59f58378edc421cb1b0cf10516394c2",
       "value": "Loading 6000 samples: 100%"
      }
     },
     "ec9893ff61c043fd85b9a61b3f512273": {
      "model_module": "@jupyter-widgets/controls",
      "model_module_version": "2.0.0",
      "model_name": "FloatProgressModel",
      "state": {
       "bar_style": "danger",
       "layout": "IPY_MODEL_3999702415eb4bfabef9a5a98a20cdc4",
       "max": 6000,
       "style": "IPY_MODEL_e8c326dca1c94e178b99f3f9626011f2",
       "value": 120
      }
     },
     "ed66bab1f4804a518bf4308e18f6083e": {
      "model_module": "@jupyter-widgets/controls",
      "model_module_version": "2.0.0",
      "model_name": "HBoxModel",
      "state": {
       "children": [
        "IPY_MODEL_e951a7afe2c9479d997dc229776a8857",
        "IPY_MODEL_b31bb019a6734f228cc0f516b31eb9ab",
        "IPY_MODEL_55204edd4947433e9f7abc7797c0b51a"
       ],
       "layout": "IPY_MODEL_a1d88285c390493393662056d8ac08c6"
      }
     },
     "ee3224302fae48e19e9f31b9bdadd5df": {
      "model_module": "@jupyter-widgets/base",
      "model_module_version": "2.0.0",
      "model_name": "LayoutModel",
      "state": {}
     },
     "ef851212e2114df4b1d19fe3c174ae7c": {
      "model_module": "@jupyter-widgets/base",
      "model_module_version": "2.0.0",
      "model_name": "LayoutModel",
      "state": {}
     },
     "f0d13f79a0984dbebe8d20b42b21e27b": {
      "model_module": "@jupyter-widgets/controls",
      "model_module_version": "2.0.0",
      "model_name": "HTMLStyleModel",
      "state": {
       "description_width": "",
       "font_size": null,
       "text_color": null
      }
     },
     "f144907c03174edeaea8f2b50f5f0253": {
      "model_module": "@jupyter-widgets/base",
      "model_module_version": "2.0.0",
      "model_name": "LayoutModel",
      "state": {}
     },
     "f187fbe852a34fbabf2d66f7238e9821": {
      "model_module": "@jupyter-widgets/controls",
      "model_module_version": "2.0.0",
      "model_name": "ProgressStyleModel",
      "state": {
       "description_width": ""
      }
     },
     "f2d76cbeeec046eaa8414a5c3da68868": {
      "model_module": "@jupyter-widgets/controls",
      "model_module_version": "2.0.0",
      "model_name": "HTMLModel",
      "state": {
       "layout": "IPY_MODEL_602724e31a894f6186f61232e861b3a4",
       "style": "IPY_MODEL_6bde957f30e6498b9c93bf5a540598ce"
      }
     },
     "f2d92b25e5184f4e930e66a399f11364": {
      "model_module": "@jupyter-widgets/base",
      "model_module_version": "2.0.0",
      "model_name": "LayoutModel",
      "state": {}
     },
     "f377b0df74bd4e59988b41622cdd1d83": {
      "model_module": "@jupyter-widgets/base",
      "model_module_version": "2.0.0",
      "model_name": "LayoutModel",
      "state": {}
     },
     "f3840ebc9b3b475fa67838ee70f2f0e1": {
      "model_module": "@jupyter-widgets/controls",
      "model_module_version": "2.0.0",
      "model_name": "HTMLModel",
      "state": {
       "layout": "IPY_MODEL_94fc4b16106a40c1b8e0372ec0316c76",
       "style": "IPY_MODEL_73d8abc7345046a49031c096caa8dec9",
       "value": "Getting eye counts: 100%"
      }
     },
     "f454bcb901ba4edc9291db92fa4561ff": {
      "model_module": "@jupyter-widgets/controls",
      "model_module_version": "2.0.0",
      "model_name": "HTMLModel",
      "state": {
       "layout": "IPY_MODEL_e0c25e67637f4fdabca911262a45d372",
       "style": "IPY_MODEL_2ce647c848834df5aaadc964e4e6a2c6",
       "value": "Building ResNet152 Features:  17%"
      }
     },
     "f59f58378edc421cb1b0cf10516394c2": {
      "model_module": "@jupyter-widgets/controls",
      "model_module_version": "2.0.0",
      "model_name": "HTMLStyleModel",
      "state": {
       "description_width": "",
       "font_size": null,
       "text_color": null
      }
     },
     "f6fb2da9586547c9bc138e8160159356": {
      "model_module": "@jupyter-widgets/controls",
      "model_module_version": "2.0.0",
      "model_name": "HBoxModel",
      "state": {
       "children": [
        "IPY_MODEL_7e396a9cc4e24283a51d8273a642c02b",
        "IPY_MODEL_132d55934a9e45ccb395026618b5bb81",
        "IPY_MODEL_18016d79a05d438281497551dd8bd077"
       ],
       "layout": "IPY_MODEL_d8e86a5f71804ed086c31916871abdb2"
      }
     },
     "f8d0cc5df3b84ff6ab2e6d29b7d4d543": {
      "model_module": "@jupyter-widgets/controls",
      "model_module_version": "2.0.0",
      "model_name": "HTMLStyleModel",
      "state": {
       "description_width": "",
       "font_size": null,
       "text_color": null
      }
     },
     "f9125e975cca4080b0df01ce9c84304c": {
      "model_module": "@jupyter-widgets/base",
      "model_module_version": "2.0.0",
      "model_name": "LayoutModel",
      "state": {}
     },
     "f984c02536144c3e8f2cd1986d377c06": {
      "model_module": "@jupyter-widgets/base",
      "model_module_version": "2.0.0",
      "model_name": "LayoutModel",
      "state": {}
     },
     "f9b03995aa9842ef848d7424db36599e": {
      "model_module": "@jupyter-widgets/controls",
      "model_module_version": "2.0.0",
      "model_name": "HBoxModel",
      "state": {
       "children": [
        "IPY_MODEL_b0f23ee31e2c4c4f97405944489d2e18",
        "IPY_MODEL_1629f4e4106943fdb95b5d6f002cc1c4",
        "IPY_MODEL_8e215f8268ef4f5c8d2298f177c48059"
       ],
       "layout": "IPY_MODEL_d8b5a7e2c4fe4dc08696a6981cb0b28c"
      }
     },
     "fac3fc4ec25e416d9ef5fcf87e449b2e": {
      "model_module": "@jupyter-widgets/base",
      "model_module_version": "2.0.0",
      "model_name": "LayoutModel",
      "state": {}
     },
     "fba0c0930bd74fcd8f5d7f4422ffb656": {
      "model_module": "@jupyter-widgets/controls",
      "model_module_version": "2.0.0",
      "model_name": "ProgressStyleModel",
      "state": {
       "description_width": ""
      }
     },
     "fe69f69b00ef489dafa25a2c341af4c0": {
      "model_module": "@jupyter-widgets/controls",
      "model_module_version": "2.0.0",
      "model_name": "FloatProgressModel",
      "state": {
       "bar_style": "danger",
       "layout": "IPY_MODEL_f2d92b25e5184f4e930e66a399f11364",
       "max": 6000,
       "style": "IPY_MODEL_436ea59098b142689116def95c2607b1"
      }
     },
     "feb6e57308f64c2391dc628402809324": {
      "model_module": "@jupyter-widgets/controls",
      "model_module_version": "2.0.0",
      "model_name": "HTMLModel",
      "state": {
       "layout": "IPY_MODEL_1374baca6b144d519dbf44984d445791",
       "style": "IPY_MODEL_9dec0a1cd67444e184cf2a16a5dc9473",
       "value": " 0/6000 [00:00&lt;?, ?images/s]"
      }
     },
     "ffa29b42adee4f66bb16852e967394c2": {
      "model_module": "@jupyter-widgets/base",
      "model_module_version": "2.0.0",
      "model_name": "LayoutModel",
      "state": {}
     }
    },
    "version_major": 2,
    "version_minor": 0
   }
  }
 },
 "nbformat": 4,
 "nbformat_minor": 5
}
